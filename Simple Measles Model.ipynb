{
 "cells": [
  {
   "cell_type": "markdown",
   "metadata": {},
   "source": [
    "# Disease Outbreak Response Decision-making Under Uncertainty: A retrospective analysis of measles in Sao Paulo"
   ]
  },
  {
   "cell_type": "code",
   "execution_count": 1,
   "metadata": {
    "collapsed": false
   },
   "outputs": [
    {
     "data": {
      "text/html": [
       "<style>\n",
       "    @font-face {\n",
       "        font-family: \"Computer Modern\";\n",
       "        src: url('http://mirrors.ctan.org/fonts/cm-unicode/fonts/otf/cmunss.otf');\n",
       "    }\n",
       "    div.cell{\n",
       "        width: 90%;\n",
       "/*        margin-left:auto;*/\n",
       "/*        margin-right:auto;*/\n",
       "    }\n",
       "    ul {\n",
       "        line-height: 145%;\n",
       "        font-size: 90%;\n",
       "    }\n",
       "    li {\n",
       "        margin-bottom: 1em;\n",
       "    }\n",
       "    h1 {\n",
       "        font-family: Helvetica, serif;\n",
       "    }\n",
       "    h4{\n",
       "        margin-top: 12px;\n",
       "        margin-bottom: 3px;\n",
       "       }\n",
       "    div.text_cell_render{\n",
       "        font-family: Computer Modern, \"Helvetica Neue\", Arial, Helvetica, Geneva, sans-serif;\n",
       "        line-height: 145%;\n",
       "        font-size: 130%;\n",
       "        width: 90%;\n",
       "        margin-left:auto;\n",
       "        margin-right:auto;\n",
       "    }\n",
       "    .CodeMirror{\n",
       "            font-family: \"Source Code Pro\", source-code-pro,Consolas, monospace;\n",
       "    }\n",
       "/*    .prompt{\n",
       "        display: None;\n",
       "    }*/\n",
       "    .text_cell_render h5 {\n",
       "        font-weight: 300;\n",
       "        font-size: 16pt;\n",
       "        color: #4057A1;\n",
       "        font-style: italic;\n",
       "        margin-bottom: 0.5em;\n",
       "        margin-top: 0.5em;\n",
       "        display: block;\n",
       "    }\n",
       "\n",
       "    .warning{\n",
       "        color: rgb( 240, 20, 20 )\n",
       "        }\n",
       "</style>\n",
       "<script>\n",
       "    MathJax.Hub.Config({\n",
       "                        TeX: {\n",
       "                           extensions: [\"AMSmath.js\"]\n",
       "                           },\n",
       "                tex2jax: {\n",
       "                    inlineMath: [ ['$','$'], [\"\\\\(\",\"\\\\)\"] ],\n",
       "                    displayMath: [ ['$$','$$'], [\"\\\\[\",\"\\\\]\"] ]\n",
       "                },\n",
       "                displayAlign: 'center', // Change this to 'center' to center equations.\n",
       "                \"HTML-CSS\": {\n",
       "                    styles: {'.MathJax_Display': {\"margin\": 4}}\n",
       "                }\n",
       "        });\n",
       "</script>"
      ],
      "text/plain": [
       "<IPython.core.display.HTML object>"
      ]
     },
     "execution_count": 1,
     "metadata": {},
     "output_type": "execute_result"
    }
   ],
   "source": [
    "%matplotlib inline\n",
    "import pandas as pd\n",
    "import numpy as np\n",
    "import numpy.ma as ma\n",
    "from datetime import datetime\n",
    "import matplotlib.pyplot as plt\n",
    "import pdb\n",
    "\n",
    "from IPython.core.display import HTML\n",
    "def css_styling():\n",
    "    styles = open(\"styles/custom.css\", \"r\").read()\n",
    "    return HTML(styles)\n",
    "css_styling()"
   ]
  },
  {
   "cell_type": "code",
   "execution_count": 2,
   "metadata": {
    "collapsed": true
   },
   "outputs": [],
   "source": [
    "data_dir = \"data/\""
   ]
  },
  {
   "cell_type": "code",
   "execution_count": 3,
   "metadata": {
    "collapsed": true
   },
   "outputs": [],
   "source": [
    "!rm -rf ~/.theano"
   ]
  },
  {
   "cell_type": "markdown",
   "metadata": {},
   "source": [
    "Import outbreak data"
   ]
  },
  {
   "cell_type": "code",
   "execution_count": 4,
   "metadata": {
    "collapsed": false
   },
   "outputs": [],
   "source": [
    "measles_data = pd.read_csv(data_dir+\"measles.csv\", index_col=0)\n",
    "measles_data.NOTIFICATION = pd.to_datetime(measles_data.NOTIFICATION)\n",
    "measles_data.BIRTH = pd.to_datetime(measles_data.BIRTH)\n",
    "measles_data.ONSET = pd.to_datetime(measles_data.ONSET)"
   ]
  },
  {
   "cell_type": "code",
   "execution_count": 5,
   "metadata": {
    "collapsed": false
   },
   "outputs": [],
   "source": [
    "measles_data = measles_data.replace({'DISTRICT': {'BRASILANDIA':'BRAZILANDIA'}})"
   ]
  },
  {
   "cell_type": "markdown",
   "metadata": {},
   "source": [
    "Sao Paulo population by district"
   ]
  },
  {
   "cell_type": "code",
   "execution_count": 6,
   "metadata": {
    "collapsed": false
   },
   "outputs": [],
   "source": [
    "sp_pop = pd.read_csv(data_dir+'sp_pop.csv', index_col=0)"
   ]
  },
  {
   "cell_type": "code",
   "execution_count": 7,
   "metadata": {
    "collapsed": false
   },
   "outputs": [],
   "source": [
    "_names = sp_pop.index.values\n",
    "_names[_names=='BRASILANDIA'] = 'BRAZILANDIA'\n",
    "sp_pop.set_index(_names, inplace = True)"
   ]
  },
  {
   "cell_type": "code",
   "execution_count": 8,
   "metadata": {
    "collapsed": false
   },
   "outputs": [
    {
     "data": {
      "text/html": [
       "<div>\n",
       "<table border=\"1\" class=\"dataframe\">\n",
       "  <thead>\n",
       "    <tr style=\"text-align: right;\">\n",
       "      <th></th>\n",
       "      <th>0 a 4 anos</th>\n",
       "      <th>5 a 9 anos</th>\n",
       "      <th>10 a 14 anos</th>\n",
       "      <th>15 a 19 anos</th>\n",
       "      <th>20 a 24 anos</th>\n",
       "      <th>25 a 29 anos</th>\n",
       "      <th>30 a 34 anos</th>\n",
       "      <th>35 a 39 anos</th>\n",
       "      <th>40 a 44 anos</th>\n",
       "      <th>45 a 49 anos</th>\n",
       "      <th>50 a 54 anos</th>\n",
       "      <th>55 a 59 anos</th>\n",
       "      <th>60 a 64 anos</th>\n",
       "      <th>65 a 69 anos</th>\n",
       "      <th>70 a 74 anos</th>\n",
       "      <th>75 anos e +</th>\n",
       "      <th>Total</th>\n",
       "    </tr>\n",
       "  </thead>\n",
       "  <tbody>\n",
       "    <tr>\n",
       "      <th>AGUA RASA</th>\n",
       "      <td>5411</td>\n",
       "      <td>5750</td>\n",
       "      <td>6450</td>\n",
       "      <td>7122</td>\n",
       "      <td>7621</td>\n",
       "      <td>7340</td>\n",
       "      <td>6999</td>\n",
       "      <td>6984</td>\n",
       "      <td>6346</td>\n",
       "      <td>5608</td>\n",
       "      <td>4987</td>\n",
       "      <td>4212</td>\n",
       "      <td>4152</td>\n",
       "      <td>3595</td>\n",
       "      <td>2937</td>\n",
       "      <td>3637</td>\n",
       "      <td>89151</td>\n",
       "    </tr>\n",
       "    <tr>\n",
       "      <th>ALTO DE PINHEIROS</th>\n",
       "      <td>2070</td>\n",
       "      <td>2369</td>\n",
       "      <td>2953</td>\n",
       "      <td>3661</td>\n",
       "      <td>4612</td>\n",
       "      <td>4190</td>\n",
       "      <td>3539</td>\n",
       "      <td>3633</td>\n",
       "      <td>3448</td>\n",
       "      <td>3289</td>\n",
       "      <td>3040</td>\n",
       "      <td>2533</td>\n",
       "      <td>2298</td>\n",
       "      <td>1732</td>\n",
       "      <td>1305</td>\n",
       "      <td>1823</td>\n",
       "      <td>46495</td>\n",
       "    </tr>\n",
       "    <tr>\n",
       "      <th>ANHANGUERA</th>\n",
       "      <td>3068</td>\n",
       "      <td>3006</td>\n",
       "      <td>2755</td>\n",
       "      <td>2431</td>\n",
       "      <td>2426</td>\n",
       "      <td>2636</td>\n",
       "      <td>2695</td>\n",
       "      <td>2308</td>\n",
       "      <td>1653</td>\n",
       "      <td>1107</td>\n",
       "      <td>753</td>\n",
       "      <td>509</td>\n",
       "      <td>352</td>\n",
       "      <td>217</td>\n",
       "      <td>162</td>\n",
       "      <td>171</td>\n",
       "      <td>26249</td>\n",
       "    </tr>\n",
       "    <tr>\n",
       "      <th>ARICANDUVA</th>\n",
       "      <td>7732</td>\n",
       "      <td>7730</td>\n",
       "      <td>8373</td>\n",
       "      <td>8956</td>\n",
       "      <td>9182</td>\n",
       "      <td>8531</td>\n",
       "      <td>7813</td>\n",
       "      <td>7365</td>\n",
       "      <td>6551</td>\n",
       "      <td>5554</td>\n",
       "      <td>4887</td>\n",
       "      <td>3858</td>\n",
       "      <td>3320</td>\n",
       "      <td>2449</td>\n",
       "      <td>1611</td>\n",
       "      <td>1723</td>\n",
       "      <td>95635</td>\n",
       "    </tr>\n",
       "    <tr>\n",
       "      <th>ARTUR ALVIM</th>\n",
       "      <td>9031</td>\n",
       "      <td>9078</td>\n",
       "      <td>10000</td>\n",
       "      <td>11058</td>\n",
       "      <td>11387</td>\n",
       "      <td>10347</td>\n",
       "      <td>9125</td>\n",
       "      <td>8658</td>\n",
       "      <td>7830</td>\n",
       "      <td>7055</td>\n",
       "      <td>5919</td>\n",
       "      <td>4612</td>\n",
       "      <td>3756</td>\n",
       "      <td>2633</td>\n",
       "      <td>1727</td>\n",
       "      <td>1724</td>\n",
       "      <td>113940</td>\n",
       "    </tr>\n",
       "  </tbody>\n",
       "</table>\n",
       "</div>"
      ],
      "text/plain": [
       "                   0 a 4 anos  5 a 9 anos  10 a 14 anos  15 a 19 anos  \\\n",
       "AGUA RASA                5411        5750          6450          7122   \n",
       "ALTO DE PINHEIROS        2070        2369          2953          3661   \n",
       "ANHANGUERA               3068        3006          2755          2431   \n",
       "ARICANDUVA               7732        7730          8373          8956   \n",
       "ARTUR ALVIM              9031        9078         10000         11058   \n",
       "\n",
       "                   20 a 24 anos  25 a 29 anos  30 a 34 anos  35 a 39 anos  \\\n",
       "AGUA RASA                  7621          7340          6999          6984   \n",
       "ALTO DE PINHEIROS          4612          4190          3539          3633   \n",
       "ANHANGUERA                 2426          2636          2695          2308   \n",
       "ARICANDUVA                 9182          8531          7813          7365   \n",
       "ARTUR ALVIM               11387         10347          9125          8658   \n",
       "\n",
       "                   40 a 44 anos  45 a 49 anos  50 a 54 anos  55 a 59 anos  \\\n",
       "AGUA RASA                  6346          5608          4987          4212   \n",
       "ALTO DE PINHEIROS          3448          3289          3040          2533   \n",
       "ANHANGUERA                 1653          1107           753           509   \n",
       "ARICANDUVA                 6551          5554          4887          3858   \n",
       "ARTUR ALVIM                7830          7055          5919          4612   \n",
       "\n",
       "                   60 a 64 anos  65 a 69 anos  70 a 74 anos  75 anos e +  \\\n",
       "AGUA RASA                  4152          3595          2937         3637   \n",
       "ALTO DE PINHEIROS          2298          1732          1305         1823   \n",
       "ANHANGUERA                  352           217           162          171   \n",
       "ARICANDUVA                 3320          2449          1611         1723   \n",
       "ARTUR ALVIM                3756          2633          1727         1724   \n",
       "\n",
       "                    Total  \n",
       "AGUA RASA           89151  \n",
       "ALTO DE PINHEIROS   46495  \n",
       "ANHANGUERA          26249  \n",
       "ARICANDUVA          95635  \n",
       "ARTUR ALVIM        113940  "
      ]
     },
     "execution_count": 8,
     "metadata": {},
     "output_type": "execute_result"
    }
   ],
   "source": [
    "sp_pop.head()"
   ]
  },
  {
   "cell_type": "markdown",
   "metadata": {},
   "source": [
    "Annual vaccination data"
   ]
  },
  {
   "cell_type": "code",
   "execution_count": 9,
   "metadata": {
    "collapsed": false,
    "scrolled": true
   },
   "outputs": [
    {
     "data": {
      "text/html": [
       "<div>\n",
       "<table border=\"1\" class=\"dataframe\">\n",
       "  <thead>\n",
       "    <tr style=\"text-align: right;\">\n",
       "      <th></th>\n",
       "      <th>BIRTHS</th>\n",
       "      <th>VAX</th>\n",
       "      <th>POP</th>\n",
       "      <th>SIA</th>\n",
       "    </tr>\n",
       "    <tr>\n",
       "      <th>YEAR</th>\n",
       "      <th></th>\n",
       "      <th></th>\n",
       "      <th></th>\n",
       "      <th></th>\n",
       "    </tr>\n",
       "  </thead>\n",
       "  <tbody>\n",
       "    <tr>\n",
       "      <th>1980</th>\n",
       "      <td>3896442</td>\n",
       "      <td>0.57</td>\n",
       "      <td>121740438</td>\n",
       "      <td>0</td>\n",
       "    </tr>\n",
       "    <tr>\n",
       "      <th>1981</th>\n",
       "      <td>3933136</td>\n",
       "      <td>0.73</td>\n",
       "      <td>124610790</td>\n",
       "      <td>0</td>\n",
       "    </tr>\n",
       "    <tr>\n",
       "      <th>1982</th>\n",
       "      <td>3952137</td>\n",
       "      <td>0.66</td>\n",
       "      <td>127525420</td>\n",
       "      <td>0</td>\n",
       "    </tr>\n",
       "    <tr>\n",
       "      <th>1983</th>\n",
       "      <td>3952735</td>\n",
       "      <td>0.68</td>\n",
       "      <td>130455659</td>\n",
       "      <td>0</td>\n",
       "    </tr>\n",
       "    <tr>\n",
       "      <th>1984</th>\n",
       "      <td>3935224</td>\n",
       "      <td>0.73</td>\n",
       "      <td>133364277</td>\n",
       "      <td>0</td>\n",
       "    </tr>\n",
       "  </tbody>\n",
       "</table>\n",
       "</div>"
      ],
      "text/plain": [
       "       BIRTHS   VAX        POP  SIA\n",
       "YEAR                               \n",
       "1980  3896442  0.57  121740438    0\n",
       "1981  3933136  0.73  124610790    0\n",
       "1982  3952137  0.66  127525420    0\n",
       "1983  3952735  0.68  130455659    0\n",
       "1984  3935224  0.73  133364277    0"
      ]
     },
     "execution_count": 9,
     "metadata": {},
     "output_type": "execute_result"
    }
   ],
   "source": [
    "vaccination_data = pd.read_csv('data/BrazilVaxRecords.csv', index_col=0)\n",
    "vaccination_data.head()"
   ]
  },
  {
   "cell_type": "code",
   "execution_count": 10,
   "metadata": {
    "collapsed": false
   },
   "outputs": [
    {
     "data": {
      "text/plain": [
       "YEAR\n",
       "1980    0.57\n",
       "1981    0.73\n",
       "1982    0.66\n",
       "1983    0.68\n",
       "1984    0.73\n",
       "1985    0.67\n",
       "1986    0.67\n",
       "1987    0.64\n",
       "1988    0.62\n",
       "1989    0.60\n",
       "1990    0.78\n",
       "1991    0.85\n",
       "1992    0.91\n",
       "1993    0.85\n",
       "1994    0.77\n",
       "1995    0.87\n",
       "1996    0.80\n",
       "1997    0.99\n",
       "Name: VAX, dtype: float64"
      ]
     },
     "execution_count": 10,
     "metadata": {},
     "output_type": "execute_result"
    }
   ],
   "source": [
    "vaccination_data.VAX[:18]"
   ]
  },
  {
   "cell_type": "code",
   "execution_count": 11,
   "metadata": {
    "collapsed": false
   },
   "outputs": [],
   "source": [
    "vax_97 = np.r_[[0]*(1979-1921+1), vaccination_data.VAX[:17]]\n",
    "n = len(vax_97)\n",
    "FOI_mat = np.resize((1 - vax_97*0.9), (n,n)).T"
   ]
  },
  {
   "cell_type": "code",
   "execution_count": 12,
   "metadata": {
    "collapsed": false
   },
   "outputs": [],
   "source": [
    "# Mean age of infection for those born prior to vaccination coverage, assuming R0=16\n",
    "A = 4.375"
   ]
  },
  {
   "cell_type": "code",
   "execution_count": 13,
   "metadata": {
    "collapsed": false
   },
   "outputs": [
    {
     "data": {
      "text/plain": [
       "array([ 1.   ,  1.   ,  1.   ,  1.   ,  1.   ,  1.   ,  1.   ,  1.   ,\n",
       "        1.   ,  1.   ,  1.   ,  1.   ,  1.   ,  1.   ,  1.   ,  1.   ,\n",
       "        1.   ,  1.   ,  1.   ,  1.   ,  1.   ,  1.   ,  1.   ,  1.   ,\n",
       "        1.   ,  1.   ,  1.   ,  1.   ,  1.   ,  1.   ,  1.   ,  1.   ,\n",
       "        1.   ,  1.   ,  1.   ,  1.   ,  1.   ,  1.   ,  1.   ,  1.   ,\n",
       "        1.   ,  1.   ,  1.   ,  1.   ,  1.   ,  1.   ,  1.   ,  1.   ,\n",
       "        1.   ,  1.   ,  1.   ,  1.   ,  1.   ,  1.   ,  1.   ,  1.   ,\n",
       "        1.   ,  1.   ,  1.   ,  0.487,  0.343,  0.406,  0.388,  0.343,\n",
       "        0.397,  0.397,  0.424,  0.442,  0.46 ,  0.298,  0.235,  0.181,\n",
       "        0.235,  0.307,  0.217])"
      ]
     },
     "execution_count": 13,
     "metadata": {},
     "output_type": "execute_result"
    }
   ],
   "source": [
    "(1 - vax_97*0.9)[:-1]"
   ]
  },
  {
   "cell_type": "code",
   "execution_count": 14,
   "metadata": {
    "collapsed": false
   },
   "outputs": [
    {
     "data": {
      "text/plain": [
       "array([ 64.84 ,  63.84 ,  62.84 ,  61.84 ,  60.84 ,  59.84 ,  58.84 ,\n",
       "        57.84 ,  56.84 ,  55.84 ,  54.84 ,  53.84 ,  52.84 ,  51.84 ,\n",
       "        50.84 ,  49.84 ,  48.84 ,  47.84 ,  46.84 ,  45.84 ,  44.84 ,\n",
       "        43.84 ,  42.84 ,  41.84 ,  40.84 ,  39.84 ,  38.84 ,  37.84 ,\n",
       "        36.84 ,  35.84 ,  34.84 ,  33.84 ,  32.84 ,  31.84 ,  30.84 ,\n",
       "        29.84 ,  28.84 ,  27.84 ,  26.84 ,  25.84 ,  24.84 ,  23.84 ,\n",
       "        22.84 ,  21.84 ,  20.84 ,  19.84 ,  18.84 ,  17.84 ,  16.84 ,\n",
       "        15.84 ,  14.84 ,  13.84 ,  12.84 ,  11.84 ,  10.84 ,   9.84 ,\n",
       "         8.84 ,   7.84 ,   6.84 ,   5.84 ,   5.353,   5.01 ,   4.604,\n",
       "         4.216,   3.873,   3.476,   3.079,   2.655,   2.213,   1.753,\n",
       "         1.455,   1.22 ,   1.039,   0.804,   0.497,   0.28 ])"
      ]
     },
     "execution_count": 14,
     "metadata": {},
     "output_type": "execute_result"
    }
   ],
   "source": [
    "np.tril(FOI_mat).sum(0)"
   ]
  },
  {
   "cell_type": "code",
   "execution_count": 15,
   "metadata": {
    "collapsed": false
   },
   "outputs": [
    {
     "data": {
      "text/plain": [
       "array([ 0.5  ,  0.217,  0.307,  0.235,  0.181,  0.235,  0.298,  0.46 ,\n",
       "        0.442,  0.424,  0.397,  0.397,  0.343,  0.388,  0.406,  0.343,\n",
       "        0.487,  1.   ,  1.   ,  1.   ,  1.   ,  1.   ,  1.   ,  1.   ,\n",
       "        1.   ,  1.   ,  1.   ,  1.   ,  1.   ,  1.   ,  1.   ,  1.   ,\n",
       "        1.   ,  1.   ,  1.   ,  1.   ,  1.   ,  1.   ,  1.   ,  1.   ,\n",
       "        1.   ,  1.   ,  1.   ,  1.   ,  1.   ,  1.   ,  1.   ,  1.   ,\n",
       "        1.   ,  1.   ,  1.   ,  1.   ,  1.   ,  1.   ,  1.   ,  1.   ,\n",
       "        1.   ,  1.   ,  1.   ,  1.   ,  1.   ,  1.   ,  1.   ,  1.   ,\n",
       "        1.   ,  1.   ,  1.   ,  1.   ,  1.   ,  1.   ,  1.   ,  1.   ,\n",
       "        1.   ,  1.   ,  1.   ,  1.   ])"
      ]
     },
     "execution_count": 15,
     "metadata": {},
     "output_type": "execute_result"
    }
   ],
   "source": [
    "natural_susc = np.exp((-1/A) * np.tril(FOI_mat).sum(0))[::-1]\n",
    "vacc_susc = (1 - vax_97*0.9)[::-1]\n",
    "vacc_susc[0] = 0.5\n",
    "vacc_susc"
   ]
  },
  {
   "cell_type": "code",
   "execution_count": 16,
   "metadata": {
    "collapsed": false
   },
   "outputs": [],
   "source": [
    "sia_susc = np.ones(len(vax_97))\n",
    "birth_year = np.arange(1922, 1998)[::-1]\n",
    "by_mask = (birth_year > 1983) & (birth_year < 1992)\n",
    "sia_susc[by_mask] *= 0.2"
   ]
  },
  {
   "cell_type": "code",
   "execution_count": 17,
   "metadata": {
    "collapsed": false
   },
   "outputs": [
    {
     "data": {
      "text/plain": [
       "array([  4.69002500e-01,   1.93697440e-01,   2.55462677e-01,\n",
       "         1.85322917e-01,   1.36953286e-01,   1.68513200e-01,\n",
       "         3.99236891e-02,   5.54765276e-02,   4.81834127e-02,\n",
       "         4.19519164e-02,   3.58729698e-02,   3.27610800e-02,\n",
       "         2.61705672e-02,   2.70916231e-02,   1.29180455e-01,\n",
       "         1.00905818e-01,   1.28176341e-01,   2.09416838e-01,\n",
       "         1.66626583e-01,   1.32579684e-01,   1.05489605e-01,\n",
       "         8.39348576e-02,   6.67844030e-02,   5.31383100e-02,\n",
       "         4.22805305e-02,   3.36413269e-02,   2.67673765e-02,\n",
       "         2.12979840e-02,   1.69461555e-02,   1.34835384e-02,\n",
       "         1.07284398e-02,   8.53629188e-03,   6.79206677e-03,\n",
       "         5.40424011e-03,   4.29998882e-03,   3.42136979e-03,\n",
       "         2.72227946e-03,   2.16603463e-03,   1.72344761e-03,\n",
       "         1.37129463e-03,   1.09109726e-03,   8.68152769e-04,\n",
       "         6.90762647e-04,   5.49618743e-04,   4.37314850e-04,\n",
       "         3.47958071e-04,   2.76859611e-04,   2.20288738e-04,\n",
       "         1.75277021e-04,   1.39462573e-04,   1.10966110e-04,\n",
       "         8.82923454e-05,   7.02515229e-05,   5.58969914e-05,\n",
       "         4.44755291e-05,   3.53878203e-05,   2.81570079e-05,\n",
       "         2.24036713e-05,   1.78259171e-05,   1.41835379e-05,\n",
       "         1.12854079e-05,   8.97945446e-06,   7.14467769e-06,\n",
       "         5.68480185e-06,   4.52322323e-06,   3.59899059e-06,\n",
       "         2.86360691e-06,   2.27848457e-06,   1.81292059e-06,\n",
       "         1.44248555e-06,   1.14774170e-06,   9.13223020e-07,\n",
       "         7.26623669e-07,   5.78152263e-07,   4.60018100e-07,\n",
       "         3.66022354e-07])"
      ]
     },
     "execution_count": 17,
     "metadata": {},
     "output_type": "execute_result"
    }
   ],
   "source": [
    "total_susc = sia_susc * vacc_susc * natural_susc\n",
    "total_susc"
   ]
  },
  {
   "cell_type": "code",
   "execution_count": 18,
   "metadata": {
    "collapsed": false
   },
   "outputs": [
    {
     "data": {
      "image/png": "[encoded data removed]",
      "text/plain": [
       "<matplotlib.figure.Figure at 0x10879cc50>"
      ]
     },
     "metadata": {},
     "output_type": "display_data"
    }
   ],
   "source": [
    "pd.Series(total_susc).plot();"
   ]
  },
  {
   "cell_type": "markdown",
   "metadata": {},
   "source": [
    "Plot of cumulative cases by district"
   ]
  },
  {
   "cell_type": "code",
   "execution_count": 19,
   "metadata": {
    "collapsed": false
   },
   "outputs": [
    {
     "data": {
      "text/plain": [
       "<matplotlib.axes._subplots.AxesSubplot at 0x10822bac8>"
      ]
     },
     "execution_count": 19,
     "metadata": {},
     "output_type": "execute_result"
    },
    {
     "data": {
      "image/png": "[encoded data removed]",
      "text/plain": [
       "<matplotlib.figure.Figure at 0x1087ec898>"
      ]
     },
     "metadata": {},
     "output_type": "display_data"
    }
   ],
   "source": [
    "measles_onset_dist = measles_data.groupby(['DISTRICT','ONSET']).size().unstack(level=0).fillna(0)\n",
    "measles_onset_dist.cumsum().plot(legend=False, grid=False)"
   ]
  },
  {
   "cell_type": "code",
   "execution_count": 20,
   "metadata": {
    "collapsed": false
   },
   "outputs": [],
   "source": [
    "total_district_cases = measles_onset_dist.sum()"
   ]
  },
  {
   "cell_type": "markdown",
   "metadata": {},
   "source": [
    "Top 5 districts by number of cases"
   ]
  },
  {
   "cell_type": "code",
   "execution_count": 21,
   "metadata": {
    "collapsed": false
   },
   "outputs": [
    {
     "data": {
      "text/plain": [
       "DISTRICT\n",
       "GRAJAU             1074\n",
       "JARDIM ANGELA       944\n",
       "CAPAO REDONDO       849\n",
       "JARDIM SAO LUIZ     778\n",
       "CAMPO LIMPO         692\n",
       "dtype: float64"
      ]
     },
     "execution_count": 21,
     "metadata": {},
     "output_type": "execute_result"
    }
   ],
   "source": [
    "totals = measles_onset_dist.sum()\n",
    "totals.sort(ascending=False)\n",
    "totals[:5]"
   ]
  },
  {
   "cell_type": "markdown",
   "metadata": {},
   "source": [
    "Age distribution of cases, by confirmation status"
   ]
  },
  {
   "cell_type": "code",
   "execution_count": 22,
   "metadata": {
    "collapsed": false
   },
   "outputs": [
    {
     "data": {
      "image/png": "[encoded data removed]",
      "text/plain": [
       "<matplotlib.figure.Figure at 0x1032dbfd0>"
      ]
     },
     "metadata": {},
     "output_type": "display_data"
    }
   ],
   "source": [
    "by_conclusion = measles_data.groupby([\"YEAR_AGE\", \"CONCLUSION\"])\n",
    "counts_by_cause = by_conclusion.size().unstack().fillna(0)\n",
    "ax = counts_by_cause.plot(kind='bar', stacked=True, xlim=(0,50), figsize=(15,5))"
   ]
  },
  {
   "cell_type": "markdown",
   "metadata": {},
   "source": [
    "## Stochastic Disease Transmission Model\n",
    "\n",
    "As a baseline for comparison, we can fit a model to all the clinically-confirmed cases, regardless of lab confirmation status. For this, we will use a simple SIR disease model, which will be fit using MCMC.\n",
    "\n",
    "This model fits the series of 2-week infection totals in each district $i$ as a set of Poisson models:\n",
    "\n",
    "\\\\[Pr(I(t)_{i} | \\lambda(t)_i) = \\text{Poisson}(\\lambda(t)_i) \\\\]\n",
    "\n",
    "Where the outbreak intensity is modeled as:\n",
    "\n",
    "\\\\[\\lambda(t)_i = \\beta [I^{(w)}(t-1)_i]^{\\alpha} S(t-1)_i\\\\]\n",
    "\n",
    "\\\\[\\alpha \\sim \\text{Exp}(1)\\\\]\n",
    "\n",
    "We will assume here that the transmission rate is constant over time (and across districts):\n",
    "\n",
    "\\\\[\\beta \\sim \\text{Gamma}(1, 0.1)\\\\]\n",
    "\n",
    "To account for the influence of infected individuals from neighboring districts on new infections, the outbreak intensity was modeled using a spatial-weighted average of infecteds across districts, where populations were weighted as an exponential function of the distance between district centroids:\n",
    "\n",
    "\\\\[w_{d} = \\text{exp}(-\\theta d)\\\\]\n",
    "\n",
    "\\\\[\\theta \\sim \\text{Exp}(1)\\\\]\n",
    "\n",
    "### Confirmation Sub-model\n",
    "\n",
    "Rather than assume all clinical cases are true cases, we can adjust the model to account for lab confirmation probability. This is done by including a sub-model that estimates age group-specific probabilities of confirmation, and using these probabilities to estimate the number of lab-confirmed cases. These estimates are then plugged into the model in place of the clinically-confirmed cases.\n",
    "\n",
    "We specified a structured confirmation model to retrospectively determine the age group-specific probabilities of lab confirmation for measles, conditional on clinical diagnosis. Individual lab confirmation events $c_i$ were modeled as Bernoulli random variables, with the probability of confirmation being allowed to vary by age group:\n",
    "\n",
    "$$c_i \\sim \\text{Bernoulli}(p_{a(i)})$$\n",
    "\n",
    "where $a(i)$ denotes the appropriate age group for the individual indexed by i. There were 16 age groups, the first 15 of which were 5-year age intervals $[0,5), [5, 10), \\ldots , [70, 75)$, with the 16th interval including all individuals 75 years and older.\n",
    "\n",
    "Since the age interval choices were arbitrary, and the confirmation probabilities of adjacent groups likely correlated, we modeled the correlation structure directly, using a multivariate logit-normal model. Specifically, we allowed first-order autocorrelation among the age groups, whereby the variance-covariance matrix retained a tridiagonal structure. \n",
    "\n",
    "$$\\begin{aligned}\n",
    "\\Sigma = \\left[{\n",
    "\\begin{array}{c}\n",
    "  {\\sigma^2} & {\\sigma^2 \\rho} & 0& \\ldots & {0} & {0}  \\\\\n",
    "  {\\sigma^2 \\rho} & {\\sigma^2} &  \\sigma^2 \\rho & \\ldots & {0}  & {0} \\\\\n",
    "  {0} & \\sigma^2 \\rho & {\\sigma^2} & \\ldots & {0} & {0} \\\\\n",
    "  \\vdots & \\vdots & \\vdots &  & \\vdots & \\vdots\\\\\n",
    "  {0} & {0} & 0 & \\ldots &  {\\sigma^2} & \\sigma^2 \\rho  \\\\\n",
    "{0} & {0} & 0 & \\ldots & \\sigma^2 \\rho &  {\\sigma^2} \n",
    "\\end{array}\n",
    "}\\right]\n",
    "\\end{aligned}$$\n",
    "\n",
    "From this, the confirmation probabilities were specified as multivariate normal on the inverse-logit scale.\n",
    "\n",
    "$$ \\text{logit}(p_a) = \\{a\\} \\sim N(\\mu, \\Sigma)$$\n",
    "\n",
    "Priors for the confirmation sub-model were specified by:\n",
    "\n",
    "$$\\begin{aligned}\n",
    "\\mu_i &\\sim N(0, 100) \\\\\n",
    "\\sigma &\\sim \\text{HalfCauchy}(25) \\\\\n",
    "\\rho &\\sim U(-1, 1)\n",
    "\\end{aligned}$$"
   ]
  },
  {
   "cell_type": "markdown",
   "metadata": {},
   "source": [
    "Age classes are defined in 5-year intervals."
   ]
  },
  {
   "cell_type": "code",
   "execution_count": 23,
   "metadata": {
    "collapsed": false
   },
   "outputs": [],
   "source": [
    "age_classes = [0,5,10,15,20,25,30,35,40,100]\n",
    "measles_data.dropna(subset=['YEAR_AGE'], inplace=True)\n",
    "measles_data['YEAR_AGE'] = measles_data.YEAR_AGE.astype(int)\n",
    "measles_data['AGE_GROUP'] = pd.cut(measles_data.AGE, age_classes, right=False)"
   ]
  },
  {
   "cell_type": "markdown",
   "metadata": {},
   "source": [
    "Lab-checked observations are extracted for use in estimating lab confirmation probability."
   ]
  },
  {
   "cell_type": "code",
   "execution_count": 24,
   "metadata": {
    "collapsed": true
   },
   "outputs": [],
   "source": [
    "CONFIRMED = measles_data.CONCLUSION == 'CONFIRMED'\n",
    "CLINICAL = measles_data.CONCLUSION == 'CLINICAL'\n",
    "DISCARDED = measles_data.CONCLUSION == 'DISCARDED'"
   ]
  },
  {
   "cell_type": "markdown",
   "metadata": {},
   "source": [
    "Extract confirmed and clinical subset, with no missing county information."
   ]
  },
  {
   "cell_type": "code",
   "execution_count": 25,
   "metadata": {
    "collapsed": false
   },
   "outputs": [],
   "source": [
    "lab_subset = measles_data[(CONFIRMED | CLINICAL) & measles_data.COUNTY.notnull()].copy()"
   ]
  },
  {
   "cell_type": "code",
   "execution_count": 26,
   "metadata": {
    "collapsed": false
   },
   "outputs": [],
   "source": [
    "age = lab_subset.YEAR_AGE.values\n",
    "ages = lab_subset.YEAR_AGE.unique()\n",
    "counties = lab_subset.COUNTY.unique()\n",
    "y = (lab_subset.CONCLUSION=='CONFIRMED').values"
   ]
  },
  {
   "cell_type": "code",
   "execution_count": 27,
   "metadata": {
    "collapsed": false
   },
   "outputs": [
    {
     "data": {
      "image/png": "[encoded data removed]",
      "text/plain": [
       "<matplotlib.figure.Figure at 0x108794048>"
      ]
     },
     "metadata": {},
     "output_type": "display_data"
    }
   ],
   "source": [
    "_lab_subset = lab_subset.replace({\"CONCLUSION\": {\"CLINICAL\": \"UNCONFIRMED\"}})\n",
    "by_conclusion = _lab_subset.groupby([\"YEAR_AGE\", \"CONCLUSION\"])\n",
    "counts_by_cause = by_conclusion.size().unstack().fillna(0)\n",
    "ax = counts_by_cause.plot(kind='bar', stacked=True, xlim=(0,50), figsize=(15,5), grid=False)"
   ]
  },
  {
   "cell_type": "markdown",
   "metadata": {},
   "source": [
    "Proportion of lab-confirmed cases older than 20 years"
   ]
  },
  {
   "cell_type": "code",
   "execution_count": 28,
   "metadata": {
    "collapsed": false
   },
   "outputs": [
    {
     "data": {
      "text/plain": [
       "0.60257048468117846"
      ]
     },
     "execution_count": 28,
     "metadata": {},
     "output_type": "execute_result"
    }
   ],
   "source": [
    "(measles_data[CONFIRMED].YEAR_AGE>20).mean()"
   ]
  },
  {
   "cell_type": "code",
   "execution_count": 29,
   "metadata": {
    "collapsed": false
   },
   "outputs": [
    {
     "data": {
      "text/plain": [
       "Index(['[0, 5)', '[5, 10)', '[10, 15)', '[15, 20)', '[20, 25)', '[25, 30)',\n",
       "       '[30, 35)', '[35, 40)', '[40, 100)'],\n",
       "      dtype='object')"
      ]
     },
     "execution_count": 29,
     "metadata": {},
     "output_type": "execute_result"
    }
   ],
   "source": [
    "#Extract cases by age and time.\n",
    "age_group = pd.cut(age, age_classes, right=False)\n",
    "age_index = np.array([age_group.categories.tolist().index(i) for i in age_group])\n",
    "age_groups = age_group.categories\n",
    "age_groups"
   ]
  },
  {
   "cell_type": "code",
   "execution_count": 30,
   "metadata": {
    "collapsed": false
   },
   "outputs": [],
   "source": [
    "# Get index from full crosstabulation to use as index for each district\n",
    "dates_index = measles_data.groupby(\n",
    "        ['ONSET', 'AGE_GROUP']).size().unstack().index"
   ]
  },
  {
   "cell_type": "code",
   "execution_count": 31,
   "metadata": {
    "collapsed": false
   },
   "outputs": [],
   "source": [
    "unique_districts = measles_data.DISTRICT.dropna().unique()"
   ]
  },
  {
   "cell_type": "code",
   "execution_count": 32,
   "metadata": {
    "collapsed": false
   },
   "outputs": [
    {
     "data": {
      "text/plain": [
       "0 a 4 anos      844130\n",
       "5 a 9 anos      830880\n",
       "10 a 14 anos    858750\n",
       "15 a 19 anos    904972\n",
       "20 a 24 anos    945244\n",
       "25 a 29 anos    902086\n",
       "30 a 34 anos    835888\n",
       "35 a 39 anos    764605\n",
       "40 a 44 anos    662946\n",
       "45 a 49 anos    538872\n",
       "50 a 54 anos    437744\n",
       "55 a 59 anos    332195\n",
       "60 a 64 anos    282850\n",
       "65 a 69 anos    218202\n",
       "70 a 74 anos    164842\n",
       "75 anos e +     203482\n",
       "dtype: float64"
      ]
     },
     "execution_count": 32,
     "metadata": {},
     "output_type": "execute_result"
    }
   ],
   "source": [
    "excludes = ['BOM RETIRO']\n",
    "\n",
    "N = sp_pop.drop(excludes).ix[unique_districts].sum().drop('Total')\n",
    "N"
   ]
  },
  {
   "cell_type": "code",
   "execution_count": 33,
   "metadata": {
    "collapsed": false
   },
   "outputs": [
    {
     "data": {
      "text/plain": [
       "[0, 5)        844130\n",
       "[5, 10)       830880\n",
       "[10, 15)      858750\n",
       "[15, 20)      904972\n",
       "[20, 25)      945244\n",
       "[25, 30)      902086\n",
       "[30, 35)      835888\n",
       "[35, 40)      764605\n",
       "[40, 100)    2841133\n",
       "dtype: float64"
      ]
     },
     "execution_count": 33,
     "metadata": {},
     "output_type": "execute_result"
    }
   ],
   "source": [
    "N_age = N.iloc[:8]\n",
    "N_age.index = age_groups[:-1]\n",
    "N_age[age_groups[-1]] = N.iloc[8:].sum()\n",
    "N_age"
   ]
  },
  {
   "cell_type": "markdown",
   "metadata": {},
   "source": [
    "Calcualte average susceptibility over age groups"
   ]
  },
  {
   "cell_type": "code",
   "execution_count": 34,
   "metadata": {
    "collapsed": false
   },
   "outputs": [],
   "source": [
    "age_slice_endpoints = [g[1:-1].split(',') for g in age_groups.values]\n",
    "age_slices = [slice(int(i[0]), int(i[1])) for i in age_slice_endpoints]"
   ]
  },
  {
   "cell_type": "code",
   "execution_count": 35,
   "metadata": {
    "collapsed": false
   },
   "outputs": [],
   "source": [
    "p_susc_age = np.array([total_susc[s].mean() for s in age_slices])"
   ]
  },
  {
   "cell_type": "markdown",
   "metadata": {},
   "source": [
    "Compile bi-weekly confirmed and unconfirmed data by Sao Paulo district"
   ]
  },
  {
   "cell_type": "code",
   "execution_count": 36,
   "metadata": {
    "collapsed": false
   },
   "outputs": [],
   "source": [
    "sp_counts_2w = lab_subset.groupby(\n",
    "    ['ONSET', 'AGE_GROUP']).size().unstack().reindex(dates_index).fillna(0).resample('2W', how='sum')\n",
    "\n",
    "# All confirmed cases, by district\n",
    "confirmed_data = lab_subset[lab_subset.CONCLUSION=='CONFIRMED']\n",
    "confirmed_counts = confirmed_data.groupby(\n",
    "    ['ONSET', 'AGE_GROUP']).size().unstack().reindex(dates_index).fillna(0).sum()\n",
    "\n",
    "all_confirmed_cases = confirmed_counts.reindex_axis(measles_data['AGE_GROUP'].unique()).fillna(0)"
   ]
  },
  {
   "cell_type": "code",
   "execution_count": 37,
   "metadata": {
    "collapsed": false
   },
   "outputs": [],
   "source": [
    "# Ensure the age groups are ordered\n",
    "I_obs = sp_counts_2w.reindex_axis(measles_data['AGE_GROUP'].unique(), \n",
    "                            axis=1).fillna(0).values.astype(int)"
   ]
  },
  {
   "cell_type": "markdown",
   "metadata": {},
   "source": [
    "Check shape of data frame\n",
    "\n",
    "- 28 bi-monthly intervals, 9 age groups"
   ]
  },
  {
   "cell_type": "code",
   "execution_count": 38,
   "metadata": {
    "collapsed": false
   },
   "outputs": [],
   "source": [
    "assert I_obs.shape == (28, len(age_groups))"
   ]
  },
  {
   "cell_type": "markdown",
   "metadata": {},
   "source": [
    "Prior distribution on susceptible proportion:\n",
    "\n",
    "$$p_s \\sim \\text{Beta}(5, 100)$$"
   ]
  },
  {
   "cell_type": "code",
   "execution_count": 39,
   "metadata": {
    "collapsed": false
   },
   "outputs": [
    {
     "data": {
      "text/plain": [
       "(array([  6.78000000e+02,   2.98600000e+03,   3.37600000e+03,\n",
       "          1.88900000e+03,   7.49000000e+02,   2.45000000e+02,\n",
       "          5.70000000e+01,   1.40000000e+01,   4.00000000e+00,\n",
       "          2.00000000e+00]),\n",
       " array([ 0.00300248,  0.02070412,  0.03840576,  0.05610741,  0.07380905,\n",
       "         0.09151069,  0.10921234,  0.12691398,  0.14461562,  0.16231727,\n",
       "         0.18001891]),\n",
       " <a list of 10 Patch objects>)"
      ]
     },
     "execution_count": 39,
     "metadata": {},
     "output_type": "execute_result"
    },
    {
     "data": {
      "image/png": "[encoded data removed]",
      "text/plain": [
       "<matplotlib.figure.Figure at 0x108e59ef0>"
      ]
     },
     "metadata": {},
     "output_type": "display_data"
    }
   ],
   "source": [
    "from pymc import rbeta\n",
    "plt.hist(rbeta(5, 100, 10000))"
   ]
  },
  {
   "cell_type": "code",
   "execution_count": 40,
   "metadata": {
    "collapsed": false
   },
   "outputs": [
    {
     "data": {
      "text/plain": [
       "array([[   1,    3,    0,    1,    0,    0,    0,    0,    1],\n",
       "       [   4,   13,    7,   18,    1,    2,    0,    1,    4],\n",
       "       [   3,   12,    2,   14,    0,    1,    1,    2,    5],\n",
       "       [   4,   10,    2,   17,    0,    2,    2,    2,    2],\n",
       "       [   6,   15,    7,   19,    1,    3,    1,    7,    6],\n",
       "       [  19,   27,   20,   34,    0,    7,    2,   13,    8],\n",
       "       [   9,   27,    6,   26,    1,    1,    1,    6,    8],\n",
       "       [  13,   27,   13,   20,    1,    4,    2,    5,    2],\n",
       "       [  28,   32,   16,   21,    2,    6,    1,    9,    9],\n",
       "       [  42,   39,   46,   31,    6,   17,    2,   13,   18],\n",
       "       [  93,   69,   72,   40,    4,   18,    6,   19,   26],\n",
       "       [ 157,   95,  153,   64,   12,   47,    5,   31,   42],\n",
       "       [ 359,  183,  315,  169,   26,   95,   18,   76,   68],\n",
       "       [ 807,  363,  622,  282,   65,  234,   34,  162,  136],\n",
       "       [1168,  660, 1035,  388,   87,  398,   63,  257,  166],\n",
       "       [1442,  913, 1193,  536,  137,  430,   48,  318,  292],\n",
       "       [1350, 1051, 1255,  643,  116,  476,   68,  366,  339],\n",
       "       [1314,  933, 1261,  525,  160,  474,   91,  448,  339],\n",
       "       [1218,  773, 1061,  444,  146,  458,   75,  424,  320],\n",
       "       [ 712,  485,  629,  292,   80,  262,   67,  267,  214],\n",
       "       [ 368,  295,  382,  187,   47,  163,   26,  122,   92],\n",
       "       [ 181,  162,  192,  130,   27,   97,   10,   43,   65],\n",
       "       [ 122,  151,   88,  102,   14,   43,   10,   27,   36],\n",
       "       [  72,   95,   63,   64,    6,   36,    2,   15,   18],\n",
       "       [  32,   46,   39,   52,    7,   15,    2,   20,   14],\n",
       "       [  20,   42,   30,   42,    2,    9,    2,    8,   17],\n",
       "       [   7,   23,    5,   15,    1,    4,    3,    3,    7],\n",
       "       [   1,    1,    2,    1,    0,    1,    0,    0,    0]])"
      ]
     },
     "execution_count": 40,
     "metadata": {},
     "output_type": "execute_result"
    }
   ],
   "source": [
    "I_obs"
   ]
  },
  {
   "cell_type": "code",
   "execution_count": 41,
   "metadata": {
    "collapsed": false
   },
   "outputs": [],
   "source": [
    "# Extract observed data\n",
    "obs_date = '1997-06-15'\n",
    "obs_index = sp_counts_2w.index <= obs_date\n",
    "I_obs_t = I_obs[obs_index]\n",
    "\n",
    "# Specify confirmation model\n",
    "confirmation = True"
   ]
  },
  {
   "cell_type": "code",
   "execution_count": 42,
   "metadata": {
    "collapsed": true
   },
   "outputs": [],
   "source": [
    "from theano.printing import pp"
   ]
  },
  {
   "cell_type": "code",
   "execution_count": 45,
   "metadata": {
    "collapsed": false
   },
   "outputs": [],
   "source": [
    "from pymc3 import *\n",
    "import theano.tensor as tt\n",
    "from theano import shared, scan\n",
    "from theano.tensor.nlinalg import matrix_inverse as inv\n",
    "invlogit = tt.nnet.sigmoid\n",
    "\n",
    "with Model() as model:\n",
    "    \n",
    "    n_periods, n_groups = I_obs_t.shape\n",
    "    \n",
    "    if confirmation:\n",
    "    \n",
    "        mu = Normal('mu', mu=0, tau=0.0001, shape=n_groups)\n",
    "        sig = HalfCauchy('sig', 25, shape=n_groups, testval=np.ones(n_groups))\n",
    "\n",
    "        Tau = tt.diag(tt.pow(sig, -2)) \n",
    "\n",
    "        # Age-specific probabilities of confirmation as multivariate normal \n",
    "        # random variables\n",
    "        beta_age = MvNormal('beta_age', mu=mu, tau=Tau, \n",
    "                            shape=n_groups)\n",
    "\n",
    "        p_age = Deterministic('p_age', invlogit(beta_age))\n",
    "\n",
    "        p_confirm = invlogit(beta_age[age_index])\n",
    "\n",
    "        # Confirmation likelihood\n",
    "        lab_confirmed = Bernoulli('lab_confirmed', p=p_confirm, observed=y)\n",
    "\n",
    "        # Confirmed infecteds by age\n",
    "        I_conf = Binomial('I_conf', I_obs_t, p_age, shape=I_obs_t.shape)\n",
    "\n",
    "        I = I_conf\n",
    "        \n",
    "    else:\n",
    "        \n",
    "        I = I_obs_t\n",
    "    \n",
    "    # Transmission parameter\n",
    "    beta = HalfCauchy('beta', 25, testval=9)   \n",
    "    \n",
    "    # Downsample annual series to observed age groups\n",
    "    downsample = lambda x: np.array([x[s].mean() for s in age_slices])\n",
    "    \n",
    "    A = Deterministic('A', 75./(beta - 1))\n",
    "    lt_sum = downsample(np.tril(FOI_mat).sum(0)[::-1])\n",
    "    natural_susc = tt.exp((-1/A) * lt_sum)\n",
    "    \n",
    "    total_susc = downsample(sia_susc) * downsample(vacc_susc) * natural_susc\n",
    "    \n",
    "    # Estimated total initial susceptibles\n",
    "    S_0 = Binomial('S_0', n=shared(N_age.values), p=total_susc, shape=N_age.shape)\n",
    "\n",
    "    # Susceptibles at each time step (subtract cumulative cases from initial S)\n",
    "    S = S_0 - I.cumsum(0)      \n",
    "\n",
    "    # Force of infection\n",
    "    lam = tt.transpose(beta * I.sum(1) * tt.transpose(S / N_age.values))\n",
    "    \n",
    "    # Likelihood of observed cases as function of FOI of prevous period\n",
    "    like = Potential('like', \n",
    "            dist_math.logpow(lam[:-1], I[1:]) - dist_math.factln(I[1:]) - lam[:-1])"
   ]
  },
  {
   "cell_type": "code",
   "execution_count": 49,
   "metadata": {
    "collapsed": false
   },
   "outputs": [
    {
     "data": {
      "text/plain": [
       "[mu, sig_log, beta_age, I_conf, beta_log, S_0]"
      ]
     },
     "execution_count": 49,
     "metadata": {},
     "output_type": "execute_result"
    }
   ],
   "source": [
    "model.vars.pop(beta)"
   ]
  },
  {
   "cell_type": "code",
   "execution_count": 55,
   "metadata": {
    "collapsed": false
   },
   "outputs": [
    {
     "name": "stdout",
     "output_type": "stream",
     "text": [
      " [-----------------100%-----------------] 20000 of 20000 complete in 828.7 sec"
     ]
    }
   ],
   "source": [
    "with model:\n",
    "    step1 = Slice(vars=[beta])\n",
    "    step2 = Metropolis(vars=[mu, sig, beta_age, I_conf, beta, S_0])\n",
    "    trace = sample(20000, step=(step1, step2))\n",
    "    "
   ]
  },
  {
   "cell_type": "code",
   "execution_count": 56,
   "metadata": {
    "collapsed": true
   },
   "outputs": [],
   "source": [
    "burn = 10000"
   ]
  },
  {
   "cell_type": "code",
   "execution_count": 57,
   "metadata": {
    "collapsed": false
   },
   "outputs": [
    {
     "data": {
      "text/plain": [
       "<matplotlib.gridspec.GridSpec at 0x11d7ed278>"
      ]
     },
     "execution_count": 57,
     "metadata": {},
     "output_type": "execute_result"
    },
    {
     "data": {
      "image/png": "[encoded data removed]",
      "text/plain": [
       "<matplotlib.figure.Figure at 0x11d7ed828>"
      ]
     },
     "metadata": {},
     "output_type": "display_data"
    }
   ],
   "source": [
    "forestplot(trace, vars=['S_0'])"
   ]
  },
  {
   "cell_type": "code",
   "execution_count": 58,
   "metadata": {
    "collapsed": false
   },
   "outputs": [
    {
     "data": {
      "text/plain": [
       "array([[<matplotlib.axes._subplots.AxesSubplot object at 0x11e6d7e80>,\n",
       "        <matplotlib.axes._subplots.AxesSubplot object at 0x12057e240>],\n",
       "       [<matplotlib.axes._subplots.AxesSubplot object at 0x11ffe9b00>,\n",
       "        <matplotlib.axes._subplots.AxesSubplot object at 0x11f9bc710>]], dtype=object)"
      ]
     },
     "execution_count": 58,
     "metadata": {},
     "output_type": "execute_result"
    },
    {
     "data": {
      "image/png": "[encoded data removed]",
      "text/plain": [
       "<matplotlib.figure.Figure at 0x11e6decc0>"
      ]
     },
     "metadata": {},
     "output_type": "display_data"
    }
   ],
   "source": [
    "traceplot(trace[burn:], vars=['beta', 'A'])"
   ]
  },
  {
   "cell_type": "code",
   "execution_count": 48,
   "metadata": {
    "collapsed": false
   },
   "outputs": [
    {
     "data": {
      "text/plain": [
       "array([[<matplotlib.axes._subplots.AxesSubplot object at 0x119f600f0>,\n",
       "        <matplotlib.axes._subplots.AxesSubplot object at 0x11a320320>],\n",
       "       [<matplotlib.axes._subplots.AxesSubplot object at 0x11a356b38>,\n",
       "        <matplotlib.axes._subplots.AxesSubplot object at 0x11a39ffd0>]], dtype=object)"
      ]
     },
     "execution_count": 48,
     "metadata": {},
     "output_type": "execute_result"
    },
    {
     "data": {
      "image/png": "[encoded data removed]",
      "text/plain": [
       "<matplotlib.figure.Figure at 0x11a017710>"
      ]
     },
     "metadata": {},
     "output_type": "display_data"
    }
   ],
   "source": [
    "traceplot(trace[burn:], vars=['beta', 'A'])"
   ]
  },
  {
   "cell_type": "code",
   "execution_count": 49,
   "metadata": {
    "collapsed": false
   },
   "outputs": [
    {
     "name": "stdout",
     "output_type": "stream",
     "text": [
      "\n",
      "A:\n",
      "\n",
      "  Mean             SD               MC Error         95% HPD interval\n",
      "  -------------------------------------------------------------------\n",
      "  \n",
      "  8.355            0.007            0.001            [8.340, 8.369]\n",
      "\n",
      "  Posterior quantiles:\n",
      "  2.5            25             50             75             97.5\n",
      "  |--------------|==============|==============|--------------|\n",
      "  \n",
      "  8.341          8.350          8.354          8.360          8.370\n",
      "\n"
     ]
    }
   ],
   "source": [
    "summary(trace[burn:], vars=['A'])"
   ]
  },
  {
   "cell_type": "code",
   "execution_count": 52,
   "metadata": {
    "collapsed": false
   },
   "outputs": [
    {
     "data": {
      "text/plain": [
       "<matplotlib.gridspec.GridSpec at 0x11a9456d8>"
      ]
     },
     "execution_count": 52,
     "metadata": {},
     "output_type": "execute_result"
    },
    {
     "data": {
      "image/png": "[encoded data removed]",
      "text/plain": [
       "<matplotlib.figure.Figure at 0x11a937d30>"
      ]
     },
     "metadata": {},
     "output_type": "display_data"
    }
   ],
   "source": [
    "forestplot(trace[burn:], vars=['p_age'])"
   ]
  },
  {
   "cell_type": "code",
   "execution_count": null,
   "metadata": {
    "collapsed": true
   },
   "outputs": [],
   "source": []
  }
 ],
 "metadata": {
  "kernelspec": {
   "display_name": "Python 3",
   "language": "python",
   "name": "python3"
  },
  "language_info": {
   "codemirror_mode": {
    "name": "ipython",
    "version": 3
   },
   "file_extension": ".py",
   "mimetype": "text/x-python",
   "name": "python",
   "nbconvert_exporter": "python",
   "pygments_lexer": "ipython3",
   "version": "3.4.3"
  }
 },
 "nbformat": 4,
 "nbformat_minor": 0
}
