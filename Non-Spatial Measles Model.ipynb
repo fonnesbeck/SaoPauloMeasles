{
 "cells": [
  {
   "cell_type": "markdown",
   "metadata": {},
   "source": [
    "# Disease Outbreak Response Decision-making Under Uncertainty: A retrospective analysis of measles in Sao Paulo"
   ]
  },
  {
   "cell_type": "code",
   "execution_count": 1,
   "metadata": {},
   "outputs": [],
   "source": [
    "%matplotlib inline\n",
    "import pandas as pd\n",
    "import numpy as np\n",
    "import numpy.ma as ma\n",
    "from datetime import datetime\n",
    "import matplotlib.pyplot as plt\n",
    "import seaborn as sns\n",
    "sns.set_context(\"talk\")\n",
    "import engarde.checks as check\n",
    "\n",
    "np.random.seed(20090425)"
   ]
  },
  {
   "cell_type": "code",
   "execution_count": 2,
   "metadata": {},
   "outputs": [],
   "source": [
    "data_dir = \"data/\""
   ]
  },
  {
   "cell_type": "markdown",
   "metadata": {},
   "source": [
    "Import outbreak data"
   ]
  },
  {
   "cell_type": "code",
   "execution_count": 3,
   "metadata": {},
   "outputs": [],
   "source": [
    "measles_data = pd.read_csv(data_dir+\"measles.csv\", index_col=0, encoding='latin-1')\n",
    "measles_data.NOTIFICATION = pd.to_datetime(measles_data.NOTIFICATION)\n",
    "measles_data.BIRTH = pd.to_datetime(measles_data.BIRTH)\n",
    "measles_data.ONSET = pd.to_datetime(measles_data.ONSET)"
   ]
  },
  {
   "cell_type": "code",
   "execution_count": 4,
   "metadata": {},
   "outputs": [],
   "source": [
    "measles_data = (measles_data.replace({'DISTRICT': {'BRASILANDIA':'BRAZILANDIA'}})\n",
    "                    .drop('AGE', axis=1))"
   ]
  },
  {
   "cell_type": "markdown",
   "metadata": {},
   "source": [
    "Sao Paulo population by district"
   ]
  },
  {
   "cell_type": "code",
   "execution_count": 5,
   "metadata": {},
   "outputs": [],
   "source": [
    "sp_pop = pd.read_csv(data_dir+'sp_pop.csv', index_col=0)"
   ]
  },
  {
   "cell_type": "code",
   "execution_count": 6,
   "metadata": {},
   "outputs": [],
   "source": [
    "_names = sp_pop.index.values\n",
    "_names[_names=='BRASILANDIA'] = 'BRAZILANDIA'\n",
    "sp_pop.set_index(_names, inplace = True)"
   ]
  },
  {
   "cell_type": "code",
   "execution_count": 7,
   "metadata": {},
   "outputs": [
    {
     "data": {
      "text/html": [
       "<div>\n",
       "<style>\n",
       "    .dataframe thead tr:only-child th {\n",
       "        text-align: right;\n",
       "    }\n",
       "\n",
       "    .dataframe thead th {\n",
       "        text-align: left;\n",
       "    }\n",
       "\n",
       "    .dataframe tbody tr th {\n",
       "        vertical-align: top;\n",
       "    }\n",
       "</style>\n",
       "<table border=\"1\" class=\"dataframe\">\n",
       "  <thead>\n",
       "    <tr style=\"text-align: right;\">\n",
       "      <th></th>\n",
       "      <th>0 a 4 anos</th>\n",
       "      <th>5 a 9 anos</th>\n",
       "      <th>10 a 14 anos</th>\n",
       "      <th>15 a 19 anos</th>\n",
       "      <th>20 a 24 anos</th>\n",
       "      <th>25 a 29 anos</th>\n",
       "      <th>30 a 34 anos</th>\n",
       "      <th>35 a 39 anos</th>\n",
       "      <th>40 a 44 anos</th>\n",
       "      <th>45 a 49 anos</th>\n",
       "      <th>50 a 54 anos</th>\n",
       "      <th>55 a 59 anos</th>\n",
       "      <th>60 a 64 anos</th>\n",
       "      <th>65 a 69 anos</th>\n",
       "      <th>70 a 74 anos</th>\n",
       "      <th>75 anos e +</th>\n",
       "      <th>Total</th>\n",
       "    </tr>\n",
       "  </thead>\n",
       "  <tbody>\n",
       "    <tr>\n",
       "      <th>AGUA RASA</th>\n",
       "      <td>5411</td>\n",
       "      <td>5750</td>\n",
       "      <td>6450</td>\n",
       "      <td>7122</td>\n",
       "      <td>7621</td>\n",
       "      <td>7340</td>\n",
       "      <td>6999</td>\n",
       "      <td>6984</td>\n",
       "      <td>6346</td>\n",
       "      <td>5608</td>\n",
       "      <td>4987</td>\n",
       "      <td>4212</td>\n",
       "      <td>4152</td>\n",
       "      <td>3595</td>\n",
       "      <td>2937</td>\n",
       "      <td>3637</td>\n",
       "      <td>89151</td>\n",
       "    </tr>\n",
       "    <tr>\n",
       "      <th>ALTO DE PINHEIROS</th>\n",
       "      <td>2070</td>\n",
       "      <td>2369</td>\n",
       "      <td>2953</td>\n",
       "      <td>3661</td>\n",
       "      <td>4612</td>\n",
       "      <td>4190</td>\n",
       "      <td>3539</td>\n",
       "      <td>3633</td>\n",
       "      <td>3448</td>\n",
       "      <td>3289</td>\n",
       "      <td>3040</td>\n",
       "      <td>2533</td>\n",
       "      <td>2298</td>\n",
       "      <td>1732</td>\n",
       "      <td>1305</td>\n",
       "      <td>1823</td>\n",
       "      <td>46495</td>\n",
       "    </tr>\n",
       "    <tr>\n",
       "      <th>ANHANGUERA</th>\n",
       "      <td>3068</td>\n",
       "      <td>3006</td>\n",
       "      <td>2755</td>\n",
       "      <td>2431</td>\n",
       "      <td>2426</td>\n",
       "      <td>2636</td>\n",
       "      <td>2695</td>\n",
       "      <td>2308</td>\n",
       "      <td>1653</td>\n",
       "      <td>1107</td>\n",
       "      <td>753</td>\n",
       "      <td>509</td>\n",
       "      <td>352</td>\n",
       "      <td>217</td>\n",
       "      <td>162</td>\n",
       "      <td>171</td>\n",
       "      <td>26249</td>\n",
       "    </tr>\n",
       "  </tbody>\n",
       "</table>\n",
       "</div>"
      ],
      "text/plain": [
       "                   0 a 4 anos  5 a 9 anos  10 a 14 anos  15 a 19 anos  \\\n",
       "AGUA RASA                5411        5750          6450          7122   \n",
       "ALTO DE PINHEIROS        2070        2369          2953          3661   \n",
       "ANHANGUERA               3068        3006          2755          2431   \n",
       "\n",
       "                   20 a 24 anos  25 a 29 anos  30 a 34 anos  35 a 39 anos  \\\n",
       "AGUA RASA                  7621          7340          6999          6984   \n",
       "ALTO DE PINHEIROS          4612          4190          3539          3633   \n",
       "ANHANGUERA                 2426          2636          2695          2308   \n",
       "\n",
       "                   40 a 44 anos  45 a 49 anos  50 a 54 anos  55 a 59 anos  \\\n",
       "AGUA RASA                  6346          5608          4987          4212   \n",
       "ALTO DE PINHEIROS          3448          3289          3040          2533   \n",
       "ANHANGUERA                 1653          1107           753           509   \n",
       "\n",
       "                   60 a 64 anos  65 a 69 anos  70 a 74 anos  75 anos e +  \\\n",
       "AGUA RASA                  4152          3595          2937         3637   \n",
       "ALTO DE PINHEIROS          2298          1732          1305         1823   \n",
       "ANHANGUERA                  352           217           162          171   \n",
       "\n",
       "                   Total  \n",
       "AGUA RASA          89151  \n",
       "ALTO DE PINHEIROS  46495  \n",
       "ANHANGUERA         26249  "
      ]
     },
     "execution_count": 7,
     "metadata": {},
     "output_type": "execute_result"
    }
   ],
   "source": [
    "sp_pop.head(3)"
   ]
  },
  {
   "cell_type": "markdown",
   "metadata": {},
   "source": [
    "Plot of cumulative cases by district"
   ]
  },
  {
   "cell_type": "code",
   "execution_count": 8,
   "metadata": {},
   "outputs": [
    {
     "data": {
      "text/plain": [
       "<matplotlib.axes._subplots.AxesSubplot at 0x11a01a908>"
      ]
     },
     "execution_count": 8,
     "metadata": {},
     "output_type": "execute_result"
    },
    {
     "data": {
      "image/png": "[encoded data removed]",
      "text/plain": [
       "<matplotlib.figure.Figure at 0x119fac9e8>"
      ]
     },
     "metadata": {},
     "output_type": "display_data"
    }
   ],
   "source": [
    "measles_onset_dist = measles_data.groupby(['DISTRICT','ONSET']).size().unstack(level=0).fillna(0)\n",
    "measles_onset_dist.cumsum().plot(legend=False, grid=False)"
   ]
  },
  {
   "cell_type": "code",
   "execution_count": 9,
   "metadata": {},
   "outputs": [
    {
     "data": {
      "text/plain": [
       "(3698, 14)"
      ]
     },
     "execution_count": 9,
     "metadata": {},
     "output_type": "execute_result"
    }
   ],
   "source": [
    "measles_data[measles_data.ONSET<'1997-06-15'].shape"
   ]
  },
  {
   "cell_type": "code",
   "execution_count": 10,
   "metadata": {},
   "outputs": [
    {
     "data": {
      "text/plain": [
       "(11982, 14)"
      ]
     },
     "execution_count": 10,
     "metadata": {},
     "output_type": "execute_result"
    }
   ],
   "source": [
    "measles_data[measles_data.ONSET<'1997-07-15'].shape"
   ]
  },
  {
   "cell_type": "markdown",
   "metadata": {},
   "source": [
    "Age distribution of cases, by confirmation status"
   ]
  },
  {
   "cell_type": "code",
   "execution_count": 11,
   "metadata": {},
   "outputs": [
    {
     "data": {
      "image/png": "[encoded data removed]",
      "text/plain": [
       "<matplotlib.figure.Figure at 0x1187c5780>"
      ]
     },
     "metadata": {},
     "output_type": "display_data"
    }
   ],
   "source": [
    "by_conclusion = measles_data.groupby([\"YEAR_AGE\", \"CONCLUSION\"])\n",
    "counts_by_cause = by_conclusion.size().unstack().fillna(0)\n",
    "ax = counts_by_cause.plot(kind='bar', stacked=True, xlim=(0,50), figsize=(15,5))"
   ]
  },
  {
   "cell_type": "markdown",
   "metadata": {},
   "source": [
    "### Vaccination Data"
   ]
  },
  {
   "cell_type": "code",
   "execution_count": 12,
   "metadata": {},
   "outputs": [
    {
     "data": {
      "text/html": [
       "<div>\n",
       "<style>\n",
       "    .dataframe thead tr:only-child th {\n",
       "        text-align: right;\n",
       "    }\n",
       "\n",
       "    .dataframe thead th {\n",
       "        text-align: left;\n",
       "    }\n",
       "\n",
       "    .dataframe tbody tr th {\n",
       "        vertical-align: top;\n",
       "    }\n",
       "</style>\n",
       "<table border=\"1\" class=\"dataframe\">\n",
       "  <thead>\n",
       "    <tr style=\"text-align: right;\">\n",
       "      <th></th>\n",
       "      <th>BIRTHS</th>\n",
       "      <th>VAX</th>\n",
       "      <th>POP</th>\n",
       "      <th>SIA</th>\n",
       "      <th>beta_alpha</th>\n",
       "      <th>beta_beta</th>\n",
       "    </tr>\n",
       "    <tr>\n",
       "      <th>YEAR</th>\n",
       "      <th></th>\n",
       "      <th></th>\n",
       "      <th></th>\n",
       "      <th></th>\n",
       "      <th></th>\n",
       "      <th></th>\n",
       "    </tr>\n",
       "  </thead>\n",
       "  <tbody>\n",
       "    <tr>\n",
       "      <th>1980</th>\n",
       "      <td>3896442</td>\n",
       "      <td>0.57</td>\n",
       "      <td>121740438</td>\n",
       "      <td>0.0</td>\n",
       "      <td>55.3128</td>\n",
       "      <td>41.7272</td>\n",
       "    </tr>\n",
       "    <tr>\n",
       "      <th>1981</th>\n",
       "      <td>3933136</td>\n",
       "      <td>0.73</td>\n",
       "      <td>124610790</td>\n",
       "      <td>0.0</td>\n",
       "      <td>56.8232</td>\n",
       "      <td>21.0168</td>\n",
       "    </tr>\n",
       "    <tr>\n",
       "      <th>1982</th>\n",
       "      <td>3952137</td>\n",
       "      <td>0.66</td>\n",
       "      <td>127525420</td>\n",
       "      <td>0.0</td>\n",
       "      <td>58.5816</td>\n",
       "      <td>30.1784</td>\n",
       "    </tr>\n",
       "    <tr>\n",
       "      <th>1983</th>\n",
       "      <td>3952735</td>\n",
       "      <td>0.68</td>\n",
       "      <td>130455659</td>\n",
       "      <td>0.0</td>\n",
       "      <td>58.5072</td>\n",
       "      <td>27.5328</td>\n",
       "    </tr>\n",
       "    <tr>\n",
       "      <th>1984</th>\n",
       "      <td>3935224</td>\n",
       "      <td>0.73</td>\n",
       "      <td>133364277</td>\n",
       "      <td>0.0</td>\n",
       "      <td>56.8232</td>\n",
       "      <td>21.0168</td>\n",
       "    </tr>\n",
       "  </tbody>\n",
       "</table>\n",
       "</div>"
      ],
      "text/plain": [
       "       BIRTHS   VAX        POP  SIA  beta_alpha  beta_beta\n",
       "YEAR                                                      \n",
       "1980  3896442  0.57  121740438  0.0     55.3128    41.7272\n",
       "1981  3933136  0.73  124610790  0.0     56.8232    21.0168\n",
       "1982  3952137  0.66  127525420  0.0     58.5816    30.1784\n",
       "1983  3952735  0.68  130455659  0.0     58.5072    27.5328\n",
       "1984  3935224  0.73  133364277  0.0     56.8232    21.0168"
      ]
     },
     "execution_count": 12,
     "metadata": {},
     "output_type": "execute_result"
    }
   ],
   "source": [
    "vaccination_data = pd.read_csv('data/BrazilVaxRecords.csv', index_col=0)\n",
    "vaccination_data.head()"
   ]
  },
  {
   "cell_type": "markdown",
   "metadata": {},
   "source": [
    "Calculate residual susceptibility from routine vaccination"
   ]
  },
  {
   "cell_type": "code",
   "execution_count": 13,
   "metadata": {},
   "outputs": [],
   "source": [
    "vax_97 = np.r_[[0]*(1979-1921+1), vaccination_data.VAX[:17]]\n",
    "n = len(vax_97)\n",
    "FOI_mat = np.resize((1 - vax_97*0.9), (n,n)).T"
   ]
  },
  {
   "cell_type": "code",
   "execution_count": 14,
   "metadata": {},
   "outputs": [],
   "source": [
    "vacc_susc = (1 - vax_97*0.9)[::-1]\n",
    "vacc_susc[0] = 0.5"
   ]
  },
  {
   "cell_type": "markdown",
   "metadata": {},
   "source": [
    "Susceptiblity accounting for SIAs"
   ]
  },
  {
   "cell_type": "code",
   "execution_count": 15,
   "metadata": {},
   "outputs": [],
   "source": [
    "sia_susc = np.ones(len(vax_97))\n",
    "birth_year = np.arange(1922, 1998)[::-1]\n",
    "by_mask = (birth_year > 1983) & (birth_year < 1992)\n",
    "sia_susc[by_mask] *= 0.2"
   ]
  },
  {
   "cell_type": "markdown",
   "metadata": {},
   "source": [
    "## Compilation of cases into 2-week intervals by age class\n",
    "\n",
    "Age classes are defined in 5-year intervals. We will combine 40+ ages into a single class."
   ]
  },
  {
   "cell_type": "code",
   "execution_count": 16,
   "metadata": {},
   "outputs": [],
   "source": [
    "age_classes = [0,5,10,15,20,25,30,35,40,100]\n",
    "measles_data.dropna(subset=['YEAR_AGE'], inplace=True)\n",
    "measles_data['YEAR_AGE'] = measles_data.YEAR_AGE.astype(int)\n",
    "measles_data['AGE_GROUP'] = pd.cut(measles_data.YEAR_AGE, age_classes, right=False)"
   ]
  },
  {
   "cell_type": "markdown",
   "metadata": {},
   "source": [
    "Lab-checked observations are extracted for use in estimating lab confirmation probability."
   ]
  },
  {
   "cell_type": "code",
   "execution_count": 17,
   "metadata": {},
   "outputs": [],
   "source": [
    "CONFIRMED = measles_data.CONCLUSION == 'CONFIRMED'\n",
    "CLINICAL = measles_data.CONCLUSION == 'CLINICAL'\n",
    "DISCARDED = measles_data.CONCLUSION == 'DISCARDED'"
   ]
  },
  {
   "cell_type": "markdown",
   "metadata": {},
   "source": [
    "Extract lab-confirmed and clinical-confirmed subsets, with no missing county information."
   ]
  },
  {
   "cell_type": "code",
   "execution_count": 18,
   "metadata": {},
   "outputs": [],
   "source": [
    "lab_subset = measles_data[(CONFIRMED | DISCARDED) & measles_data.COUNTY.notnull()].copy()"
   ]
  },
  {
   "cell_type": "code",
   "execution_count": 19,
   "metadata": {},
   "outputs": [],
   "source": [
    "age = lab_subset.YEAR_AGE.values\n",
    "ages = lab_subset.YEAR_AGE.unique()\n",
    "counties = lab_subset.COUNTY.unique()\n",
    "confirmed = (lab_subset.CONCLUSION=='CONFIRMED').values"
   ]
  },
  {
   "cell_type": "code",
   "execution_count": 20,
   "metadata": {},
   "outputs": [],
   "source": [
    "clinic_subset = measles_data[CLINICAL & measles_data.COUNTY.notnull()].copy()"
   ]
  },
  {
   "cell_type": "markdown",
   "metadata": {},
   "source": [
    "Histogram of lab subset, by outcome."
   ]
  },
  {
   "cell_type": "code",
   "execution_count": 21,
   "metadata": {},
   "outputs": [
    {
     "data": {
      "image/png": "[encoded data removed]",
      "text/plain": [
       "<matplotlib.figure.Figure at 0x118a53d30>"
      ]
     },
     "metadata": {},
     "output_type": "display_data"
    }
   ],
   "source": [
    "_lab_subset = lab_subset.replace({\"CONCLUSION\": {\"CLINICAL\": \"UNCONFIRMED\"}})\n",
    "by_conclusion = _lab_subset.groupby([\"YEAR_AGE\", \"CONCLUSION\"])\n",
    "counts_by_cause = by_conclusion.size().unstack().fillna(0)\n",
    "ax = counts_by_cause.plot(kind='bar', stacked=True, xlim=(0,50), figsize=(15,5), grid=False)"
   ]
  },
  {
   "cell_type": "code",
   "execution_count": 22,
   "metadata": {},
   "outputs": [
    {
     "data": {
      "text/plain": [
       "(41547, 15)"
      ]
     },
     "execution_count": 22,
     "metadata": {},
     "output_type": "execute_result"
    }
   ],
   "source": [
    "lab_subset.shape"
   ]
  },
  {
   "cell_type": "markdown",
   "metadata": {},
   "source": [
    "Define age groups"
   ]
  },
  {
   "cell_type": "code",
   "execution_count": 23,
   "metadata": {},
   "outputs": [
    {
     "data": {
      "text/plain": [
       "IntervalIndex([[0, 5), [5, 10), [10, 15), [15, 20), [20, 25), [25, 30), [30, 35), [35, 40), [40, 100)]\n",
       "              closed='left',\n",
       "              dtype='interval[int64]')"
      ]
     },
     "execution_count": 23,
     "metadata": {},
     "output_type": "execute_result"
    }
   ],
   "source": [
    "age_group = pd.cut(age, age_classes, right=False)\n",
    "age_index = np.array([age_group.categories.tolist().index(i) for i in age_group])\n",
    "age_groups = age_group.categories\n",
    "age_groups"
   ]
  },
  {
   "cell_type": "code",
   "execution_count": 24,
   "metadata": {},
   "outputs": [],
   "source": [
    "age_slices = [slice(g.left, g.right) for g in age_groups]"
   ]
  },
  {
   "cell_type": "markdown",
   "metadata": {},
   "source": [
    "Get index from full cross-tabulation to use as index for each district"
   ]
  },
  {
   "cell_type": "code",
   "execution_count": 25,
   "metadata": {},
   "outputs": [],
   "source": [
    "dates_index = measles_data.groupby(['ONSET', 'AGE_GROUP']).size().unstack().index"
   ]
  },
  {
   "cell_type": "markdown",
   "metadata": {},
   "source": [
    "## Cleanup of Sao Paulo population data\n",
    "\n",
    "Match age groupings, exclude invalid districts."
   ]
  },
  {
   "cell_type": "code",
   "execution_count": 26,
   "metadata": {},
   "outputs": [],
   "source": [
    "unique_districts = measles_data.DISTRICT.dropna().unique()"
   ]
  },
  {
   "cell_type": "code",
   "execution_count": 27,
   "metadata": {},
   "outputs": [],
   "source": [
    "excludes = ['BOM RETIRO']\n",
    "\n",
    "N = sp_pop.drop(excludes).loc[unique_districts].sum().drop('Total')"
   ]
  },
  {
   "cell_type": "code",
   "execution_count": 28,
   "metadata": {},
   "outputs": [
    {
     "data": {
      "text/plain": [
       "[0, 5)        844130.0\n",
       "[5, 10)       830880.0\n",
       "[10, 15)      858750.0\n",
       "[15, 20)      904972.0\n",
       "[20, 25)      945244.0\n",
       "[25, 30)      902086.0\n",
       "[30, 35)      835888.0\n",
       "[35, 40)      764605.0\n",
       "[40, 100)    2841133.0\n",
       "dtype: float64"
      ]
     },
     "execution_count": 28,
     "metadata": {},
     "output_type": "execute_result"
    }
   ],
   "source": [
    "N_age = pd.Series(np.concatenate([N.iloc[:8], [N.iloc[8:].sum()]]), index=age_groups)\n",
    "N_age"
   ]
  },
  {
   "cell_type": "code",
   "execution_count": 29,
   "metadata": {},
   "outputs": [
    {
     "data": {
      "text/plain": [
       "<matplotlib.axes._subplots.AxesSubplot at 0x118ed5320>"
      ]
     },
     "execution_count": 29,
     "metadata": {},
     "output_type": "execute_result"
    },
    {
     "data": {
      "image/png": "[encoded data removed]",
      "text/plain": [
       "<matplotlib.figure.Figure at 0x1194c6780>"
      ]
     },
     "metadata": {},
     "output_type": "display_data"
    }
   ],
   "source": [
    "N_age.plot(kind='bar')"
   ]
  },
  {
   "cell_type": "markdown",
   "metadata": {},
   "source": [
    "Compile bi-weekly confirmed and unconfirmed data by Sao Paulo district"
   ]
  },
  {
   "cell_type": "code",
   "execution_count": 30,
   "metadata": {},
   "outputs": [],
   "source": [
    "# All confirmed cases, by district\n",
    "confirmed_data = lab_subset[lab_subset.CONCLUSION=='CONFIRMED']\n",
    "confirmed_counts = (confirmed_data.groupby(['ONSET', 'AGE_GROUP'])\n",
    "                    .size()\n",
    "                    .unstack()\n",
    "                    .reindex(dates_index)\n",
    "                    .fillna(0)\n",
    "                    .sum())\n",
    "\n",
    "all_confirmed_cases = (confirmed_counts.reindex_axis(measles_data['AGE_GROUP'].unique())\n",
    "                       .fillna(0).values.astype(int))"
   ]
  },
  {
   "cell_type": "code",
   "execution_count": 31,
   "metadata": {},
   "outputs": [
    {
     "data": {
      "text/plain": [
       "(22097, 15)"
      ]
     },
     "execution_count": 31,
     "metadata": {},
     "output_type": "execute_result"
    }
   ],
   "source": [
    "confirmed_data.shape"
   ]
  },
  {
   "cell_type": "code",
   "execution_count": 32,
   "metadata": {},
   "outputs": [],
   "source": [
    "confirmed_counts_2w = (confirmed_data\n",
    "                        .groupby(['ONSET', 'AGE_GROUP'])\n",
    "                        .size()\n",
    "                        .unstack()\n",
    "                        .reindex(dates_index)\n",
    "                        .fillna(0)\n",
    "                        .resample('2W')\n",
    "                        .sum()\n",
    "                        .pipe(check.is_shape, \n",
    "                              (28, len(age_groups)))) "
   ]
  },
  {
   "cell_type": "code",
   "execution_count": 33,
   "metadata": {},
   "outputs": [],
   "source": [
    "# All clinical cases, by district\n",
    "clinical_counts = (clinic_subset.groupby(['ONSET', 'AGE_GROUP'])\n",
    "                   .size()\n",
    "                   .unstack()\n",
    "                   .reindex(dates_index)\n",
    "                   .fillna(0)\n",
    "                   .sum())\n",
    "\n",
    "all_clinical_cases = (clinical_counts.reindex_axis(measles_data['AGE_GROUP'].unique())\n",
    "                      .fillna(0).values.astype(int))"
   ]
  },
  {
   "cell_type": "code",
   "execution_count": 34,
   "metadata": {},
   "outputs": [],
   "source": [
    "clinical_counts_2w = (clinic_subset\n",
    "                        .groupby(['ONSET', 'AGE_GROUP'])\n",
    "                        .size()\n",
    "                        .unstack()\n",
    "                        .reindex(dates_index)\n",
    "                        .fillna(0)\n",
    "                        .resample('2W')\n",
    "                        .sum()\n",
    "                        .pipe(check.is_shape, \n",
    "                              (28, len(age_groups)))) \n"
   ]
  },
  {
   "cell_type": "code",
   "execution_count": 35,
   "metadata": {
    "scrolled": true
   },
   "outputs": [
    {
     "data": {
      "text/html": [
       "<div>\n",
       "<style>\n",
       "    .dataframe thead tr:only-child th {\n",
       "        text-align: right;\n",
       "    }\n",
       "\n",
       "    .dataframe thead th {\n",
       "        text-align: left;\n",
       "    }\n",
       "\n",
       "    .dataframe tbody tr th {\n",
       "        vertical-align: top;\n",
       "    }\n",
       "</style>\n",
       "<table border=\"1\" class=\"dataframe\">\n",
       "  <thead>\n",
       "    <tr style=\"text-align: right;\">\n",
       "      <th>AGE_GROUP</th>\n",
       "      <th>[0, 5)</th>\n",
       "      <th>[5, 10)</th>\n",
       "      <th>[10, 15)</th>\n",
       "      <th>[15, 20)</th>\n",
       "      <th>[20, 25)</th>\n",
       "      <th>[25, 30)</th>\n",
       "      <th>[30, 35)</th>\n",
       "      <th>[35, 40)</th>\n",
       "      <th>[40, 100)</th>\n",
       "    </tr>\n",
       "    <tr>\n",
       "      <th>ONSET</th>\n",
       "      <th></th>\n",
       "      <th></th>\n",
       "      <th></th>\n",
       "      <th></th>\n",
       "      <th></th>\n",
       "      <th></th>\n",
       "      <th></th>\n",
       "      <th></th>\n",
       "      <th></th>\n",
       "    </tr>\n",
       "  </thead>\n",
       "  <tbody>\n",
       "    <tr>\n",
       "      <th>1997-01-05</th>\n",
       "      <td>0.0</td>\n",
       "      <td>0.0</td>\n",
       "      <td>0.0</td>\n",
       "      <td>0.0</td>\n",
       "      <td>1.0</td>\n",
       "      <td>0.0</td>\n",
       "      <td>0.0</td>\n",
       "      <td>0.0</td>\n",
       "      <td>0.0</td>\n",
       "    </tr>\n",
       "    <tr>\n",
       "      <th>1997-01-19</th>\n",
       "      <td>0.0</td>\n",
       "      <td>1.0</td>\n",
       "      <td>0.0</td>\n",
       "      <td>0.0</td>\n",
       "      <td>3.0</td>\n",
       "      <td>4.0</td>\n",
       "      <td>0.0</td>\n",
       "      <td>0.0</td>\n",
       "      <td>0.0</td>\n",
       "    </tr>\n",
       "    <tr>\n",
       "      <th>1997-02-02</th>\n",
       "      <td>4.0</td>\n",
       "      <td>1.0</td>\n",
       "      <td>0.0</td>\n",
       "      <td>0.0</td>\n",
       "      <td>2.0</td>\n",
       "      <td>1.0</td>\n",
       "      <td>0.0</td>\n",
       "      <td>0.0</td>\n",
       "      <td>0.0</td>\n",
       "    </tr>\n",
       "    <tr>\n",
       "      <th>1997-02-16</th>\n",
       "      <td>4.0</td>\n",
       "      <td>0.0</td>\n",
       "      <td>0.0</td>\n",
       "      <td>0.0</td>\n",
       "      <td>2.0</td>\n",
       "      <td>1.0</td>\n",
       "      <td>1.0</td>\n",
       "      <td>0.0</td>\n",
       "      <td>0.0</td>\n",
       "    </tr>\n",
       "    <tr>\n",
       "      <th>1997-03-02</th>\n",
       "      <td>9.0</td>\n",
       "      <td>0.0</td>\n",
       "      <td>0.0</td>\n",
       "      <td>2.0</td>\n",
       "      <td>4.0</td>\n",
       "      <td>5.0</td>\n",
       "      <td>1.0</td>\n",
       "      <td>0.0</td>\n",
       "      <td>1.0</td>\n",
       "    </tr>\n",
       "  </tbody>\n",
       "</table>\n",
       "</div>"
      ],
      "text/plain": [
       "AGE_GROUP   [0, 5)  [5, 10)  [10, 15)  [15, 20)  [20, 25)  [25, 30)  [30, 35)  \\\n",
       "ONSET                                                                           \n",
       "1997-01-05     0.0      0.0       0.0       0.0       1.0       0.0       0.0   \n",
       "1997-01-19     0.0      1.0       0.0       0.0       3.0       4.0       0.0   \n",
       "1997-02-02     4.0      1.0       0.0       0.0       2.0       1.0       0.0   \n",
       "1997-02-16     4.0      0.0       0.0       0.0       2.0       1.0       1.0   \n",
       "1997-03-02     9.0      0.0       0.0       2.0       4.0       5.0       1.0   \n",
       "\n",
       "AGE_GROUP   [35, 40)  [40, 100)  \n",
       "ONSET                            \n",
       "1997-01-05       0.0        0.0  \n",
       "1997-01-19       0.0        0.0  \n",
       "1997-02-02       0.0        0.0  \n",
       "1997-02-16       0.0        0.0  \n",
       "1997-03-02       0.0        1.0  "
      ]
     },
     "execution_count": 35,
     "metadata": {},
     "output_type": "execute_result"
    }
   ],
   "source": [
    "confirmed_counts_2w.head()"
   ]
  },
  {
   "cell_type": "code",
   "execution_count": 36,
   "metadata": {},
   "outputs": [
    {
     "data": {
      "text/html": [
       "<div>\n",
       "<style>\n",
       "    .dataframe thead tr:only-child th {\n",
       "        text-align: right;\n",
       "    }\n",
       "\n",
       "    .dataframe thead th {\n",
       "        text-align: left;\n",
       "    }\n",
       "\n",
       "    .dataframe tbody tr th {\n",
       "        vertical-align: top;\n",
       "    }\n",
       "</style>\n",
       "<table border=\"1\" class=\"dataframe\">\n",
       "  <thead>\n",
       "    <tr style=\"text-align: right;\">\n",
       "      <th>AGE_GROUP</th>\n",
       "      <th>[0, 5)</th>\n",
       "      <th>[5, 10)</th>\n",
       "      <th>[10, 15)</th>\n",
       "      <th>[15, 20)</th>\n",
       "      <th>[20, 25)</th>\n",
       "      <th>[25, 30)</th>\n",
       "      <th>[30, 35)</th>\n",
       "      <th>[35, 40)</th>\n",
       "      <th>[40, 100)</th>\n",
       "    </tr>\n",
       "    <tr>\n",
       "      <th>ONSET</th>\n",
       "      <th></th>\n",
       "      <th></th>\n",
       "      <th></th>\n",
       "      <th></th>\n",
       "      <th></th>\n",
       "      <th></th>\n",
       "      <th></th>\n",
       "      <th></th>\n",
       "      <th></th>\n",
       "    </tr>\n",
       "  </thead>\n",
       "  <tbody>\n",
       "    <tr>\n",
       "      <th>1997-01-05</th>\n",
       "      <td>3.0</td>\n",
       "      <td>1.0</td>\n",
       "      <td>1.0</td>\n",
       "      <td>0.0</td>\n",
       "      <td>0.0</td>\n",
       "      <td>0.0</td>\n",
       "      <td>0.0</td>\n",
       "      <td>0.0</td>\n",
       "      <td>0.0</td>\n",
       "    </tr>\n",
       "    <tr>\n",
       "      <th>1997-01-19</th>\n",
       "      <td>30.0</td>\n",
       "      <td>3.0</td>\n",
       "      <td>1.0</td>\n",
       "      <td>1.0</td>\n",
       "      <td>1.0</td>\n",
       "      <td>3.0</td>\n",
       "      <td>2.0</td>\n",
       "      <td>1.0</td>\n",
       "      <td>0.0</td>\n",
       "    </tr>\n",
       "    <tr>\n",
       "      <th>1997-02-02</th>\n",
       "      <td>22.0</td>\n",
       "      <td>4.0</td>\n",
       "      <td>0.0</td>\n",
       "      <td>2.0</td>\n",
       "      <td>1.0</td>\n",
       "      <td>1.0</td>\n",
       "      <td>1.0</td>\n",
       "      <td>0.0</td>\n",
       "      <td>1.0</td>\n",
       "    </tr>\n",
       "    <tr>\n",
       "      <th>1997-02-16</th>\n",
       "      <td>21.0</td>\n",
       "      <td>2.0</td>\n",
       "      <td>2.0</td>\n",
       "      <td>2.0</td>\n",
       "      <td>2.0</td>\n",
       "      <td>1.0</td>\n",
       "      <td>1.0</td>\n",
       "      <td>0.0</td>\n",
       "      <td>2.0</td>\n",
       "    </tr>\n",
       "    <tr>\n",
       "      <th>1997-03-02</th>\n",
       "      <td>24.0</td>\n",
       "      <td>5.0</td>\n",
       "      <td>2.0</td>\n",
       "      <td>5.0</td>\n",
       "      <td>2.0</td>\n",
       "      <td>2.0</td>\n",
       "      <td>2.0</td>\n",
       "      <td>1.0</td>\n",
       "      <td>0.0</td>\n",
       "    </tr>\n",
       "  </tbody>\n",
       "</table>\n",
       "</div>"
      ],
      "text/plain": [
       "AGE_GROUP   [0, 5)  [5, 10)  [10, 15)  [15, 20)  [20, 25)  [25, 30)  [30, 35)  \\\n",
       "ONSET                                                                           \n",
       "1997-01-05     3.0      1.0       1.0       0.0       0.0       0.0       0.0   \n",
       "1997-01-19    30.0      3.0       1.0       1.0       1.0       3.0       2.0   \n",
       "1997-02-02    22.0      4.0       0.0       2.0       1.0       1.0       1.0   \n",
       "1997-02-16    21.0      2.0       2.0       2.0       2.0       1.0       1.0   \n",
       "1997-03-02    24.0      5.0       2.0       5.0       2.0       2.0       2.0   \n",
       "\n",
       "AGE_GROUP   [35, 40)  [40, 100)  \n",
       "ONSET                            \n",
       "1997-01-05       0.0        0.0  \n",
       "1997-01-19       1.0        0.0  \n",
       "1997-02-02       0.0        1.0  \n",
       "1997-02-16       0.0        2.0  \n",
       "1997-03-02       1.0        0.0  "
      ]
     },
     "execution_count": 36,
     "metadata": {},
     "output_type": "execute_result"
    }
   ],
   "source": [
    "clinical_counts_2w.head()"
   ]
  },
  {
   "cell_type": "markdown",
   "metadata": {},
   "source": [
    "## Stochastic Disease Transmission Model\n",
    "\n",
    "We will extend a simple SIR disease model, to account for confirmation status, which will be fit using MCMC.\n",
    "\n",
    "This model fits the series of 2-week infection totals for each age group $a$ as a set of Poisson random variables:\n",
    "\n",
    "\\\\[Pr(I_{a}(t) | \\lambda_a(t)) = \\text{Poisson}(\\lambda_a(t)) \\\\]\n",
    "\n",
    "Where the age-specific outbreak intensity at time $t$ is modeled as:\n",
    "\n",
    "\\\\[\\lambda_a(t) = S_a(t-1) \\frac{I(t-1)\\mathbf{B}}{N_a} \\\\]\n",
    "\n",
    "where $S_a(t-1)$ is the number of susceptibles in age group $a$ in the previous time period, $I(t-1)$ an age-specific vector of the number of infected individuals in the previous time period, $\\mathbf{B}$ a matrix of transmission coefficients (both within- and between-ages), and $N_a$ an estimate of the population of age-$a$ people in Sao Paulo.\n",
    "\n",
    "The matrix $B$ was constructed from a scalar transmission parameter $\\beta$, which was given a vague half-Cauchy prior (scale=25). This was used to represent within-age-group transmission, and hence placed on the diagonal of a square transmission matrix of size $A$. Off-diagonal elements, representing transmission between age groups were scaled by a decay parameter $\\delta$ which was used to scale the transmission to adjacent groups according to:\n",
    "\n",
    "\\\\[\\beta \\delta^{|a-b|}\\\\]\n",
    "\n",
    "where a and b are indices of two age group. The resulting transmission matrix is parameterized as follows:\n",
    "\n",
    "$$\\begin{aligned}\n",
    "\\mathbf{B} = \\left[{\n",
    "\\begin{array}{c}\n",
    "  {\\beta} & {\\beta \\delta} & {\\beta \\delta^2}& \\ldots & {\\beta \\delta^{A-2}} & {\\beta \\delta^{A-1}}  \\\\\n",
    "  {\\beta \\delta} & {\\beta} &  \\beta \\delta & \\ldots & {\\beta \\delta^{A-3}}  & {\\beta \\delta^{A-2}} \\\\\n",
    "  {\\beta \\delta^2} & \\beta \\delta & {\\beta} & \\ldots & {\\beta \\delta^{A-4}} & {\\beta \\delta^{A-3}} \\\\\n",
    "  \\vdots & \\vdots & \\vdots &  & \\vdots & \\vdots\\\\\n",
    "  {\\beta \\delta^{A-2}} & {\\beta \\delta^{A-3}} & {\\beta \\delta^{A-4}} & \\ldots &  {\\beta} & \\beta \\delta  \\\\\n",
    "{\\beta \\delta^{A-1}} & {\\beta \\delta^{A-2}} & \\beta \\delta^{A-3} & \\ldots & \\beta \\delta &  {\\beta} \n",
    "\\end{array}\n",
    "}\\right]\n",
    "\\end{aligned}$$\n",
    "\n",
    "The basic reproductive number $R_0$ was calculated as the largest real-valued eigenvalue of the matrix $\\mathbf{B}$. To impose a mild constraint on $R_0$, we applied a Gaussian prior distribution whose 1st and 99th quantiles are 8 and 24, respectively, a reasonable range for a measles outbreak:"
   ]
  },
  {
   "cell_type": "code",
   "execution_count": 49,
   "metadata": {},
   "outputs": [],
   "source": [
    "from pymc import MCMC, Matplot, AdaptiveMetropolis, MAP, Slicer\n",
    "from pymc import (Uniform, DiscreteUniform, Beta, Binomial, Normal, \n",
    "                  CompletedDirichlet, Pareto,\n",
    "                  Poisson, NegativeBinomial, negative_binomial_like, poisson_like,\n",
    "                  Lognormal, Exponential, binomial_like,\n",
    "                  TruncatedNormal, Binomial, Gamma, HalfCauchy, normal_like,\n",
    "                  MvNormalCov, Bernoulli, Uninformative, \n",
    "                  Multinomial, rmultinomial, rbinomial,\n",
    "                  Dirichlet, multinomial_like, uniform_like)\n",
    "from pymc import (Lambda, observed, invlogit, deterministic, potential, stochastic, logit)\n",
    "\n",
    "alphas, betas = vaccination_data[['beta_alpha', 'beta_beta']].values.T\n",
    "\n",
    "def measles_model(obs_date, confirmation=True, migrant=False, constrain_R=True, vax_uncertainty=False):\n",
    "    \n",
    "    \n",
    "    '''\n",
    "    Truncate data at observation period\n",
    "    '''\n",
    "    obs_index = clinical_counts_2w.index <= obs_date\n",
    "    confirmed_obs_t = confirmed_counts_2w[obs_index].values.astype(int)\n",
    "    clinical_obs_t = clinical_counts_2w[obs_index].values.astype(int)\n",
    "                        \n",
    "    n_periods, n_age_groups = confirmed_obs_t.shape\n",
    "\n",
    "    # Index for observation date, used to index out values of interest \n",
    "    # from the model.\n",
    "    t_obs = obs_index.sum() - 1\n",
    "    \n",
    "    lab_index = (lab_subset.NOTIFICATION > obs_date).values\n",
    "    confirmed_t = confirmed[lab_index]\n",
    "    age_index_t = age_index[lab_index]\n",
    "    \n",
    "    '''\n",
    "    Confirmation sub-model\n",
    "    '''\n",
    "    \n",
    "    if confirmation:\n",
    "\n",
    "        # Specify priors on age-specific means\n",
    "        age_classes = np.unique(age_index)\n",
    "\n",
    "        μ = Normal(\"μ\", mu=0, tau=0.0001, value=[0]*len(age_classes))\n",
    "        σ = HalfCauchy('σ', 0, 25, value=1)\n",
    "        var = σ**2\n",
    "        ρ = Uniform('ρ', -1, 1, value=0)\n",
    "\n",
    "        # Build variance-covariance matrix with first-order correlation \n",
    "        # among age classes\n",
    "        @deterministic\n",
    "        def Σ(var=var, cor=ρ):\n",
    "            I = np.eye(len(age_classes))*var\n",
    "            E = np.diag(np.ones(len(age_classes)-1), k=-1)*var*cor\n",
    "            return I + E + E.T\n",
    "\n",
    "        # Age-specific probabilities of confirmation as multivariate normal \n",
    "        # random variables\n",
    "        β_age = MvNormalCov(\"β_age\", mu=μ, C=Σ, value=[1]*len(age_classes))\n",
    "        p_age = Lambda('p_age', lambda b=β_age: invlogit(b))\n",
    "\n",
    "        @deterministic(trace=False)\n",
    "        def p_confirm(b=β_age):\n",
    "            return invlogit(b[age_index_t])\n",
    "\n",
    "\n",
    "        # Confirmation likelihood\n",
    "        lab_confirmed = Bernoulli('lab_confirmed', p=p_confirm, value=confirmed_t, \n",
    "                                observed=True)\n",
    "\n",
    "    if confirmation:\n",
    "        \n",
    "        @stochastic(dtype=int)\n",
    "        def clinical_cases(value=(clinical_obs_t*0.5).astype(int), \n",
    "                            n=clinical_obs_t, p=p_age):\n",
    "            # Binomial confirmation process\n",
    "            return np.sum([binomial_like(xi, ni, p) for xi,ni in zip(value,n)])\n",
    "        I = Lambda('I', lambda clinical=clinical_cases: \n",
    "                           clinical + confirmed_obs_t.astype(int))\n",
    "\n",
    "        assert I.value.shape == (t_obs +1, n_age_groups)\n",
    "        \n",
    "        age_dist_init = np.sum(I.value, 0)/ float(I.value.sum())\n",
    "        \n",
    "    else:\n",
    "        \n",
    "        I = confirmed_obs_t + clinical_obs_t\n",
    "\n",
    "        assert I.shape == (t_obs +1, n_age_groups)\n",
    "        \n",
    "        age_dist_init = np.sum(I, 0) / float(I.sum())\n",
    "        \n",
    "    \n",
    "    # Calcuate age distribution from observed distribution of infecteds to date\n",
    "    _age_dist = Dirichlet('_age_dist', np.ones(n_age_groups), \n",
    "                         value=age_dist_init[:-1]/age_dist_init.sum())\n",
    "    age_dist = CompletedDirichlet('age_dist', _age_dist)\n",
    "    \n",
    "    @potential\n",
    "    def age_dist_like(p=age_dist, I=I):\n",
    "        return multinomial_like(I.sum(0), I.sum(), p)\n",
    "\n",
    "    \n",
    "    '''\n",
    "    Disease transmission model\n",
    "    '''\n",
    "\n",
    "    # Transmission parameter\n",
    "    β = HalfCauchy('β', 0, 25, value=5)#[5]*n_age_groups) \n",
    "    decay = Beta('decay', 1, 5, value=0.8)\n",
    "\n",
    "    @deterministic\n",
    "    def B(b=β, d=decay):\n",
    "        b = np.ones(n_age_groups)*b\n",
    "        B = b*np.eye(n_age_groups)\n",
    "        for i in range(1, n_age_groups):\n",
    "            B += np.diag(np.ones(n_age_groups-i)*b[i:]*d, k=-i) \n",
    "            B += np.diag(np.ones(n_age_groups-i)*b[:-i]*d, k=i)\n",
    "        return B\n",
    "\n",
    "    # Downsample annual series to observed age groups\n",
    "    downsample = lambda x: np.array([x[s].mean() for s in age_slices])\n",
    "\n",
    "    @deterministic\n",
    "    def R0(B=B):\n",
    "        evs = np.linalg.eigvals(B)\n",
    "        return max(evs[np.isreal(evs)])\n",
    "    \n",
    "    if constrain_R:\n",
    "        @potential\n",
    "        def constrain_R0(R0=R0):\n",
    "            # Weakly-informative prior to constrain R0 to be within the \n",
    "            # typical measles range\n",
    "            return normal_like(R0, 16, 3.4**-2)\n",
    "\n",
    "\n",
    "    A = Lambda('A', lambda R0=R0: 75./(R0 - 1))\n",
    "    \n",
    "    if vax_uncertainty:\n",
    "        \n",
    "        vax = Beta('vax', alphas[:17], betas[:17], value=vaccination_data.VAX[:17])\n",
    "\n",
    "        vax_97 = Lambda('vax_97', lambda vax=vax: np.r_[[0]*(1979-1921+1), vax])\n",
    "\n",
    "        n = len(vax_97.value)\n",
    "\n",
    "        FOI_mat = Lambda('FOI_mat', lambda vax_97=vax_97: np.resize((1 - vax_97*0.9), (n,n)).T)\n",
    "\n",
    "        @deterministic\n",
    "        def vacc_susc(vax_97=vax_97):\n",
    "            v = (1 - vax_97*0.9)[::-1]\n",
    "            v[0] = 0.5\n",
    "            return v\n",
    "\n",
    "        coverage_residual = Uniform('coverage_residual', 0.2, 0.325)\n",
    "\n",
    "        @deterministic\n",
    "        def sia_susc(r=coverage_residual):\n",
    "            s = np.ones(n)\n",
    "            birth_year = np.arange(1922, 1998)[::-1]\n",
    "            by_mask = (birth_year > 1983) & (birth_year < 1992)\n",
    "            s[by_mask] *= r\n",
    "            return s\n",
    "\n",
    "        lt_sum = Lambda('lt_sum', lambda FOI_mat=FOI_mat: downsample(np.tril(FOI_mat).sum(0)[::-1]))\n",
    "        natural_susc = Lambda('natural_susc', lambda A=A, lt_sum=lt_sum: np.exp((-1/A) * lt_sum))\n",
    "    \n",
    "    else:\n",
    "        lt_sum = downsample(np.tril(FOI_mat).sum(0)[::-1])\n",
    "        natural_susc = Lambda('natural_susc', lambda A=A: np.exp((-1/A) * lt_sum))\n",
    "\n",
    "    @deterministic\n",
    "    def p_μ(v=vacc_susc, n=natural_susc, s=sia_susc): \n",
    "        return downsample(s) * downsample(v) * n\n",
    "    \n",
    "    # Following Stan manual chapter 16.2\n",
    "    λ_p = Pareto('λ_p', 1.5, 0.1, value=0.5)\n",
    "\n",
    "    a = Lambda('a', lambda mu=p_μ, lam=λ_p: mu*lam, trace=False)\n",
    "    b = Lambda('b', lambda mu=p_μ, lam=λ_p: (1-mu)*lam, trace=False)\n",
    "\n",
    "    p_susceptible = Beta('p_susceptible', a, b, value=p_μ.value)\n",
    "\n",
    "    # Estimated total initial susceptibles\n",
    "    if not migrant:\n",
    "        S_0_init = (N_age.values*p_μ.value).astype(int) + 30\n",
    "        S_0 = Binomial('S_0', n=N_age.values.astype(int), p=p_susceptible, value=S_0_init)\n",
    "    else:\n",
    "        S_0 = Binomial('S_0', n=N_age.values.astype(int), p=p_susceptible)\n",
    "    \n",
    "    '''\n",
    "    Model of migrant influx of susceptibles\n",
    "    '''\n",
    "    if migrant:\n",
    "    \n",
    "        # Data augmentation for migrant susceptibles\n",
    "        imaginary_migrants = 1000000\n",
    "        N_migrant = DiscreteUniform('N_migrant', 0, imaginary_migrants, value=100000)\n",
    "        μ_age = Uniform('μ_age', 15, 35, value=25)\n",
    "        σ_age = Uniform('σ_age', 1, 10, value=5)\n",
    "        M_age = Normal('M_age', μ_age, σ_age**-2, \n",
    "                       size=imaginary_migrants, trace=False)\n",
    "\n",
    "        @deterministic\n",
    "        def M_0(M=M_age, N=N_migrant):\n",
    "            # Take first N augmented susceptibles\n",
    "            M_real = M[:N]\n",
    "            # Drop into age groups\n",
    "            M_group = pd.cut(M_real, \n",
    "                             [0, 5, 10, 15, 20, 25, 30, 35, 40, 100], \n",
    "                             right=False)\n",
    "            return M_group.value_counts().values\n",
    "\n",
    "        p_migrant = Lambda('p_migrant', lambda M_0=M_0, S_0=S_0: M_0/(M_0 + S_0))\n",
    "\n",
    "        I_migrant = [Binomial('I_migrant_%i' % i, I[i], p_migrant) \n",
    "                             for i in range(t_obs + 1)]\n",
    "\n",
    "        I_local = Lambda('I_local', \n",
    "                lambda I=I, I_m=I_migrant: \n",
    "                         np.array([Ii - Imi for Ii,Imi in zip(I,I_m)]))\n",
    "        S = Lambda('S', lambda I=I, S_0=S_0, M_0=M_0: S_0 + M_0 - I.cumsum(0))\n",
    "        S_local = Lambda('S_local', lambda I=I_local, S_0=S_0: S_0 - I.cumsum(0))\n",
    "\n",
    "\n",
    "    else:\n",
    "\n",
    "        # Remaining susceptibles at each 2-week period\n",
    "        S = Lambda('S', lambda I=I, S_0=S_0: S_0 - I.cumsum(axis=0))\n",
    "    \n",
    "    # Check shape\n",
    "    assert S.value.shape == (t_obs+1., n_age_groups)\n",
    "    \n",
    "    # Susceptibles at time t, by age\n",
    "    S_age = Lambda('S_age', lambda S=S: S[-1].astype(int))\n",
    "\n",
    "    # Force of infection\n",
    "    @deterministic\n",
    "    def λ(B=B, I=I, S=S): \n",
    "        return S * (I.dot(B) / N_age.values)\n",
    "\n",
    "    # Check shape\n",
    "    assert λ.value.shape == (t_obs+1, n_age_groups)\n",
    "    \n",
    "    \n",
    "    # FOI in observation period\n",
    "    λ_t = Lambda('λ_t', lambda lam=λ: lam[-1])\n",
    "    \n",
    "    # Effective reproductive number\n",
    "    R_t = Lambda('R_t', lambda S=S, R0=R0: S.sum(1) * R0 / N_age.sum())\n",
    "    \n",
    "    if migrant:\n",
    "        R_t_local = Lambda('R_t_local', lambda S=S_local, R0=R0: S.sum(1) * R0 / N_age.sum())\n",
    "    \n",
    "    # Poisson likelihood for observed cases\n",
    "    @potential\n",
    "    def new_cases(I=I, lam=λ):\n",
    "        return poisson_like(I[1:], lam[:-1])\n",
    "    \n",
    "    '''\n",
    "    Vaccination targets\n",
    "    '''\n",
    "    \n",
    "    # Probability of vaccine efficacy\n",
    "    p_efficacy = 0.95\n",
    "    # Reach of campaign\n",
    "    p_reach = 0.9\n",
    "    \n",
    "    @deterministic\n",
    "    def vacc_5(S=S_age):\n",
    "        # Vaccination of 5 and under\n",
    "        p = [p_reach] + [0]*(n_age_groups - 1)\n",
    "        return rbinomial(rbinomial(S, p), p_efficacy)\n",
    "    \n",
    "    # Proportion of susceptibles vaccinated\n",
    "    pct_5 = Lambda('pct_5', \n",
    "                lambda V=vacc_5, S=S_age: V.sum()/S.sum())\n",
    "\n",
    "\n",
    "    @deterministic\n",
    "    def vacc_15(S=S_age):\n",
    "        # Vaccination of 15 and under\n",
    "        p = [p_reach]*3 + [0]*(n_age_groups - 3)\n",
    "        return rbinomial(rbinomial(S, p), p_efficacy)\n",
    "    \n",
    "    # Proportion of susceptibles vaccinated\n",
    "    pct_15 = Lambda('pct_15', \n",
    "            lambda V=vacc_15, S=S_age: V.sum()/S.sum())\n",
    "    \n",
    "    @deterministic\n",
    "    def vacc_30(S=S_age):\n",
    "        # Vaccination of 30 and under\n",
    "        p = [p_reach]*6 + [0]*(n_age_groups - 6)\n",
    "        return rbinomial(rbinomial(S, p), p_efficacy)\n",
    "    \n",
    "    # Proportion of 30 and under susceptibles vaccinated\n",
    "    pct_30 = Lambda('pct_30', \n",
    "            lambda V=vacc_30, S=S_age: V.sum()/S.sum())\n",
    "    \n",
    "    @deterministic\n",
    "    def vacc_adult(S=S_age):\n",
    "        # Vaccination of adults under 30 (and young kids)\n",
    "        p = [p_reach, 0, 0, 0, p_reach, p_reach] + [0]*(n_age_groups - 6)\n",
    "        return rbinomial(rbinomial(S, p), p_efficacy)\n",
    "    \n",
    "    # Proportion of adults under 30 (and young kids)\n",
    "    pct_adult = Lambda('pct_adult', \n",
    "            lambda V=vacc_adult, S=S_age: V.sum()/S.sum())\n",
    "\n",
    "    return locals()"
   ]
  },
  {
   "cell_type": "markdown",
   "metadata": {},
   "source": [
    "## Model execution\n",
    "\n",
    "Run models for June 15 and July 15 observation points, both with and without clinical confirmation."
   ]
  },
  {
   "cell_type": "code",
   "execution_count": 50,
   "metadata": {},
   "outputs": [],
   "source": [
    "n_iterations = 20000\n",
    "n_burn = 10000\n",
    "migrant = True"
   ]
  },
  {
   "cell_type": "markdown",
   "metadata": {},
   "source": [
    "Use `backgroundjobs` to run the models each in their own thread:"
   ]
  },
  {
   "cell_type": "code",
   "execution_count": 51,
   "metadata": {},
   "outputs": [],
   "source": [
    "from IPython.lib import backgroundjobs as bg\n",
    "\n",
    "jobs = bg.BackgroundJobManager()"
   ]
  },
  {
   "cell_type": "markdown",
   "metadata": {},
   "source": [
    "Instantiate models"
   ]
  },
  {
   "cell_type": "code",
   "execution_count": 52,
   "metadata": {},
   "outputs": [],
   "source": [
    "model_june = MCMC(measles_model('1997-06-15', confirmation=True, migrant=migrant, vax_uncertainty=True))\n",
    "model_july = MCMC(measles_model('1997-07-15', confirmation=True, migrant=migrant, vax_uncertainty=True))\n",
    "model_june_noconf = MCMC(measles_model('1997-06-15', confirmation=False, migrant=migrant, vax_uncertainty=True))\n",
    "model_july_noconf = MCMC(measles_model('1997-07-15', confirmation=False, migrant=migrant, vax_uncertainty=True))"
   ]
  },
  {
   "cell_type": "markdown",
   "metadata": {},
   "source": [
    "Run models"
   ]
  },
  {
   "cell_type": "code",
   "execution_count": 53,
   "metadata": {},
   "outputs": [
    {
     "name": "stdout",
     "output_type": "stream",
     "text": [
      "Starting job # 0 in a separate thread.\n",
      "Starting job # 2 in a separate thread.\n",
      "Starting job # 3 in a separate thread.\n",
      "Starting job # 4 in a separate thread.\n"
     ]
    },
    {
     "name": "stderr",
     "output_type": "stream",
     "text": [
      "/Users/fonnescj/Repos/pymc/pymc/distributions.py:854: ComplexWarning: Casting complex values to real discards the imaginary part\n",
      "  return flib.beta_like(x, alpha, beta)\n",
      "/Users/fonnescj/Repos/pymc/pymc/distributions.py:2169: ComplexWarning: Casting complex values to real discards the imaginary part\n",
      "  return flib.normal(x, mu, tau)\n",
      "/Users/fonnescj/anaconda3/envs/dev/lib/python3.6/site-packages/ipykernel_launcher.py:213: RuntimeWarning: invalid value encountered in true_divide\n"
     ]
    }
   ],
   "source": [
    "for model in model_june, model_july, model_june_noconf, model_july_noconf:\n",
    "    jobs.new(model.sample, n_iterations, n_burn, kw=dict(progress_bar=False))"
   ]
  },
  {
   "cell_type": "code",
   "execution_count": 55,
   "metadata": {
    "scrolled": true
   },
   "outputs": [
    {
     "name": "stdout",
     "output_type": "stream",
     "text": [
      "Completed jobs:\n",
      "0 : <bound method MCMC.sample of <pymc.MCMC.MCMC object at 0x11ae55fd0>>\n",
      "2 : <bound method MCMC.sample of <pymc.MCMC.MCMC object at 0x11874dd68>>\n",
      "3 : <bound method MCMC.sample of <pymc.MCMC.MCMC object at 0x11ac17630>>\n",
      "4 : <bound method MCMC.sample of <pymc.MCMC.MCMC object at 0x118e63748>>\n",
      "\n"
     ]
    }
   ],
   "source": [
    "jobs.status()"
   ]
  },
  {
   "cell_type": "markdown",
   "metadata": {},
   "source": [
    "## Summary of model output\n",
    "\n",
    "Estimate of R0 for june (with confirmation submodel)"
   ]
  },
  {
   "cell_type": "code",
   "execution_count": 56,
   "metadata": {},
   "outputs": [
    {
     "name": "stdout",
     "output_type": "stream",
     "text": [
      "Plotting R0\n"
     ]
    },
    {
     "data": {
      "image/png": "[encoded data removed]",
      "text/plain": [
       "<matplotlib.figure.Figure at 0x1188a08d0>"
      ]
     },
     "metadata": {},
     "output_type": "display_data"
    }
   ],
   "source": [
    "if model_june.R0.value.shape:\n",
    "    Matplot.summary_plot(model_june.R0, custom_labels=age_groups)\n",
    "else:\n",
    "    Matplot.plot(model_june.R0)"
   ]
  },
  {
   "cell_type": "markdown",
   "metadata": {},
   "source": [
    "Estimate of R0 for june (no confirmation submodel)"
   ]
  },
  {
   "cell_type": "code",
   "execution_count": 57,
   "metadata": {},
   "outputs": [
    {
     "name": "stdout",
     "output_type": "stream",
     "text": [
      "Plotting R0\n"
     ]
    },
    {
     "data": {
      "image/png": "[encoded data removed]",
      "text/plain": [
       "<matplotlib.figure.Figure at 0x11a084780>"
      ]
     },
     "metadata": {},
     "output_type": "display_data"
    }
   ],
   "source": [
    "if model_june.R0.value.shape:\n",
    "    Matplot.summary_plot(model_june_noconf.R0, custom_labels=age_groups)\n",
    "else:\n",
    "    Matplot.plot(model_june_noconf.R0)"
   ]
  },
  {
   "cell_type": "markdown",
   "metadata": {},
   "source": [
    "Estimate of R0 for july (with confirmation submodel)"
   ]
  },
  {
   "cell_type": "code",
   "execution_count": 58,
   "metadata": {
    "scrolled": false
   },
   "outputs": [
    {
     "name": "stdout",
     "output_type": "stream",
     "text": [
      "Plotting R0\n"
     ]
    },
    {
     "data": {
      "image/png": "[encoded data removed]",
      "text/plain": [
       "<matplotlib.figure.Figure at 0x11aed1860>"
      ]
     },
     "metadata": {},
     "output_type": "display_data"
    }
   ],
   "source": [
    "if model_july.R0.value.shape:\n",
    "    Matplot.summary_plot(model_july.R0, custom_labels=age_groups)\n",
    "else:\n",
    "    Matplot.plot(model_july.R0)"
   ]
  },
  {
   "cell_type": "markdown",
   "metadata": {},
   "source": [
    "Estimate of R0 for july (no confirmation submodel)"
   ]
  },
  {
   "cell_type": "code",
   "execution_count": 59,
   "metadata": {},
   "outputs": [
    {
     "name": "stdout",
     "output_type": "stream",
     "text": [
      "Plotting R0\n"
     ]
    },
    {
     "data": {
      "image/png": "[encoded data removed]",
      "text/plain": [
       "<matplotlib.figure.Figure at 0x11ae20278>"
      ]
     },
     "metadata": {},
     "output_type": "display_data"
    }
   ],
   "source": [
    "if model_july_noconf.β.shape:\n",
    "    Matplot.summary_plot(model_july_noconf.R0, custom_labels=age_groups)\n",
    "else:\n",
    "    Matplot.plot(model_july_noconf.R0)"
   ]
  },
  {
   "cell_type": "markdown",
   "metadata": {},
   "source": [
    "Lab confirmation rates, June model"
   ]
  },
  {
   "cell_type": "code",
   "execution_count": 64,
   "metadata": {},
   "outputs": [
    {
     "data": {
      "image/png": "[encoded data removed]",
      "text/plain": [
       "<matplotlib.figure.Figure at 0x241cfb710>"
      ]
     },
     "metadata": {},
     "output_type": "display_data"
    }
   ],
   "source": [
    "with sns.axes_style(\"ticks\"):\n",
    "\n",
    "    p_age = pd.DataFrame(model_june.p_age.trace(), columns=age_groups)\n",
    "\n",
    "    f, axes = plt.subplots(figsize=(14,6))\n",
    "    sns.boxplot(data=p_age, linewidth=0.3, fliersize=0, ax=axes,\n",
    "              color=sns.color_palette(\"coolwarm\", 5)[0])\n",
    "    axes.set_ylabel('Proportion lab positive')\n",
    "    axes.set_xlabel('Age interval (years)')"
   ]
  },
  {
   "cell_type": "markdown",
   "metadata": {},
   "source": [
    "Proportion of **local** population susceptible, June model."
   ]
  },
  {
   "cell_type": "code",
   "execution_count": 66,
   "metadata": {},
   "outputs": [],
   "source": [
    "age_group_labels = [str(v) for v in age_groups.values]"
   ]
  },
  {
   "cell_type": "code",
   "execution_count": 67,
   "metadata": {
    "scrolled": false
   },
   "outputs": [
    {
     "name": "stdout",
     "output_type": "stream",
     "text": [
      "Could not calculate Gelman-Rubin statistics. Requires multiple chains of equal length.\n"
     ]
    },
    {
     "data": {
      "image/png": "[encoded data removed]",
      "text/plain": [
       "<matplotlib.figure.Figure at 0x1b2c8a048>"
      ]
     },
     "metadata": {},
     "output_type": "display_data"
    }
   ],
   "source": [
    "Matplot.summary_plot(model_june.p_susceptible, custom_labels=age_group_labels)"
   ]
  },
  {
   "cell_type": "markdown",
   "metadata": {},
   "source": [
    "Proportion of **local** population susceptible, June model with no confirmation correction"
   ]
  },
  {
   "cell_type": "code",
   "execution_count": 68,
   "metadata": {
    "scrolled": false
   },
   "outputs": [
    {
     "name": "stdout",
     "output_type": "stream",
     "text": [
      "Could not calculate Gelman-Rubin statistics. Requires multiple chains of equal length.\n"
     ]
    },
    {
     "data": {
      "image/png": "[encoded data removed]",
      "text/plain": [
       "<matplotlib.figure.Figure at 0x118e63f28>"
      ]
     },
     "metadata": {},
     "output_type": "display_data"
    }
   ],
   "source": [
    "Matplot.summary_plot(model_june_noconf.p_susceptible, custom_labels=age_group_labels)"
   ]
  },
  {
   "cell_type": "markdown",
   "metadata": {},
   "source": [
    "Epidemic intensity estimates at June or July observation time, by age group."
   ]
  },
  {
   "cell_type": "code",
   "execution_count": 70,
   "metadata": {},
   "outputs": [
    {
     "name": "stdout",
     "output_type": "stream",
     "text": [
      "Could not calculate Gelman-Rubin statistics. Requires multiple chains of equal length.\n"
     ]
    },
    {
     "data": {
      "image/png": "[encoded data removed]",
      "text/plain": [
       "<matplotlib.figure.Figure at 0x128748cc0>"
      ]
     },
     "metadata": {},
     "output_type": "display_data"
    }
   ],
   "source": [
    "Matplot.summary_plot(model_june.λ_t, custom_labels=age_group_labels)"
   ]
  },
  {
   "cell_type": "code",
   "execution_count": 71,
   "metadata": {},
   "outputs": [
    {
     "name": "stdout",
     "output_type": "stream",
     "text": [
      "Could not calculate Gelman-Rubin statistics. Requires multiple chains of equal length.\n"
     ]
    },
    {
     "data": {
      "image/png": "[encoded data removed]",
      "text/plain": [
       "<matplotlib.figure.Figure at 0x127a47b70>"
      ]
     },
     "metadata": {},
     "output_type": "display_data"
    }
   ],
   "source": [
    "Matplot.summary_plot(model_july.λ_t, custom_labels=age_group_labels)"
   ]
  },
  {
   "cell_type": "markdown",
   "metadata": {},
   "source": [
    "Time series of epidemic intensities for lab- versus clinical-confirmation models, for each age group."
   ]
  },
  {
   "cell_type": "code",
   "execution_count": 72,
   "metadata": {},
   "outputs": [
    {
     "data": {
      "text/plain": [
       "85.128330509261218"
      ]
     },
     "execution_count": 72,
     "metadata": {},
     "output_type": "execute_result"
    }
   ],
   "source": [
    "model_june.λ_t.trace().std()"
   ]
  },
  {
   "cell_type": "code",
   "execution_count": 73,
   "metadata": {},
   "outputs": [],
   "source": [
    "lam_june = model_june.λ_t.stats()"
   ]
  },
  {
   "cell_type": "code",
   "execution_count": 74,
   "metadata": {},
   "outputs": [
    {
     "data": {
      "image/png": "[encoded data removed]",
      "text/plain": [
       "<matplotlib.figure.Figure at 0x127a78518>"
      ]
     },
     "metadata": {},
     "output_type": "display_data"
    }
   ],
   "source": [
    "lam_june = model_june.λ.stats()\n",
    "\n",
    "fig, axes = plt.subplots(2, 1, sharey=True)\n",
    "\n",
    "axes[0].plot(lam_june['quantiles'][50], 'b-', alpha=0.4)\n",
    "axes[0].set_ylabel('Epidemic intensity')\n",
    "axes[0].set_xlabel('time (2-week periods)')\n",
    "axes[0].set_title('Lab confirmation')\n",
    "\n",
    "lam_june_noconf = model_june_noconf.λ.stats()\n",
    "\n",
    "axes[1].plot(lam_june_noconf['quantiles'][50], 'b-', alpha=0.4)\n",
    "axes[1].set_ylabel('Epidemic intensity')\n",
    "axes[1].set_xlabel('time (2-week periods)')\n",
    "axes[1].set_title('Clinical confirmation')\n",
    "\n",
    "plt.tight_layout()"
   ]
  },
  {
   "cell_type": "code",
   "execution_count": 75,
   "metadata": {},
   "outputs": [
    {
     "data": {
      "text/plain": [
       "<matplotlib.text.Text at 0x11ae191d0>"
      ]
     },
     "execution_count": 75,
     "metadata": {},
     "output_type": "execute_result"
    },
    {
     "data": {
      "image/png": "[encoded data removed]",
      "text/plain": [
       "<matplotlib.figure.Figure at 0x127a95a90>"
      ]
     },
     "metadata": {},
     "output_type": "display_data"
    }
   ],
   "source": [
    "Rt_values = pd.DataFrame(np.c_[model_june.R_t.trace()[:, -1],\n",
    "                          model_june.R_t_local.trace()[:, -1]],\n",
    "                        columns=['June, total', 'June, local'])\n",
    "\n",
    "ax = Rt_values.boxplot(return_type='axes');\n",
    "ax.set_ylabel('R(t)')"
   ]
  },
  {
   "cell_type": "code",
   "execution_count": 76,
   "metadata": {},
   "outputs": [
    {
     "data": {
      "image/png": "[encoded data removed]",
      "text/plain": [
       "<matplotlib.figure.Figure at 0x11ad87048>"
      ]
     },
     "metadata": {},
     "output_type": "display_data"
    }
   ],
   "source": [
    "with sns.axes_style(\"ticks\"):\n",
    "    \n",
    "    Rt_values = pd.DataFrame(np.c_[model_june.R_t.trace()[:, -1],\n",
    "                              model_june_noconf.R_t.trace()[:, -1],\n",
    "                             model_july.R_t.trace()[:, -1],\n",
    "                             model_july_noconf.R_t.trace()[:, -1]],\n",
    "                            columns=['June\\nage confirmation', 'June\\nclinical only',\n",
    "                                    'July\\nage confirmation', 'July\\nclinical only'])\n",
    "\n",
    "    ax = Rt_values.boxplot(return_type='axes', figsize=(14,6), grid=False);\n",
    "    ax.set_ylabel('R(t)')"
   ]
  },
  {
   "cell_type": "code",
   "execution_count": 77,
   "metadata": {},
   "outputs": [],
   "source": [
    "S_age_june = pd.DataFrame(model_june.S_age.trace().squeeze(), columns=age_groups).unstack().reset_index()\n",
    "S_age_june.columns = 'Age', 'Iteration', 'S'\n",
    "S_age_june['Confirmation'] = 'Lab'\n",
    "S_age_june['Month'] = 'June'\n",
    "\n",
    "S_age_june_noconf = pd.DataFrame(model_june_noconf.S_age.trace().squeeze(), columns=age_groups).unstack().reset_index()\n",
    "S_age_june_noconf.columns = 'Age', 'Iteration', 'S'\n",
    "S_age_june_noconf['Confirmation'] = 'Clinical'\n",
    "S_age_june_noconf['Month'] = 'June'\n",
    "\n",
    "S_age_june = pd.concat([S_age_june, S_age_june_noconf], ignore_index=True)\n",
    "S_age_june.to_csv('output/S_age_june.csv')"
   ]
  },
  {
   "cell_type": "code",
   "execution_count": 78,
   "metadata": {},
   "outputs": [],
   "source": [
    "S_age_june_local = pd.DataFrame(model_june.S_local.trace()[:,-1,:].squeeze(), columns=age_groups).unstack().reset_index()\n",
    "S_age_june_local.columns = 'Age', 'Iteration', 'S'\n",
    "S_age_june_local['Confirmation'] = 'Lab'\n",
    "S_age_june_local['Month'] = 'June'\n",
    "\n",
    "S_age_june_local_noconf = pd.DataFrame(model_june_noconf.S_local.trace()[:,-1,:].squeeze(), columns=age_groups).unstack().reset_index()\n",
    "S_age_june_local_noconf.columns = 'Age', 'Iteration', 'S'\n",
    "S_age_june_local_noconf['Confirmation'] = 'Clinical'\n",
    "S_age_june_local_noconf['Month'] = 'June'\n",
    "\n",
    "S_age_june_local = pd.concat([S_age_june_local, S_age_june_local_noconf], ignore_index=True)\n",
    "S_age_june_local.to_csv('output/S_age_june_local.csv')"
   ]
  },
  {
   "cell_type": "code",
   "execution_count": 79,
   "metadata": {},
   "outputs": [],
   "source": [
    "S_age_july = pd.DataFrame(model_july.S_age.trace().squeeze(), columns=age_groups).unstack().reset_index()\n",
    "S_age_july.columns = 'Age', 'Iteration', 'S'\n",
    "S_age_july['Confirmation'] = 'Lab'\n",
    "S_age_july['Month'] = 'July'\n",
    "\n",
    "S_age_july_noconf = pd.DataFrame(model_july_noconf.S_age.trace().squeeze(), columns=age_groups).unstack().reset_index()\n",
    "S_age_july_noconf.columns = 'Age', 'Iteration', 'S'\n",
    "S_age_july_noconf['Confirmation'] = 'Clinical'\n",
    "S_age_july_noconf['Month'] = 'July'\n",
    "\n",
    "S_age_july = pd.concat([S_age_july, S_age_july_noconf], ignore_index=True)\n",
    "S_age_july.to_csv('output/S_age_july.csv')"
   ]
  },
  {
   "cell_type": "code",
   "execution_count": 80,
   "metadata": {},
   "outputs": [],
   "source": [
    "S_age = pd.concat([S_age_june.assign(susceptibles='Migrant + Local'), \n",
    "                   S_age_june_local.assign(susceptibles='Local only')], ignore_index=True)\n",
    "S_age.to_csv('output/S_age.csv')"
   ]
  },
  {
   "cell_type": "markdown",
   "metadata": {},
   "source": [
    "Numbers of suscepibles in each age group, under lab vs clinical confirmation"
   ]
  },
  {
   "cell_type": "code",
   "execution_count": 81,
   "metadata": {
    "scrolled": false
   },
   "outputs": [
    {
     "data": {
      "text/plain": [
       "<matplotlib.figure.Figure at 0x245b8eef0>"
      ]
     },
     "metadata": {},
     "output_type": "display_data"
    },
    {
     "data": {
      "image/png": "[encoded data removed]",
      "text/plain": [
       "<matplotlib.figure.Figure at 0x2495bca90>"
      ]
     },
     "metadata": {},
     "output_type": "display_data"
    }
   ],
   "source": [
    "sns.despine()\n",
    "\n",
    "with sns.axes_style(\"ticks\"):\n",
    "    \n",
    "    g = sns.factorplot(\"Age\", \"S1000\", \"Confirmation\", data=S_age.assign(S1000=S_age.S/1000), \n",
    "                      kind=\"box\", palette=\"hls\", row='susceptibles', size=6, aspect=2, linewidth=0.3, fliersize=0, \n",
    "                      order=age_group.categories, legend=False, facet_kws={'ylim':(0, 250)})\n",
    "    g.despine(offset=10, trim=True)\n",
    "    g.set_axis_labels(\"Age Interval (years)\", \"Susceptibles (1000's)\")\n",
    "    plt.tight_layout();"
   ]
  },
  {
   "cell_type": "code",
   "execution_count": 98,
   "metadata": {},
   "outputs": [
    {
     "name": "stdout",
     "output_type": "stream",
     "text": [
      "\n",
      "β:\n",
      " \n",
      "\tMean             SD               MC Error        95% HPD interval\n",
      "\t------------------------------------------------------------------\n",
      "\t4.872            0.36             0.027            [ 4.16   5.544]\n",
      "\t\n",
      "\t\n",
      "\tPosterior quantiles:\n",
      "\t\n",
      "\t2.5             25              50              75             97.5\n",
      "\t |---------------|===============|===============|---------------|\n",
      "\t4.169            4.61            4.875          5.129         5.57\n",
      "\t\n",
      "\n",
      "ρ:\n",
      " \n",
      "\tMean             SD               MC Error        95% HPD interval\n",
      "\t------------------------------------------------------------------\n",
      "\t-0.055           0.311            0.019            [-0.523  0.453]\n",
      "\t\n",
      "\t\n",
      "\tPosterior quantiles:\n",
      "\t\n",
      "\t2.5             25              50              75             97.5\n",
      "\t |---------------|===============|===============|---------------|\n",
      "\t-0.509           -0.333          -0.077         0.215         0.49\n",
      "\t\n"
     ]
    }
   ],
   "source": [
    "model_june.summary(['β', 'ρ'])"
   ]
  },
  {
   "cell_type": "code",
   "execution_count": 99,
   "metadata": {
    "scrolled": false
   },
   "outputs": [
    {
     "name": "stdout",
     "output_type": "stream",
     "text": [
      "\n",
      "B:\n",
      " \n",
      "\tMean             SD               MC Error        95% HPD interval\n",
      "\t------------------------------------------------------------------\n",
      "\t4.872            0.36             0.027            [ 4.16   5.544]\n",
      "\t1.036            0.092            0.005            [ 0.876  1.223]\n",
      "\t1.036            0.092            0.005            [ 0.876  1.223]\n",
      "\t1.036            0.092            0.005            [ 0.876  1.223]\n",
      "\t1.036            0.092            0.005            [ 0.876  1.223]\n",
      "\t1.036            0.092            0.005            [ 0.876  1.223]\n",
      "\t1.036            0.092            0.005            [ 0.876  1.223]\n",
      "\t1.036            0.092            0.005            [ 0.876  1.223]\n",
      "\t1.036            0.092            0.005            [ 0.876  1.223]\n",
      "\t1.036            0.092            0.005            [ 0.876  1.223]\n",
      "\t4.872            0.36             0.027            [ 4.16   5.544]\n",
      "\t1.036            0.092            0.005            [ 0.876  1.223]\n",
      "\t1.036            0.092            0.005            [ 0.876  1.223]\n",
      "\t1.036            0.092            0.005            [ 0.876  1.223]\n",
      "\t1.036            0.092            0.005            [ 0.876  1.223]\n",
      "\t1.036            0.092            0.005            [ 0.876  1.223]\n",
      "\t1.036            0.092            0.005            [ 0.876  1.223]\n",
      "\t1.036            0.092            0.005            [ 0.876  1.223]\n",
      "\t1.036            0.092            0.005            [ 0.876  1.223]\n",
      "\t1.036            0.092            0.005            [ 0.876  1.223]\n",
      "\t4.872            0.36             0.027            [ 4.16   5.544]\n",
      "\t1.036            0.092            0.005            [ 0.876  1.223]\n",
      "\t1.036            0.092            0.005            [ 0.876  1.223]\n",
      "\t1.036            0.092            0.005            [ 0.876  1.223]\n",
      "\t1.036            0.092            0.005            [ 0.876  1.223]\n",
      "\t1.036            0.092            0.005            [ 0.876  1.223]\n",
      "\t1.036            0.092            0.005            [ 0.876  1.223]\n",
      "\t1.036            0.092            0.005            [ 0.876  1.223]\n",
      "\t1.036            0.092            0.005            [ 0.876  1.223]\n",
      "\t1.036            0.092            0.005            [ 0.876  1.223]\n",
      "\t4.872            0.36             0.027            [ 4.16   5.544]\n",
      "\t1.036            0.092            0.005            [ 0.876  1.223]\n",
      "\t1.036            0.092            0.005            [ 0.876  1.223]\n",
      "\t1.036            0.092            0.005            [ 0.876  1.223]\n",
      "\t1.036            0.092            0.005            [ 0.876  1.223]\n",
      "\t1.036            0.092            0.005            [ 0.876  1.223]\n",
      "\t1.036            0.092            0.005            [ 0.876  1.223]\n",
      "\t1.036            0.092            0.005            [ 0.876  1.223]\n",
      "\t1.036            0.092            0.005            [ 0.876  1.223]\n",
      "\t1.036            0.092            0.005            [ 0.876  1.223]\n",
      "\t4.872            0.36             0.027            [ 4.16   5.544]\n",
      "\t1.036            0.092            0.005            [ 0.876  1.223]\n",
      "\t1.036            0.092            0.005            [ 0.876  1.223]\n",
      "\t1.036            0.092            0.005            [ 0.876  1.223]\n",
      "\t1.036            0.092            0.005            [ 0.876  1.223]\n",
      "\t1.036            0.092            0.005            [ 0.876  1.223]\n",
      "\t1.036            0.092            0.005            [ 0.876  1.223]\n",
      "\t1.036            0.092            0.005            [ 0.876  1.223]\n",
      "\t1.036            0.092            0.005            [ 0.876  1.223]\n",
      "\t1.036            0.092            0.005            [ 0.876  1.223]\n",
      "\t4.872            0.36             0.027            [ 4.16   5.544]\n",
      "\t1.036            0.092            0.005            [ 0.876  1.223]\n",
      "\t1.036            0.092            0.005            [ 0.876  1.223]\n",
      "\t1.036            0.092            0.005            [ 0.876  1.223]\n",
      "\t1.036            0.092            0.005            [ 0.876  1.223]\n",
      "\t1.036            0.092            0.005            [ 0.876  1.223]\n",
      "\t1.036            0.092            0.005            [ 0.876  1.223]\n",
      "\t1.036            0.092            0.005            [ 0.876  1.223]\n",
      "\t1.036            0.092            0.005            [ 0.876  1.223]\n",
      "\t1.036            0.092            0.005            [ 0.876  1.223]\n",
      "\t4.872            0.36             0.027            [ 4.16   5.544]\n",
      "\t1.036            0.092            0.005            [ 0.876  1.223]\n",
      "\t1.036            0.092            0.005            [ 0.876  1.223]\n",
      "\t1.036            0.092            0.005            [ 0.876  1.223]\n",
      "\t1.036            0.092            0.005            [ 0.876  1.223]\n",
      "\t1.036            0.092            0.005            [ 0.876  1.223]\n",
      "\t1.036            0.092            0.005            [ 0.876  1.223]\n",
      "\t1.036            0.092            0.005            [ 0.876  1.223]\n",
      "\t1.036            0.092            0.005            [ 0.876  1.223]\n",
      "\t1.036            0.092            0.005            [ 0.876  1.223]\n",
      "\t4.872            0.36             0.027            [ 4.16   5.544]\n",
      "\t1.036            0.092            0.005            [ 0.876  1.223]\n",
      "\t1.036            0.092            0.005            [ 0.876  1.223]\n",
      "\t1.036            0.092            0.005            [ 0.876  1.223]\n",
      "\t1.036            0.092            0.005            [ 0.876  1.223]\n",
      "\t1.036            0.092            0.005            [ 0.876  1.223]\n",
      "\t1.036            0.092            0.005            [ 0.876  1.223]\n",
      "\t1.036            0.092            0.005            [ 0.876  1.223]\n",
      "\t1.036            0.092            0.005            [ 0.876  1.223]\n",
      "\t1.036            0.092            0.005            [ 0.876  1.223]\n",
      "\t4.872            0.36             0.027            [ 4.16   5.544]\n",
      "\t\n",
      "\t\n",
      "\tPosterior quantiles:\n",
      "\t\n",
      "\t2.5             25              50              75             97.5\n",
      "\t |---------------|===============|===============|---------------|\n",
      "\t4.169            4.61            4.875          5.129         5.57\n",
      "\t0.87             0.971           1.031          1.1           1.22\n",
      "\t0.87             0.971           1.031          1.1           1.22\n",
      "\t0.87             0.971           1.031          1.1           1.22\n",
      "\t0.87             0.971           1.031          1.1           1.22\n",
      "\t0.87             0.971           1.031          1.1           1.22\n",
      "\t0.87             0.971           1.031          1.1           1.22\n",
      "\t0.87             0.971           1.031          1.1           1.22\n",
      "\t0.87             0.971           1.031          1.1           1.22\n",
      "\t0.87             0.971           1.031          1.1           1.22\n",
      "\t4.169            4.61            4.875          5.129         5.57\n",
      "\t0.87             0.971           1.031          1.1           1.22\n",
      "\t0.87             0.971           1.031          1.1           1.22\n",
      "\t0.87             0.971           1.031          1.1           1.22\n",
      "\t0.87             0.971           1.031          1.1           1.22\n",
      "\t0.87             0.971           1.031          1.1           1.22\n",
      "\t0.87             0.971           1.031          1.1           1.22\n",
      "\t0.87             0.971           1.031          1.1           1.22\n",
      "\t0.87             0.971           1.031          1.1           1.22\n",
      "\t0.87             0.971           1.031          1.1           1.22\n",
      "\t4.169            4.61            4.875          5.129         5.57\n",
      "\t0.87             0.971           1.031          1.1           1.22\n",
      "\t0.87             0.971           1.031          1.1           1.22\n",
      "\t0.87             0.971           1.031          1.1           1.22\n",
      "\t0.87             0.971           1.031          1.1           1.22\n",
      "\t0.87             0.971           1.031          1.1           1.22\n",
      "\t0.87             0.971           1.031          1.1           1.22\n",
      "\t0.87             0.971           1.031          1.1           1.22\n",
      "\t0.87             0.971           1.031          1.1           1.22\n",
      "\t0.87             0.971           1.031          1.1           1.22\n",
      "\t4.169            4.61            4.875          5.129         5.57\n",
      "\t0.87             0.971           1.031          1.1           1.22\n",
      "\t0.87             0.971           1.031          1.1           1.22\n",
      "\t0.87             0.971           1.031          1.1           1.22\n",
      "\t0.87             0.971           1.031          1.1           1.22\n",
      "\t0.87             0.971           1.031          1.1           1.22\n",
      "\t0.87             0.971           1.031          1.1           1.22\n",
      "\t0.87             0.971           1.031          1.1           1.22\n",
      "\t0.87             0.971           1.031          1.1           1.22\n",
      "\t0.87             0.971           1.031          1.1           1.22\n",
      "\t4.169            4.61            4.875          5.129         5.57\n",
      "\t0.87             0.971           1.031          1.1           1.22\n",
      "\t0.87             0.971           1.031          1.1           1.22\n",
      "\t0.87             0.971           1.031          1.1           1.22\n",
      "\t0.87             0.971           1.031          1.1           1.22\n",
      "\t0.87             0.971           1.031          1.1           1.22\n",
      "\t0.87             0.971           1.031          1.1           1.22\n",
      "\t0.87             0.971           1.031          1.1           1.22\n",
      "\t0.87             0.971           1.031          1.1           1.22\n",
      "\t0.87             0.971           1.031          1.1           1.22\n",
      "\t4.169            4.61            4.875          5.129         5.57\n",
      "\t0.87             0.971           1.031          1.1           1.22\n",
      "\t0.87             0.971           1.031          1.1           1.22\n",
      "\t0.87             0.971           1.031          1.1           1.22\n",
      "\t0.87             0.971           1.031          1.1           1.22\n",
      "\t0.87             0.971           1.031          1.1           1.22\n",
      "\t0.87             0.971           1.031          1.1           1.22\n",
      "\t0.87             0.971           1.031          1.1           1.22\n",
      "\t0.87             0.971           1.031          1.1           1.22\n",
      "\t0.87             0.971           1.031          1.1           1.22\n",
      "\t4.169            4.61            4.875          5.129         5.57\n",
      "\t0.87             0.971           1.031          1.1           1.22\n",
      "\t0.87             0.971           1.031          1.1           1.22\n",
      "\t0.87             0.971           1.031          1.1           1.22\n",
      "\t0.87             0.971           1.031          1.1           1.22\n",
      "\t0.87             0.971           1.031          1.1           1.22\n",
      "\t0.87             0.971           1.031          1.1           1.22\n",
      "\t0.87             0.971           1.031          1.1           1.22\n",
      "\t0.87             0.971           1.031          1.1           1.22\n",
      "\t0.87             0.971           1.031          1.1           1.22\n",
      "\t4.169            4.61            4.875          5.129         5.57\n",
      "\t0.87             0.971           1.031          1.1           1.22\n",
      "\t0.87             0.971           1.031          1.1           1.22\n",
      "\t0.87             0.971           1.031          1.1           1.22\n",
      "\t0.87             0.971           1.031          1.1           1.22\n",
      "\t0.87             0.971           1.031          1.1           1.22\n",
      "\t0.87             0.971           1.031          1.1           1.22\n",
      "\t0.87             0.971           1.031          1.1           1.22\n",
      "\t0.87             0.971           1.031          1.1           1.22\n",
      "\t0.87             0.971           1.031          1.1           1.22\n",
      "\t4.169            4.61            4.875          5.129         5.57\n",
      "\t\n"
     ]
    }
   ],
   "source": [
    "model_june.summary(['B'])"
   ]
  },
  {
   "cell_type": "markdown",
   "metadata": {},
   "source": [
    "### Vaccination coverage by strategy"
   ]
  },
  {
   "cell_type": "code",
   "execution_count": 82,
   "metadata": {},
   "outputs": [
    {
     "name": "stdout",
     "output_type": "stream",
     "text": [
      "\n",
      "pct_5:\n",
      " \n",
      "\tMean             SD               MC Error        95% HPD interval\n",
      "\t------------------------------------------------------------------\n",
      "\t0.18             0.007            0.0              [ 0.165  0.192]\n",
      "\t\n",
      "\t\n",
      "\tPosterior quantiles:\n",
      "\t\n",
      "\t2.5             25              50              75             97.5\n",
      "\t |---------------|===============|===============|---------------|\n",
      "\t0.165            0.173           0.181          0.182         0.192\n",
      "\t\n",
      "\n",
      "pct_15:\n",
      " \n",
      "\tMean             SD               MC Error        95% HPD interval\n",
      "\t------------------------------------------------------------------\n",
      "\t0.26             0.01             0.0              [ 0.241  0.276]\n",
      "\t\n",
      "\t\n",
      "\tPosterior quantiles:\n",
      "\t\n",
      "\t2.5             25              50              75             97.5\n",
      "\t |---------------|===============|===============|---------------|\n",
      "\t0.24             0.251           0.261          0.263         0.276\n",
      "\t\n",
      "\n",
      "pct_30:\n",
      " \n",
      "\tMean             SD               MC Error        95% HPD interval\n",
      "\t------------------------------------------------------------------\n",
      "\t0.764            0.002            0.0              [ 0.761  0.767]\n",
      "\t\n",
      "\t\n",
      "\tPosterior quantiles:\n",
      "\t\n",
      "\t2.5             25              50              75             97.5\n",
      "\t |---------------|===============|===============|---------------|\n",
      "\t0.76             0.762           0.764          0.765         0.767\n",
      "\t\n",
      "\n",
      "pct_adult:\n",
      " \n",
      "\tMean             SD               MC Error        95% HPD interval\n",
      "\t------------------------------------------------------------------\n",
      "\t0.579            0.0              0.0              [ 0.578  0.579]\n",
      "\t\n",
      "\t\n",
      "\tPosterior quantiles:\n",
      "\t\n",
      "\t2.5             25              50              75             97.5\n",
      "\t |---------------|===============|===============|---------------|\n",
      "\t0.578            0.578           0.579          0.579         0.579\n",
      "\t\n"
     ]
    }
   ],
   "source": [
    "model_june.summary(['pct_5', 'pct_15', 'pct_30', 'pct_adult'])"
   ]
  },
  {
   "cell_type": "code",
   "execution_count": 83,
   "metadata": {},
   "outputs": [],
   "source": [
    "june_coverage = pd.DataFrame({name: model_june.trace(name)[:9999] for name in ['pct_5', 'pct_15', 'pct_30', 'pct_adult']})\n",
    "june_coverage['Month'] = 'June'\n",
    "june_coverage['Confirmation'] = 'Lab'"
   ]
  },
  {
   "cell_type": "code",
   "execution_count": 84,
   "metadata": {},
   "outputs": [],
   "source": [
    "june_noconf_coverage = pd.DataFrame({name: model_june_noconf.trace(name)[:9999] for name in ['pct_5', 'pct_15', 'pct_30', 'pct_adult']})\n",
    "june_noconf_coverage['Month'] = 'June'\n",
    "june_noconf_coverage['Confirmation'] = 'Clinical'\n",
    "\n",
    "july_coverage = pd.DataFrame({name: model_july.trace(name)[:9999] for name in ['pct_5', 'pct_15', 'pct_30', 'pct_adult']})\n",
    "july_coverage['Month'] = 'July'\n",
    "july_coverage['Confirmation'] = 'Lab'\n",
    "\n",
    "july_noconf_coverage = pd.DataFrame({name: model_july_noconf.trace(name)[:9999] for name in ['pct_5', 'pct_15', 'pct_30', 'pct_adult']})\n",
    "july_noconf_coverage['Month'] = 'July'\n",
    "july_noconf_coverage['Confirmation'] = 'Clinical'"
   ]
  },
  {
   "cell_type": "code",
   "execution_count": 85,
   "metadata": {},
   "outputs": [],
   "source": [
    "coverage = pd.concat([june_coverage, june_noconf_coverage, july_coverage, july_noconf_coverage], \n",
    "                     ignore_index=True)\n",
    "\n",
    "coverage.to_csv('output/coverage.csv')"
   ]
  },
  {
   "cell_type": "code",
   "execution_count": 86,
   "metadata": {},
   "outputs": [
    {
     "data": {
      "text/plain": [
       "<seaborn.axisgrid.FacetGrid at 0x24963a320>"
      ]
     },
     "execution_count": 86,
     "metadata": {},
     "output_type": "execute_result"
    },
    {
     "data": {
      "image/png": "[encoded data removed]",
      "text/plain": [
       "<matplotlib.figure.Figure at 0x24963a6d8>"
      ]
     },
     "metadata": {},
     "output_type": "display_data"
    }
   ],
   "source": [
    "sns.factorplot(row=\"Month\", col=\"Confirmation\", data=coverage, kind='box',\n",
    "              row_order=['June', 'July'],\n",
    "              order=['pct_5', 'pct_15', 'pct_30', 'pct_adult'],\n",
    "               palette=\"YlGnBu_d\", linewidth=0.7, fliersize=0, aspect=1.25).despine(left=True)"
   ]
  },
  {
   "cell_type": "code",
   "execution_count": 87,
   "metadata": {
    "scrolled": true
   },
   "outputs": [
    {
     "data": {
      "image/png": "[encoded data removed]",
      "text/plain": [
       "<matplotlib.figure.Figure at 0x11977ae48>"
      ]
     },
     "metadata": {},
     "output_type": "display_data"
    }
   ],
   "source": [
    "axes = sns.boxplot(data=june_coverage, order=['pct_5', 'pct_15', 'pct_30', 'pct_adult'], \n",
    "                  color=sns.color_palette(\"coolwarm\", 5)[0])\n",
    "axes.set_xticklabels(['Under 5', 'Under 15', 'Under 30', 'Under 5 + 20-30'])\n",
    "axes.set_ylabel('% susceptibles vaccinated')\n",
    "sns.despine(offset=10, trim=True)"
   ]
  },
  {
   "cell_type": "code",
   "execution_count": 88,
   "metadata": {},
   "outputs": [
    {
     "data": {
      "image/png": "[encoded data removed]",
      "text/plain": [
       "<matplotlib.figure.Figure at 0x11977a240>"
      ]
     },
     "metadata": {},
     "output_type": "display_data"
    }
   ],
   "source": [
    "with sns.axes_style(\"ticks\"):\n",
    "    pc_values = np.maximum(0, 1- 1/Rt_values)\n",
    "    ax = pc_values.boxplot(return_type='axes', figsize=(14,6), grid=False)\n",
    "    ax.set_ylabel('$p_c$')\n",
    "    ax.semilogy();"
   ]
  },
  {
   "cell_type": "code",
   "execution_count": 89,
   "metadata": {},
   "outputs": [
    {
     "data": {
      "text/html": [
       "<div>\n",
       "<style>\n",
       "    .dataframe thead tr:only-child th {\n",
       "        text-align: right;\n",
       "    }\n",
       "\n",
       "    .dataframe thead th {\n",
       "        text-align: left;\n",
       "    }\n",
       "\n",
       "    .dataframe tbody tr th {\n",
       "        vertical-align: top;\n",
       "    }\n",
       "</style>\n",
       "<table border=\"1\" class=\"dataframe\">\n",
       "  <thead>\n",
       "    <tr style=\"text-align: right;\">\n",
       "      <th></th>\n",
       "      <th></th>\n",
       "      <th></th>\n",
       "      <th>pct_15</th>\n",
       "      <th>pct_30</th>\n",
       "      <th>pct_5</th>\n",
       "      <th>pct_adult</th>\n",
       "    </tr>\n",
       "    <tr>\n",
       "      <th>Month</th>\n",
       "      <th>Confirmation</th>\n",
       "      <th></th>\n",
       "      <th></th>\n",
       "      <th></th>\n",
       "      <th></th>\n",
       "      <th></th>\n",
       "    </tr>\n",
       "  </thead>\n",
       "  <tbody>\n",
       "    <tr>\n",
       "      <th rowspan=\"4\" valign=\"top\">June</th>\n",
       "      <th rowspan=\"2\" valign=\"top\">Lab</th>\n",
       "      <th>0.025</th>\n",
       "      <td>0.239764</td>\n",
       "      <td>0.760393</td>\n",
       "      <td>0.164731</td>\n",
       "      <td>0.577821</td>\n",
       "    </tr>\n",
       "    <tr>\n",
       "      <th>0.975</th>\n",
       "      <td>0.275871</td>\n",
       "      <td>0.766956</td>\n",
       "      <td>0.191777</td>\n",
       "      <td>0.579266</td>\n",
       "    </tr>\n",
       "    <tr>\n",
       "      <th rowspan=\"2\" valign=\"top\">Clinical</th>\n",
       "      <th>0.025</th>\n",
       "      <td>0.271059</td>\n",
       "      <td>0.765641</td>\n",
       "      <td>0.191371</td>\n",
       "      <td>0.579133</td>\n",
       "    </tr>\n",
       "    <tr>\n",
       "      <th>0.975</th>\n",
       "      <td>0.309842</td>\n",
       "      <td>0.772969</td>\n",
       "      <td>0.220901</td>\n",
       "      <td>0.580673</td>\n",
       "    </tr>\n",
       "    <tr>\n",
       "      <th rowspan=\"4\" valign=\"top\">July</th>\n",
       "      <th rowspan=\"2\" valign=\"top\">Lab</th>\n",
       "      <th>0.025</th>\n",
       "      <td>0.229077</td>\n",
       "      <td>0.758223</td>\n",
       "      <td>0.156459</td>\n",
       "      <td>0.577649</td>\n",
       "    </tr>\n",
       "    <tr>\n",
       "      <th>0.975</th>\n",
       "      <td>0.249639</td>\n",
       "      <td>0.762031</td>\n",
       "      <td>0.171787</td>\n",
       "      <td>0.579115</td>\n",
       "    </tr>\n",
       "    <tr>\n",
       "      <th rowspan=\"2\" valign=\"top\">Clinical</th>\n",
       "      <th>0.025</th>\n",
       "      <td>0.242706</td>\n",
       "      <td>0.760656</td>\n",
       "      <td>0.170275</td>\n",
       "      <td>0.581104</td>\n",
       "    </tr>\n",
       "    <tr>\n",
       "      <th>0.975</th>\n",
       "      <td>0.260357</td>\n",
       "      <td>0.764155</td>\n",
       "      <td>0.183763</td>\n",
       "      <td>0.582420</td>\n",
       "    </tr>\n",
       "  </tbody>\n",
       "</table>\n",
       "</div>"
      ],
      "text/plain": [
       "                            pct_15    pct_30     pct_5  pct_adult\n",
       "Month Confirmation                                               \n",
       "June  Lab          0.025  0.239764  0.760393  0.164731   0.577821\n",
       "                   0.975  0.275871  0.766956  0.191777   0.579266\n",
       "      Clinical     0.025  0.271059  0.765641  0.191371   0.579133\n",
       "                   0.975  0.309842  0.772969  0.220901   0.580673\n",
       "July  Lab          0.025  0.229077  0.758223  0.156459   0.577649\n",
       "                   0.975  0.249639  0.762031  0.171787   0.579115\n",
       "      Clinical     0.025  0.242706  0.760656  0.170275   0.581104\n",
       "                   0.975  0.260357  0.764155  0.183763   0.582420"
      ]
     },
     "execution_count": 89,
     "metadata": {},
     "output_type": "execute_result"
    }
   ],
   "source": [
    "qcoverage = coverage.groupby(['Month','Confirmation'], sort=False).quantile([0.025, 0.975])\n",
    "qcoverage"
   ]
  },
  {
   "cell_type": "code",
   "execution_count": 90,
   "metadata": {
    "scrolled": true
   },
   "outputs": [
    {
     "data": {
      "text/html": [
       "<div>\n",
       "<style>\n",
       "    .dataframe thead tr:only-child th {\n",
       "        text-align: right;\n",
       "    }\n",
       "\n",
       "    .dataframe thead th {\n",
       "        text-align: left;\n",
       "    }\n",
       "\n",
       "    .dataframe tbody tr th {\n",
       "        vertical-align: top;\n",
       "    }\n",
       "</style>\n",
       "<table border=\"1\" class=\"dataframe\">\n",
       "  <thead>\n",
       "    <tr style=\"text-align: right;\">\n",
       "      <th></th>\n",
       "      <th></th>\n",
       "      <th>pct_15</th>\n",
       "      <th>pct_30</th>\n",
       "      <th>pct_5</th>\n",
       "      <th>pct_adult</th>\n",
       "    </tr>\n",
       "    <tr>\n",
       "      <th>Month</th>\n",
       "      <th>Confirmation</th>\n",
       "      <th></th>\n",
       "      <th></th>\n",
       "      <th></th>\n",
       "      <th></th>\n",
       "    </tr>\n",
       "  </thead>\n",
       "  <tbody>\n",
       "    <tr>\n",
       "      <th rowspan=\"2\" valign=\"top\">June</th>\n",
       "      <th>Lab</th>\n",
       "      <td>0.259751</td>\n",
       "      <td>0.763881</td>\n",
       "      <td>0.179740</td>\n",
       "      <td>0.578561</td>\n",
       "    </tr>\n",
       "    <tr>\n",
       "      <th>Clinical</th>\n",
       "      <td>0.289680</td>\n",
       "      <td>0.769166</td>\n",
       "      <td>0.205544</td>\n",
       "      <td>0.579899</td>\n",
       "    </tr>\n",
       "    <tr>\n",
       "      <th rowspan=\"2\" valign=\"top\">July</th>\n",
       "      <th>Lab</th>\n",
       "      <td>0.239134</td>\n",
       "      <td>0.760080</td>\n",
       "      <td>0.163955</td>\n",
       "      <td>0.578391</td>\n",
       "    </tr>\n",
       "    <tr>\n",
       "      <th>Clinical</th>\n",
       "      <td>0.251491</td>\n",
       "      <td>0.762370</td>\n",
       "      <td>0.176992</td>\n",
       "      <td>0.581742</td>\n",
       "    </tr>\n",
       "  </tbody>\n",
       "</table>\n",
       "</div>"
      ],
      "text/plain": [
       "                      pct_15    pct_30     pct_5  pct_adult\n",
       "Month Confirmation                                         \n",
       "June  Lab           0.259751  0.763881  0.179740   0.578561\n",
       "      Clinical      0.289680  0.769166  0.205544   0.579899\n",
       "July  Lab           0.239134  0.760080  0.163955   0.578391\n",
       "      Clinical      0.251491  0.762370  0.176992   0.581742"
      ]
     },
     "execution_count": 90,
     "metadata": {},
     "output_type": "execute_result"
    }
   ],
   "source": [
    "mean_coverage = coverage.groupby(['Month','Confirmation'], sort=False).mean()\n",
    "mean_coverage"
   ]
  },
  {
   "cell_type": "code",
   "execution_count": 91,
   "metadata": {},
   "outputs": [],
   "source": [
    "label_lookup = dict(zip(['pct_5', 'pct_15', 'pct_30', 'pct_adult'], \n",
    "    ['Under 5', 'Under 15', 'Under 30', 'Adults & young kids']))"
   ]
  },
  {
   "cell_type": "code",
   "execution_count": 100,
   "metadata": {},
   "outputs": [
    {
     "data": {
      "image/png": "[encoded data removed]",
      "text/plain": [
       "<matplotlib.figure.Figure at 0x25104d048>"
      ]
     },
     "metadata": {},
     "output_type": "display_data"
    }
   ],
   "source": [
    "from matplotlib.patches import Rectangle\n",
    "\n",
    "plot_interval = True\n",
    "\n",
    "with sns.axes_style(\"ticks\"):\n",
    "    \n",
    "    colors = [\"#9b59b6\", \"#3498db\", \"#95a5a6\", \"#e74c3c\"]\n",
    "    \n",
    "    fig = plt.figure(figsize=(14, 6))\n",
    "    ax1 = fig.add_axes([0.1, 0.1, 0.4, 0.8])\n",
    "    ax1.semilogy()\n",
    "    ax2 = fig.add_axes([0.5, 0.1, 0.4, 0.8])\n",
    "    ax2.semilogy()\n",
    "    \n",
    "    q = pc_values.quantile([0.025, 0.975]).values + 1e-8\n",
    "    m = pc_values.mean().values\n",
    "    \n",
    "    months = ['June', 'July']\n",
    "    \n",
    "    for i,ax in enumerate([ax1, ax2]):\n",
    "        ax.set_yticks([0.01, 0.1, 0.2, 0.4, 0.7])\n",
    "        ax.set_yticklabels([0.01, 0.1, 0.2, 0.4, 0.7])\n",
    "        ax.set_ybound(0.0001, .999)\n",
    "        \n",
    "        ax.set_xticks([0.08, 0.27, 0.4])\n",
    "        ax.set_xticklabels(['lab confirmation', 'clinical only'])\n",
    "        \n",
    "        ax.tick_params(length=0)\n",
    "        \n",
    "        ax.set_title(months[i])\n",
    "                \n",
    "        ax.add_patch(Rectangle((0.0, q[0, 2*i]), 0.15, q[1, 2*i]-q[0, 2*i], alpha=0.1))\n",
    "        ax.add_patch(Rectangle((0.2, q[0, 1+2*i]), 0.15, q[1, 1+2*i]-q[0, 1+2*i], alpha=0.1))\n",
    "        \n",
    "        # Add estimates\n",
    "        conf = ('Lab', 'Clinical')\n",
    "        handles = []\n",
    "        for j, pct in enumerate(['pct_5', 'pct_15', 'pct_30', 'pct_adult']):\n",
    "            \n",
    "            interval = qcoverage.loc[('June', conf[i])]\n",
    "            ax.add_patch(Rectangle((0.04*j, interval.loc[0.025, pct]), \n",
    "                                   0.01, interval.loc[0.975, pct]-interval.loc[0.025, pct], \n",
    "                                   lw=2, \n",
    "                                   color=colors[j]))\n",
    "\n",
    "            interval = qcoverage.loc[('July', conf[i])]\n",
    "            rect = Rectangle((0.04*j + 0.2, interval.loc[0.025, pct]), \n",
    "                                   0.01, interval.loc[0.975, pct]-interval.loc[0.025, pct],\n",
    "                                   lw=2, label=label_lookup[pct],\n",
    "                                   color=colors[j])\n",
    "            ax.add_patch(rect)\n",
    "            handles.append(rect)\n",
    "        \n",
    "        \n",
    "        ax.axhline(m[2*i], 0.13, 0.45, color='black', lw=0.7)\n",
    "        ax.axhline(m[1+2*i], 0.57, 0.88, color='black', lw=0.7)\n",
    "\n",
    "    ax2.set_yticks([])\n",
    "    ax1.set_ylabel('Estimated vaccination threshold required')\n",
    "    \n",
    "    ax2.legend(handles=handles, loc=4)\n",
    "    \n",
    "    sns.despine(bottom=True)"
   ]
  },
  {
   "cell_type": "code",
   "execution_count": 93,
   "metadata": {},
   "outputs": [
    {
     "name": "stdout",
     "output_type": "stream",
     "text": [
      "\n",
      "pct_5:\n",
      " \n",
      "\tMean             SD               MC Error        95% HPD interval\n",
      "\t------------------------------------------------------------------\n",
      "\t0.206            0.008            0.0              [ 0.191  0.22 ]\n",
      "\t\n",
      "\t\n",
      "\tPosterior quantiles:\n",
      "\t\n",
      "\t2.5             25              50              75             97.5\n",
      "\t |---------------|===============|===============|---------------|\n",
      "\t0.191            0.199           0.206          0.212         0.221\n",
      "\t\n",
      "\n",
      "pct_15:\n",
      " \n",
      "\tMean             SD               MC Error        95% HPD interval\n",
      "\t------------------------------------------------------------------\n",
      "\t0.29             0.01             0.0              [ 0.271  0.31 ]\n",
      "\t\n",
      "\t\n",
      "\tPosterior quantiles:\n",
      "\t\n",
      "\t2.5             25              50              75             97.5\n",
      "\t |---------------|===============|===============|---------------|\n",
      "\t0.271            0.281           0.29           0.298         0.31\n",
      "\t\n",
      "\n",
      "pct_30:\n",
      " \n",
      "\tMean             SD               MC Error        95% HPD interval\n",
      "\t------------------------------------------------------------------\n",
      "\t0.769            0.002            0.0              [ 0.766  0.773]\n",
      "\t\n",
      "\t\n",
      "\tPosterior quantiles:\n",
      "\t\n",
      "\t2.5             25              50              75             97.5\n",
      "\t |---------------|===============|===============|---------------|\n",
      "\t0.766            0.768           0.769          0.771         0.773\n",
      "\t\n",
      "\n",
      "pct_adult:\n",
      " \n",
      "\tMean             SD               MC Error        95% HPD interval\n",
      "\t------------------------------------------------------------------\n",
      "\t0.58             0.0              0.0              [ 0.579  0.581]\n",
      "\t\n",
      "\t\n",
      "\tPosterior quantiles:\n",
      "\t\n",
      "\t2.5             25              50              75             97.5\n",
      "\t |---------------|===============|===============|---------------|\n",
      "\t0.579            0.58            0.58           0.58          0.581\n",
      "\t\n"
     ]
    }
   ],
   "source": [
    "model_june_noconf.summary(['pct_5', 'pct_15', 'pct_30', 'pct_adult'])"
   ]
  },
  {
   "cell_type": "code",
   "execution_count": 94,
   "metadata": {},
   "outputs": [
    {
     "name": "stdout",
     "output_type": "stream",
     "text": [
      "\n",
      "pct_5:\n",
      " \n",
      "\tMean             SD               MC Error        95% HPD interval\n",
      "\t------------------------------------------------------------------\n",
      "\t0.164            0.004            0.0              [ 0.157  0.172]\n",
      "\t\n",
      "\t\n",
      "\tPosterior quantiles:\n",
      "\t\n",
      "\t2.5             25              50              75             97.5\n",
      "\t |---------------|===============|===============|---------------|\n",
      "\t0.156            0.161           0.165          0.167         0.172\n",
      "\t\n",
      "\n",
      "pct_15:\n",
      " \n",
      "\tMean             SD               MC Error        95% HPD interval\n",
      "\t------------------------------------------------------------------\n",
      "\t0.239            0.005            0.0                [ 0.23  0.25]\n",
      "\t\n",
      "\t\n",
      "\tPosterior quantiles:\n",
      "\t\n",
      "\t2.5             25              50              75             97.5\n",
      "\t |---------------|===============|===============|---------------|\n",
      "\t0.229            0.235           0.24           0.243         0.25\n",
      "\t\n",
      "\n",
      "pct_30:\n",
      " \n",
      "\tMean             SD               MC Error        95% HPD interval\n",
      "\t------------------------------------------------------------------\n",
      "\t0.76             0.001            0.0              [ 0.758  0.762]\n",
      "\t\n",
      "\t\n",
      "\tPosterior quantiles:\n",
      "\t\n",
      "\t2.5             25              50              75             97.5\n",
      "\t |---------------|===============|===============|---------------|\n",
      "\t0.758            0.759           0.76           0.761         0.762\n",
      "\t\n",
      "\n",
      "pct_adult:\n",
      " \n",
      "\tMean             SD               MC Error        95% HPD interval\n",
      "\t------------------------------------------------------------------\n",
      "\t0.578            0.0              0.0              [ 0.578  0.579]\n",
      "\t\n",
      "\t\n",
      "\tPosterior quantiles:\n",
      "\t\n",
      "\t2.5             25              50              75             97.5\n",
      "\t |---------------|===============|===============|---------------|\n",
      "\t0.578            0.578           0.578          0.579         0.579\n",
      "\t\n"
     ]
    }
   ],
   "source": [
    "model_july.summary(['pct_5', 'pct_15', 'pct_30', 'pct_adult'])"
   ]
  },
  {
   "cell_type": "code",
   "execution_count": 95,
   "metadata": {},
   "outputs": [
    {
     "name": "stdout",
     "output_type": "stream",
     "text": [
      "\n",
      "pct_5:\n",
      " \n",
      "\tMean             SD               MC Error        95% HPD interval\n",
      "\t------------------------------------------------------------------\n",
      "\t0.177            0.003            0.0              [ 0.17   0.184]\n",
      "\t\n",
      "\t\n",
      "\tPosterior quantiles:\n",
      "\t\n",
      "\t2.5             25              50              75             97.5\n",
      "\t |---------------|===============|===============|---------------|\n",
      "\t0.17             0.175           0.178          0.179         0.184\n",
      "\t\n",
      "\n",
      "pct_15:\n",
      " \n",
      "\tMean             SD               MC Error        95% HPD interval\n",
      "\t------------------------------------------------------------------\n",
      "\t0.251            0.004            0.0              [ 0.243  0.26 ]\n",
      "\t\n",
      "\t\n",
      "\tPosterior quantiles:\n",
      "\t\n",
      "\t2.5             25              50              75             97.5\n",
      "\t |---------------|===============|===============|---------------|\n",
      "\t0.243            0.248           0.253          0.254         0.26\n",
      "\t\n",
      "\n",
      "pct_30:\n",
      " \n",
      "\tMean             SD               MC Error        95% HPD interval\n",
      "\t------------------------------------------------------------------\n",
      "\t0.762            0.001            0.0              [ 0.761  0.764]\n",
      "\t\n",
      "\t\n",
      "\tPosterior quantiles:\n",
      "\t\n",
      "\t2.5             25              50              75             97.5\n",
      "\t |---------------|===============|===============|---------------|\n",
      "\t0.761            0.762           0.762          0.763         0.764\n",
      "\t\n",
      "\n",
      "pct_adult:\n",
      " \n",
      "\tMean             SD               MC Error        95% HPD interval\n",
      "\t------------------------------------------------------------------\n",
      "\t0.582            0.0              0.0              [ 0.581  0.582]\n",
      "\t\n",
      "\t\n",
      "\tPosterior quantiles:\n",
      "\t\n",
      "\t2.5             25              50              75             97.5\n",
      "\t |---------------|===============|===============|---------------|\n",
      "\t0.581            0.582           0.582          0.582         0.582\n",
      "\t\n"
     ]
    }
   ],
   "source": [
    "model_july_noconf.summary(['pct_5', 'pct_15', 'pct_30', 'pct_adult'])"
   ]
  },
  {
   "cell_type": "markdown",
   "metadata": {},
   "source": [
    "Initial migrant susceptibles (June model, with confirmation)"
   ]
  },
  {
   "cell_type": "code",
   "execution_count": 96,
   "metadata": {},
   "outputs": [
    {
     "name": "stdout",
     "output_type": "stream",
     "text": [
      "\n",
      "N_migrant:\n",
      " \n",
      "\tMean             SD               MC Error        95% HPD interval\n",
      "\t------------------------------------------------------------------\n",
      "\t543025.202       31889.552        1371.904     [ 489638.  610703.]\n",
      "\t\n",
      "\t\n",
      "\tPosterior quantiles:\n",
      "\t\n",
      "\t2.5             25              50              75             97.5\n",
      "\t |---------------|===============|===============|---------------|\n",
      "\t491409.0         531518.0        536706.0       572897.0      614757.0\n",
      "\t\n"
     ]
    }
   ],
   "source": [
    "model_june.summary(['N_migrant'])"
   ]
  },
  {
   "cell_type": "markdown",
   "metadata": {},
   "source": [
    "By age group:"
   ]
  },
  {
   "cell_type": "code",
   "execution_count": 97,
   "metadata": {},
   "outputs": [
    {
     "name": "stdout",
     "output_type": "stream",
     "text": [
      "Could not calculate Gelman-Rubin statistics. Requires multiple chains of equal length.\n"
     ]
    },
    {
     "ename": "TypeError",
     "evalue": "object of type 'pandas._libs.interval.Interval' has no len()",
     "output_type": "error",
     "traceback": [
      "\u001b[0;31m---------------------------------------------------------------------------\u001b[0m",
      "\u001b[0;31mTypeError\u001b[0m                                 Traceback (most recent call last)",
      "\u001b[0;32m<ipython-input-97-580aedbd5528>\u001b[0m in \u001b[0;36m<module>\u001b[0;34m()\u001b[0m\n\u001b[0;32m----> 1\u001b[0;31m \u001b[0mMatplot\u001b[0m\u001b[0;34m.\u001b[0m\u001b[0msummary_plot\u001b[0m\u001b[0;34m(\u001b[0m\u001b[0mmodel_june\u001b[0m\u001b[0;34m.\u001b[0m\u001b[0mM_0\u001b[0m\u001b[0;34m,\u001b[0m \u001b[0mcustom_labels\u001b[0m\u001b[0;34m=\u001b[0m\u001b[0mage_group\u001b[0m\u001b[0;34m.\u001b[0m\u001b[0mcategories\u001b[0m\u001b[0;34m)\u001b[0m\u001b[0;34m\u001b[0m\u001b[0m\n\u001b[0m",
      "\u001b[0;32m~/Repos/pymc/pymc/Matplot.py\u001b[0m in \u001b[0;36msummary_plot\u001b[0;34m(pymc_obj, name, format, suffix, path, alpha, chain, quartiles, hpd, rhat, main, xlab, x_range, custom_labels, chain_spacing, vline_pos)\u001b[0m\n\u001b[1;32m   1342\u001b[0m \u001b[0;34m\u001b[0m\u001b[0m\n\u001b[1;32m   1343\u001b[0m     \u001b[0;31m# Update margins\u001b[0m\u001b[0;34m\u001b[0m\u001b[0;34m\u001b[0m\u001b[0m\n\u001b[0;32m-> 1344\u001b[0;31m     \u001b[0mleft_margin\u001b[0m \u001b[0;34m=\u001b[0m \u001b[0mmax\u001b[0m\u001b[0;34m(\u001b[0m\u001b[0;34m[\u001b[0m\u001b[0mlen\u001b[0m\u001b[0;34m(\u001b[0m\u001b[0mx\u001b[0m\u001b[0;34m)\u001b[0m \u001b[0;32mfor\u001b[0m \u001b[0mx\u001b[0m \u001b[0;32min\u001b[0m \u001b[0mlabels\u001b[0m\u001b[0;34m]\u001b[0m\u001b[0;34m)\u001b[0m \u001b[0;34m*\u001b[0m \u001b[0;36m0.015\u001b[0m\u001b[0;34m\u001b[0m\u001b[0m\n\u001b[0m\u001b[1;32m   1345\u001b[0m     \u001b[0mgs\u001b[0m\u001b[0;34m.\u001b[0m\u001b[0mupdate\u001b[0m\u001b[0;34m(\u001b[0m\u001b[0mleft\u001b[0m\u001b[0;34m=\u001b[0m\u001b[0mleft_margin\u001b[0m\u001b[0;34m,\u001b[0m \u001b[0mright\u001b[0m\u001b[0;34m=\u001b[0m\u001b[0;36m0.95\u001b[0m\u001b[0;34m,\u001b[0m \u001b[0mtop\u001b[0m\u001b[0;34m=\u001b[0m\u001b[0;36m0.9\u001b[0m\u001b[0;34m,\u001b[0m \u001b[0mbottom\u001b[0m\u001b[0;34m=\u001b[0m\u001b[0;36m0.05\u001b[0m\u001b[0;34m)\u001b[0m\u001b[0;34m\u001b[0m\u001b[0m\n\u001b[1;32m   1346\u001b[0m \u001b[0;34m\u001b[0m\u001b[0m\n",
      "\u001b[0;32m~/Repos/pymc/pymc/Matplot.py\u001b[0m in \u001b[0;36m<listcomp>\u001b[0;34m(.0)\u001b[0m\n\u001b[1;32m   1342\u001b[0m \u001b[0;34m\u001b[0m\u001b[0m\n\u001b[1;32m   1343\u001b[0m     \u001b[0;31m# Update margins\u001b[0m\u001b[0;34m\u001b[0m\u001b[0;34m\u001b[0m\u001b[0m\n\u001b[0;32m-> 1344\u001b[0;31m     \u001b[0mleft_margin\u001b[0m \u001b[0;34m=\u001b[0m \u001b[0mmax\u001b[0m\u001b[0;34m(\u001b[0m\u001b[0;34m[\u001b[0m\u001b[0mlen\u001b[0m\u001b[0;34m(\u001b[0m\u001b[0mx\u001b[0m\u001b[0;34m)\u001b[0m \u001b[0;32mfor\u001b[0m \u001b[0mx\u001b[0m \u001b[0;32min\u001b[0m \u001b[0mlabels\u001b[0m\u001b[0;34m]\u001b[0m\u001b[0;34m)\u001b[0m \u001b[0;34m*\u001b[0m \u001b[0;36m0.015\u001b[0m\u001b[0;34m\u001b[0m\u001b[0m\n\u001b[0m\u001b[1;32m   1345\u001b[0m     \u001b[0mgs\u001b[0m\u001b[0;34m.\u001b[0m\u001b[0mupdate\u001b[0m\u001b[0;34m(\u001b[0m\u001b[0mleft\u001b[0m\u001b[0;34m=\u001b[0m\u001b[0mleft_margin\u001b[0m\u001b[0;34m,\u001b[0m \u001b[0mright\u001b[0m\u001b[0;34m=\u001b[0m\u001b[0;36m0.95\u001b[0m\u001b[0;34m,\u001b[0m \u001b[0mtop\u001b[0m\u001b[0;34m=\u001b[0m\u001b[0;36m0.9\u001b[0m\u001b[0;34m,\u001b[0m \u001b[0mbottom\u001b[0m\u001b[0;34m=\u001b[0m\u001b[0;36m0.05\u001b[0m\u001b[0;34m)\u001b[0m\u001b[0;34m\u001b[0m\u001b[0m\n\u001b[1;32m   1346\u001b[0m \u001b[0;34m\u001b[0m\u001b[0m\n",
      "\u001b[0;31mTypeError\u001b[0m: object of type 'pandas._libs.interval.Interval' has no len()"
     ]
    },
    {
     "data": {
      "image/png": "[encoded data removed]",
      "text/plain": [
       "<matplotlib.figure.Figure at 0x11977fe80>"
      ]
     },
     "metadata": {},
     "output_type": "display_data"
    }
   ],
   "source": [
    "Matplot.summary_plot(model_june.M_0, custom_labels=age_group.categories)"
   ]
  },
  {
   "cell_type": "code",
   "execution_count": null,
   "metadata": {},
   "outputs": [],
   "source": [
    "june_r = pd.DataFrame({'local': model_june.trace('R_t_local')[:, -1],\n",
    "                             'total': model_june.trace('R_t')[:, -1]})\n",
    "june_r['Month'] = 'June'\n",
    "june_r['Confirmation'] = 'Lab'\n",
    "\n",
    "june_noconf_r = pd.DataFrame({'local': model_june_noconf.trace('R_t_local')[:, -1],\n",
    "                             'total': model_june_noconf.trace('R_t')[:, -1]})\n",
    "june_noconf_r['Month'] = 'June'\n",
    "june_noconf_r['Confirmation'] = 'Clinical'\n",
    "\n",
    "july_r = pd.DataFrame({'local': model_july.trace('R_t_local')[:, -1],\n",
    "                             'total': model_july.trace('R_t')[:, -1]})\n",
    "july_r['Month'] = 'July'\n",
    "july_r['Confirmation'] = 'Lab'\n",
    "\n",
    "july_noconf_r = pd.DataFrame({'local': model_july_noconf.trace('R_t_local')[:, -1],\n",
    "                             'total': model_july_noconf.trace('R_t')[:, -1]})\n",
    "july_noconf_r['Month'] = 'July'\n",
    "july_noconf_r['Confirmation'] = 'Clinical'"
   ]
  },
  {
   "cell_type": "code",
   "execution_count": null,
   "metadata": {},
   "outputs": [],
   "source": [
    "r_estimates = pd.concat([june_r, june_noconf_r, july_r, july_noconf_r], \n",
    "                     ignore_index=True)\n",
    "\n",
    "r_estimates.to_csv('output/r_estimates.csv')"
   ]
  },
  {
   "cell_type": "code",
   "execution_count": null,
   "metadata": {
    "scrolled": false
   },
   "outputs": [],
   "source": [
    "g = sns.factorplot(row=\"Month\", col=\"Confirmation\", data=r_estimates, kind='box',\n",
    "              row_order=['June', 'July'],\n",
    "              order=['local', 'total'], margin_titles=True,\n",
    "            palette=\"YlGnBu_d\", linewidth=0.7, fliersize=0, aspect=1.25).despine(left=True)\n",
    "g.set_ylabels(r\"$R_t$\")\n",
    "for ax in g.axes.ravel():\n",
    "    ax.hlines(1, -1, 2, linestyles='dashed')"
   ]
  },
  {
   "cell_type": "markdown",
   "metadata": {},
   "source": [
    "## Removing augmentation of migrant population"
   ]
  },
  {
   "cell_type": "code",
   "execution_count": null,
   "metadata": {},
   "outputs": [],
   "source": [
    "model_june_nomigrant = MCMC(measles_model('1997-06-15', migrant=False))"
   ]
  },
  {
   "cell_type": "code",
   "execution_count": null,
   "metadata": {
    "scrolled": false
   },
   "outputs": [],
   "source": [
    "model_june_nomigrant.sample(n_iterations, n_burn)"
   ]
  },
  {
   "cell_type": "code",
   "execution_count": null,
   "metadata": {},
   "outputs": [],
   "source": [
    "Matplot.plot(model_june_nomigrant.R0)"
   ]
  },
  {
   "cell_type": "code",
   "execution_count": null,
   "metadata": {},
   "outputs": [],
   "source": [
    "Matplot.summary_plot(model_june_nomigrant.R_t)"
   ]
  }
 ],
 "metadata": {
  "anaconda-cloud": {},
  "kernelspec": {
   "display_name": "Python 3",
   "language": "python",
   "name": "python3"
  },
  "language_info": {
   "codemirror_mode": {
    "name": "ipython",
    "version": 3
   },
   "file_extension": ".py",
   "mimetype": "text/x-python",
   "name": "python",
   "nbconvert_exporter": "python",
   "pygments_lexer": "ipython3",
   "version": "3.6.1"
  },
  "nav_menu": {},
  "toc": {
   "navigate_menu": true,
   "number_sections": true,
   "sideBar": true,
   "threshold": 6,
   "toc_cell": false,
   "toc_section_display": "block",
   "toc_window_display": false
  }
 },
 "nbformat": 4,
 "nbformat_minor": 1
}
