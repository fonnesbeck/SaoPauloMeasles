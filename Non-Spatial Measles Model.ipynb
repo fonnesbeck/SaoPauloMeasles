{
 "cells": [
  {
   "cell_type": "markdown",
   "metadata": {},
   "source": [
    "# Disease Outbreak Response Decision-making Under Uncertainty: A retrospective analysis of measles in Sao Paulo"
   ]
  },
  {
   "cell_type": "code",
   "execution_count": 1,
   "metadata": {
    "collapsed": false
   },
   "outputs": [],
   "source": [
    "%matplotlib inline\n",
    "import pandas as pd\n",
    "import numpy as np\n",
    "import numpy.ma as ma\n",
    "from datetime import datetime\n",
    "import matplotlib.pyplot as plt\n",
    "import seaborn as sb\n",
    "sb.set()\n",
    "import pdb"
   ]
  },
  {
   "cell_type": "code",
   "execution_count": 2,
   "metadata": {
    "collapsed": true
   },
   "outputs": [],
   "source": [
    "data_dir = \"data/\""
   ]
  },
  {
   "cell_type": "markdown",
   "metadata": {},
   "source": [
    "Import outbreak data"
   ]
  },
  {
   "cell_type": "code",
   "execution_count": 3,
   "metadata": {
    "collapsed": false
   },
   "outputs": [],
   "source": [
    "measles_data = pd.read_csv(data_dir+\"measles.csv\", index_col=0, encoding='latin-1')\n",
    "measles_data.NOTIFICATION = pd.to_datetime(measles_data.NOTIFICATION)\n",
    "measles_data.BIRTH = pd.to_datetime(measles_data.BIRTH)\n",
    "measles_data.ONSET = pd.to_datetime(measles_data.ONSET)"
   ]
  },
  {
   "cell_type": "code",
   "execution_count": 4,
   "metadata": {
    "collapsed": false
   },
   "outputs": [],
   "source": [
    "measles_data = (measles_data.replace({'DISTRICT': {'BRASILANDIA':'BRAZILANDIA'}})\n",
    "                    .drop('AGE', axis=1))"
   ]
  },
  {
   "cell_type": "markdown",
   "metadata": {},
   "source": [
    "Sao Paulo population by district"
   ]
  },
  {
   "cell_type": "code",
   "execution_count": 5,
   "metadata": {
    "collapsed": false
   },
   "outputs": [],
   "source": [
    "sp_pop = pd.read_csv(data_dir+'sp_pop.csv', index_col=0)"
   ]
  },
  {
   "cell_type": "code",
   "execution_count": 6,
   "metadata": {
    "collapsed": false
   },
   "outputs": [],
   "source": [
    "_names = sp_pop.index.values\n",
    "_names[_names=='BRASILANDIA'] = 'BRAZILANDIA'\n",
    "sp_pop.set_index(_names, inplace = True)"
   ]
  },
  {
   "cell_type": "code",
   "execution_count": 7,
   "metadata": {
    "collapsed": false
   },
   "outputs": [
    {
     "data": {
      "text/html": [
       "<div>\n",
       "<table border=\"1\" class=\"dataframe\">\n",
       "  <thead>\n",
       "    <tr style=\"text-align: right;\">\n",
       "      <th></th>\n",
       "      <th>0 a 4 anos</th>\n",
       "      <th>5 a 9 anos</th>\n",
       "      <th>10 a 14 anos</th>\n",
       "      <th>15 a 19 anos</th>\n",
       "      <th>20 a 24 anos</th>\n",
       "      <th>25 a 29 anos</th>\n",
       "      <th>30 a 34 anos</th>\n",
       "      <th>35 a 39 anos</th>\n",
       "      <th>40 a 44 anos</th>\n",
       "      <th>45 a 49 anos</th>\n",
       "      <th>50 a 54 anos</th>\n",
       "      <th>55 a 59 anos</th>\n",
       "      <th>60 a 64 anos</th>\n",
       "      <th>65 a 69 anos</th>\n",
       "      <th>70 a 74 anos</th>\n",
       "      <th>75 anos e +</th>\n",
       "      <th>Total</th>\n",
       "    </tr>\n",
       "  </thead>\n",
       "  <tbody>\n",
       "    <tr>\n",
       "      <th>AGUA RASA</th>\n",
       "      <td>5411</td>\n",
       "      <td>5750</td>\n",
       "      <td>6450</td>\n",
       "      <td>7122</td>\n",
       "      <td>7621</td>\n",
       "      <td>7340</td>\n",
       "      <td>6999</td>\n",
       "      <td>6984</td>\n",
       "      <td>6346</td>\n",
       "      <td>5608</td>\n",
       "      <td>4987</td>\n",
       "      <td>4212</td>\n",
       "      <td>4152</td>\n",
       "      <td>3595</td>\n",
       "      <td>2937</td>\n",
       "      <td>3637</td>\n",
       "      <td>89151</td>\n",
       "    </tr>\n",
       "    <tr>\n",
       "      <th>ALTO DE PINHEIROS</th>\n",
       "      <td>2070</td>\n",
       "      <td>2369</td>\n",
       "      <td>2953</td>\n",
       "      <td>3661</td>\n",
       "      <td>4612</td>\n",
       "      <td>4190</td>\n",
       "      <td>3539</td>\n",
       "      <td>3633</td>\n",
       "      <td>3448</td>\n",
       "      <td>3289</td>\n",
       "      <td>3040</td>\n",
       "      <td>2533</td>\n",
       "      <td>2298</td>\n",
       "      <td>1732</td>\n",
       "      <td>1305</td>\n",
       "      <td>1823</td>\n",
       "      <td>46495</td>\n",
       "    </tr>\n",
       "    <tr>\n",
       "      <th>ANHANGUERA</th>\n",
       "      <td>3068</td>\n",
       "      <td>3006</td>\n",
       "      <td>2755</td>\n",
       "      <td>2431</td>\n",
       "      <td>2426</td>\n",
       "      <td>2636</td>\n",
       "      <td>2695</td>\n",
       "      <td>2308</td>\n",
       "      <td>1653</td>\n",
       "      <td>1107</td>\n",
       "      <td>753</td>\n",
       "      <td>509</td>\n",
       "      <td>352</td>\n",
       "      <td>217</td>\n",
       "      <td>162</td>\n",
       "      <td>171</td>\n",
       "      <td>26249</td>\n",
       "    </tr>\n",
       "  </tbody>\n",
       "</table>\n",
       "</div>"
      ],
      "text/plain": [
       "                   0 a 4 anos  5 a 9 anos  10 a 14 anos  15 a 19 anos  \\\n",
       "AGUA RASA                5411        5750          6450          7122   \n",
       "ALTO DE PINHEIROS        2070        2369          2953          3661   \n",
       "ANHANGUERA               3068        3006          2755          2431   \n",
       "\n",
       "                   20 a 24 anos  25 a 29 anos  30 a 34 anos  35 a 39 anos  \\\n",
       "AGUA RASA                  7621          7340          6999          6984   \n",
       "ALTO DE PINHEIROS          4612          4190          3539          3633   \n",
       "ANHANGUERA                 2426          2636          2695          2308   \n",
       "\n",
       "                   40 a 44 anos  45 a 49 anos  50 a 54 anos  55 a 59 anos  \\\n",
       "AGUA RASA                  6346          5608          4987          4212   \n",
       "ALTO DE PINHEIROS          3448          3289          3040          2533   \n",
       "ANHANGUERA                 1653          1107           753           509   \n",
       "\n",
       "                   60 a 64 anos  65 a 69 anos  70 a 74 anos  75 anos e +  \\\n",
       "AGUA RASA                  4152          3595          2937         3637   \n",
       "ALTO DE PINHEIROS          2298          1732          1305         1823   \n",
       "ANHANGUERA                  352           217           162          171   \n",
       "\n",
       "                   Total  \n",
       "AGUA RASA          89151  \n",
       "ALTO DE PINHEIROS  46495  \n",
       "ANHANGUERA         26249  "
      ]
     },
     "execution_count": 7,
     "metadata": {},
     "output_type": "execute_result"
    }
   ],
   "source": [
    "sp_pop.head(3)"
   ]
  },
  {
   "cell_type": "markdown",
   "metadata": {},
   "source": [
    "Plot of cumulative cases by district"
   ]
  },
  {
   "cell_type": "code",
   "execution_count": 8,
   "metadata": {
    "collapsed": false
   },
   "outputs": [
    {
     "data": {
      "text/plain": [
       "<matplotlib.axes._subplots.AxesSubplot at 0x10a69f710>"
      ]
     },
     "execution_count": 8,
     "metadata": {},
     "output_type": "execute_result"
    },
    {
     "data": {
      "image/png": "[encoded data removed]",
      "text/plain": [
       "<matplotlib.figure.Figure at 0x10a6a34a8>"
      ]
     },
     "metadata": {},
     "output_type": "display_data"
    }
   ],
   "source": [
    "measles_onset_dist = measles_data.groupby(['DISTRICT','ONSET']).size().unstack(level=0).fillna(0)\n",
    "measles_onset_dist.cumsum().plot(legend=False, grid=False)"
   ]
  },
  {
   "cell_type": "markdown",
   "metadata": {},
   "source": [
    "Age distribution of cases, by confirmation status"
   ]
  },
  {
   "cell_type": "code",
   "execution_count": 9,
   "metadata": {
    "collapsed": false
   },
   "outputs": [
    {
     "data": {
      "image/png": "[encoded data removed]",
      "text/plain": [
       "<matplotlib.figure.Figure at 0x1047c0748>"
      ]
     },
     "metadata": {},
     "output_type": "display_data"
    }
   ],
   "source": [
    "by_conclusion = measles_data.groupby([\"YEAR_AGE\", \"CONCLUSION\"])\n",
    "counts_by_cause = by_conclusion.size().unstack().fillna(0)\n",
    "ax = counts_by_cause.plot(kind='bar', stacked=True, xlim=(0,50), figsize=(15,5))"
   ]
  },
  {
   "cell_type": "markdown",
   "metadata": {},
   "source": [
    "### Vaccination Data"
   ]
  },
  {
   "cell_type": "code",
   "execution_count": 10,
   "metadata": {
    "collapsed": false
   },
   "outputs": [
    {
     "data": {
      "text/html": [
       "<div>\n",
       "<table border=\"1\" class=\"dataframe\">\n",
       "  <thead>\n",
       "    <tr style=\"text-align: right;\">\n",
       "      <th></th>\n",
       "      <th>BIRTHS</th>\n",
       "      <th>VAX</th>\n",
       "      <th>POP</th>\n",
       "      <th>SIA</th>\n",
       "    </tr>\n",
       "    <tr>\n",
       "      <th>YEAR</th>\n",
       "      <th></th>\n",
       "      <th></th>\n",
       "      <th></th>\n",
       "      <th></th>\n",
       "    </tr>\n",
       "  </thead>\n",
       "  <tbody>\n",
       "    <tr>\n",
       "      <th>1980</th>\n",
       "      <td>3896442</td>\n",
       "      <td>0.57</td>\n",
       "      <td>121740438</td>\n",
       "      <td>0</td>\n",
       "    </tr>\n",
       "    <tr>\n",
       "      <th>1981</th>\n",
       "      <td>3933136</td>\n",
       "      <td>0.73</td>\n",
       "      <td>124610790</td>\n",
       "      <td>0</td>\n",
       "    </tr>\n",
       "    <tr>\n",
       "      <th>1982</th>\n",
       "      <td>3952137</td>\n",
       "      <td>0.66</td>\n",
       "      <td>127525420</td>\n",
       "      <td>0</td>\n",
       "    </tr>\n",
       "    <tr>\n",
       "      <th>1983</th>\n",
       "      <td>3952735</td>\n",
       "      <td>0.68</td>\n",
       "      <td>130455659</td>\n",
       "      <td>0</td>\n",
       "    </tr>\n",
       "    <tr>\n",
       "      <th>1984</th>\n",
       "      <td>3935224</td>\n",
       "      <td>0.73</td>\n",
       "      <td>133364277</td>\n",
       "      <td>0</td>\n",
       "    </tr>\n",
       "  </tbody>\n",
       "</table>\n",
       "</div>"
      ],
      "text/plain": [
       "       BIRTHS   VAX        POP  SIA\n",
       "YEAR                               \n",
       "1980  3896442  0.57  121740438    0\n",
       "1981  3933136  0.73  124610790    0\n",
       "1982  3952137  0.66  127525420    0\n",
       "1983  3952735  0.68  130455659    0\n",
       "1984  3935224  0.73  133364277    0"
      ]
     },
     "execution_count": 10,
     "metadata": {},
     "output_type": "execute_result"
    }
   ],
   "source": [
    "vaccination_data = pd.read_csv('data/BrazilVaxRecords.csv', index_col=0)\n",
    "vaccination_data.head()"
   ]
  },
  {
   "cell_type": "markdown",
   "metadata": {},
   "source": [
    "Calculate residual susceptibility from routine vaccination"
   ]
  },
  {
   "cell_type": "code",
   "execution_count": 11,
   "metadata": {
    "collapsed": true
   },
   "outputs": [],
   "source": [
    "vax_97 = np.r_[[0]*(1979-1921+1), vaccination_data.VAX[:17]]\n",
    "n = len(vax_97)\n",
    "FOI_mat = np.resize((1 - vax_97*0.9), (n,n)).T"
   ]
  },
  {
   "cell_type": "code",
   "execution_count": 12,
   "metadata": {
    "collapsed": true
   },
   "outputs": [],
   "source": [
    "vacc_susc = (1 - vax_97*0.9)[::-1]\n",
    "vacc_susc[0] = 0.5"
   ]
  },
  {
   "cell_type": "markdown",
   "metadata": {},
   "source": [
    "Susceptiblity accounting for SIAs"
   ]
  },
  {
   "cell_type": "code",
   "execution_count": 13,
   "metadata": {
    "collapsed": true
   },
   "outputs": [],
   "source": [
    "sia_susc = np.ones(len(vax_97))\n",
    "birth_year = np.arange(1922, 1998)[::-1]\n",
    "by_mask = (birth_year > 1983) & (birth_year < 1992)\n",
    "sia_susc[by_mask] *= 0.2"
   ]
  },
  {
   "cell_type": "markdown",
   "metadata": {},
   "source": [
    "## Compilation of cases into 2-week intervals by age class\n",
    "\n",
    "Age classes are defined in 5-year intervals. We will combine 40+ ages into a single class."
   ]
  },
  {
   "cell_type": "code",
   "execution_count": 14,
   "metadata": {
    "collapsed": false
   },
   "outputs": [],
   "source": [
    "age_classes = [0,5,10,15,20,25,30,35,40,100]\n",
    "measles_data.dropna(subset=['YEAR_AGE'], inplace=True)\n",
    "measles_data['YEAR_AGE'] = measles_data.YEAR_AGE.astype(int)\n",
    "measles_data['AGE_GROUP'] = pd.cut(measles_data.YEAR_AGE, age_classes, right=False)"
   ]
  },
  {
   "cell_type": "markdown",
   "metadata": {},
   "source": [
    "Lab-checked observations are extracted for use in estimating lab confirmation probability."
   ]
  },
  {
   "cell_type": "code",
   "execution_count": 15,
   "metadata": {
    "collapsed": true
   },
   "outputs": [],
   "source": [
    "CONFIRMED = measles_data.CONCLUSION == 'CONFIRMED'\n",
    "CLINICAL = measles_data.CONCLUSION == 'CLINICAL'\n",
    "DISCARDED = measles_data.CONCLUSION == 'DISCARDED'"
   ]
  },
  {
   "cell_type": "markdown",
   "metadata": {},
   "source": [
    "Extract lab-confirmed and clinical-confirmed subsets, with no missing county information."
   ]
  },
  {
   "cell_type": "code",
   "execution_count": 16,
   "metadata": {
    "collapsed": false
   },
   "outputs": [],
   "source": [
    "lab_subset = measles_data[(CONFIRMED | DISCARDED) & measles_data.COUNTY.notnull()].copy()"
   ]
  },
  {
   "cell_type": "code",
   "execution_count": 17,
   "metadata": {
    "collapsed": false
   },
   "outputs": [],
   "source": [
    "age = lab_subset.YEAR_AGE.values\n",
    "ages = lab_subset.YEAR_AGE.unique()\n",
    "counties = lab_subset.COUNTY.unique()\n",
    "confirmed = (lab_subset.CONCLUSION=='CONFIRMED').values"
   ]
  },
  {
   "cell_type": "code",
   "execution_count": 18,
   "metadata": {
    "collapsed": true
   },
   "outputs": [],
   "source": [
    "clinic_subset = measles_data[CLINICAL & measles_data.COUNTY.notnull()].copy()"
   ]
  },
  {
   "cell_type": "markdown",
   "metadata": {},
   "source": [
    "Histogram of lab subset, by outcome."
   ]
  },
  {
   "cell_type": "code",
   "execution_count": 19,
   "metadata": {
    "collapsed": false
   },
   "outputs": [
    {
     "data": {
      "image/png": "[encoded data removed]",
      "text/plain": [
       "<matplotlib.figure.Figure at 0x10ac3a128>"
      ]
     },
     "metadata": {},
     "output_type": "display_data"
    }
   ],
   "source": [
    "_lab_subset = lab_subset.replace({\"CONCLUSION\": {\"CLINICAL\": \"UNCONFIRMED\"}})\n",
    "by_conclusion = _lab_subset.groupby([\"YEAR_AGE\", \"CONCLUSION\"])\n",
    "counts_by_cause = by_conclusion.size().unstack().fillna(0)\n",
    "ax = counts_by_cause.plot(kind='bar', stacked=True, xlim=(0,50), figsize=(15,5), grid=False)"
   ]
  },
  {
   "cell_type": "code",
   "execution_count": 20,
   "metadata": {
    "collapsed": false
   },
   "outputs": [
    {
     "data": {
      "text/plain": [
       "(41547, 15)"
      ]
     },
     "execution_count": 20,
     "metadata": {},
     "output_type": "execute_result"
    }
   ],
   "source": [
    "lab_subset.shape"
   ]
  },
  {
   "cell_type": "markdown",
   "metadata": {},
   "source": [
    "Define age groups"
   ]
  },
  {
   "cell_type": "code",
   "execution_count": 21,
   "metadata": {
    "collapsed": false
   },
   "outputs": [
    {
     "data": {
      "text/plain": [
       "Index(['[0, 5)', '[5, 10)', '[10, 15)', '[15, 20)', '[20, 25)', '[25, 30)',\n",
       "       '[30, 35)', '[35, 40)', '[40, 100)'],\n",
       "      dtype='object')"
      ]
     },
     "execution_count": 21,
     "metadata": {},
     "output_type": "execute_result"
    }
   ],
   "source": [
    "age_group = pd.cut(age, age_classes, right=False)\n",
    "age_index = np.array([age_group.categories.tolist().index(i) for i in age_group])\n",
    "age_groups = age_group.categories\n",
    "age_groups"
   ]
  },
  {
   "cell_type": "code",
   "execution_count": 22,
   "metadata": {
    "collapsed": false
   },
   "outputs": [],
   "source": [
    "age_slice_endpoints = [g[1:-1].split(',') for g in age_groups]\n",
    "age_slices = [slice(int(i[0]), int(i[1])) for i in age_slice_endpoints]"
   ]
  },
  {
   "cell_type": "markdown",
   "metadata": {},
   "source": [
    "Get index from full cross-tabulation to use as index for each district"
   ]
  },
  {
   "cell_type": "code",
   "execution_count": 23,
   "metadata": {
    "collapsed": false
   },
   "outputs": [],
   "source": [
    "dates_index = measles_data.groupby(['ONSET', 'AGE_GROUP']).size().unstack().index"
   ]
  },
  {
   "cell_type": "markdown",
   "metadata": {},
   "source": [
    "## Cleanup of Sao Paulo population data\n",
    "\n",
    "Match age groupings, exclude invalid districts."
   ]
  },
  {
   "cell_type": "code",
   "execution_count": 24,
   "metadata": {
    "collapsed": false
   },
   "outputs": [],
   "source": [
    "unique_districts = measles_data.DISTRICT.dropna().unique()"
   ]
  },
  {
   "cell_type": "code",
   "execution_count": 25,
   "metadata": {
    "collapsed": false
   },
   "outputs": [],
   "source": [
    "excludes = ['BOM RETIRO']\n",
    "\n",
    "N = sp_pop.drop(excludes).ix[unique_districts].sum().drop('Total')"
   ]
  },
  {
   "cell_type": "code",
   "execution_count": 26,
   "metadata": {
    "collapsed": false
   },
   "outputs": [
    {
     "data": {
      "text/plain": [
       "[0, 5)        844130\n",
       "[5, 10)       830880\n",
       "[10, 15)      858750\n",
       "[15, 20)      904972\n",
       "[20, 25)      945244\n",
       "[25, 30)      902086\n",
       "[30, 35)      835888\n",
       "[35, 40)      764605\n",
       "[40, 100)    2841133\n",
       "dtype: float64"
      ]
     },
     "execution_count": 26,
     "metadata": {},
     "output_type": "execute_result"
    }
   ],
   "source": [
    "N_age = N.iloc[:8]\n",
    "N_age.index = age_groups[:-1]\n",
    "N_age[age_groups[-1]] = N.iloc[8:].sum()\n",
    "N_age"
   ]
  },
  {
   "cell_type": "code",
   "execution_count": 27,
   "metadata": {
    "collapsed": false
   },
   "outputs": [
    {
     "data": {
      "text/plain": [
       "<matplotlib.axes._subplots.AxesSubplot at 0x109c2a208>"
      ]
     },
     "execution_count": 27,
     "metadata": {},
     "output_type": "execute_result"
    },
    {
     "data": {
      "image/png": "[encoded data removed]",
      "text/plain": [
       "<matplotlib.figure.Figure at 0x109b88a58>"
      ]
     },
     "metadata": {},
     "output_type": "display_data"
    }
   ],
   "source": [
    "N_age.plot(kind='bar')"
   ]
  },
  {
   "cell_type": "markdown",
   "metadata": {},
   "source": [
    "Compile bi-weekly confirmed and unconfirmed data by Sao Paulo district"
   ]
  },
  {
   "cell_type": "code",
   "execution_count": 28,
   "metadata": {
    "collapsed": false
   },
   "outputs": [],
   "source": [
    "# All confirmed cases, by district\n",
    "confirmed_data = lab_subset[lab_subset.CONCLUSION=='CONFIRMED']\n",
    "confirmed_counts = (confirmed_data.groupby(['ONSET', 'AGE_GROUP'])\n",
    "                    .size()\n",
    "                    .unstack()\n",
    "                    .reindex(dates_index)\n",
    "                    .fillna(0)\n",
    "                    .sum())\n",
    "\n",
    "all_confirmed_cases = (confirmed_counts.reindex_axis(measles_data['AGE_GROUP'].unique())\n",
    "                       .fillna(0).values.astype(int))"
   ]
  },
  {
   "cell_type": "code",
   "execution_count": 29,
   "metadata": {
    "collapsed": true
   },
   "outputs": [],
   "source": [
    "confirmed_counts_2w = (confirmed_data\n",
    "                        .groupby(['ONSET', 'AGE_GROUP'])\n",
    "                        .size()\n",
    "                        .unstack()\n",
    "                        .reindex(dates_index)\n",
    "                        .fillna(0)\n",
    "                        .resample('2W', how='sum'))"
   ]
  },
  {
   "cell_type": "code",
   "execution_count": 30,
   "metadata": {
    "collapsed": false
   },
   "outputs": [],
   "source": [
    "# All clinical cases, by district\n",
    "clinical_counts = (clinic_subset.groupby(['ONSET', 'AGE_GROUP'])\n",
    "                   .size()\n",
    "                   .unstack()\n",
    "                   .reindex(dates_index)\n",
    "                   .fillna(0)\n",
    "                   .sum())\n",
    "\n",
    "all_clinical_cases = (clinical_counts.reindex_axis(measles_data['AGE_GROUP'].unique())\n",
    "                      .fillna(0).values.astype(int))"
   ]
  },
  {
   "cell_type": "code",
   "execution_count": 31,
   "metadata": {
    "collapsed": true
   },
   "outputs": [],
   "source": [
    "clinical_counts_2w = (clinic_subset\n",
    "                        .groupby(['ONSET', 'AGE_GROUP'])\n",
    "                        .size()\n",
    "                        .unstack()\n",
    "                        .reindex(dates_index)\n",
    "                        .fillna(0)\n",
    "                        .resample('2W', how='sum'))"
   ]
  },
  {
   "cell_type": "code",
   "execution_count": 35,
   "metadata": {
    "collapsed": false
   },
   "outputs": [
    {
     "data": {
      "text/html": [
       "<div>\n",
       "<table border=\"1\" class=\"dataframe\">\n",
       "  <thead>\n",
       "    <tr style=\"text-align: right;\">\n",
       "      <th>AGE_GROUP</th>\n",
       "      <th>[0, 5)</th>\n",
       "      <th>[5, 10)</th>\n",
       "      <th>[10, 15)</th>\n",
       "      <th>[15, 20)</th>\n",
       "      <th>[20, 25)</th>\n",
       "      <th>[25, 30)</th>\n",
       "      <th>[30, 35)</th>\n",
       "      <th>[35, 40)</th>\n",
       "      <th>[40, 100)</th>\n",
       "    </tr>\n",
       "    <tr>\n",
       "      <th>ONSET</th>\n",
       "      <th></th>\n",
       "      <th></th>\n",
       "      <th></th>\n",
       "      <th></th>\n",
       "      <th></th>\n",
       "      <th></th>\n",
       "      <th></th>\n",
       "      <th></th>\n",
       "      <th></th>\n",
       "    </tr>\n",
       "  </thead>\n",
       "  <tbody>\n",
       "    <tr>\n",
       "      <th>1997-01-05</th>\n",
       "      <td>0</td>\n",
       "      <td>0</td>\n",
       "      <td>0</td>\n",
       "      <td>0</td>\n",
       "      <td>1</td>\n",
       "      <td>0</td>\n",
       "      <td>0</td>\n",
       "      <td>0</td>\n",
       "      <td>0</td>\n",
       "    </tr>\n",
       "    <tr>\n",
       "      <th>1997-01-19</th>\n",
       "      <td>0</td>\n",
       "      <td>1</td>\n",
       "      <td>0</td>\n",
       "      <td>0</td>\n",
       "      <td>3</td>\n",
       "      <td>4</td>\n",
       "      <td>0</td>\n",
       "      <td>0</td>\n",
       "      <td>0</td>\n",
       "    </tr>\n",
       "    <tr>\n",
       "      <th>1997-02-02</th>\n",
       "      <td>4</td>\n",
       "      <td>1</td>\n",
       "      <td>0</td>\n",
       "      <td>0</td>\n",
       "      <td>2</td>\n",
       "      <td>1</td>\n",
       "      <td>0</td>\n",
       "      <td>0</td>\n",
       "      <td>0</td>\n",
       "    </tr>\n",
       "    <tr>\n",
       "      <th>1997-02-16</th>\n",
       "      <td>4</td>\n",
       "      <td>0</td>\n",
       "      <td>0</td>\n",
       "      <td>0</td>\n",
       "      <td>2</td>\n",
       "      <td>1</td>\n",
       "      <td>1</td>\n",
       "      <td>0</td>\n",
       "      <td>0</td>\n",
       "    </tr>\n",
       "    <tr>\n",
       "      <th>1997-03-02</th>\n",
       "      <td>9</td>\n",
       "      <td>0</td>\n",
       "      <td>0</td>\n",
       "      <td>2</td>\n",
       "      <td>4</td>\n",
       "      <td>5</td>\n",
       "      <td>1</td>\n",
       "      <td>0</td>\n",
       "      <td>1</td>\n",
       "    </tr>\n",
       "  </tbody>\n",
       "</table>\n",
       "</div>"
      ],
      "text/plain": [
       "AGE_GROUP   [0, 5)  [5, 10)  [10, 15)  [15, 20)  [20, 25)  [25, 30)  [30, 35)  \\\n",
       "ONSET                                                                           \n",
       "1997-01-05       0        0         0         0         1         0         0   \n",
       "1997-01-19       0        1         0         0         3         4         0   \n",
       "1997-02-02       4        1         0         0         2         1         0   \n",
       "1997-02-16       4        0         0         0         2         1         1   \n",
       "1997-03-02       9        0         0         2         4         5         1   \n",
       "\n",
       "AGE_GROUP   [35, 40)  [40, 100)  \n",
       "ONSET                            \n",
       "1997-01-05         0          0  \n",
       "1997-01-19         0          0  \n",
       "1997-02-02         0          0  \n",
       "1997-02-16         0          0  \n",
       "1997-03-02         0          1  "
      ]
     },
     "execution_count": 35,
     "metadata": {},
     "output_type": "execute_result"
    }
   ],
   "source": [
    "confirmed_counts_2w.head()"
   ]
  },
  {
   "cell_type": "code",
   "execution_count": 36,
   "metadata": {
    "collapsed": false
   },
   "outputs": [
    {
     "data": {
      "text/html": [
       "<div>\n",
       "<table border=\"1\" class=\"dataframe\">\n",
       "  <thead>\n",
       "    <tr style=\"text-align: right;\">\n",
       "      <th>AGE_GROUP</th>\n",
       "      <th>[0, 5)</th>\n",
       "      <th>[5, 10)</th>\n",
       "      <th>[10, 15)</th>\n",
       "      <th>[15, 20)</th>\n",
       "      <th>[20, 25)</th>\n",
       "      <th>[25, 30)</th>\n",
       "      <th>[30, 35)</th>\n",
       "      <th>[35, 40)</th>\n",
       "      <th>[40, 100)</th>\n",
       "    </tr>\n",
       "    <tr>\n",
       "      <th>ONSET</th>\n",
       "      <th></th>\n",
       "      <th></th>\n",
       "      <th></th>\n",
       "      <th></th>\n",
       "      <th></th>\n",
       "      <th></th>\n",
       "      <th></th>\n",
       "      <th></th>\n",
       "      <th></th>\n",
       "    </tr>\n",
       "  </thead>\n",
       "  <tbody>\n",
       "    <tr>\n",
       "      <th>1997-01-05</th>\n",
       "      <td>3</td>\n",
       "      <td>1</td>\n",
       "      <td>1</td>\n",
       "      <td>0</td>\n",
       "      <td>0</td>\n",
       "      <td>0</td>\n",
       "      <td>0</td>\n",
       "      <td>0</td>\n",
       "      <td>0</td>\n",
       "    </tr>\n",
       "    <tr>\n",
       "      <th>1997-01-19</th>\n",
       "      <td>30</td>\n",
       "      <td>3</td>\n",
       "      <td>1</td>\n",
       "      <td>1</td>\n",
       "      <td>1</td>\n",
       "      <td>3</td>\n",
       "      <td>2</td>\n",
       "      <td>1</td>\n",
       "      <td>0</td>\n",
       "    </tr>\n",
       "    <tr>\n",
       "      <th>1997-02-02</th>\n",
       "      <td>22</td>\n",
       "      <td>4</td>\n",
       "      <td>0</td>\n",
       "      <td>2</td>\n",
       "      <td>1</td>\n",
       "      <td>1</td>\n",
       "      <td>1</td>\n",
       "      <td>0</td>\n",
       "      <td>1</td>\n",
       "    </tr>\n",
       "    <tr>\n",
       "      <th>1997-02-16</th>\n",
       "      <td>21</td>\n",
       "      <td>2</td>\n",
       "      <td>2</td>\n",
       "      <td>2</td>\n",
       "      <td>2</td>\n",
       "      <td>1</td>\n",
       "      <td>1</td>\n",
       "      <td>0</td>\n",
       "      <td>2</td>\n",
       "    </tr>\n",
       "    <tr>\n",
       "      <th>1997-03-02</th>\n",
       "      <td>24</td>\n",
       "      <td>5</td>\n",
       "      <td>2</td>\n",
       "      <td>5</td>\n",
       "      <td>2</td>\n",
       "      <td>2</td>\n",
       "      <td>2</td>\n",
       "      <td>1</td>\n",
       "      <td>0</td>\n",
       "    </tr>\n",
       "  </tbody>\n",
       "</table>\n",
       "</div>"
      ],
      "text/plain": [
       "AGE_GROUP   [0, 5)  [5, 10)  [10, 15)  [15, 20)  [20, 25)  [25, 30)  [30, 35)  \\\n",
       "ONSET                                                                           \n",
       "1997-01-05       3        1         1         0         0         0         0   \n",
       "1997-01-19      30        3         1         1         1         3         2   \n",
       "1997-02-02      22        4         0         2         1         1         1   \n",
       "1997-02-16      21        2         2         2         2         1         1   \n",
       "1997-03-02      24        5         2         5         2         2         2   \n",
       "\n",
       "AGE_GROUP   [35, 40)  [40, 100)  \n",
       "ONSET                            \n",
       "1997-01-05         0          0  \n",
       "1997-01-19         1          0  \n",
       "1997-02-02         0          1  \n",
       "1997-02-16         0          2  \n",
       "1997-03-02         1          0  "
      ]
     },
     "execution_count": 36,
     "metadata": {},
     "output_type": "execute_result"
    }
   ],
   "source": [
    "clinical_counts_2w.head()"
   ]
  },
  {
   "cell_type": "markdown",
   "metadata": {},
   "source": [
    "Check shape of data frame\n",
    "\n",
    "- 28 bi-monthly intervals, 9 age groups"
   ]
  },
  {
   "cell_type": "code",
   "execution_count": 37,
   "metadata": {
    "collapsed": false
   },
   "outputs": [],
   "source": [
    "assert clinical_counts_2w.shape == (28, len(age_groups))"
   ]
  },
  {
   "cell_type": "markdown",
   "metadata": {},
   "source": [
    "## Stochastic Disease Transmission Model\n",
    "\n",
    "We will extend a simple SIR disease model, to account for confirmation status, which will be fit using MCMC.\n",
    "\n",
    "This model fits the series of 2-week infection totals for each age group $a$ as a set of Poisson random variables:\n",
    "\n",
    "\\\\[Pr(I_{a}(t) | \\lambda_a(t)) = \\text{Poisson}(\\lambda_a(t)) \\\\]\n",
    "\n",
    "Where the age-specific outbreak intensity at time $t$ is modeled as:\n",
    "\n",
    "\\\\[\\lambda_a(t) = S_a(t-1) \\frac{I(t-1)\\mathbf{B}}{N_a} \\\\]\n",
    "\n",
    "where $S_a(t-1)$ is the number of susceptibles in age group $a$ in the previous time period, $I(t-1)$ an age-specific vector of the number of infected individuals in the previous time period, $\\mathbf{B}$ a matrix of transmission coefficients (both within- and between-ages), and $N_a$ an estimate of the population of age-$a$ people in Sao Paulo.\n",
    "\n",
    "The matrix $B$ was constructed from a scalar transmission parameter $\\beta$, which was given a vague half-Cauchy prior (scale=25). This was used to represent within-age-group transmission, and hence placed on the diagonal of a square transmission matrix of size $A$. Off-diagonal elements, representing transmission between age groups were scaled by a decay parameter $\\delta$ which was used to scale the transmission to adjacent groups according to:\n",
    "\n",
    "\\\\[\\beta \\delta^{|a-b|}\\\\]\n",
    "\n",
    "where a and b are indices of two age group. The resulting transmission matrix is parameterized as follows:\n",
    "\n",
    "$$\\begin{aligned}\n",
    "\\mathbf{B} = \\left[{\n",
    "\\begin{array}{c}\n",
    "  {\\beta} & {\\beta \\delta} & {\\beta \\delta^2}& \\ldots & {\\beta \\delta^{A-2}} & {\\beta \\delta^{A-1}}  \\\\\n",
    "  {\\beta \\delta} & {\\beta} &  \\beta \\delta & \\ldots & {\\beta \\delta^{A-3}}  & {\\beta \\delta^{A-2}} \\\\\n",
    "  {\\beta \\delta^2} & \\beta \\delta & {\\beta} & \\ldots & {\\beta \\delta^{A-4}} & {\\beta \\delta^{A-3}} \\\\\n",
    "  \\vdots & \\vdots & \\vdots &  & \\vdots & \\vdots\\\\\n",
    "  {\\beta \\delta^{A-2}} & {\\beta \\delta^{A-3}} & {\\beta \\delta^{A-4}} & \\ldots &  {\\beta} & \\beta \\delta  \\\\\n",
    "{\\beta \\delta^{A-1}} & {\\beta \\delta^{A-2}} & \\beta \\delta^{A-3} & \\ldots & \\beta \\delta &  {\\beta} \n",
    "\\end{array}\n",
    "}\\right]\n",
    "\\end{aligned}$$\n",
    "\n",
    "The basic reproductive number $R_0$ was calculated as the largest real-valued eigenvalue of the matrix $\\mathbf{B}$. To impose a mild constraint on $R_0$, we applied a Gaussian prior distribution whose 1st and 99th quantiles are 8 and 24, respectively, a reasonable range for a measles outbreak:"
   ]
  },
  {
   "cell_type": "code",
   "execution_count": 40,
   "metadata": {
    "collapsed": false
   },
   "outputs": [],
   "source": [
    "from scipy.stats import norm\n",
    "\n",
    "def normal_from_quantiles(x, p=[0.05, 0.95]):\n",
    "    denom = norm.ppf(p[1]) - norm.ppf(p[0])\n",
    "    σ = (x[1] - x[0]) / denom\n",
    "    μ = (x[0]*norm.ppf(p[1]) - x[1]*norm.ppf(p[0])) / denom\n",
    "    return μ, σ"
   ]
  },
  {
   "cell_type": "code",
   "execution_count": 41,
   "metadata": {
    "collapsed": false
   },
   "outputs": [
    {
     "data": {
      "text/plain": [
       "(16.0, 3.4388665982719462)"
      ]
     },
     "execution_count": 41,
     "metadata": {},
     "output_type": "execute_result"
    }
   ],
   "source": [
    "normal_from_quantiles([8, 24], p=[0.01, 0.99])"
   ]
  },
  {
   "cell_type": "markdown",
   "metadata": {},
   "source": [
    "### Modeling Susceptibility\n",
    "\n",
    "The number of susceptibles was estimated as the sum of two processes involving local and migrant susceptible populations. \n",
    "\n",
    "Since there is little information in the dataset to inform the estimation of susceptibility in the Sao Paulo population, we imposed prior information on the age-specific proportions of susceptibility, based on historic vaccination and supplemental immunization activities. We assumed that each age group was vaccinated at different rates according to when they were born and eligible for routine vaccination. Hence, the natural susceptibility was mutliplied by age-specific vaccination coverage corresponding to when individual of age $a$ was 1 year old. Finally, some groups would also have been eligible for a supplemental immunization (SIA), therefore we applied an additional multiplicative factor characterizing SIA coverage for each age group, based on historic activities.\n",
    "\n",
    "### Confirmation Sub-model\n",
    "\n",
    "Rather than assume all clinical cases are true cases, we can adjust the model to account for lab confirmation probability. This is done by including a sub-model that estimates age group-specific probabilities of confirmation, and using these probabilities to estimate the number of lab-confirmed cases. These estimates are then plugged into the model in place of the clinically-confirmed cases.\n",
    "\n",
    "We specified a structured confirmation model to retrospectively determine the age group-specific probabilities of lab confirmation for measles, conditional on clinical diagnosis. Individual lab confirmation events $c_i$ were modeled as Bernoulli random variables, with the probability of confirmation being allowed to vary by age group:\n",
    "\n",
    "$$c_i \\sim \\text{Bernoulli}(p_{a(i)})$$\n",
    "\n",
    "where $a(i)$ denotes the appropriate age group for the individual indexed by i. There were 16 age groups, the first 15 of which were 5-year age intervals $[0,5), [5, 10), \\ldots , [70, 75)$, with the 16th interval including all individuals 75 years and older.\n",
    "\n",
    "Since the age interval choices were arbitrary, and the confirmation probabilities of adjacent groups likely correlated, we modeled the correlation structure directly, using a multivariate logit-normal model. Specifically, we allowed first-order autocorrelation among the age groups, whereby the variance-covariance matrix retained a tridiagonal structure. \n",
    "\n",
    "$$\\begin{aligned}\n",
    "\\Sigma = \\left[{\n",
    "\\begin{array}{c}\n",
    "  {\\sigma^2} & {\\sigma^2 \\rho} & 0& \\ldots & {0} & {0}  \\\\\n",
    "  {\\sigma^2 \\rho} & {\\sigma^2} &  \\sigma^2 \\rho & \\ldots & {0}  & {0} \\\\\n",
    "  {0} & \\sigma^2 \\rho & {\\sigma^2} & \\ldots & {0} & {0} \\\\\n",
    "  \\vdots & \\vdots & \\vdots &  & \\vdots & \\vdots\\\\\n",
    "  {0} & {0} & 0 & \\ldots &  {\\sigma^2} & \\sigma^2 \\rho  \\\\\n",
    "{0} & {0} & 0 & \\ldots & \\sigma^2 \\rho &  {\\sigma^2} \n",
    "\\end{array}\n",
    "}\\right]\n",
    "\\end{aligned}$$\n",
    "\n",
    "From this, the confirmation probabilities were specified as multivariate normal on the inverse-logit scale.\n",
    "\n",
    "$$ \\text{logit}(p_a) = \\{a\\} \\sim N(\\mu, \\Sigma)$$\n",
    "\n",
    "Priors for the confirmation sub-model were specified by:\n",
    "\n",
    "$$\\begin{aligned}\n",
    "\\mu_i &\\sim N(0, 100) \\\\\n",
    "\\sigma &\\sim \\text{HalfCauchy}(25) \\\\\n",
    "\\rho &\\sim U(-1, 1)\n",
    "\\end{aligned}$$"
   ]
  },
  {
   "cell_type": "code",
   "execution_count": 53,
   "metadata": {
    "collapsed": false
   },
   "outputs": [],
   "source": [
    "from pymc import MCMC, Matplot, AdaptiveMetropolis, MAP\n",
    "from pymc import (Uniform, DiscreteUniform, Beta, Binomial, Normal, \n",
    "                  CompletedDirichlet,\n",
    "                  Poisson, NegativeBinomial, negative_binomial_like, poisson_like,\n",
    "                  Lognormal, Exponential, binomial_like,\n",
    "                  TruncatedNormal, Binomial, Gamma, HalfCauchy, normal_like,\n",
    "                  MvNormalCov, Bernoulli, Uninformative, \n",
    "                  Multinomial, rmultinomial, rbinomial,\n",
    "                  Dirichlet, multinomial_like, uniform_like)\n",
    "from pymc import (Lambda, observed, invlogit, deterministic, potential, stochastic,)\n",
    "\n",
    "def measles_model(obs_date, confirmation=True, migrant=False, constrain_R=True):\n",
    "    \n",
    "    '''\n",
    "    Confirmation sub-model\n",
    "    '''\n",
    "    \n",
    "    if confirmation:\n",
    "\n",
    "        # Specify priors on age-specific means\n",
    "        age_classes = np.unique(age_index)\n",
    "\n",
    "        μ = Normal(\"μ\", mu=0, tau=0.0001, value=[0]*len(age_classes))\n",
    "        σ = HalfCauchy('σ', 0, 25, value=1)\n",
    "        var = σ**2\n",
    "        cor = Uniform('cor', -1, 1, value=0)\n",
    "\n",
    "        # Build variance-covariance matrix with first-order correlation \n",
    "        # among age classes\n",
    "        @deterministic\n",
    "        def Σ(var=var, cor=cor):\n",
    "            I = np.eye(len(age_classes))*var\n",
    "            E = np.diag(np.ones(len(age_classes)-1), k=-1)*var*cor\n",
    "            return I + E + E.T\n",
    "\n",
    "        # Age-specific probabilities of confirmation as multivariate normal \n",
    "        # random variables\n",
    "        β_age = MvNormalCov(\"β_age\", mu=μ, C=Σ, \n",
    "                        value=[1]*len(age_classes))\n",
    "        p_age = Lambda('p_age', lambda t=β_age: invlogit(t))\n",
    "\n",
    "        @deterministic(trace=False)\n",
    "        def p_confirm(beta=β_age):\n",
    "            return invlogit(beta[age_index])\n",
    "\n",
    "\n",
    "        # Confirmation likelihood\n",
    "        lab_confirmed = Bernoulli('lab_confirmed', p=p_confirm, value=confirmed, \n",
    "                                observed=True)\n",
    "\n",
    "\n",
    "    '''\n",
    "    Truncate data at observation period\n",
    "    '''\n",
    "    obs_index = clinical_counts_2w.index <= obs_date\n",
    "    confirmed_obs_t = confirmed_counts_2w[obs_index].values.astype(int)\n",
    "    clinical_obs_t = clinical_counts_2w[obs_index].values.astype(int)\n",
    "                        \n",
    "    n_periods, n_age_groups = confirmed_obs_t.shape\n",
    "\n",
    "    # Index for observation date, used to index out values of interest \n",
    "    # from the model.\n",
    "    t_obs = obs_index.sum() - 1\n",
    "    \n",
    "    if confirmation:\n",
    "        \n",
    "        @stochastic(dtype=int)\n",
    "        def clinical_cases(value=(clinical_obs_t*0.5).astype(int), \n",
    "                            n=clinical_obs_t, p=p_age):\n",
    "            # Binomial confirmation process\n",
    "            return np.sum([binomial_like(xi, ni, p) for xi,ni in zip(value,n)])\n",
    "        I = Lambda('I', lambda clinical=clinical_cases: \n",
    "                           clinical + confirmed_obs_t.astype(int))\n",
    "\n",
    "        assert I.value.shape == (t_obs +1, n_age_groups)\n",
    "        \n",
    "        age_dist_init = np.sum(I.value, 0)/ float(I.value.sum())\n",
    "        \n",
    "    else:\n",
    "        \n",
    "        I = confirmed_obs_t + clinical_obs_t\n",
    "\n",
    "        assert I.shape == (t_obs +1, n_age_groups)\n",
    "        \n",
    "        age_dist_init = np.sum(I, 0) / float(I.sum())\n",
    "        \n",
    "    \n",
    "    # Calcuate age distribution from observed distribution of infecteds to date\n",
    "    _age_dist = Dirichlet('_age_dist', np.ones(n_age_groups), \n",
    "                         value=age_dist_init[:-1]/age_dist_init.sum())\n",
    "    age_dist = CompletedDirichlet('age_dist', _age_dist)\n",
    "    @potential\n",
    "    def age_dist_like(p=age_dist, I=I):\n",
    "        return multinomial_like(I.sum(0), I.sum(), p)\n",
    "\n",
    "    \n",
    "    '''\n",
    "    Disease transmission model\n",
    "    '''\n",
    "\n",
    "    # Transmission parameter\n",
    "    β = HalfCauchy('β', 0, 25, value=3) #[1]*n_age_groups) \n",
    "    decay = Beta('decay', 1, 5, value=0.9)\n",
    "\n",
    "    @deterministic\n",
    "    def B(b=β, d=decay):\n",
    "        b = np.ones(n_age_groups)*b\n",
    "        B = b*np.eye(n_age_groups)\n",
    "        for i in range(1, n_age_groups):\n",
    "            B += np.diag(np.ones(n_age_groups-i)*b[i:]*d**i, k=-i) \n",
    "            B += np.diag(np.ones(n_age_groups-i)*b[:-i]*d**i, k=i)\n",
    "        return B\n",
    "\n",
    "    # Downsample annual series to observed age groups\n",
    "    downsample = lambda x: np.array([x[s].mean() for s in age_slices])\n",
    "\n",
    "    @deterministic\n",
    "    def R0(B=B):\n",
    "        evs = np.linalg.eigvals(B)\n",
    "        return max(evs[np.isreal(evs)])\n",
    "    \n",
    "    if constrain_R:\n",
    "        @potential\n",
    "        def constrain_R0(R0=R0):\n",
    "            # Weakly-informative prior to constrain R0 to be within the \n",
    "            # typical measles range\n",
    "            return normal_like(R0, 16, 3.4**-2)\n",
    "\n",
    "\n",
    "    A = Lambda('A', lambda R0=R0: 75./(R0 - 1))\n",
    "    lt_sum = downsample(np.tril(FOI_mat).sum(0)[::-1])\n",
    "    natural_susc = Lambda('natural_susc', lambda A=A: np.exp((-1/A) * lt_sum))\n",
    "\n",
    "    @deterministic\n",
    "    def p_μ(natural_susc=natural_susc): \n",
    "        return downsample(sia_susc) * downsample(vacc_susc) * natural_susc\n",
    "    \n",
    "    p_σ = Uniform('p_σ', 0, 100)\n",
    "    \n",
    "    a = Lambda('a', lambda mu=p_μ, sigma=p_σ: mu*sigma)\n",
    "    b = Lambda('b', lambda mu=p_μ, sigma=p_σ: (1-mu)*sigma)\n",
    "    \n",
    "    p_susceptible = Beta('p_susceptible', a, b, value=p_μ.value)\n",
    "\n",
    "    # Estimated total initial susceptibles\n",
    "    S_0 = Binomial('S_0', n=N_age.values.astype(int), p=p_susceptible)\n",
    "    \n",
    "    '''\n",
    "    Model of migrant influx of susceptibles\n",
    "    '''\n",
    "    if migrant:\n",
    "    \n",
    "        # Data augmentation for migrant susceptibles\n",
    "        imaginary_migrants = 1000000\n",
    "        N_migrant = DiscreteUniform('N_migrant', 0, imaginary_migrants, value=100000)\n",
    "        μ_age = Uniform('μ_age', 15, 35, value=25)\n",
    "        σ_age = Uniform('σ_age', 1, 10, value=5)\n",
    "        M_age = Normal('M_age', μ_age, σ_age**-2, \n",
    "                       size=imaginary_migrants, trace=False)\n",
    "\n",
    "        @deterministic\n",
    "        def M_0(M=M_age, N=N_migrant):\n",
    "            # Take first N augmented susceptibles\n",
    "            M_real = M[:N]\n",
    "            # Drop into age groups\n",
    "            M_group = pd.cut(M_real, \n",
    "                             [0, 5, 10, 15, 20, 25, 30, 35, 40, 100], \n",
    "                             right=False)\n",
    "            return M_group.value_counts().values\n",
    "\n",
    "        p_migrant = Lambda('p_migrant', lambda M_0=M_0, S_0=S_0: M_0/(M_0 + S_0))\n",
    "\n",
    "        I_migrant = [Binomial('I_migrant_%i' % i, I[i], p_migrant) \n",
    "                             for i in range(t_obs + 1)]\n",
    "\n",
    "        I_local = Lambda('I_local', \n",
    "                lambda I=I, I_m=I_migrant: \n",
    "                         np.array([Ii - Imi for Ii,Imi in zip(I,I_m)]))\n",
    "        S = Lambda('S', lambda I=I, S_0=S_0, M_0=M_0: S_0 + M_0 - I.cumsum(0))\n",
    "        S_local = Lambda('S_local', lambda I=I_local, S_0=S_0: S_0 - I.cumsum(0))\n",
    "\n",
    "\n",
    "    else:\n",
    "\n",
    "        # Remaining susceptibles at each 2-week period\n",
    "        S = Lambda('S', lambda I=I, S_0=S_0: S_0 - I.cumsum(axis=0))\n",
    "    \n",
    "    # Check shape\n",
    "    assert S.value.shape == (t_obs+1., n_age_groups)\n",
    "\n",
    "    # Susceptibles at time t, by age\n",
    "    S_age = Lambda('S_age', lambda S=S: S[-1].astype(int))\n",
    "    \n",
    "    # Force of infection\n",
    "    @deterministic\n",
    "    def λ(B=B, I=I, S=S): \n",
    "        return S * (I.dot(B) / N_age.values)\n",
    "\n",
    "\n",
    "    # Check shape\n",
    "    assert λ.value.shape == (t_obs+1, n_age_groups)\n",
    "    \n",
    "    # FOI in observation period\n",
    "    λ_t = Lambda('λ_t', lambda lam=λ: lam[-1])\n",
    "    \n",
    "    # Effective reproductive number\n",
    "    R_t = Lambda('R_t', lambda S=S, R0=R0: S.sum(1) * R0 / N_age.sum())\n",
    "\n",
    "    # Poisson likelihood for observed cases\n",
    "    @potential\n",
    "    def new_cases(I=I, lam=λ):\n",
    "        return poisson_like(I[1:], lam[:-1])\n",
    "    \n",
    "    '''\n",
    "    Vaccination targets\n",
    "    '''\n",
    "    \n",
    "    @deterministic\n",
    "    def vacc_5(S=S_age):\n",
    "        # Vaccination of 5 and under\n",
    "        p = [0.95] + [0]*(n_age_groups - 1)\n",
    "        return rbinomial(S, p)\n",
    "    \n",
    "    # Proportion of susceptibles vaccinated\n",
    "    pct_5 = Lambda('pct_5', \n",
    "                lambda V=vacc_5, S=S_age: V.sum()/S.sum())\n",
    "\n",
    "\n",
    "    @deterministic\n",
    "    def vacc_15(S=S_age):\n",
    "        # Vaccination of 15 and under\n",
    "        p = [0.95]*3 + [0]*(n_age_groups - 3)\n",
    "        return rbinomial(S, p)\n",
    "    \n",
    "    # Proportion of susceptibles vaccinated\n",
    "    pct_15 = Lambda('pct_15', \n",
    "            lambda V=vacc_15, S=S_age: V.sum()/S.sum())\n",
    "    \n",
    "    @deterministic\n",
    "    def vacc_30(S=S_age):\n",
    "        # Vaccination of 30 and under\n",
    "        p = [0.95]*6 + [0]*(n_age_groups - 6)\n",
    "        return rbinomial(S, p)\n",
    "    \n",
    "    # Proportion of 30 and under susceptibles vaccinated\n",
    "    pct_30 = Lambda('pct_30', \n",
    "            lambda V=vacc_30, S=S_age: V.sum()/S.sum())\n",
    "    \n",
    "    @deterministic\n",
    "    def vacc_adult(S=S_age):\n",
    "        # Vaccination of adults under 30 (and young kids)\n",
    "        p = [0.95, 0, 0, 0, 0.95, 0.95] + [0]*(n_age_groups - 6)\n",
    "        return rbinomial(S, p)\n",
    "    \n",
    "    # Proportion of adults under 30 (and young kids)\n",
    "    pct_adult = Lambda('pct_adult', \n",
    "            lambda V=vacc_adult, S=S_age: V.sum()/S.sum())\n",
    "\n",
    "    return locals()"
   ]
  },
  {
   "cell_type": "markdown",
   "metadata": {},
   "source": [
    "Run models for June 15 and July 15 observation points, both with and without clinical confirmation."
   ]
  },
  {
   "cell_type": "code",
   "execution_count": 54,
   "metadata": {
    "collapsed": true
   },
   "outputs": [],
   "source": [
    "n_iterations = 50000\n",
    "n_burn = 40000\n",
    "backend = 'txt'\n",
    "migrant = True"
   ]
  },
  {
   "cell_type": "markdown",
   "metadata": {},
   "source": [
    "June 15, with lab confirmation"
   ]
  },
  {
   "cell_type": "code",
   "execution_count": 55,
   "metadata": {
    "collapsed": false
   },
   "outputs": [],
   "source": [
    "model_june = MCMC(measles_model('1997-06-15', migrant=migrant), \n",
    "                  db=backend, name='model_june')"
   ]
  },
  {
   "cell_type": "code",
   "execution_count": null,
   "metadata": {
    "collapsed": false
   },
   "outputs": [],
   "source": [
    "model_june.sample(n_iterations, n_burn)"
   ]
  },
  {
   "cell_type": "markdown",
   "metadata": {},
   "source": [
    "July 15, with lab confirmation"
   ]
  },
  {
   "cell_type": "code",
   "execution_count": 94,
   "metadata": {
    "collapsed": false
   },
   "outputs": [],
   "source": [
    "model_july = MCMC(measles_model('1997-07-15', migrant=migrant), \n",
    "                  db=backend, name='model_july')"
   ]
  },
  {
   "cell_type": "code",
   "execution_count": null,
   "metadata": {
    "collapsed": false,
    "scrolled": false
   },
   "outputs": [],
   "source": [
    "model_july.sample(n_iterations, n_burn)"
   ]
  },
  {
   "cell_type": "markdown",
   "metadata": {},
   "source": [
    "June 15, no lab confirmation"
   ]
  },
  {
   "cell_type": "code",
   "execution_count": null,
   "metadata": {
    "collapsed": false
   },
   "outputs": [],
   "source": [
    "model_june_noconf = MCMC(measles_model('1997-06-15', confirmation=False, migrant=migrant), \n",
    "                  db=backend, name='model_june_noconf')"
   ]
  },
  {
   "cell_type": "code",
   "execution_count": null,
   "metadata": {
    "collapsed": false
   },
   "outputs": [],
   "source": [
    "model_june_noconf.sample(n_iterations, n_burn)"
   ]
  },
  {
   "cell_type": "markdown",
   "metadata": {},
   "source": [
    "July 15, no lab confirmation"
   ]
  },
  {
   "cell_type": "code",
   "execution_count": null,
   "metadata": {
    "collapsed": false
   },
   "outputs": [],
   "source": [
    "model_july_noconf = MCMC(measles_model('1997-07-15', confirmation=False, migrant=migrant), \n",
    "                  db=backend, name='model_july_noconf')"
   ]
  },
  {
   "cell_type": "code",
   "execution_count": null,
   "metadata": {
    "collapsed": false
   },
   "outputs": [],
   "source": [
    "model_july_noconf.sample(n_iterations, n_burn)"
   ]
  },
  {
   "cell_type": "markdown",
   "metadata": {},
   "source": [
    "## Summary of model output\n",
    "\n",
    "Estimate of R0 for june (with confirmation submodel)"
   ]
  },
  {
   "cell_type": "code",
   "execution_count": 91,
   "metadata": {
    "collapsed": false
   },
   "outputs": [
    {
     "name": "stdout",
     "output_type": "stream",
     "text": [
      "\n",
      "N_migrant:\n",
      " \n",
      "\tMean             SD               MC Error        95% HPD interval\n",
      "\t------------------------------------------------------------------\n",
      "\t619660.786       44168.669        2117.766     [ 533806.  682584.]\n",
      "\t\n",
      "\t\n",
      "\tPosterior quantiles:\n",
      "\t\n",
      "\t2.5             25              50              75             97.5\n",
      "\t |---------------|===============|===============|---------------|\n",
      "\t539860.0         587826.0        626556.0       638595.0      721274.0\n",
      "\t\n"
     ]
    }
   ],
   "source": [
    "model_june.summary(['N_migrant'])"
   ]
  },
  {
   "cell_type": "code",
   "execution_count": 92,
   "metadata": {
    "collapsed": false
   },
   "outputs": [
    {
     "name": "stdout",
     "output_type": "stream",
     "text": [
      "Plotting R0\n"
     ]
    },
    {
     "data": {
      "image/png": "[encoded data removed]",
      "text/plain": [
       "<matplotlib.figure.Figure at 0x7f390429a908>"
      ]
     },
     "metadata": {},
     "output_type": "display_data"
    }
   ],
   "source": [
    "if model_june.R0.value.shape:\n",
    "    Matplot.summary_plot(model_june.R0, custom_labels=age_groups)\n",
    "else:\n",
    "    Matplot.plot(model_june.R0)"
   ]
  },
  {
   "cell_type": "markdown",
   "metadata": {},
   "source": [
    "Estimate of R0 for june (no confirmation submodel)"
   ]
  },
  {
   "cell_type": "code",
   "execution_count": 100,
   "metadata": {
    "collapsed": false
   },
   "outputs": [
    {
     "name": "stdout",
     "output_type": "stream",
     "text": [
      "Plotting R0\n"
     ]
    },
    {
     "data": {
      "image/png": "[encoded data removed]",
      "text/plain": [
       "<matplotlib.figure.Figure at 0x7f39041e1630>"
      ]
     },
     "metadata": {},
     "output_type": "display_data"
    }
   ],
   "source": [
    "if model_june.R0.value.shape:\n",
    "    Matplot.summary_plot(model_june_noconf.R0, custom_labels=age_groups)\n",
    "else:\n",
    "    Matplot.plot(model_june_noconf.R0)"
   ]
  },
  {
   "cell_type": "markdown",
   "metadata": {},
   "source": [
    "Estimate of R0 for july (with confirmation submodel)"
   ]
  },
  {
   "cell_type": "code",
   "execution_count": 101,
   "metadata": {
    "collapsed": false,
    "scrolled": false
   },
   "outputs": [
    {
     "name": "stdout",
     "output_type": "stream",
     "text": [
      "Plotting R0\n"
     ]
    },
    {
     "data": {
      "image/png": "[encoded data removed]",
      "text/plain": [
       "<matplotlib.figure.Figure at 0x7f390444ef28>"
      ]
     },
     "metadata": {},
     "output_type": "display_data"
    }
   ],
   "source": [
    "if model_july.β.shape:\n",
    "    Matplot.summary_plot(model_july.R0, custom_labels=age_groups)\n",
    "else:\n",
    "    Matplot.plot(model_july.R0)"
   ]
  },
  {
   "cell_type": "markdown",
   "metadata": {},
   "source": [
    "Estimate of R0 for july (no confirmation submodel)"
   ]
  },
  {
   "cell_type": "code",
   "execution_count": 102,
   "metadata": {
    "collapsed": false
   },
   "outputs": [
    {
     "name": "stdout",
     "output_type": "stream",
     "text": [
      "Plotting R0\n"
     ]
    },
    {
     "data": {
      "image/png": "[encoded data removed]",
      "text/plain": [
       "<matplotlib.figure.Figure at 0x7fbf1667f4e0>"
      ]
     },
     "metadata": {},
     "output_type": "display_data"
    }
   ],
   "source": [
    "if model_july.β.shape:\n",
    "    Matplot.summary_plot(model_july_noconf.R0, custom_labels=age_groups)\n",
    "else:\n",
    "    Matplot.plot(model_july_noconf.R0)"
   ]
  },
  {
   "cell_type": "markdown",
   "metadata": {},
   "source": [
    "Lab confirmation rates, June model"
   ]
  },
  {
   "cell_type": "code",
   "execution_count": 103,
   "metadata": {
    "collapsed": false
   },
   "outputs": [
    {
     "data": {
      "text/plain": [
       "<matplotlib.text.Text at 0x7f390433ff28>"
      ]
     },
     "execution_count": 103,
     "metadata": {},
     "output_type": "execute_result"
    },
    {
     "data": {
      "image/png": "[encoded data removed]",
      "text/plain": [
       "<matplotlib.figure.Figure at 0x7fbf1668ce10>"
      ]
     },
     "metadata": {},
     "output_type": "display_data"
    }
   ],
   "source": [
    "p_age = pd.DataFrame(model_june.p_age.trace(), columns=age_groups)\n",
    "\n",
    "f, axes = plt.subplots(figsize=(14,6))\n",
    "sb.boxplot(data=p_age, linewidth=0.3, fliersize=0, ax=axes,\n",
    "          color=sb.color_palette(\"coolwarm\", 5)[0],\n",
    "          order=age_group.categories)\n",
    "axes.set_ylabel('Confirmation rate')\n",
    "axes.set_xlabel('Age group')"
   ]
  },
  {
   "cell_type": "markdown",
   "metadata": {},
   "source": [
    "Proportion of population susceptible, June model."
   ]
  },
  {
   "cell_type": "code",
   "execution_count": 104,
   "metadata": {
    "collapsed": false,
    "scrolled": false
   },
   "outputs": [
    {
     "name": "stdout",
     "output_type": "stream",
     "text": [
      "Could not calculate Gelman-Rubin statistics. Requires multiple chains of equal length.\n"
     ]
    },
    {
     "data": {
      "image/png": "[encoded data removed]",
      "text/plain": [
       "<matplotlib.figure.Figure at 0x7fbf166910b8>"
      ]
     },
     "metadata": {},
     "output_type": "display_data"
    }
   ],
   "source": [
    "Matplot.summary_plot(model_june.p_susceptible, custom_labels=age_groups)"
   ]
  },
  {
   "cell_type": "markdown",
   "metadata": {},
   "source": [
    "Proportion of population susceptible, June model with no confirmation correction"
   ]
  },
  {
   "cell_type": "code",
   "execution_count": 105,
   "metadata": {
    "collapsed": false,
    "scrolled": false
   },
   "outputs": [
    {
     "name": "stdout",
     "output_type": "stream",
     "text": [
      "Could not calculate Gelman-Rubin statistics. Requires multiple chains of equal length.\n"
     ]
    },
    {
     "data": {
      "image/png": "[encoded data removed]",
      "text/plain": [
       "<matplotlib.figure.Figure at 0x7f3904454a58>"
      ]
     },
     "metadata": {},
     "output_type": "display_data"
    }
   ],
   "source": [
    "Matplot.summary_plot(model_june_noconf.p_susceptible, custom_labels=age_groups)"
   ]
  },
  {
   "cell_type": "markdown",
   "metadata": {},
   "source": [
    "Epidemic intensity estimates at June and July, per district."
   ]
  },
  {
   "cell_type": "code",
   "execution_count": 106,
   "metadata": {
    "collapsed": false
   },
   "outputs": [
    {
     "name": "stdout",
     "output_type": "stream",
     "text": [
      "Could not calculate Gelman-Rubin statistics. Requires multiple chains of equal length.\n"
     ]
    },
    {
     "data": {
      "image/png": "[encoded data removed]",
      "text/plain": [
       "<matplotlib.figure.Figure at 0x7f390443c710>"
      ]
     },
     "metadata": {},
     "output_type": "display_data"
    }
   ],
   "source": [
    "Matplot.summary_plot(model_june.lam_t, custom_labels=age_groups)"
   ]
  },
  {
   "cell_type": "code",
   "execution_count": 107,
   "metadata": {
    "collapsed": false
   },
   "outputs": [
    {
     "name": "stdout",
     "output_type": "stream",
     "text": [
      "Could not calculate Gelman-Rubin statistics. Requires multiple chains of equal length.\n"
     ]
    },
    {
     "data": {
      "image/png": "[encoded data removed]",
      "text/plain": [
       "<matplotlib.figure.Figure at 0x7f3904218400>"
      ]
     },
     "metadata": {},
     "output_type": "display_data"
    }
   ],
   "source": [
    "Matplot.summary_plot(model_july.lam_t, custom_labels=age_groups)"
   ]
  },
  {
   "cell_type": "markdown",
   "metadata": {},
   "source": [
    "Epidemic intensity for lab- versus clinical-confirmation models"
   ]
  },
  {
   "cell_type": "code",
   "execution_count": 108,
   "metadata": {
    "collapsed": false
   },
   "outputs": [
    {
     "data": {
      "image/png": "[encoded data removed]",
      "text/plain": [
       "<matplotlib.figure.Figure at 0x7f3904248e80>"
      ]
     },
     "metadata": {},
     "output_type": "display_data"
    }
   ],
   "source": [
    "lam_june = model_june.lam.stats()\n",
    "\n",
    "fig, axes = plt.subplots(2, 1, sharey=True)\n",
    "\n",
    "axes[0].plot(lam_june['quantiles'][50], 'b-', alpha=0.4)\n",
    "axes[0].set_ylabel('Epidemic intensity')\n",
    "axes[0].set_xlabel('time (2-week periods)')\n",
    "axes[0].set_title('Lab confirmation')\n",
    "\n",
    "lam_june_noconf = model_june_noconf.lam.stats()\n",
    "\n",
    "axes[1].plot(lam_june_noconf['quantiles'][50], 'b-', alpha=0.4)\n",
    "axes[1].set_ylabel('Epidemic intensity')\n",
    "axes[1].set_xlabel('time (2-week periods)')\n",
    "axes[1].set_title('Clinical confirmation')\n",
    "\n",
    "plt.tight_layout()"
   ]
  },
  {
   "cell_type": "code",
   "execution_count": 109,
   "metadata": {
    "collapsed": false
   },
   "outputs": [
    {
     "data": {
      "text/plain": [
       "<matplotlib.text.Text at 0x7f39043912e8>"
      ]
     },
     "execution_count": 109,
     "metadata": {},
     "output_type": "execute_result"
    },
    {
     "data": {
      "image/png": "[encoded data removed]",
      "text/plain": [
       "<matplotlib.figure.Figure at 0x7f390422a390>"
      ]
     },
     "metadata": {},
     "output_type": "display_data"
    }
   ],
   "source": [
    "Rt_values = pd.DataFrame(np.c_[model_june.R_t.trace()[:, -1],\n",
    "                          model_june_noconf.R_t.trace()[:, -1],\n",
    "                         model_july.R_t.trace()[:, -1],\n",
    "                         model_july_noconf.R_t.trace()[:, -1]],\n",
    "                        columns=['June, confirmation', 'June, no confirmation',\n",
    "                                'July, confirmation', 'July, no confirmation'])\n",
    "\n",
    "ax = Rt_values.boxplot(return_type='axes');\n",
    "ax.set_ylabel('R(t)')"
   ]
  },
  {
   "cell_type": "code",
   "execution_count": 110,
   "metadata": {
    "collapsed": false
   },
   "outputs": [
    {
     "data": {
      "text/html": [
       "<div>\n",
       "<table border=\"1\" class=\"dataframe\">\n",
       "  <thead>\n",
       "    <tr style=\"text-align: right;\">\n",
       "      <th></th>\n",
       "      <th>0</th>\n",
       "      <th>1</th>\n",
       "      <th>2</th>\n",
       "      <th>3</th>\n",
       "      <th>4</th>\n",
       "      <th>5</th>\n",
       "      <th>6</th>\n",
       "      <th>7</th>\n",
       "      <th>8</th>\n",
       "    </tr>\n",
       "  </thead>\n",
       "  <tbody>\n",
       "    <tr>\n",
       "      <th>0</th>\n",
       "      <td>277909</td>\n",
       "      <td>58138</td>\n",
       "      <td>51649</td>\n",
       "      <td>106293</td>\n",
       "      <td>253736</td>\n",
       "      <td>230507</td>\n",
       "      <td>87672</td>\n",
       "      <td>14255</td>\n",
       "      <td>814</td>\n",
       "    </tr>\n",
       "    <tr>\n",
       "      <th>1</th>\n",
       "      <td>277503</td>\n",
       "      <td>58006</td>\n",
       "      <td>51566</td>\n",
       "      <td>106529</td>\n",
       "      <td>253651</td>\n",
       "      <td>230524</td>\n",
       "      <td>87683</td>\n",
       "      <td>14253</td>\n",
       "      <td>814</td>\n",
       "    </tr>\n",
       "    <tr>\n",
       "      <th>2</th>\n",
       "      <td>277880</td>\n",
       "      <td>58124</td>\n",
       "      <td>51489</td>\n",
       "      <td>106285</td>\n",
       "      <td>253570</td>\n",
       "      <td>230551</td>\n",
       "      <td>87689</td>\n",
       "      <td>14254</td>\n",
       "      <td>814</td>\n",
       "    </tr>\n",
       "    <tr>\n",
       "      <th>3</th>\n",
       "      <td>277486</td>\n",
       "      <td>57996</td>\n",
       "      <td>51424</td>\n",
       "      <td>106499</td>\n",
       "      <td>253477</td>\n",
       "      <td>230563</td>\n",
       "      <td>87666</td>\n",
       "      <td>14255</td>\n",
       "      <td>818</td>\n",
       "    </tr>\n",
       "    <tr>\n",
       "      <th>4</th>\n",
       "      <td>277486</td>\n",
       "      <td>57996</td>\n",
       "      <td>51424</td>\n",
       "      <td>106499</td>\n",
       "      <td>253477</td>\n",
       "      <td>230563</td>\n",
       "      <td>87666</td>\n",
       "      <td>14255</td>\n",
       "      <td>818</td>\n",
       "    </tr>\n",
       "    <tr>\n",
       "      <th>5</th>\n",
       "      <td>277486</td>\n",
       "      <td>57996</td>\n",
       "      <td>51424</td>\n",
       "      <td>106499</td>\n",
       "      <td>253477</td>\n",
       "      <td>230563</td>\n",
       "      <td>87666</td>\n",
       "      <td>14255</td>\n",
       "      <td>818</td>\n",
       "    </tr>\n",
       "    <tr>\n",
       "      <th>6</th>\n",
       "      <td>277486</td>\n",
       "      <td>57996</td>\n",
       "      <td>51424</td>\n",
       "      <td>106499</td>\n",
       "      <td>253477</td>\n",
       "      <td>230563</td>\n",
       "      <td>87666</td>\n",
       "      <td>14255</td>\n",
       "      <td>818</td>\n",
       "    </tr>\n",
       "    <tr>\n",
       "      <th>7</th>\n",
       "      <td>277486</td>\n",
       "      <td>58057</td>\n",
       "      <td>52429</td>\n",
       "      <td>112650</td>\n",
       "      <td>268763</td>\n",
       "      <td>245770</td>\n",
       "      <td>93692</td>\n",
       "      <td>15145</td>\n",
       "      <td>889</td>\n",
       "    </tr>\n",
       "    <tr>\n",
       "      <th>8</th>\n",
       "      <td>277486</td>\n",
       "      <td>58058</td>\n",
       "      <td>52418</td>\n",
       "      <td>112637</td>\n",
       "      <td>268776</td>\n",
       "      <td>245779</td>\n",
       "      <td>93714</td>\n",
       "      <td>15127</td>\n",
       "      <td>886</td>\n",
       "    </tr>\n",
       "    <tr>\n",
       "      <th>9</th>\n",
       "      <td>277486</td>\n",
       "      <td>57999</td>\n",
       "      <td>51412</td>\n",
       "      <td>106445</td>\n",
       "      <td>253352</td>\n",
       "      <td>230470</td>\n",
       "      <td>87630</td>\n",
       "      <td>14244</td>\n",
       "      <td>816</td>\n",
       "    </tr>\n",
       "    <tr>\n",
       "      <th>10</th>\n",
       "      <td>277911</td>\n",
       "      <td>57807</td>\n",
       "      <td>50310</td>\n",
       "      <td>99829</td>\n",
       "      <td>238181</td>\n",
       "      <td>215135</td>\n",
       "      <td>81548</td>\n",
       "      <td>13306</td>\n",
       "      <td>770</td>\n",
       "    </tr>\n",
       "    <tr>\n",
       "      <th>11</th>\n",
       "      <td>277911</td>\n",
       "      <td>57807</td>\n",
       "      <td>50310</td>\n",
       "      <td>99829</td>\n",
       "      <td>238181</td>\n",
       "      <td>215135</td>\n",
       "      <td>81548</td>\n",
       "      <td>13306</td>\n",
       "      <td>770</td>\n",
       "    </tr>\n",
       "    <tr>\n",
       "      <th>12</th>\n",
       "      <td>277541</td>\n",
       "      <td>57943</td>\n",
       "      <td>50228</td>\n",
       "      <td>99606</td>\n",
       "      <td>238278</td>\n",
       "      <td>215111</td>\n",
       "      <td>81543</td>\n",
       "      <td>13304</td>\n",
       "      <td>770</td>\n",
       "    </tr>\n",
       "    <tr>\n",
       "      <th>13</th>\n",
       "      <td>277541</td>\n",
       "      <td>57943</td>\n",
       "      <td>50228</td>\n",
       "      <td>99606</td>\n",
       "      <td>238278</td>\n",
       "      <td>215111</td>\n",
       "      <td>81543</td>\n",
       "      <td>13304</td>\n",
       "      <td>770</td>\n",
       "    </tr>\n",
       "    <tr>\n",
       "      <th>14</th>\n",
       "      <td>277541</td>\n",
       "      <td>57944</td>\n",
       "      <td>50228</td>\n",
       "      <td>99574</td>\n",
       "      <td>238306</td>\n",
       "      <td>215136</td>\n",
       "      <td>81520</td>\n",
       "      <td>13303</td>\n",
       "      <td>772</td>\n",
       "    </tr>\n",
       "    <tr>\n",
       "      <th>15</th>\n",
       "      <td>277951</td>\n",
       "      <td>58072</td>\n",
       "      <td>50302</td>\n",
       "      <td>99775</td>\n",
       "      <td>238381</td>\n",
       "      <td>215157</td>\n",
       "      <td>81526</td>\n",
       "      <td>13303</td>\n",
       "      <td>772</td>\n",
       "    </tr>\n",
       "    <tr>\n",
       "      <th>16</th>\n",
       "      <td>277951</td>\n",
       "      <td>58072</td>\n",
       "      <td>50302</td>\n",
       "      <td>99775</td>\n",
       "      <td>238381</td>\n",
       "      <td>215157</td>\n",
       "      <td>81526</td>\n",
       "      <td>13303</td>\n",
       "      <td>772</td>\n",
       "    </tr>\n",
       "    <tr>\n",
       "      <th>17</th>\n",
       "      <td>277951</td>\n",
       "      <td>58075</td>\n",
       "      <td>50296</td>\n",
       "      <td>99774</td>\n",
       "      <td>238381</td>\n",
       "      <td>215139</td>\n",
       "      <td>81540</td>\n",
       "      <td>13313</td>\n",
       "      <td>770</td>\n",
       "    </tr>\n",
       "    <tr>\n",
       "      <th>18</th>\n",
       "      <td>277951</td>\n",
       "      <td>58075</td>\n",
       "      <td>50296</td>\n",
       "      <td>99774</td>\n",
       "      <td>238381</td>\n",
       "      <td>215139</td>\n",
       "      <td>81540</td>\n",
       "      <td>13313</td>\n",
       "      <td>770</td>\n",
       "    </tr>\n",
       "    <tr>\n",
       "      <th>19</th>\n",
       "      <td>277948</td>\n",
       "      <td>58011</td>\n",
       "      <td>49258</td>\n",
       "      <td>93532</td>\n",
       "      <td>223068</td>\n",
       "      <td>199861</td>\n",
       "      <td>75530</td>\n",
       "      <td>12335</td>\n",
       "      <td>725</td>\n",
       "    </tr>\n",
       "    <tr>\n",
       "      <th>20</th>\n",
       "      <td>277951</td>\n",
       "      <td>58076</td>\n",
       "      <td>50305</td>\n",
       "      <td>99818</td>\n",
       "      <td>238500</td>\n",
       "      <td>215231</td>\n",
       "      <td>81605</td>\n",
       "      <td>13304</td>\n",
       "      <td>775</td>\n",
       "    </tr>\n",
       "    <tr>\n",
       "      <th>21</th>\n",
       "      <td>277951</td>\n",
       "      <td>58076</td>\n",
       "      <td>50305</td>\n",
       "      <td>99818</td>\n",
       "      <td>238500</td>\n",
       "      <td>215231</td>\n",
       "      <td>81605</td>\n",
       "      <td>13304</td>\n",
       "      <td>775</td>\n",
       "    </tr>\n",
       "    <tr>\n",
       "      <th>22</th>\n",
       "      <td>278353</td>\n",
       "      <td>57935</td>\n",
       "      <td>50398</td>\n",
       "      <td>100039</td>\n",
       "      <td>238575</td>\n",
       "      <td>215194</td>\n",
       "      <td>81628</td>\n",
       "      <td>13296</td>\n",
       "      <td>774</td>\n",
       "    </tr>\n",
       "    <tr>\n",
       "      <th>23</th>\n",
       "      <td>278353</td>\n",
       "      <td>57993</td>\n",
       "      <td>51398</td>\n",
       "      <td>106436</td>\n",
       "      <td>253855</td>\n",
       "      <td>230555</td>\n",
       "      <td>87697</td>\n",
       "      <td>14242</td>\n",
       "      <td>821</td>\n",
       "    </tr>\n",
       "    <tr>\n",
       "      <th>24</th>\n",
       "      <td>278353</td>\n",
       "      <td>57993</td>\n",
       "      <td>51398</td>\n",
       "      <td>106436</td>\n",
       "      <td>253855</td>\n",
       "      <td>230555</td>\n",
       "      <td>87697</td>\n",
       "      <td>14242</td>\n",
       "      <td>821</td>\n",
       "    </tr>\n",
       "    <tr>\n",
       "      <th>25</th>\n",
       "      <td>278353</td>\n",
       "      <td>57993</td>\n",
       "      <td>51398</td>\n",
       "      <td>106436</td>\n",
       "      <td>253855</td>\n",
       "      <td>230555</td>\n",
       "      <td>87697</td>\n",
       "      <td>14242</td>\n",
       "      <td>821</td>\n",
       "    </tr>\n",
       "    <tr>\n",
       "      <th>26</th>\n",
       "      <td>278353</td>\n",
       "      <td>57936</td>\n",
       "      <td>50412</td>\n",
       "      <td>100156</td>\n",
       "      <td>238873</td>\n",
       "      <td>215456</td>\n",
       "      <td>81736</td>\n",
       "      <td>13312</td>\n",
       "      <td>775</td>\n",
       "    </tr>\n",
       "    <tr>\n",
       "      <th>27</th>\n",
       "      <td>278353</td>\n",
       "      <td>57936</td>\n",
       "      <td>50412</td>\n",
       "      <td>100156</td>\n",
       "      <td>238873</td>\n",
       "      <td>215456</td>\n",
       "      <td>81736</td>\n",
       "      <td>13312</td>\n",
       "      <td>775</td>\n",
       "    </tr>\n",
       "    <tr>\n",
       "      <th>28</th>\n",
       "      <td>278353</td>\n",
       "      <td>57936</td>\n",
       "      <td>50412</td>\n",
       "      <td>100156</td>\n",
       "      <td>238873</td>\n",
       "      <td>215456</td>\n",
       "      <td>81736</td>\n",
       "      <td>13312</td>\n",
       "      <td>775</td>\n",
       "    </tr>\n",
       "    <tr>\n",
       "      <th>29</th>\n",
       "      <td>278353</td>\n",
       "      <td>57936</td>\n",
       "      <td>50412</td>\n",
       "      <td>100156</td>\n",
       "      <td>238873</td>\n",
       "      <td>215456</td>\n",
       "      <td>81736</td>\n",
       "      <td>13312</td>\n",
       "      <td>775</td>\n",
       "    </tr>\n",
       "    <tr>\n",
       "      <th>...</th>\n",
       "      <td>...</td>\n",
       "      <td>...</td>\n",
       "      <td>...</td>\n",
       "      <td>...</td>\n",
       "      <td>...</td>\n",
       "      <td>...</td>\n",
       "      <td>...</td>\n",
       "      <td>...</td>\n",
       "      <td>...</td>\n",
       "    </tr>\n",
       "    <tr>\n",
       "      <th>9970</th>\n",
       "      <td>269422</td>\n",
       "      <td>56350</td>\n",
       "      <td>52423</td>\n",
       "      <td>104777</td>\n",
       "      <td>268262</td>\n",
       "      <td>244743</td>\n",
       "      <td>92719</td>\n",
       "      <td>15305</td>\n",
       "      <td>883</td>\n",
       "    </tr>\n",
       "    <tr>\n",
       "      <th>9971</th>\n",
       "      <td>269423</td>\n",
       "      <td>56409</td>\n",
       "      <td>53482</td>\n",
       "      <td>111045</td>\n",
       "      <td>283831</td>\n",
       "      <td>259977</td>\n",
       "      <td>98835</td>\n",
       "      <td>16255</td>\n",
       "      <td>940</td>\n",
       "    </tr>\n",
       "    <tr>\n",
       "      <th>9972</th>\n",
       "      <td>269423</td>\n",
       "      <td>56409</td>\n",
       "      <td>53482</td>\n",
       "      <td>111045</td>\n",
       "      <td>283831</td>\n",
       "      <td>259977</td>\n",
       "      <td>98835</td>\n",
       "      <td>16255</td>\n",
       "      <td>940</td>\n",
       "    </tr>\n",
       "    <tr>\n",
       "      <th>9973</th>\n",
       "      <td>269422</td>\n",
       "      <td>56348</td>\n",
       "      <td>52431</td>\n",
       "      <td>104855</td>\n",
       "      <td>268401</td>\n",
       "      <td>244850</td>\n",
       "      <td>92806</td>\n",
       "      <td>15304</td>\n",
       "      <td>879</td>\n",
       "    </tr>\n",
       "    <tr>\n",
       "      <th>9974</th>\n",
       "      <td>269423</td>\n",
       "      <td>56409</td>\n",
       "      <td>53481</td>\n",
       "      <td>111041</td>\n",
       "      <td>283827</td>\n",
       "      <td>259970</td>\n",
       "      <td>98834</td>\n",
       "      <td>16255</td>\n",
       "      <td>940</td>\n",
       "    </tr>\n",
       "    <tr>\n",
       "      <th>9975</th>\n",
       "      <td>269422</td>\n",
       "      <td>56348</td>\n",
       "      <td>52430</td>\n",
       "      <td>104841</td>\n",
       "      <td>268371</td>\n",
       "      <td>244830</td>\n",
       "      <td>92798</td>\n",
       "      <td>15303</td>\n",
       "      <td>879</td>\n",
       "    </tr>\n",
       "    <tr>\n",
       "      <th>9976</th>\n",
       "      <td>269422</td>\n",
       "      <td>56348</td>\n",
       "      <td>52430</td>\n",
       "      <td>104841</td>\n",
       "      <td>268371</td>\n",
       "      <td>244830</td>\n",
       "      <td>92798</td>\n",
       "      <td>15303</td>\n",
       "      <td>879</td>\n",
       "    </tr>\n",
       "    <tr>\n",
       "      <th>9977</th>\n",
       "      <td>269422</td>\n",
       "      <td>56350</td>\n",
       "      <td>52419</td>\n",
       "      <td>104847</td>\n",
       "      <td>268371</td>\n",
       "      <td>244829</td>\n",
       "      <td>92812</td>\n",
       "      <td>15292</td>\n",
       "      <td>880</td>\n",
       "    </tr>\n",
       "    <tr>\n",
       "      <th>9978</th>\n",
       "      <td>269422</td>\n",
       "      <td>56292</td>\n",
       "      <td>51426</td>\n",
       "      <td>98671</td>\n",
       "      <td>253098</td>\n",
       "      <td>229582</td>\n",
       "      <td>86843</td>\n",
       "      <td>14355</td>\n",
       "      <td>809</td>\n",
       "    </tr>\n",
       "    <tr>\n",
       "      <th>9979</th>\n",
       "      <td>269422</td>\n",
       "      <td>56292</td>\n",
       "      <td>51426</td>\n",
       "      <td>98671</td>\n",
       "      <td>253098</td>\n",
       "      <td>229583</td>\n",
       "      <td>86843</td>\n",
       "      <td>14355</td>\n",
       "      <td>809</td>\n",
       "    </tr>\n",
       "    <tr>\n",
       "      <th>9980</th>\n",
       "      <td>269744</td>\n",
       "      <td>56408</td>\n",
       "      <td>51502</td>\n",
       "      <td>98491</td>\n",
       "      <td>253030</td>\n",
       "      <td>229607</td>\n",
       "      <td>86849</td>\n",
       "      <td>14357</td>\n",
       "      <td>809</td>\n",
       "    </tr>\n",
       "    <tr>\n",
       "      <th>9981</th>\n",
       "      <td>270097</td>\n",
       "      <td>56506</td>\n",
       "      <td>51427</td>\n",
       "      <td>98283</td>\n",
       "      <td>252975</td>\n",
       "      <td>229592</td>\n",
       "      <td>86838</td>\n",
       "      <td>14360</td>\n",
       "      <td>811</td>\n",
       "    </tr>\n",
       "    <tr>\n",
       "      <th>9982</th>\n",
       "      <td>270097</td>\n",
       "      <td>56506</td>\n",
       "      <td>51427</td>\n",
       "      <td>98283</td>\n",
       "      <td>252975</td>\n",
       "      <td>229592</td>\n",
       "      <td>86838</td>\n",
       "      <td>14360</td>\n",
       "      <td>811</td>\n",
       "    </tr>\n",
       "    <tr>\n",
       "      <th>9983</th>\n",
       "      <td>269757</td>\n",
       "      <td>56392</td>\n",
       "      <td>51362</td>\n",
       "      <td>98069</td>\n",
       "      <td>252885</td>\n",
       "      <td>229572</td>\n",
       "      <td>86832</td>\n",
       "      <td>14362</td>\n",
       "      <td>811</td>\n",
       "    </tr>\n",
       "    <tr>\n",
       "      <th>9984</th>\n",
       "      <td>269757</td>\n",
       "      <td>56392</td>\n",
       "      <td>51362</td>\n",
       "      <td>98070</td>\n",
       "      <td>252885</td>\n",
       "      <td>229572</td>\n",
       "      <td>86832</td>\n",
       "      <td>14362</td>\n",
       "      <td>811</td>\n",
       "    </tr>\n",
       "    <tr>\n",
       "      <th>9985</th>\n",
       "      <td>269757</td>\n",
       "      <td>56327</td>\n",
       "      <td>50368</td>\n",
       "      <td>91754</td>\n",
       "      <td>237412</td>\n",
       "      <td>214214</td>\n",
       "      <td>80779</td>\n",
       "      <td>13425</td>\n",
       "      <td>758</td>\n",
       "    </tr>\n",
       "    <tr>\n",
       "      <th>9986</th>\n",
       "      <td>270125</td>\n",
       "      <td>56488</td>\n",
       "      <td>51426</td>\n",
       "      <td>97839</td>\n",
       "      <td>252786</td>\n",
       "      <td>229453</td>\n",
       "      <td>86838</td>\n",
       "      <td>14349</td>\n",
       "      <td>815</td>\n",
       "    </tr>\n",
       "    <tr>\n",
       "      <th>9987</th>\n",
       "      <td>270125</td>\n",
       "      <td>56548</td>\n",
       "      <td>52428</td>\n",
       "      <td>104070</td>\n",
       "      <td>268162</td>\n",
       "      <td>244822</td>\n",
       "      <td>92813</td>\n",
       "      <td>15305</td>\n",
       "      <td>885</td>\n",
       "    </tr>\n",
       "    <tr>\n",
       "      <th>9988</th>\n",
       "      <td>269789</td>\n",
       "      <td>56433</td>\n",
       "      <td>52378</td>\n",
       "      <td>103851</td>\n",
       "      <td>268252</td>\n",
       "      <td>244782</td>\n",
       "      <td>92809</td>\n",
       "      <td>15305</td>\n",
       "      <td>885</td>\n",
       "    </tr>\n",
       "    <tr>\n",
       "      <th>9989</th>\n",
       "      <td>269789</td>\n",
       "      <td>56433</td>\n",
       "      <td>52378</td>\n",
       "      <td>103851</td>\n",
       "      <td>268252</td>\n",
       "      <td>244782</td>\n",
       "      <td>92809</td>\n",
       "      <td>15305</td>\n",
       "      <td>885</td>\n",
       "    </tr>\n",
       "    <tr>\n",
       "      <th>9990</th>\n",
       "      <td>269789</td>\n",
       "      <td>56433</td>\n",
       "      <td>52378</td>\n",
       "      <td>103851</td>\n",
       "      <td>268252</td>\n",
       "      <td>244782</td>\n",
       "      <td>92809</td>\n",
       "      <td>15305</td>\n",
       "      <td>885</td>\n",
       "    </tr>\n",
       "    <tr>\n",
       "      <th>9991</th>\n",
       "      <td>269789</td>\n",
       "      <td>56374</td>\n",
       "      <td>51364</td>\n",
       "      <td>97630</td>\n",
       "      <td>252794</td>\n",
       "      <td>229427</td>\n",
       "      <td>86788</td>\n",
       "      <td>14354</td>\n",
       "      <td>811</td>\n",
       "    </tr>\n",
       "    <tr>\n",
       "      <th>9992</th>\n",
       "      <td>269466</td>\n",
       "      <td>56333</td>\n",
       "      <td>52298</td>\n",
       "      <td>103643</td>\n",
       "      <td>268246</td>\n",
       "      <td>244788</td>\n",
       "      <td>92805</td>\n",
       "      <td>15297</td>\n",
       "      <td>883</td>\n",
       "    </tr>\n",
       "    <tr>\n",
       "      <th>9993</th>\n",
       "      <td>269466</td>\n",
       "      <td>56333</td>\n",
       "      <td>52298</td>\n",
       "      <td>103643</td>\n",
       "      <td>268246</td>\n",
       "      <td>244788</td>\n",
       "      <td>92805</td>\n",
       "      <td>15297</td>\n",
       "      <td>883</td>\n",
       "    </tr>\n",
       "    <tr>\n",
       "      <th>9994</th>\n",
       "      <td>269466</td>\n",
       "      <td>56333</td>\n",
       "      <td>52298</td>\n",
       "      <td>103643</td>\n",
       "      <td>268246</td>\n",
       "      <td>244788</td>\n",
       "      <td>92805</td>\n",
       "      <td>15297</td>\n",
       "      <td>883</td>\n",
       "    </tr>\n",
       "    <tr>\n",
       "      <th>9995</th>\n",
       "      <td>269798</td>\n",
       "      <td>56444</td>\n",
       "      <td>52359</td>\n",
       "      <td>103852</td>\n",
       "      <td>268324</td>\n",
       "      <td>244770</td>\n",
       "      <td>92812</td>\n",
       "      <td>15299</td>\n",
       "      <td>883</td>\n",
       "    </tr>\n",
       "    <tr>\n",
       "      <th>9996</th>\n",
       "      <td>269798</td>\n",
       "      <td>56444</td>\n",
       "      <td>52347</td>\n",
       "      <td>103877</td>\n",
       "      <td>268336</td>\n",
       "      <td>244731</td>\n",
       "      <td>92818</td>\n",
       "      <td>15307</td>\n",
       "      <td>882</td>\n",
       "    </tr>\n",
       "    <tr>\n",
       "      <th>9997</th>\n",
       "      <td>269798</td>\n",
       "      <td>56441</td>\n",
       "      <td>52356</td>\n",
       "      <td>103869</td>\n",
       "      <td>268336</td>\n",
       "      <td>244750</td>\n",
       "      <td>92803</td>\n",
       "      <td>15307</td>\n",
       "      <td>880</td>\n",
       "    </tr>\n",
       "    <tr>\n",
       "      <th>9998</th>\n",
       "      <td>270118</td>\n",
       "      <td>56333</td>\n",
       "      <td>52419</td>\n",
       "      <td>103669</td>\n",
       "      <td>268413</td>\n",
       "      <td>244778</td>\n",
       "      <td>92813</td>\n",
       "      <td>15306</td>\n",
       "      <td>880</td>\n",
       "    </tr>\n",
       "    <tr>\n",
       "      <th>9999</th>\n",
       "      <td>270118</td>\n",
       "      <td>56336</td>\n",
       "      <td>52408</td>\n",
       "      <td>103679</td>\n",
       "      <td>268390</td>\n",
       "      <td>244802</td>\n",
       "      <td>92811</td>\n",
       "      <td>15304</td>\n",
       "      <td>881</td>\n",
       "    </tr>\n",
       "  </tbody>\n",
       "</table>\n",
       "<p>10000 rows × 9 columns</p>\n",
       "</div>"
      ],
      "text/plain": [
       "           0      1      2       3       4       5      6      7    8\n",
       "0     277909  58138  51649  106293  253736  230507  87672  14255  814\n",
       "1     277503  58006  51566  106529  253651  230524  87683  14253  814\n",
       "2     277880  58124  51489  106285  253570  230551  87689  14254  814\n",
       "3     277486  57996  51424  106499  253477  230563  87666  14255  818\n",
       "4     277486  57996  51424  106499  253477  230563  87666  14255  818\n",
       "5     277486  57996  51424  106499  253477  230563  87666  14255  818\n",
       "6     277486  57996  51424  106499  253477  230563  87666  14255  818\n",
       "7     277486  58057  52429  112650  268763  245770  93692  15145  889\n",
       "8     277486  58058  52418  112637  268776  245779  93714  15127  886\n",
       "9     277486  57999  51412  106445  253352  230470  87630  14244  816\n",
       "10    277911  57807  50310   99829  238181  215135  81548  13306  770\n",
       "11    277911  57807  50310   99829  238181  215135  81548  13306  770\n",
       "12    277541  57943  50228   99606  238278  215111  81543  13304  770\n",
       "13    277541  57943  50228   99606  238278  215111  81543  13304  770\n",
       "14    277541  57944  50228   99574  238306  215136  81520  13303  772\n",
       "15    277951  58072  50302   99775  238381  215157  81526  13303  772\n",
       "16    277951  58072  50302   99775  238381  215157  81526  13303  772\n",
       "17    277951  58075  50296   99774  238381  215139  81540  13313  770\n",
       "18    277951  58075  50296   99774  238381  215139  81540  13313  770\n",
       "19    277948  58011  49258   93532  223068  199861  75530  12335  725\n",
       "20    277951  58076  50305   99818  238500  215231  81605  13304  775\n",
       "21    277951  58076  50305   99818  238500  215231  81605  13304  775\n",
       "22    278353  57935  50398  100039  238575  215194  81628  13296  774\n",
       "23    278353  57993  51398  106436  253855  230555  87697  14242  821\n",
       "24    278353  57993  51398  106436  253855  230555  87697  14242  821\n",
       "25    278353  57993  51398  106436  253855  230555  87697  14242  821\n",
       "26    278353  57936  50412  100156  238873  215456  81736  13312  775\n",
       "27    278353  57936  50412  100156  238873  215456  81736  13312  775\n",
       "28    278353  57936  50412  100156  238873  215456  81736  13312  775\n",
       "29    278353  57936  50412  100156  238873  215456  81736  13312  775\n",
       "...      ...    ...    ...     ...     ...     ...    ...    ...  ...\n",
       "9970  269422  56350  52423  104777  268262  244743  92719  15305  883\n",
       "9971  269423  56409  53482  111045  283831  259977  98835  16255  940\n",
       "9972  269423  56409  53482  111045  283831  259977  98835  16255  940\n",
       "9973  269422  56348  52431  104855  268401  244850  92806  15304  879\n",
       "9974  269423  56409  53481  111041  283827  259970  98834  16255  940\n",
       "9975  269422  56348  52430  104841  268371  244830  92798  15303  879\n",
       "9976  269422  56348  52430  104841  268371  244830  92798  15303  879\n",
       "9977  269422  56350  52419  104847  268371  244829  92812  15292  880\n",
       "9978  269422  56292  51426   98671  253098  229582  86843  14355  809\n",
       "9979  269422  56292  51426   98671  253098  229583  86843  14355  809\n",
       "9980  269744  56408  51502   98491  253030  229607  86849  14357  809\n",
       "9981  270097  56506  51427   98283  252975  229592  86838  14360  811\n",
       "9982  270097  56506  51427   98283  252975  229592  86838  14360  811\n",
       "9983  269757  56392  51362   98069  252885  229572  86832  14362  811\n",
       "9984  269757  56392  51362   98070  252885  229572  86832  14362  811\n",
       "9985  269757  56327  50368   91754  237412  214214  80779  13425  758\n",
       "9986  270125  56488  51426   97839  252786  229453  86838  14349  815\n",
       "9987  270125  56548  52428  104070  268162  244822  92813  15305  885\n",
       "9988  269789  56433  52378  103851  268252  244782  92809  15305  885\n",
       "9989  269789  56433  52378  103851  268252  244782  92809  15305  885\n",
       "9990  269789  56433  52378  103851  268252  244782  92809  15305  885\n",
       "9991  269789  56374  51364   97630  252794  229427  86788  14354  811\n",
       "9992  269466  56333  52298  103643  268246  244788  92805  15297  883\n",
       "9993  269466  56333  52298  103643  268246  244788  92805  15297  883\n",
       "9994  269466  56333  52298  103643  268246  244788  92805  15297  883\n",
       "9995  269798  56444  52359  103852  268324  244770  92812  15299  883\n",
       "9996  269798  56444  52347  103877  268336  244731  92818  15307  882\n",
       "9997  269798  56441  52356  103869  268336  244750  92803  15307  880\n",
       "9998  270118  56333  52419  103669  268413  244778  92813  15306  880\n",
       "9999  270118  56336  52408  103679  268390  244802  92811  15304  881\n",
       "\n",
       "[10000 rows x 9 columns]"
      ]
     },
     "execution_count": 110,
     "metadata": {},
     "output_type": "execute_result"
    }
   ],
   "source": [
    "pd.DataFrame(model_june.S_age.trace().squeeze())"
   ]
  },
  {
   "cell_type": "code",
   "execution_count": 111,
   "metadata": {
    "collapsed": false
   },
   "outputs": [],
   "source": [
    "S_age_june = pd.DataFrame(model_june.S_age.trace().squeeze(), columns=age_groups).unstack().reset_index()\n",
    "S_age_june.columns = 'Age', 'Iteration', 'S'\n",
    "S_age_june['Confirmation'] = 'Lab'\n",
    "\n",
    "S_age_june_noconf = pd.DataFrame(model_june_noconf.S_age.trace().squeeze(), columns=age_groups).unstack().reset_index()\n",
    "S_age_june_noconf.columns = 'Age', 'Iteration', 'S'\n",
    "S_age_june_noconf['Confirmation'] = 'Clinical'\n",
    "\n",
    "S_age_june = pd.concat([S_age_june, S_age_june_noconf], ignore_index=True)"
   ]
  },
  {
   "cell_type": "code",
   "execution_count": 112,
   "metadata": {
    "collapsed": false
   },
   "outputs": [],
   "source": [
    "S_age_july = pd.DataFrame(model_july.S_age.trace().squeeze(), columns=age_groups).unstack().reset_index()\n",
    "S_age_july.columns = 'Age', 'Iteration', 'S'\n",
    "S_age_july['Confirmation'] = 'Lab'\n",
    "\n",
    "S_age_july_noconf = pd.DataFrame(model_july_noconf.S_age.trace().squeeze(), columns=age_groups).unstack().reset_index()\n",
    "S_age_july_noconf.columns = 'Age', 'Iteration', 'S'\n",
    "S_age_july_noconf['Confirmation'] = 'Clinical'\n",
    "\n",
    "S_age_july = pd.concat([S_age_july, S_age_july_noconf], ignore_index=True)"
   ]
  },
  {
   "cell_type": "markdown",
   "metadata": {},
   "source": [
    "Numbers of suscepibles in each age group, under lab vs clinical confirmation"
   ]
  },
  {
   "cell_type": "code",
   "execution_count": 113,
   "metadata": {
    "collapsed": false
   },
   "outputs": [
    {
     "data": {
      "image/png": "[encoded data removed]",
      "text/plain": [
       "<matplotlib.figure.Figure at 0x7f390444ee48>"
      ]
     },
     "metadata": {},
     "output_type": "display_data"
    }
   ],
   "source": [
    "g = sb.factorplot(\"Age\", \"S\", \"Confirmation\", S_age_june, kind=\"box\",\n",
    "                   palette=\"hls\", size=6, aspect=2, linewidth=0.3, fliersize=0, \n",
    "                  order=age_group.categories)\n",
    "g.despine(offset=10, trim=True)\n",
    "g.set_axis_labels(\"Age Group\", \"Susceptibles\");"
   ]
  },
  {
   "cell_type": "markdown",
   "metadata": {},
   "source": [
    "### Vaccination coverage by strategy"
   ]
  },
  {
   "cell_type": "code",
   "execution_count": 114,
   "metadata": {
    "collapsed": false
   },
   "outputs": [
    {
     "name": "stdout",
     "output_type": "stream",
     "text": [
      "\n",
      "pct_5:\n",
      " \n",
      "\tMean             SD               MC Error        95% HPD interval\n",
      "\t------------------------------------------------------------------\n",
      "\t0.249            0.01             0.0              [ 0.229  0.267]\n",
      "\t\n",
      "\t\n",
      "\tPosterior quantiles:\n",
      "\t\n",
      "\t2.5             25              50              75             97.5\n",
      "\t |---------------|===============|===============|---------------|\n",
      "\t0.229            0.242           0.249          0.255         0.268\n",
      "\t\n",
      "\n",
      "pct_15:\n",
      " \n",
      "\tMean             SD               MC Error        95% HPD interval\n",
      "\t------------------------------------------------------------------\n",
      "\t0.346            0.013            0.0                [ 0.32  0.37]\n",
      "\t\n",
      "\t\n",
      "\tPosterior quantiles:\n",
      "\t\n",
      "\t2.5             25              50              75             97.5\n",
      "\t |---------------|===============|===============|---------------|\n",
      "\t0.321            0.338           0.346          0.355         0.371\n",
      "\t\n",
      "\n",
      "pct_30:\n",
      " \n",
      "\tMean             SD               MC Error        95% HPD interval\n",
      "\t------------------------------------------------------------------\n",
      "\t0.86             0.002            0.0              [ 0.856  0.865]\n",
      "\t\n",
      "\t\n",
      "\tPosterior quantiles:\n",
      "\t\n",
      "\t2.5             25              50              75             97.5\n",
      "\t |---------------|===============|===============|---------------|\n",
      "\t0.855            0.859           0.859          0.862         0.865\n",
      "\t\n",
      "\n",
      "pct_adult:\n",
      " \n",
      "\tMean             SD               MC Error        95% HPD interval\n",
      "\t------------------------------------------------------------------\n",
      "\t0.675            0.003            0.0              [ 0.669  0.679]\n",
      "\t\n",
      "\t\n",
      "\tPosterior quantiles:\n",
      "\t\n",
      "\t2.5             25              50              75             97.5\n",
      "\t |---------------|===============|===============|---------------|\n",
      "\t0.669            0.673           0.676          0.677         0.679\n",
      "\t\n"
     ]
    }
   ],
   "source": [
    "model_june.summary(['pct_5', 'pct_15', 'pct_30', 'pct_adult'])"
   ]
  },
  {
   "cell_type": "code",
   "execution_count": 115,
   "metadata": {
    "collapsed": true
   },
   "outputs": [],
   "source": [
    "june_coverage = pd.DataFrame({name: model_june.trace(name)[:] for name in ['pct_5', 'pct_15', 'pct_30', 'pct_adult']})\n",
    "june_coverage['Month'] = 'June'\n",
    "june_coverage['Confirmation'] = 'Lab'"
   ]
  },
  {
   "cell_type": "code",
   "execution_count": 116,
   "metadata": {
    "collapsed": false
   },
   "outputs": [],
   "source": [
    "june_noconf_coverage = pd.DataFrame({name: model_june_noconf.trace(name)[:] for name in ['pct_5', 'pct_15', 'pct_30', 'pct_adult']})\n",
    "june_noconf_coverage['Month'] = 'June'\n",
    "june_noconf_coverage['Confirmation'] = 'Clinical'\n",
    "\n",
    "july_coverage = pd.DataFrame({name: model_july.trace(name)[:] for name in ['pct_5', 'pct_15', 'pct_30', 'pct_adult']})\n",
    "july_coverage['Month'] = 'July'\n",
    "july_coverage['Confirmation'] = 'Lab'\n",
    "\n",
    "july_noconf_coverage = pd.DataFrame({name: model_july_noconf.trace(name)[:] for name in ['pct_5', 'pct_15', 'pct_30', 'pct_adult']})\n",
    "july_noconf_coverage['Month'] = 'July'\n",
    "july_noconf_coverage['Confirmation'] = 'Clinical'"
   ]
  },
  {
   "cell_type": "code",
   "execution_count": 117,
   "metadata": {
    "collapsed": false
   },
   "outputs": [],
   "source": [
    "coverage = pd.concat([june_coverage, june_noconf_coverage, july_coverage, july_noconf_coverage], \n",
    "                     ignore_index=True)"
   ]
  },
  {
   "cell_type": "code",
   "execution_count": 118,
   "metadata": {
    "collapsed": false
   },
   "outputs": [
    {
     "data": {
      "text/plain": [
       "<seaborn.axisgrid.FacetGrid at 0x7fbf14e01390>"
      ]
     },
     "execution_count": 118,
     "metadata": {},
     "output_type": "execute_result"
    },
    {
     "data": {
      "image/png": "[encoded data removed]",
      "text/plain": [
       "<matplotlib.figure.Figure at 0x7fbf14e01160>"
      ]
     },
     "metadata": {},
     "output_type": "display_data"
    }
   ],
   "source": [
    "sb.factorplot(row=\"Month\", col=\"Confirmation\", data=coverage, kind='box',\n",
    "              row_order=['June', 'July'],\n",
    "              order=['pct_5', 'pct_15', 'pct_30', 'pct_adult'],\n",
    "               palette=\"YlGnBu_d\", linewidth=0.7, fliersize=0, aspect=1.25).despine(left=True)"
   ]
  },
  {
   "cell_type": "code",
   "execution_count": 119,
   "metadata": {
    "collapsed": false
   },
   "outputs": [
    {
     "data": {
      "image/png": "[encoded data removed]",
      "text/plain": [
       "<matplotlib.figure.Figure at 0x7f39041f9cf8>"
      ]
     },
     "metadata": {},
     "output_type": "display_data"
    }
   ],
   "source": [
    "axes = sb.boxplot(data=june_coverage, order=['pct_5', 'pct_15', 'pct_30', 'pct_adult'], \n",
    "                  color=sb.color_palette(\"coolwarm\", 5)[0])\n",
    "axes.set_xticklabels(['Under 5', 'Under 15', 'Under 30', 'Under 5 + 20-30'])\n",
    "axes.set_ylabel('% susceptibles vaccinated')\n",
    "sb.despine(offset=10, trim=True)"
   ]
  },
  {
   "cell_type": "code",
   "execution_count": 120,
   "metadata": {
    "collapsed": false
   },
   "outputs": [
    {
     "name": "stdout",
     "output_type": "stream",
     "text": [
      "\n",
      "pct_5:\n",
      " \n",
      "\tMean             SD               MC Error        95% HPD interval\n",
      "\t------------------------------------------------------------------\n",
      "\t0.257            0.009            0.0              [ 0.238  0.271]\n",
      "\t\n",
      "\t\n",
      "\tPosterior quantiles:\n",
      "\t\n",
      "\t2.5             25              50              75             97.5\n",
      "\t |---------------|===============|===============|---------------|\n",
      "\t0.239            0.249           0.257          0.261         0.272\n",
      "\t\n",
      "\n",
      "pct_15:\n",
      " \n",
      "\tMean             SD               MC Error        95% HPD interval\n",
      "\t------------------------------------------------------------------\n",
      "\t0.362            0.012            0.0              [ 0.339  0.383]\n",
      "\t\n",
      "\t\n",
      "\tPosterior quantiles:\n",
      "\t\n",
      "\t2.5             25              50              75             97.5\n",
      "\t |---------------|===============|===============|---------------|\n",
      "\t0.339            0.354           0.362          0.369         0.383\n",
      "\t\n",
      "\n",
      "pct_30:\n",
      " \n",
      "\tMean             SD               MC Error        95% HPD interval\n",
      "\t------------------------------------------------------------------\n",
      "\t0.861            0.002            0.0              [ 0.857  0.865]\n",
      "\t\n",
      "\t\n",
      "\tPosterior quantiles:\n",
      "\t\n",
      "\t2.5             25              50              75             97.5\n",
      "\t |---------------|===============|===============|---------------|\n",
      "\t0.857            0.86            0.862          0.862         0.865\n",
      "\t\n",
      "\n",
      "pct_adult:\n",
      " \n",
      "\tMean             SD               MC Error        95% HPD interval\n",
      "\t------------------------------------------------------------------\n",
      "\t0.668            0.003            0.0              [ 0.663  0.673]\n",
      "\t\n",
      "\t\n",
      "\tPosterior quantiles:\n",
      "\t\n",
      "\t2.5             25              50              75             97.5\n",
      "\t |---------------|===============|===============|---------------|\n",
      "\t0.663            0.665           0.667          0.67          0.673\n",
      "\t\n"
     ]
    }
   ],
   "source": [
    "model_june_noconf.summary(['pct_5', 'pct_15', 'pct_30', 'pct_adult'])"
   ]
  },
  {
   "cell_type": "code",
   "execution_count": 121,
   "metadata": {
    "collapsed": false
   },
   "outputs": [
    {
     "name": "stdout",
     "output_type": "stream",
     "text": [
      "\n",
      "pct_5:\n",
      " \n",
      "\tMean             SD               MC Error        95% HPD interval\n",
      "\t------------------------------------------------------------------\n",
      "\t0.247            0.007            0.0              [ 0.237  0.259]\n",
      "\t\n",
      "\t\n",
      "\tPosterior quantiles:\n",
      "\t\n",
      "\t2.5             25              50              75             97.5\n",
      "\t |---------------|===============|===============|---------------|\n",
      "\t0.233            0.244           0.245          0.251         0.259\n",
      "\t\n",
      "\n",
      "pct_15:\n",
      " \n",
      "\tMean             SD               MC Error        95% HPD interval\n",
      "\t------------------------------------------------------------------\n",
      "\t0.317            0.008            0.001            [ 0.306  0.332]\n",
      "\t\n",
      "\t\n",
      "\tPosterior quantiles:\n",
      "\t\n",
      "\t2.5             25              50              75             97.5\n",
      "\t |---------------|===============|===============|---------------|\n",
      "\t0.3              0.314           0.315          0.322         0.331\n",
      "\t\n",
      "\n",
      "pct_30:\n",
      " \n",
      "\tMean             SD               MC Error        95% HPD interval\n",
      "\t------------------------------------------------------------------\n",
      "\t0.854            0.001            0.0              [ 0.852  0.857]\n",
      "\t\n",
      "\t\n",
      "\tPosterior quantiles:\n",
      "\t\n",
      "\t2.5             25              50              75             97.5\n",
      "\t |---------------|===============|===============|---------------|\n",
      "\t0.852            0.854           0.854          0.855         0.857\n",
      "\t\n",
      "\n",
      "pct_adult:\n",
      " \n",
      "\tMean             SD               MC Error        95% HPD interval\n",
      "\t------------------------------------------------------------------\n",
      "\t0.702            0.001            0.0              [ 0.699  0.705]\n",
      "\t\n",
      "\t\n",
      "\tPosterior quantiles:\n",
      "\t\n",
      "\t2.5             25              50              75             97.5\n",
      "\t |---------------|===============|===============|---------------|\n",
      "\t0.699            0.701           0.702          0.703         0.705\n",
      "\t\n"
     ]
    }
   ],
   "source": [
    "model_july.summary(['pct_5', 'pct_15', 'pct_30', 'pct_adult'])"
   ]
  },
  {
   "cell_type": "code",
   "execution_count": 122,
   "metadata": {
    "collapsed": false
   },
   "outputs": [
    {
     "name": "stdout",
     "output_type": "stream",
     "text": [
      "\n",
      "pct_5:\n",
      " \n",
      "\tMean             SD               MC Error        95% HPD interval\n",
      "\t------------------------------------------------------------------\n",
      "\t0.253            0.004            0.0              [ 0.246  0.26 ]\n",
      "\t\n",
      "\t\n",
      "\tPosterior quantiles:\n",
      "\t\n",
      "\t2.5             25              50              75             97.5\n",
      "\t |---------------|===============|===============|---------------|\n",
      "\t0.246            0.251           0.253          0.257         0.26\n",
      "\t\n",
      "\n",
      "pct_15:\n",
      " \n",
      "\tMean             SD               MC Error        95% HPD interval\n",
      "\t------------------------------------------------------------------\n",
      "\t0.339            0.005            0.0              [ 0.33   0.347]\n",
      "\t\n",
      "\t\n",
      "\tPosterior quantiles:\n",
      "\t\n",
      "\t2.5             25              50              75             97.5\n",
      "\t |---------------|===============|===============|---------------|\n",
      "\t0.33             0.336           0.338          0.344         0.347\n",
      "\t\n",
      "\n",
      "pct_30:\n",
      " \n",
      "\tMean             SD               MC Error        95% HPD interval\n",
      "\t------------------------------------------------------------------\n",
      "\t0.857            0.001            0.0              [ 0.855  0.858]\n",
      "\t\n",
      "\t\n",
      "\tPosterior quantiles:\n",
      "\t\n",
      "\t2.5             25              50              75             97.5\n",
      "\t |---------------|===============|===============|---------------|\n",
      "\t0.855            0.856           0.856          0.857         0.858\n",
      "\t\n",
      "\n",
      "pct_adult:\n",
      " \n",
      "\tMean             SD               MC Error        95% HPD interval\n",
      "\t------------------------------------------------------------------\n",
      "\t0.691            0.001            0.0              [ 0.689  0.692]\n",
      "\t\n",
      "\t\n",
      "\tPosterior quantiles:\n",
      "\t\n",
      "\t2.5             25              50              75             97.5\n",
      "\t |---------------|===============|===============|---------------|\n",
      "\t0.689            0.69            0.691          0.692         0.692\n",
      "\t\n"
     ]
    }
   ],
   "source": [
    "model_july_noconf.summary(['pct_5', 'pct_15', 'pct_30', 'pct_adult'])"
   ]
  },
  {
   "cell_type": "markdown",
   "metadata": {},
   "source": [
    "Initial migrant susceptibles"
   ]
  },
  {
   "cell_type": "code",
   "execution_count": 123,
   "metadata": {
    "collapsed": false
   },
   "outputs": [
    {
     "name": "stdout",
     "output_type": "stream",
     "text": [
      "Could not calculate Gelman-Rubin statistics. Requires multiple chains of equal length.\n"
     ]
    },
    {
     "data": {
      "image/png": "[encoded data removed]",
      "text/plain": [
       "<matplotlib.figure.Figure at 0x7f390444ef60>"
      ]
     },
     "metadata": {},
     "output_type": "display_data"
    }
   ],
   "source": [
    "Matplot.summary_plot(model_june.M_0, custom_labels=age_group.categories)"
   ]
  }
 ],
 "metadata": {
  "kernelspec": {
   "display_name": "Python 3",
   "language": "python",
   "name": "python3"
  },
  "language_info": {
   "codemirror_mode": {
    "name": "ipython",
    "version": 3
   },
   "file_extension": ".py",
   "mimetype": "text/x-python",
   "name": "python",
   "nbconvert_exporter": "python",
   "pygments_lexer": "ipython3",
   "version": "3.5.1"
  }
 },
 "nbformat": 4,
 "nbformat_minor": 0
}
