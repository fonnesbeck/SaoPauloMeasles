{
 "cells": [
  {
   "cell_type": "markdown",
   "metadata": {},
   "source": [
    "# Disease Outbreak Response Decision-making Under Uncertainty: A retrospective analysis of measles in Sao Paulo"
   ]
  },
  {
   "cell_type": "code",
   "execution_count": 1,
   "metadata": {
    "collapsed": false
   },
   "outputs": [
    {
     "name": "stderr",
     "output_type": "stream",
     "text": [
      "/usr/local/lib/python3.4/dist-packages/matplotlib/__init__.py:872: UserWarning: axes.color_cycle is deprecated and replaced with axes.prop_cycle; please use the latter.\n",
      "  warnings.warn(self.msg_depr % (key, alt_key))\n"
     ]
    },
    {
     "data": {
      "text/html": [
       "<style>\n",
       "    @font-face {\n",
       "        font-family: \"Computer Modern\";\n",
       "        src: url('http://mirrors.ctan.org/fonts/cm-unicode/fonts/otf/cmunss.otf');\n",
       "    }\n",
       "    div.cell{\n",
       "        width: 90%;\n",
       "/*        margin-left:auto;*/\n",
       "/*        margin-right:auto;*/\n",
       "    }\n",
       "    ul {\n",
       "        line-height: 145%;\n",
       "        font-size: 90%;\n",
       "    }\n",
       "    li {\n",
       "        margin-bottom: 1em;\n",
       "    }\n",
       "    h1 {\n",
       "        font-family: Helvetica, serif;\n",
       "    }\n",
       "    h4{\n",
       "        margin-top: 12px;\n",
       "        margin-bottom: 3px;\n",
       "       }\n",
       "    div.text_cell_render{\n",
       "        font-family: Computer Modern, \"Helvetica Neue\", Arial, Helvetica, Geneva, sans-serif;\n",
       "        line-height: 145%;\n",
       "        font-size: 130%;\n",
       "        width: 90%;\n",
       "        margin-left:auto;\n",
       "        margin-right:auto;\n",
       "    }\n",
       "    .CodeMirror{\n",
       "            font-family: \"Source Code Pro\", source-code-pro,Consolas, monospace;\n",
       "    }\n",
       "/*    .prompt{\n",
       "        display: None;\n",
       "    }*/\n",
       "    .text_cell_render h5 {\n",
       "        font-weight: 300;\n",
       "        font-size: 16pt;\n",
       "        color: #4057A1;\n",
       "        font-style: italic;\n",
       "        margin-bottom: 0.5em;\n",
       "        margin-top: 0.5em;\n",
       "        display: block;\n",
       "    }\n",
       "\n",
       "    .warning{\n",
       "        color: rgb( 240, 20, 20 )\n",
       "        }\n",
       "</style>\n",
       "<script>\n",
       "    MathJax.Hub.Config({\n",
       "                        TeX: {\n",
       "                           extensions: [\"AMSmath.js\"]\n",
       "                           },\n",
       "                tex2jax: {\n",
       "                    inlineMath: [ ['$','$'], [\"\\\\(\",\"\\\\)\"] ],\n",
       "                    displayMath: [ ['$$','$$'], [\"\\\\[\",\"\\\\]\"] ]\n",
       "                },\n",
       "                displayAlign: 'center', // Change this to 'center' to center equations.\n",
       "                \"HTML-CSS\": {\n",
       "                    styles: {'.MathJax_Display': {\"margin\": 4}}\n",
       "                }\n",
       "        });\n",
       "</script>"
      ],
      "text/plain": [
       "<IPython.core.display.HTML object>"
      ]
     },
     "execution_count": 1,
     "metadata": {},
     "output_type": "execute_result"
    }
   ],
   "source": [
    "%matplotlib inline\n",
    "import pandas as pd\n",
    "import numpy as np\n",
    "import numpy.ma as ma\n",
    "from datetime import datetime\n",
    "import matplotlib.pyplot as plt\n",
    "import seaborn as sb\n",
    "sb.set()\n",
    "import pdb\n",
    "\n",
    "from IPython.core.display import HTML\n",
    "def css_styling():\n",
    "    styles = open(\"styles/custom.css\", \"r\").read()\n",
    "    return HTML(styles)\n",
    "css_styling()"
   ]
  },
  {
   "cell_type": "code",
   "execution_count": 2,
   "metadata": {
    "collapsed": true
   },
   "outputs": [],
   "source": [
    "data_dir = \"data/\""
   ]
  },
  {
   "cell_type": "markdown",
   "metadata": {},
   "source": [
    "Import outbreak data"
   ]
  },
  {
   "cell_type": "code",
   "execution_count": 3,
   "metadata": {
    "collapsed": false
   },
   "outputs": [],
   "source": [
    "measles_data = pd.read_csv(data_dir+\"measles.csv\", index_col=0)\n",
    "measles_data.NOTIFICATION = pd.to_datetime(measles_data.NOTIFICATION)\n",
    "measles_data.BIRTH = pd.to_datetime(measles_data.BIRTH)\n",
    "measles_data.ONSET = pd.to_datetime(measles_data.ONSET)"
   ]
  },
  {
   "cell_type": "code",
   "execution_count": 4,
   "metadata": {
    "collapsed": false
   },
   "outputs": [],
   "source": [
    "measles_data = (measles_data.replace({'DISTRICT': {'BRASILANDIA':'BRAZILANDIA'}})\n",
    "                    .drop('AGE', axis=1))"
   ]
  },
  {
   "cell_type": "markdown",
   "metadata": {},
   "source": [
    "Sao Paulo population by district"
   ]
  },
  {
   "cell_type": "code",
   "execution_count": 5,
   "metadata": {
    "collapsed": false
   },
   "outputs": [],
   "source": [
    "sp_pop = pd.read_csv(data_dir+'sp_pop.csv', index_col=0)"
   ]
  },
  {
   "cell_type": "code",
   "execution_count": 6,
   "metadata": {
    "collapsed": false
   },
   "outputs": [],
   "source": [
    "_names = sp_pop.index.values\n",
    "_names[_names=='BRASILANDIA'] = 'BRAZILANDIA'\n",
    "sp_pop.set_index(_names, inplace = True)"
   ]
  },
  {
   "cell_type": "code",
   "execution_count": 7,
   "metadata": {
    "collapsed": false
   },
   "outputs": [
    {
     "data": {
      "text/html": [
       "<div>\n",
       "<table border=\"1\" class=\"dataframe\">\n",
       "  <thead>\n",
       "    <tr style=\"text-align: right;\">\n",
       "      <th></th>\n",
       "      <th>0 a 4 anos</th>\n",
       "      <th>5 a 9 anos</th>\n",
       "      <th>10 a 14 anos</th>\n",
       "      <th>15 a 19 anos</th>\n",
       "      <th>20 a 24 anos</th>\n",
       "      <th>25 a 29 anos</th>\n",
       "      <th>30 a 34 anos</th>\n",
       "      <th>35 a 39 anos</th>\n",
       "      <th>40 a 44 anos</th>\n",
       "      <th>45 a 49 anos</th>\n",
       "      <th>50 a 54 anos</th>\n",
       "      <th>55 a 59 anos</th>\n",
       "      <th>60 a 64 anos</th>\n",
       "      <th>65 a 69 anos</th>\n",
       "      <th>70 a 74 anos</th>\n",
       "      <th>75 anos e +</th>\n",
       "      <th>Total</th>\n",
       "    </tr>\n",
       "  </thead>\n",
       "  <tbody>\n",
       "    <tr>\n",
       "      <th>AGUA RASA</th>\n",
       "      <td>5411</td>\n",
       "      <td>5750</td>\n",
       "      <td>6450</td>\n",
       "      <td>7122</td>\n",
       "      <td>7621</td>\n",
       "      <td>7340</td>\n",
       "      <td>6999</td>\n",
       "      <td>6984</td>\n",
       "      <td>6346</td>\n",
       "      <td>5608</td>\n",
       "      <td>4987</td>\n",
       "      <td>4212</td>\n",
       "      <td>4152</td>\n",
       "      <td>3595</td>\n",
       "      <td>2937</td>\n",
       "      <td>3637</td>\n",
       "      <td>89151</td>\n",
       "    </tr>\n",
       "    <tr>\n",
       "      <th>ALTO DE PINHEIROS</th>\n",
       "      <td>2070</td>\n",
       "      <td>2369</td>\n",
       "      <td>2953</td>\n",
       "      <td>3661</td>\n",
       "      <td>4612</td>\n",
       "      <td>4190</td>\n",
       "      <td>3539</td>\n",
       "      <td>3633</td>\n",
       "      <td>3448</td>\n",
       "      <td>3289</td>\n",
       "      <td>3040</td>\n",
       "      <td>2533</td>\n",
       "      <td>2298</td>\n",
       "      <td>1732</td>\n",
       "      <td>1305</td>\n",
       "      <td>1823</td>\n",
       "      <td>46495</td>\n",
       "    </tr>\n",
       "    <tr>\n",
       "      <th>ANHANGUERA</th>\n",
       "      <td>3068</td>\n",
       "      <td>3006</td>\n",
       "      <td>2755</td>\n",
       "      <td>2431</td>\n",
       "      <td>2426</td>\n",
       "      <td>2636</td>\n",
       "      <td>2695</td>\n",
       "      <td>2308</td>\n",
       "      <td>1653</td>\n",
       "      <td>1107</td>\n",
       "      <td>753</td>\n",
       "      <td>509</td>\n",
       "      <td>352</td>\n",
       "      <td>217</td>\n",
       "      <td>162</td>\n",
       "      <td>171</td>\n",
       "      <td>26249</td>\n",
       "    </tr>\n",
       "    <tr>\n",
       "      <th>ARICANDUVA</th>\n",
       "      <td>7732</td>\n",
       "      <td>7730</td>\n",
       "      <td>8373</td>\n",
       "      <td>8956</td>\n",
       "      <td>9182</td>\n",
       "      <td>8531</td>\n",
       "      <td>7813</td>\n",
       "      <td>7365</td>\n",
       "      <td>6551</td>\n",
       "      <td>5554</td>\n",
       "      <td>4887</td>\n",
       "      <td>3858</td>\n",
       "      <td>3320</td>\n",
       "      <td>2449</td>\n",
       "      <td>1611</td>\n",
       "      <td>1723</td>\n",
       "      <td>95635</td>\n",
       "    </tr>\n",
       "    <tr>\n",
       "      <th>ARTUR ALVIM</th>\n",
       "      <td>9031</td>\n",
       "      <td>9078</td>\n",
       "      <td>10000</td>\n",
       "      <td>11058</td>\n",
       "      <td>11387</td>\n",
       "      <td>10347</td>\n",
       "      <td>9125</td>\n",
       "      <td>8658</td>\n",
       "      <td>7830</td>\n",
       "      <td>7055</td>\n",
       "      <td>5919</td>\n",
       "      <td>4612</td>\n",
       "      <td>3756</td>\n",
       "      <td>2633</td>\n",
       "      <td>1727</td>\n",
       "      <td>1724</td>\n",
       "      <td>113940</td>\n",
       "    </tr>\n",
       "  </tbody>\n",
       "</table>\n",
       "</div>"
      ],
      "text/plain": [
       "                   0 a 4 anos  5 a 9 anos  10 a 14 anos  15 a 19 anos  \\\n",
       "AGUA RASA                5411        5750          6450          7122   \n",
       "ALTO DE PINHEIROS        2070        2369          2953          3661   \n",
       "ANHANGUERA               3068        3006          2755          2431   \n",
       "ARICANDUVA               7732        7730          8373          8956   \n",
       "ARTUR ALVIM              9031        9078         10000         11058   \n",
       "\n",
       "                   20 a 24 anos  25 a 29 anos  30 a 34 anos  35 a 39 anos  \\\n",
       "AGUA RASA                  7621          7340          6999          6984   \n",
       "ALTO DE PINHEIROS          4612          4190          3539          3633   \n",
       "ANHANGUERA                 2426          2636          2695          2308   \n",
       "ARICANDUVA                 9182          8531          7813          7365   \n",
       "ARTUR ALVIM               11387         10347          9125          8658   \n",
       "\n",
       "                   40 a 44 anos  45 a 49 anos  50 a 54 anos  55 a 59 anos  \\\n",
       "AGUA RASA                  6346          5608          4987          4212   \n",
       "ALTO DE PINHEIROS          3448          3289          3040          2533   \n",
       "ANHANGUERA                 1653          1107           753           509   \n",
       "ARICANDUVA                 6551          5554          4887          3858   \n",
       "ARTUR ALVIM                7830          7055          5919          4612   \n",
       "\n",
       "                   60 a 64 anos  65 a 69 anos  70 a 74 anos  75 anos e +  \\\n",
       "AGUA RASA                  4152          3595          2937         3637   \n",
       "ALTO DE PINHEIROS          2298          1732          1305         1823   \n",
       "ANHANGUERA                  352           217           162          171   \n",
       "ARICANDUVA                 3320          2449          1611         1723   \n",
       "ARTUR ALVIM                3756          2633          1727         1724   \n",
       "\n",
       "                    Total  \n",
       "AGUA RASA           89151  \n",
       "ALTO DE PINHEIROS   46495  \n",
       "ANHANGUERA          26249  \n",
       "ARICANDUVA          95635  \n",
       "ARTUR ALVIM        113940  "
      ]
     },
     "execution_count": 7,
     "metadata": {},
     "output_type": "execute_result"
    }
   ],
   "source": [
    "sp_pop.head()"
   ]
  },
  {
   "cell_type": "markdown",
   "metadata": {},
   "source": [
    "Plot of cumulative cases by district"
   ]
  },
  {
   "cell_type": "code",
   "execution_count": 8,
   "metadata": {
    "collapsed": false
   },
   "outputs": [
    {
     "data": {
      "text/plain": [
       "<matplotlib.axes._subplots.AxesSubplot at 0x7f4b1b221470>"
      ]
     },
     "execution_count": 8,
     "metadata": {},
     "output_type": "execute_result"
    },
    {
     "data": {
      "image/png": "[encoded data removed]",
      "text/plain": [
       "<matplotlib.figure.Figure at 0x7f4b1b231ba8>"
      ]
     },
     "metadata": {},
     "output_type": "display_data"
    }
   ],
   "source": [
    "measles_onset_dist = measles_data.groupby(['DISTRICT','ONSET']).size().unstack(level=0).fillna(0)\n",
    "measles_onset_dist.cumsum().plot(legend=False, grid=False)"
   ]
  },
  {
   "cell_type": "code",
   "execution_count": 9,
   "metadata": {
    "collapsed": false
   },
   "outputs": [],
   "source": [
    "total_district_cases = measles_onset_dist.sum()"
   ]
  },
  {
   "cell_type": "markdown",
   "metadata": {},
   "source": [
    "Top 5 districts by number of cases"
   ]
  },
  {
   "cell_type": "code",
   "execution_count": 10,
   "metadata": {
    "collapsed": false
   },
   "outputs": [
    {
     "name": "stderr",
     "output_type": "stream",
     "text": [
      "/usr/local/lib/python3.4/dist-packages/ipykernel/__main__.py:2: FutureWarning: sort is deprecated, use sort_values(inplace=True) for for INPLACE sorting\n",
      "  from ipykernel import kernelapp as app\n"
     ]
    },
    {
     "data": {
      "text/plain": [
       "DISTRICT\n",
       "GRAJAU             1074\n",
       "JARDIM ANGELA       944\n",
       "CAPAO REDONDO       849\n",
       "JARDIM SAO LUIZ     778\n",
       "CAMPO LIMPO         692\n",
       "dtype: float64"
      ]
     },
     "execution_count": 10,
     "metadata": {},
     "output_type": "execute_result"
    }
   ],
   "source": [
    "totals = measles_onset_dist.sum()\n",
    "totals.sort(ascending=False)\n",
    "totals[:5]"
   ]
  },
  {
   "cell_type": "markdown",
   "metadata": {},
   "source": [
    "Age distribution of cases, by confirmation status"
   ]
  },
  {
   "cell_type": "code",
   "execution_count": 11,
   "metadata": {
    "collapsed": false
   },
   "outputs": [
    {
     "data": {
      "image/png": "[encoded data removed]",
      "text/plain": [
       "<matplotlib.figure.Figure at 0x7f4b1b37d208>"
      ]
     },
     "metadata": {},
     "output_type": "display_data"
    }
   ],
   "source": [
    "by_conclusion = measles_data.groupby([\"YEAR_AGE\", \"CONCLUSION\"])\n",
    "counts_by_cause = by_conclusion.size().unstack().fillna(0)\n",
    "ax = counts_by_cause.plot(kind='bar', stacked=True, xlim=(0,50), figsize=(15,5))"
   ]
  },
  {
   "cell_type": "markdown",
   "metadata": {},
   "source": [
    "### Vaccination Data"
   ]
  },
  {
   "cell_type": "code",
   "execution_count": 12,
   "metadata": {
    "collapsed": false
   },
   "outputs": [
    {
     "data": {
      "text/html": [
       "<div>\n",
       "<table border=\"1\" class=\"dataframe\">\n",
       "  <thead>\n",
       "    <tr style=\"text-align: right;\">\n",
       "      <th></th>\n",
       "      <th>BIRTHS</th>\n",
       "      <th>VAX</th>\n",
       "      <th>POP</th>\n",
       "      <th>SIA</th>\n",
       "    </tr>\n",
       "    <tr>\n",
       "      <th>YEAR</th>\n",
       "      <th></th>\n",
       "      <th></th>\n",
       "      <th></th>\n",
       "      <th></th>\n",
       "    </tr>\n",
       "  </thead>\n",
       "  <tbody>\n",
       "    <tr>\n",
       "      <th>1980</th>\n",
       "      <td>3896442</td>\n",
       "      <td>0.57</td>\n",
       "      <td>121740438</td>\n",
       "      <td>0</td>\n",
       "    </tr>\n",
       "    <tr>\n",
       "      <th>1981</th>\n",
       "      <td>3933136</td>\n",
       "      <td>0.73</td>\n",
       "      <td>124610790</td>\n",
       "      <td>0</td>\n",
       "    </tr>\n",
       "    <tr>\n",
       "      <th>1982</th>\n",
       "      <td>3952137</td>\n",
       "      <td>0.66</td>\n",
       "      <td>127525420</td>\n",
       "      <td>0</td>\n",
       "    </tr>\n",
       "    <tr>\n",
       "      <th>1983</th>\n",
       "      <td>3952735</td>\n",
       "      <td>0.68</td>\n",
       "      <td>130455659</td>\n",
       "      <td>0</td>\n",
       "    </tr>\n",
       "    <tr>\n",
       "      <th>1984</th>\n",
       "      <td>3935224</td>\n",
       "      <td>0.73</td>\n",
       "      <td>133364277</td>\n",
       "      <td>0</td>\n",
       "    </tr>\n",
       "  </tbody>\n",
       "</table>\n",
       "</div>"
      ],
      "text/plain": [
       "       BIRTHS   VAX        POP  SIA\n",
       "YEAR                               \n",
       "1980  3896442  0.57  121740438    0\n",
       "1981  3933136  0.73  124610790    0\n",
       "1982  3952137  0.66  127525420    0\n",
       "1983  3952735  0.68  130455659    0\n",
       "1984  3935224  0.73  133364277    0"
      ]
     },
     "execution_count": 12,
     "metadata": {},
     "output_type": "execute_result"
    }
   ],
   "source": [
    "vaccination_data = pd.read_csv('data/BrazilVaxRecords.csv', index_col=0)\n",
    "vaccination_data.head()"
   ]
  },
  {
   "cell_type": "code",
   "execution_count": 13,
   "metadata": {
    "collapsed": true
   },
   "outputs": [],
   "source": [
    "vax_97 = np.r_[[0]*(1979-1921+1), vaccination_data.VAX[:17]]\n",
    "n = len(vax_97)\n",
    "FOI_mat = np.resize((1 - vax_97*0.9), (n,n)).T"
   ]
  },
  {
   "cell_type": "code",
   "execution_count": 14,
   "metadata": {
    "collapsed": true
   },
   "outputs": [],
   "source": [
    "vacc_susc = (1 - vax_97*0.9)[::-1]\n",
    "vacc_susc[0] = 0.5"
   ]
  },
  {
   "cell_type": "code",
   "execution_count": 15,
   "metadata": {
    "collapsed": true
   },
   "outputs": [],
   "source": [
    "sia_susc = np.ones(len(vax_97))\n",
    "birth_year = np.arange(1922, 1998)[::-1]\n",
    "by_mask = (birth_year > 1983) & (birth_year < 1992)\n",
    "sia_susc[by_mask] *= 0.2"
   ]
  },
  {
   "cell_type": "markdown",
   "metadata": {},
   "source": [
    "## Stochastic Disease Transmission Model\n",
    "\n",
    "As a baseline for comparison, we can fit a model to all the clinically-confirmed cases, regardless of lab confirmation status. For this, we will use a simple SIR disease model, which will be fit using MCMC.\n",
    "\n",
    "This model fits the series of 2-week infection totals in each district $i$ as a set of Poisson models:\n",
    "\n",
    "\\\\[Pr(I(t)_{i} | \\lambda(t)_i) = \\text{Poisson}(\\lambda(t)_i) \\\\]\n",
    "\n",
    "Where the outbreak intensity is modeled as:\n",
    "\n",
    "\\\\[\\lambda(t)_i = \\beta [I^{(w)}(t-1)_i]^{\\alpha} S(t-1)_i\\\\]\n",
    "\n",
    "\\\\[\\alpha \\sim \\text{Exp}(1)\\\\]\n",
    "\n",
    "We will assume here that the transmission rate is constant over time (and across districts):\n",
    "\n",
    "\\\\[\\beta \\sim \\text{Gamma}(1, 0.1)\\\\]\n",
    "\n",
    "To account for the influence of infected individuals from neighboring districts on new infections, the outbreak intensity was modeled using a spatial-weighted average of infecteds across districts, where populations were weighted as an exponential function of the distance between district centroids:\n",
    "\n",
    "\\\\[w_{d} = \\text{exp}(-\\theta d)\\\\]\n",
    "\n",
    "\\\\[\\theta \\sim \\text{Exp}(1)\\\\]\n",
    "\n",
    "### Confirmation Sub-model\n",
    "\n",
    "Rather than assume all clinical cases are true cases, we can adjust the model to account for lab confirmation probability. This is done by including a sub-model that estimates age group-specific probabilities of confirmation, and using these probabilities to estimate the number of lab-confirmed cases. These estimates are then plugged into the model in place of the clinically-confirmed cases.\n",
    "\n",
    "We specified a structured confirmation model to retrospectively determine the age group-specific probabilities of lab confirmation for measles, conditional on clinical diagnosis. Individual lab confirmation events $c_i$ were modeled as Bernoulli random variables, with the probability of confirmation being allowed to vary by age group:\n",
    "\n",
    "$$c_i \\sim \\text{Bernoulli}(p_{a(i)})$$\n",
    "\n",
    "where $a(i)$ denotes the appropriate age group for the individual indexed by i. There were 16 age groups, the first 15 of which were 5-year age intervals $[0,5), [5, 10), \\ldots , [70, 75)$, with the 16th interval including all individuals 75 years and older.\n",
    "\n",
    "Since the age interval choices were arbitrary, and the confirmation probabilities of adjacent groups likely correlated, we modeled the correlation structure directly, using a multivariate logit-normal model. Specifically, we allowed first-order autocorrelation among the age groups, whereby the variance-covariance matrix retained a tridiagonal structure. \n",
    "\n",
    "$$\\begin{aligned}\n",
    "\\Sigma = \\left[{\n",
    "\\begin{array}{c}\n",
    "  {\\sigma^2} & {\\sigma^2 \\rho} & 0& \\ldots & {0} & {0}  \\\\\n",
    "  {\\sigma^2 \\rho} & {\\sigma^2} &  \\sigma^2 \\rho & \\ldots & {0}  & {0} \\\\\n",
    "  {0} & \\sigma^2 \\rho & {\\sigma^2} & \\ldots & {0} & {0} \\\\\n",
    "  \\vdots & \\vdots & \\vdots &  & \\vdots & \\vdots\\\\\n",
    "  {0} & {0} & 0 & \\ldots &  {\\sigma^2} & \\sigma^2 \\rho  \\\\\n",
    "{0} & {0} & 0 & \\ldots & \\sigma^2 \\rho &  {\\sigma^2} \n",
    "\\end{array}\n",
    "}\\right]\n",
    "\\end{aligned}$$\n",
    "\n",
    "From this, the confirmation probabilities were specified as multivariate normal on the inverse-logit scale.\n",
    "\n",
    "$$ \\text{logit}(p_a) = \\{a\\} \\sim N(\\mu, \\Sigma)$$\n",
    "\n",
    "Priors for the confirmation sub-model were specified by:\n",
    "\n",
    "$$\\begin{aligned}\n",
    "\\mu_i &\\sim N(0, 100) \\\\\n",
    "\\sigma &\\sim \\text{HalfCauchy}(25) \\\\\n",
    "\\rho &\\sim U(-1, 1)\n",
    "\\end{aligned}$$"
   ]
  },
  {
   "cell_type": "markdown",
   "metadata": {},
   "source": [
    "Age classes are defined in 5-year intervals."
   ]
  },
  {
   "cell_type": "code",
   "execution_count": 16,
   "metadata": {
    "collapsed": false
   },
   "outputs": [],
   "source": [
    "age_classes = [0,5,10,15,20,25,30,35,40,100]\n",
    "measles_data.dropna(subset=['YEAR_AGE'], inplace=True)\n",
    "measles_data['YEAR_AGE'] = measles_data.YEAR_AGE.astype(int)\n",
    "measles_data['AGE_GROUP'] = pd.cut(measles_data.YEAR_AGE, age_classes, right=False)"
   ]
  },
  {
   "cell_type": "markdown",
   "metadata": {},
   "source": [
    "Lab-checked observations are extracted for use in estimating lab confirmation probability."
   ]
  },
  {
   "cell_type": "code",
   "execution_count": 17,
   "metadata": {
    "collapsed": true
   },
   "outputs": [],
   "source": [
    "CONFIRMED = measles_data.CONCLUSION == 'CONFIRMED'\n",
    "CLINICAL = measles_data.CONCLUSION == 'CLINICAL'\n",
    "DISCARDED = measles_data.CONCLUSION == 'DISCARDED'"
   ]
  },
  {
   "cell_type": "markdown",
   "metadata": {},
   "source": [
    "Extract confirmed and clinical subset, with no missing county information."
   ]
  },
  {
   "cell_type": "code",
   "execution_count": 18,
   "metadata": {
    "collapsed": false
   },
   "outputs": [],
   "source": [
    "lab_subset = measles_data[(CONFIRMED | DISCARDED) & measles_data.COUNTY.notnull()].copy()"
   ]
  },
  {
   "cell_type": "code",
   "execution_count": 19,
   "metadata": {
    "collapsed": false
   },
   "outputs": [],
   "source": [
    "age = lab_subset.YEAR_AGE.values\n",
    "ages = lab_subset.YEAR_AGE.unique()\n",
    "counties = lab_subset.COUNTY.unique()\n",
    "confirmed = (lab_subset.CONCLUSION=='CONFIRMED').values"
   ]
  },
  {
   "cell_type": "code",
   "execution_count": 20,
   "metadata": {
    "collapsed": true
   },
   "outputs": [],
   "source": [
    "clinic_subset = measles_data[CLINICAL & measles_data.COUNTY.notnull()].copy()"
   ]
  },
  {
   "cell_type": "code",
   "execution_count": 21,
   "metadata": {
    "collapsed": false
   },
   "outputs": [
    {
     "data": {
      "image/png": "[encoded data removed]",
      "text/plain": [
       "<matplotlib.figure.Figure at 0x7f4b1a6add30>"
      ]
     },
     "metadata": {},
     "output_type": "display_data"
    }
   ],
   "source": [
    "_lab_subset = lab_subset.replace({\"CONCLUSION\": {\"CLINICAL\": \"UNCONFIRMED\"}})\n",
    "by_conclusion = _lab_subset.groupby([\"YEAR_AGE\", \"CONCLUSION\"])\n",
    "counts_by_cause = by_conclusion.size().unstack().fillna(0)\n",
    "ax = counts_by_cause.plot(kind='bar', stacked=True, xlim=(0,50), figsize=(15,5), grid=False)"
   ]
  },
  {
   "cell_type": "code",
   "execution_count": 22,
   "metadata": {
    "collapsed": false
   },
   "outputs": [
    {
     "data": {
      "text/plain": [
       "(41547, 15)"
      ]
     },
     "execution_count": 22,
     "metadata": {},
     "output_type": "execute_result"
    }
   ],
   "source": [
    "lab_subset.shape"
   ]
  },
  {
   "cell_type": "markdown",
   "metadata": {},
   "source": [
    "Proportion of lab-confirmed cases older than 20 years"
   ]
  },
  {
   "cell_type": "code",
   "execution_count": 23,
   "metadata": {
    "collapsed": false
   },
   "outputs": [
    {
     "data": {
      "text/plain": [
       "0.60257048468117846"
      ]
     },
     "execution_count": 23,
     "metadata": {},
     "output_type": "execute_result"
    }
   ],
   "source": [
    "(measles_data[CONFIRMED].YEAR_AGE>20).mean()"
   ]
  },
  {
   "cell_type": "code",
   "execution_count": 24,
   "metadata": {
    "collapsed": false
   },
   "outputs": [
    {
     "data": {
      "text/plain": [
       "[0, 5, 10, 15, 20, 25, 30, 35, 40, 100]"
      ]
     },
     "execution_count": 24,
     "metadata": {},
     "output_type": "execute_result"
    }
   ],
   "source": [
    "age_classes"
   ]
  },
  {
   "cell_type": "code",
   "execution_count": 95,
   "metadata": {
    "collapsed": false
   },
   "outputs": [
    {
     "data": {
      "text/plain": [
       "Index(['[0, 5)', '[5, 10)', '[10, 15)', '[15, 20)', '[20, 25)', '[25, 30)',\n",
       "       '[30, 35)', '[35, 40)', '[40, 100)'],\n",
       "      dtype='object')"
      ]
     },
     "execution_count": 95,
     "metadata": {},
     "output_type": "execute_result"
    }
   ],
   "source": [
    "age_group = pd.cut(age, age_classes, right=False)\n",
    "age_index = np.array([age_group.categories.tolist().index(i) for i in age_group])\n",
    "age_groups = age_group.categories\n",
    "age_groups"
   ]
  },
  {
   "cell_type": "code",
   "execution_count": 27,
   "metadata": {
    "collapsed": false
   },
   "outputs": [
    {
     "data": {
      "text/plain": [
       "Index(['[0, 5)', '[5, 10)', '[10, 15)', '[15, 20)', '[20, 25)', '[25, 30)',\n",
       "       '[30, 35)', '[35, 40)', '[40, 100)'],\n",
       "      dtype='object')"
      ]
     },
     "execution_count": 27,
     "metadata": {},
     "output_type": "execute_result"
    }
   ],
   "source": [
    "age_group.categories"
   ]
  },
  {
   "cell_type": "code",
   "execution_count": 28,
   "metadata": {
    "collapsed": false
   },
   "outputs": [],
   "source": [
    "age_slice_endpoints = [g[1:-1].split(',') for g in age_groups]\n",
    "age_slices = [slice(int(i[0]), int(i[1])) for i in age_slice_endpoints]"
   ]
  },
  {
   "cell_type": "code",
   "execution_count": 29,
   "metadata": {
    "collapsed": false
   },
   "outputs": [],
   "source": [
    "# Get index from full crosstabulation to use as index for each district\n",
    "dates_index = measles_data.groupby(\n",
    "        ['ONSET', 'AGE_GROUP']).size().unstack().index"
   ]
  },
  {
   "cell_type": "code",
   "execution_count": 30,
   "metadata": {
    "collapsed": false
   },
   "outputs": [],
   "source": [
    "unique_districts = measles_data.DISTRICT.dropna().unique()"
   ]
  },
  {
   "cell_type": "code",
   "execution_count": 31,
   "metadata": {
    "collapsed": true
   },
   "outputs": [],
   "source": [
    "excludes = ['BOM RETIRO']"
   ]
  },
  {
   "cell_type": "code",
   "execution_count": 32,
   "metadata": {
    "collapsed": false
   },
   "outputs": [],
   "source": [
    "N = sp_pop.drop(excludes).ix[unique_districts].sum().drop('Total')"
   ]
  },
  {
   "cell_type": "code",
   "execution_count": 33,
   "metadata": {
    "collapsed": false
   },
   "outputs": [
    {
     "data": {
      "text/plain": [
       "[0, 5)        844130\n",
       "[5, 10)       830880\n",
       "[10, 15)      858750\n",
       "[15, 20)      904972\n",
       "[20, 25)      945244\n",
       "[25, 30)      902086\n",
       "[30, 35)      835888\n",
       "[35, 40)      764605\n",
       "[40, 100)    2841133\n",
       "dtype: float64"
      ]
     },
     "execution_count": 33,
     "metadata": {},
     "output_type": "execute_result"
    }
   ],
   "source": [
    "N_age = N.iloc[:8]\n",
    "N_age.index = age_groups[:-1]\n",
    "N_age[age_groups[-1]] = N.iloc[8:].sum()\n",
    "N_age"
   ]
  },
  {
   "cell_type": "code",
   "execution_count": 34,
   "metadata": {
    "collapsed": false
   },
   "outputs": [
    {
     "data": {
      "text/plain": [
       "<matplotlib.axes._subplots.AxesSubplot at 0x7f4b189bb5f8>"
      ]
     },
     "execution_count": 34,
     "metadata": {},
     "output_type": "execute_result"
    },
    {
     "data": {
      "image/png": "[encoded data removed]",
      "text/plain": [
       "<matplotlib.figure.Figure at 0x7f4b1b2a7a90>"
      ]
     },
     "metadata": {},
     "output_type": "display_data"
    }
   ],
   "source": [
    "N_age.plot(kind='bar')\n"
   ]
  },
  {
   "cell_type": "markdown",
   "metadata": {},
   "source": [
    "Compile bi-weekly confirmed and unconfirmed data by Sao Paulo district"
   ]
  },
  {
   "cell_type": "code",
   "execution_count": 35,
   "metadata": {
    "collapsed": false
   },
   "outputs": [],
   "source": [
    "# All confirmed cases, by district\n",
    "confirmed_data = lab_subset[lab_subset.CONCLUSION=='CONFIRMED']\n",
    "confirmed_counts = (confirmed_data.groupby(['ONSET', 'AGE_GROUP'])\n",
    "                    .size()\n",
    "                    .unstack()\n",
    "                    .reindex(dates_index)\n",
    "                    .fillna(0)\n",
    "                    .sum())\n",
    "\n",
    "all_confirmed_cases = (confirmed_counts.reindex_axis(measles_data['AGE_GROUP'].unique())\n",
    "                       .fillna(0).values.astype(int))"
   ]
  },
  {
   "cell_type": "code",
   "execution_count": 36,
   "metadata": {
    "collapsed": true
   },
   "outputs": [],
   "source": [
    "confirmed_counts_2w = (confirmed_data\n",
    "                        .groupby(['ONSET', 'AGE_GROUP'])\n",
    "                        .size()\n",
    "                        .unstack()\n",
    "                        .reindex(dates_index)\n",
    "                        .fillna(0)\n",
    "                        .resample('2W', how='sum'))"
   ]
  },
  {
   "cell_type": "code",
   "execution_count": 37,
   "metadata": {
    "collapsed": false
   },
   "outputs": [],
   "source": [
    "# All clinical cases, by district\n",
    "clinical_counts = (clinic_subset.groupby(['ONSET', 'AGE_GROUP'])\n",
    "                   .size()\n",
    "                   .unstack()\n",
    "                   .reindex(dates_index)\n",
    "                   .fillna(0)\n",
    "                   .sum())\n",
    "\n",
    "all_clinical_cases = (clinical_counts.reindex_axis(measles_data['AGE_GROUP'].unique())\n",
    "                      .fillna(0).values.astype(int))"
   ]
  },
  {
   "cell_type": "code",
   "execution_count": 38,
   "metadata": {
    "collapsed": true
   },
   "outputs": [],
   "source": [
    "clinical_counts_2w = (clinic_subset\n",
    "                        .groupby(['ONSET', 'AGE_GROUP'])\n",
    "                        .size()\n",
    "                        .unstack()\n",
    "                        .reindex(dates_index)\n",
    "                        .fillna(0)\n",
    "                        .resample('2W', how='sum'))"
   ]
  },
  {
   "cell_type": "code",
   "execution_count": 39,
   "metadata": {
    "collapsed": false
   },
   "outputs": [
    {
     "data": {
      "text/html": [
       "<div>\n",
       "<table border=\"1\" class=\"dataframe\">\n",
       "  <thead>\n",
       "    <tr style=\"text-align: right;\">\n",
       "      <th>AGE_GROUP</th>\n",
       "      <th>[0, 5)</th>\n",
       "      <th>[5, 10)</th>\n",
       "      <th>[10, 15)</th>\n",
       "      <th>[15, 20)</th>\n",
       "      <th>[20, 25)</th>\n",
       "      <th>[25, 30)</th>\n",
       "      <th>[30, 35)</th>\n",
       "      <th>[35, 40)</th>\n",
       "      <th>[40, 100)</th>\n",
       "    </tr>\n",
       "    <tr>\n",
       "      <th>ONSET</th>\n",
       "      <th></th>\n",
       "      <th></th>\n",
       "      <th></th>\n",
       "      <th></th>\n",
       "      <th></th>\n",
       "      <th></th>\n",
       "      <th></th>\n",
       "      <th></th>\n",
       "      <th></th>\n",
       "    </tr>\n",
       "  </thead>\n",
       "  <tbody>\n",
       "    <tr>\n",
       "      <th>1997-01-05</th>\n",
       "      <td>0</td>\n",
       "      <td>0</td>\n",
       "      <td>0</td>\n",
       "      <td>0</td>\n",
       "      <td>1</td>\n",
       "      <td>0</td>\n",
       "      <td>0</td>\n",
       "      <td>0</td>\n",
       "      <td>0</td>\n",
       "    </tr>\n",
       "    <tr>\n",
       "      <th>1997-01-19</th>\n",
       "      <td>0</td>\n",
       "      <td>1</td>\n",
       "      <td>0</td>\n",
       "      <td>0</td>\n",
       "      <td>3</td>\n",
       "      <td>4</td>\n",
       "      <td>0</td>\n",
       "      <td>0</td>\n",
       "      <td>0</td>\n",
       "    </tr>\n",
       "    <tr>\n",
       "      <th>1997-02-02</th>\n",
       "      <td>4</td>\n",
       "      <td>1</td>\n",
       "      <td>0</td>\n",
       "      <td>0</td>\n",
       "      <td>2</td>\n",
       "      <td>1</td>\n",
       "      <td>0</td>\n",
       "      <td>0</td>\n",
       "      <td>0</td>\n",
       "    </tr>\n",
       "    <tr>\n",
       "      <th>1997-02-16</th>\n",
       "      <td>4</td>\n",
       "      <td>0</td>\n",
       "      <td>0</td>\n",
       "      <td>0</td>\n",
       "      <td>2</td>\n",
       "      <td>1</td>\n",
       "      <td>1</td>\n",
       "      <td>0</td>\n",
       "      <td>0</td>\n",
       "    </tr>\n",
       "    <tr>\n",
       "      <th>1997-03-02</th>\n",
       "      <td>9</td>\n",
       "      <td>0</td>\n",
       "      <td>0</td>\n",
       "      <td>2</td>\n",
       "      <td>4</td>\n",
       "      <td>5</td>\n",
       "      <td>1</td>\n",
       "      <td>0</td>\n",
       "      <td>1</td>\n",
       "    </tr>\n",
       "    <tr>\n",
       "      <th>1997-03-16</th>\n",
       "      <td>13</td>\n",
       "      <td>2</td>\n",
       "      <td>1</td>\n",
       "      <td>3</td>\n",
       "      <td>12</td>\n",
       "      <td>17</td>\n",
       "      <td>4</td>\n",
       "      <td>0</td>\n",
       "      <td>0</td>\n",
       "    </tr>\n",
       "    <tr>\n",
       "      <th>1997-03-30</th>\n",
       "      <td>17</td>\n",
       "      <td>2</td>\n",
       "      <td>2</td>\n",
       "      <td>3</td>\n",
       "      <td>6</td>\n",
       "      <td>5</td>\n",
       "      <td>1</td>\n",
       "      <td>0</td>\n",
       "      <td>0</td>\n",
       "    </tr>\n",
       "    <tr>\n",
       "      <th>1997-04-13</th>\n",
       "      <td>18</td>\n",
       "      <td>3</td>\n",
       "      <td>0</td>\n",
       "      <td>1</td>\n",
       "      <td>7</td>\n",
       "      <td>10</td>\n",
       "      <td>3</td>\n",
       "      <td>1</td>\n",
       "      <td>0</td>\n",
       "    </tr>\n",
       "    <tr>\n",
       "      <th>1997-04-27</th>\n",
       "      <td>17</td>\n",
       "      <td>3</td>\n",
       "      <td>4</td>\n",
       "      <td>5</td>\n",
       "      <td>23</td>\n",
       "      <td>10</td>\n",
       "      <td>4</td>\n",
       "      <td>0</td>\n",
       "      <td>1</td>\n",
       "    </tr>\n",
       "    <tr>\n",
       "      <th>1997-05-11</th>\n",
       "      <td>31</td>\n",
       "      <td>4</td>\n",
       "      <td>5</td>\n",
       "      <td>8</td>\n",
       "      <td>32</td>\n",
       "      <td>37</td>\n",
       "      <td>11</td>\n",
       "      <td>5</td>\n",
       "      <td>0</td>\n",
       "    </tr>\n",
       "    <tr>\n",
       "      <th>1997-05-25</th>\n",
       "      <td>59</td>\n",
       "      <td>10</td>\n",
       "      <td>7</td>\n",
       "      <td>11</td>\n",
       "      <td>71</td>\n",
       "      <td>49</td>\n",
       "      <td>12</td>\n",
       "      <td>3</td>\n",
       "      <td>4</td>\n",
       "    </tr>\n",
       "    <tr>\n",
       "      <th>1997-06-08</th>\n",
       "      <td>91</td>\n",
       "      <td>11</td>\n",
       "      <td>18</td>\n",
       "      <td>18</td>\n",
       "      <td>109</td>\n",
       "      <td>105</td>\n",
       "      <td>31</td>\n",
       "      <td>10</td>\n",
       "      <td>3</td>\n",
       "    </tr>\n",
       "    <tr>\n",
       "      <th>1997-06-22</th>\n",
       "      <td>212</td>\n",
       "      <td>28</td>\n",
       "      <td>18</td>\n",
       "      <td>38</td>\n",
       "      <td>250</td>\n",
       "      <td>209</td>\n",
       "      <td>65</td>\n",
       "      <td>17</td>\n",
       "      <td>10</td>\n",
       "    </tr>\n",
       "    <tr>\n",
       "      <th>1997-07-06</th>\n",
       "      <td>380</td>\n",
       "      <td>62</td>\n",
       "      <td>35</td>\n",
       "      <td>92</td>\n",
       "      <td>547</td>\n",
       "      <td>435</td>\n",
       "      <td>155</td>\n",
       "      <td>46</td>\n",
       "      <td>17</td>\n",
       "    </tr>\n",
       "    <tr>\n",
       "      <th>1997-07-20</th>\n",
       "      <td>567</td>\n",
       "      <td>104</td>\n",
       "      <td>46</td>\n",
       "      <td>146</td>\n",
       "      <td>765</td>\n",
       "      <td>652</td>\n",
       "      <td>252</td>\n",
       "      <td>61</td>\n",
       "      <td>32</td>\n",
       "    </tr>\n",
       "    <tr>\n",
       "      <th>1997-08-03</th>\n",
       "      <td>815</td>\n",
       "      <td>146</td>\n",
       "      <td>119</td>\n",
       "      <td>178</td>\n",
       "      <td>904</td>\n",
       "      <td>728</td>\n",
       "      <td>250</td>\n",
       "      <td>70</td>\n",
       "      <td>25</td>\n",
       "    </tr>\n",
       "    <tr>\n",
       "      <th>1997-08-17</th>\n",
       "      <td>835</td>\n",
       "      <td>167</td>\n",
       "      <td>107</td>\n",
       "      <td>167</td>\n",
       "      <td>753</td>\n",
       "      <td>737</td>\n",
       "      <td>262</td>\n",
       "      <td>71</td>\n",
       "      <td>25</td>\n",
       "    </tr>\n",
       "    <tr>\n",
       "      <th>1997-08-31</th>\n",
       "      <td>571</td>\n",
       "      <td>200</td>\n",
       "      <td>89</td>\n",
       "      <td>169</td>\n",
       "      <td>742</td>\n",
       "      <td>716</td>\n",
       "      <td>257</td>\n",
       "      <td>77</td>\n",
       "      <td>37</td>\n",
       "    </tr>\n",
       "    <tr>\n",
       "      <th>1997-09-14</th>\n",
       "      <td>417</td>\n",
       "      <td>150</td>\n",
       "      <td>103</td>\n",
       "      <td>171</td>\n",
       "      <td>690</td>\n",
       "      <td>616</td>\n",
       "      <td>252</td>\n",
       "      <td>79</td>\n",
       "      <td>25</td>\n",
       "    </tr>\n",
       "    <tr>\n",
       "      <th>1997-09-28</th>\n",
       "      <td>219</td>\n",
       "      <td>111</td>\n",
       "      <td>51</td>\n",
       "      <td>104</td>\n",
       "      <td>421</td>\n",
       "      <td>348</td>\n",
       "      <td>159</td>\n",
       "      <td>51</td>\n",
       "      <td>29</td>\n",
       "    </tr>\n",
       "    <tr>\n",
       "      <th>1997-10-12</th>\n",
       "      <td>151</td>\n",
       "      <td>50</td>\n",
       "      <td>31</td>\n",
       "      <td>66</td>\n",
       "      <td>231</td>\n",
       "      <td>247</td>\n",
       "      <td>103</td>\n",
       "      <td>27</td>\n",
       "      <td>9</td>\n",
       "    </tr>\n",
       "    <tr>\n",
       "      <th>1997-10-26</th>\n",
       "      <td>97</td>\n",
       "      <td>21</td>\n",
       "      <td>20</td>\n",
       "      <td>25</td>\n",
       "      <td>103</td>\n",
       "      <td>113</td>\n",
       "      <td>61</td>\n",
       "      <td>16</td>\n",
       "      <td>3</td>\n",
       "    </tr>\n",
       "    <tr>\n",
       "      <th>1997-11-09</th>\n",
       "      <td>71</td>\n",
       "      <td>32</td>\n",
       "      <td>14</td>\n",
       "      <td>10</td>\n",
       "      <td>84</td>\n",
       "      <td>64</td>\n",
       "      <td>34</td>\n",
       "      <td>11</td>\n",
       "      <td>5</td>\n",
       "    </tr>\n",
       "    <tr>\n",
       "      <th>1997-11-23</th>\n",
       "      <td>49</td>\n",
       "      <td>20</td>\n",
       "      <td>2</td>\n",
       "      <td>4</td>\n",
       "      <td>40</td>\n",
       "      <td>42</td>\n",
       "      <td>25</td>\n",
       "      <td>1</td>\n",
       "      <td>2</td>\n",
       "    </tr>\n",
       "    <tr>\n",
       "      <th>1997-12-07</th>\n",
       "      <td>16</td>\n",
       "      <td>3</td>\n",
       "      <td>3</td>\n",
       "      <td>7</td>\n",
       "      <td>26</td>\n",
       "      <td>33</td>\n",
       "      <td>9</td>\n",
       "      <td>5</td>\n",
       "      <td>0</td>\n",
       "    </tr>\n",
       "    <tr>\n",
       "      <th>1997-12-21</th>\n",
       "      <td>23</td>\n",
       "      <td>3</td>\n",
       "      <td>1</td>\n",
       "      <td>4</td>\n",
       "      <td>9</td>\n",
       "      <td>22</td>\n",
       "      <td>4</td>\n",
       "      <td>1</td>\n",
       "      <td>1</td>\n",
       "    </tr>\n",
       "    <tr>\n",
       "      <th>1998-01-04</th>\n",
       "      <td>7</td>\n",
       "      <td>0</td>\n",
       "      <td>0</td>\n",
       "      <td>1</td>\n",
       "      <td>5</td>\n",
       "      <td>3</td>\n",
       "      <td>3</td>\n",
       "      <td>1</td>\n",
       "      <td>2</td>\n",
       "    </tr>\n",
       "    <tr>\n",
       "      <th>1998-01-18</th>\n",
       "      <td>0</td>\n",
       "      <td>0</td>\n",
       "      <td>0</td>\n",
       "      <td>0</td>\n",
       "      <td>1</td>\n",
       "      <td>2</td>\n",
       "      <td>0</td>\n",
       "      <td>0</td>\n",
       "      <td>0</td>\n",
       "    </tr>\n",
       "  </tbody>\n",
       "</table>\n",
       "</div>"
      ],
      "text/plain": [
       "AGE_GROUP   [0, 5)  [5, 10)  [10, 15)  [15, 20)  [20, 25)  [25, 30)  [30, 35)  \\\n",
       "ONSET                                                                           \n",
       "1997-01-05       0        0         0         0         1         0         0   \n",
       "1997-01-19       0        1         0         0         3         4         0   \n",
       "1997-02-02       4        1         0         0         2         1         0   \n",
       "1997-02-16       4        0         0         0         2         1         1   \n",
       "1997-03-02       9        0         0         2         4         5         1   \n",
       "1997-03-16      13        2         1         3        12        17         4   \n",
       "1997-03-30      17        2         2         3         6         5         1   \n",
       "1997-04-13      18        3         0         1         7        10         3   \n",
       "1997-04-27      17        3         4         5        23        10         4   \n",
       "1997-05-11      31        4         5         8        32        37        11   \n",
       "1997-05-25      59       10         7        11        71        49        12   \n",
       "1997-06-08      91       11        18        18       109       105        31   \n",
       "1997-06-22     212       28        18        38       250       209        65   \n",
       "1997-07-06     380       62        35        92       547       435       155   \n",
       "1997-07-20     567      104        46       146       765       652       252   \n",
       "1997-08-03     815      146       119       178       904       728       250   \n",
       "1997-08-17     835      167       107       167       753       737       262   \n",
       "1997-08-31     571      200        89       169       742       716       257   \n",
       "1997-09-14     417      150       103       171       690       616       252   \n",
       "1997-09-28     219      111        51       104       421       348       159   \n",
       "1997-10-12     151       50        31        66       231       247       103   \n",
       "1997-10-26      97       21        20        25       103       113        61   \n",
       "1997-11-09      71       32        14        10        84        64        34   \n",
       "1997-11-23      49       20         2         4        40        42        25   \n",
       "1997-12-07      16        3         3         7        26        33         9   \n",
       "1997-12-21      23        3         1         4         9        22         4   \n",
       "1998-01-04       7        0         0         1         5         3         3   \n",
       "1998-01-18       0        0         0         0         1         2         0   \n",
       "\n",
       "AGE_GROUP   [35, 40)  [40, 100)  \n",
       "ONSET                            \n",
       "1997-01-05         0          0  \n",
       "1997-01-19         0          0  \n",
       "1997-02-02         0          0  \n",
       "1997-02-16         0          0  \n",
       "1997-03-02         0          1  \n",
       "1997-03-16         0          0  \n",
       "1997-03-30         0          0  \n",
       "1997-04-13         1          0  \n",
       "1997-04-27         0          1  \n",
       "1997-05-11         5          0  \n",
       "1997-05-25         3          4  \n",
       "1997-06-08        10          3  \n",
       "1997-06-22        17         10  \n",
       "1997-07-06        46         17  \n",
       "1997-07-20        61         32  \n",
       "1997-08-03        70         25  \n",
       "1997-08-17        71         25  \n",
       "1997-08-31        77         37  \n",
       "1997-09-14        79         25  \n",
       "1997-09-28        51         29  \n",
       "1997-10-12        27          9  \n",
       "1997-10-26        16          3  \n",
       "1997-11-09        11          5  \n",
       "1997-11-23         1          2  \n",
       "1997-12-07         5          0  \n",
       "1997-12-21         1          1  \n",
       "1998-01-04         1          2  \n",
       "1998-01-18         0          0  "
      ]
     },
     "execution_count": 39,
     "metadata": {},
     "output_type": "execute_result"
    }
   ],
   "source": [
    "confirmed_counts_2w"
   ]
  },
  {
   "cell_type": "code",
   "execution_count": 40,
   "metadata": {
    "collapsed": false
   },
   "outputs": [],
   "source": [
    "# Ensure the age groups are ordered\n",
    "clinical_obs = clinical_counts_2w #.reindex_axis(measles_data['AGE_GROUP'].unique(), \n",
    "                            #axis=1).fillna(0).values.astype(int)\n",
    "confirmed_obs = confirmed_counts_2w #.reindex_axis(measles_data['AGE_GROUP'].unique(), \n",
    "                            #axis=1).fillna(0).values.astype(int)"
   ]
  },
  {
   "cell_type": "code",
   "execution_count": 41,
   "metadata": {
    "collapsed": false
   },
   "outputs": [
    {
     "data": {
      "text/html": [
       "<div>\n",
       "<table border=\"1\" class=\"dataframe\">\n",
       "  <thead>\n",
       "    <tr style=\"text-align: right;\">\n",
       "      <th>AGE_GROUP</th>\n",
       "      <th>[0, 5)</th>\n",
       "      <th>[5, 10)</th>\n",
       "      <th>[10, 15)</th>\n",
       "      <th>[15, 20)</th>\n",
       "      <th>[20, 25)</th>\n",
       "      <th>[25, 30)</th>\n",
       "      <th>[30, 35)</th>\n",
       "      <th>[35, 40)</th>\n",
       "      <th>[40, 100)</th>\n",
       "    </tr>\n",
       "    <tr>\n",
       "      <th>ONSET</th>\n",
       "      <th></th>\n",
       "      <th></th>\n",
       "      <th></th>\n",
       "      <th></th>\n",
       "      <th></th>\n",
       "      <th></th>\n",
       "      <th></th>\n",
       "      <th></th>\n",
       "      <th></th>\n",
       "    </tr>\n",
       "  </thead>\n",
       "  <tbody>\n",
       "    <tr>\n",
       "      <th>1997-01-05</th>\n",
       "      <td>3</td>\n",
       "      <td>1</td>\n",
       "      <td>1</td>\n",
       "      <td>0</td>\n",
       "      <td>0</td>\n",
       "      <td>0</td>\n",
       "      <td>0</td>\n",
       "      <td>0</td>\n",
       "      <td>0</td>\n",
       "    </tr>\n",
       "    <tr>\n",
       "      <th>1997-01-19</th>\n",
       "      <td>30</td>\n",
       "      <td>3</td>\n",
       "      <td>1</td>\n",
       "      <td>1</td>\n",
       "      <td>1</td>\n",
       "      <td>3</td>\n",
       "      <td>2</td>\n",
       "      <td>1</td>\n",
       "      <td>0</td>\n",
       "    </tr>\n",
       "    <tr>\n",
       "      <th>1997-02-02</th>\n",
       "      <td>22</td>\n",
       "      <td>4</td>\n",
       "      <td>0</td>\n",
       "      <td>2</td>\n",
       "      <td>1</td>\n",
       "      <td>1</td>\n",
       "      <td>1</td>\n",
       "      <td>0</td>\n",
       "      <td>1</td>\n",
       "    </tr>\n",
       "    <tr>\n",
       "      <th>1997-02-16</th>\n",
       "      <td>21</td>\n",
       "      <td>2</td>\n",
       "      <td>2</td>\n",
       "      <td>2</td>\n",
       "      <td>2</td>\n",
       "      <td>1</td>\n",
       "      <td>1</td>\n",
       "      <td>0</td>\n",
       "      <td>2</td>\n",
       "    </tr>\n",
       "    <tr>\n",
       "      <th>1997-03-02</th>\n",
       "      <td>24</td>\n",
       "      <td>5</td>\n",
       "      <td>2</td>\n",
       "      <td>5</td>\n",
       "      <td>2</td>\n",
       "      <td>2</td>\n",
       "      <td>2</td>\n",
       "      <td>1</td>\n",
       "      <td>0</td>\n",
       "    </tr>\n",
       "    <tr>\n",
       "      <th>1997-03-16</th>\n",
       "      <td>39</td>\n",
       "      <td>11</td>\n",
       "      <td>4</td>\n",
       "      <td>10</td>\n",
       "      <td>7</td>\n",
       "      <td>2</td>\n",
       "      <td>3</td>\n",
       "      <td>0</td>\n",
       "      <td>2</td>\n",
       "    </tr>\n",
       "    <tr>\n",
       "      <th>1997-03-30</th>\n",
       "      <td>33</td>\n",
       "      <td>5</td>\n",
       "      <td>2</td>\n",
       "      <td>3</td>\n",
       "      <td>3</td>\n",
       "      <td>1</td>\n",
       "      <td>0</td>\n",
       "      <td>1</td>\n",
       "      <td>1</td>\n",
       "    </tr>\n",
       "    <tr>\n",
       "      <th>1997-04-13</th>\n",
       "      <td>24</td>\n",
       "      <td>3</td>\n",
       "      <td>1</td>\n",
       "      <td>4</td>\n",
       "      <td>6</td>\n",
       "      <td>3</td>\n",
       "      <td>1</td>\n",
       "      <td>0</td>\n",
       "      <td>2</td>\n",
       "    </tr>\n",
       "    <tr>\n",
       "      <th>1997-04-27</th>\n",
       "      <td>31</td>\n",
       "      <td>5</td>\n",
       "      <td>2</td>\n",
       "      <td>4</td>\n",
       "      <td>5</td>\n",
       "      <td>6</td>\n",
       "      <td>2</td>\n",
       "      <td>2</td>\n",
       "      <td>0</td>\n",
       "    </tr>\n",
       "    <tr>\n",
       "      <th>1997-05-11</th>\n",
       "      <td>36</td>\n",
       "      <td>8</td>\n",
       "      <td>4</td>\n",
       "      <td>5</td>\n",
       "      <td>10</td>\n",
       "      <td>9</td>\n",
       "      <td>6</td>\n",
       "      <td>1</td>\n",
       "      <td>2</td>\n",
       "    </tr>\n",
       "    <tr>\n",
       "      <th>1997-05-25</th>\n",
       "      <td>40</td>\n",
       "      <td>15</td>\n",
       "      <td>5</td>\n",
       "      <td>7</td>\n",
       "      <td>22</td>\n",
       "      <td>23</td>\n",
       "      <td>6</td>\n",
       "      <td>1</td>\n",
       "      <td>2</td>\n",
       "    </tr>\n",
       "    <tr>\n",
       "      <th>1997-06-08</th>\n",
       "      <td>57</td>\n",
       "      <td>15</td>\n",
       "      <td>9</td>\n",
       "      <td>13</td>\n",
       "      <td>48</td>\n",
       "      <td>48</td>\n",
       "      <td>16</td>\n",
       "      <td>2</td>\n",
       "      <td>2</td>\n",
       "    </tr>\n",
       "    <tr>\n",
       "      <th>1997-06-22</th>\n",
       "      <td>126</td>\n",
       "      <td>26</td>\n",
       "      <td>14</td>\n",
       "      <td>37</td>\n",
       "      <td>107</td>\n",
       "      <td>105</td>\n",
       "      <td>30</td>\n",
       "      <td>9</td>\n",
       "      <td>8</td>\n",
       "    </tr>\n",
       "    <tr>\n",
       "      <th>1997-07-06</th>\n",
       "      <td>239</td>\n",
       "      <td>35</td>\n",
       "      <td>44</td>\n",
       "      <td>66</td>\n",
       "      <td>254</td>\n",
       "      <td>183</td>\n",
       "      <td>79</td>\n",
       "      <td>19</td>\n",
       "      <td>17</td>\n",
       "    </tr>\n",
       "    <tr>\n",
       "      <th>1997-07-20</th>\n",
       "      <td>359</td>\n",
       "      <td>92</td>\n",
       "      <td>51</td>\n",
       "      <td>108</td>\n",
       "      <td>403</td>\n",
       "      <td>380</td>\n",
       "      <td>147</td>\n",
       "      <td>26</td>\n",
       "      <td>31</td>\n",
       "    </tr>\n",
       "    <tr>\n",
       "      <th>1997-08-03</th>\n",
       "      <td>475</td>\n",
       "      <td>125</td>\n",
       "      <td>68</td>\n",
       "      <td>140</td>\n",
       "      <td>534</td>\n",
       "      <td>463</td>\n",
       "      <td>179</td>\n",
       "      <td>67</td>\n",
       "      <td>23</td>\n",
       "    </tr>\n",
       "    <tr>\n",
       "      <th>1997-08-17</th>\n",
       "      <td>639</td>\n",
       "      <td>179</td>\n",
       "      <td>116</td>\n",
       "      <td>197</td>\n",
       "      <td>593</td>\n",
       "      <td>514</td>\n",
       "      <td>214</td>\n",
       "      <td>45</td>\n",
       "      <td>43</td>\n",
       "    </tr>\n",
       "    <tr>\n",
       "      <th>1997-08-31</th>\n",
       "      <td>581</td>\n",
       "      <td>214</td>\n",
       "      <td>155</td>\n",
       "      <td>278</td>\n",
       "      <td>568</td>\n",
       "      <td>537</td>\n",
       "      <td>217</td>\n",
       "      <td>83</td>\n",
       "      <td>54</td>\n",
       "    </tr>\n",
       "    <tr>\n",
       "      <th>1997-09-14</th>\n",
       "      <td>465</td>\n",
       "      <td>248</td>\n",
       "      <td>161</td>\n",
       "      <td>252</td>\n",
       "      <td>522</td>\n",
       "      <td>445</td>\n",
       "      <td>206</td>\n",
       "      <td>67</td>\n",
       "      <td>50</td>\n",
       "    </tr>\n",
       "    <tr>\n",
       "      <th>1997-09-28</th>\n",
       "      <td>315</td>\n",
       "      <td>165</td>\n",
       "      <td>135</td>\n",
       "      <td>160</td>\n",
       "      <td>289</td>\n",
       "      <td>281</td>\n",
       "      <td>103</td>\n",
       "      <td>29</td>\n",
       "      <td>38</td>\n",
       "    </tr>\n",
       "    <tr>\n",
       "      <th>1997-10-12</th>\n",
       "      <td>213</td>\n",
       "      <td>92</td>\n",
       "      <td>39</td>\n",
       "      <td>56</td>\n",
       "      <td>135</td>\n",
       "      <td>135</td>\n",
       "      <td>60</td>\n",
       "      <td>20</td>\n",
       "      <td>17</td>\n",
       "    </tr>\n",
       "    <tr>\n",
       "      <th>1997-10-26</th>\n",
       "      <td>142</td>\n",
       "      <td>52</td>\n",
       "      <td>28</td>\n",
       "      <td>18</td>\n",
       "      <td>77</td>\n",
       "      <td>77</td>\n",
       "      <td>36</td>\n",
       "      <td>11</td>\n",
       "      <td>7</td>\n",
       "    </tr>\n",
       "    <tr>\n",
       "      <th>1997-11-09</th>\n",
       "      <td>112</td>\n",
       "      <td>45</td>\n",
       "      <td>15</td>\n",
       "      <td>17</td>\n",
       "      <td>38</td>\n",
       "      <td>24</td>\n",
       "      <td>9</td>\n",
       "      <td>3</td>\n",
       "      <td>5</td>\n",
       "    </tr>\n",
       "    <tr>\n",
       "      <th>1997-11-23</th>\n",
       "      <td>78</td>\n",
       "      <td>21</td>\n",
       "      <td>9</td>\n",
       "      <td>10</td>\n",
       "      <td>32</td>\n",
       "      <td>20</td>\n",
       "      <td>11</td>\n",
       "      <td>5</td>\n",
       "      <td>0</td>\n",
       "    </tr>\n",
       "    <tr>\n",
       "      <th>1997-12-07</th>\n",
       "      <td>74</td>\n",
       "      <td>12</td>\n",
       "      <td>4</td>\n",
       "      <td>13</td>\n",
       "      <td>6</td>\n",
       "      <td>6</td>\n",
       "      <td>6</td>\n",
       "      <td>2</td>\n",
       "      <td>2</td>\n",
       "    </tr>\n",
       "    <tr>\n",
       "      <th>1997-12-21</th>\n",
       "      <td>57</td>\n",
       "      <td>10</td>\n",
       "      <td>8</td>\n",
       "      <td>4</td>\n",
       "      <td>11</td>\n",
       "      <td>7</td>\n",
       "      <td>5</td>\n",
       "      <td>1</td>\n",
       "      <td>1</td>\n",
       "    </tr>\n",
       "    <tr>\n",
       "      <th>1998-01-04</th>\n",
       "      <td>31</td>\n",
       "      <td>5</td>\n",
       "      <td>2</td>\n",
       "      <td>2</td>\n",
       "      <td>2</td>\n",
       "      <td>2</td>\n",
       "      <td>1</td>\n",
       "      <td>0</td>\n",
       "      <td>1</td>\n",
       "    </tr>\n",
       "    <tr>\n",
       "      <th>1998-01-18</th>\n",
       "      <td>2</td>\n",
       "      <td>0</td>\n",
       "      <td>0</td>\n",
       "      <td>0</td>\n",
       "      <td>0</td>\n",
       "      <td>0</td>\n",
       "      <td>1</td>\n",
       "      <td>0</td>\n",
       "      <td>0</td>\n",
       "    </tr>\n",
       "  </tbody>\n",
       "</table>\n",
       "</div>"
      ],
      "text/plain": [
       "AGE_GROUP   [0, 5)  [5, 10)  [10, 15)  [15, 20)  [20, 25)  [25, 30)  [30, 35)  \\\n",
       "ONSET                                                                           \n",
       "1997-01-05       3        1         1         0         0         0         0   \n",
       "1997-01-19      30        3         1         1         1         3         2   \n",
       "1997-02-02      22        4         0         2         1         1         1   \n",
       "1997-02-16      21        2         2         2         2         1         1   \n",
       "1997-03-02      24        5         2         5         2         2         2   \n",
       "1997-03-16      39       11         4        10         7         2         3   \n",
       "1997-03-30      33        5         2         3         3         1         0   \n",
       "1997-04-13      24        3         1         4         6         3         1   \n",
       "1997-04-27      31        5         2         4         5         6         2   \n",
       "1997-05-11      36        8         4         5        10         9         6   \n",
       "1997-05-25      40       15         5         7        22        23         6   \n",
       "1997-06-08      57       15         9        13        48        48        16   \n",
       "1997-06-22     126       26        14        37       107       105        30   \n",
       "1997-07-06     239       35        44        66       254       183        79   \n",
       "1997-07-20     359       92        51       108       403       380       147   \n",
       "1997-08-03     475      125        68       140       534       463       179   \n",
       "1997-08-17     639      179       116       197       593       514       214   \n",
       "1997-08-31     581      214       155       278       568       537       217   \n",
       "1997-09-14     465      248       161       252       522       445       206   \n",
       "1997-09-28     315      165       135       160       289       281       103   \n",
       "1997-10-12     213       92        39        56       135       135        60   \n",
       "1997-10-26     142       52        28        18        77        77        36   \n",
       "1997-11-09     112       45        15        17        38        24         9   \n",
       "1997-11-23      78       21         9        10        32        20        11   \n",
       "1997-12-07      74       12         4        13         6         6         6   \n",
       "1997-12-21      57       10         8         4        11         7         5   \n",
       "1998-01-04      31        5         2         2         2         2         1   \n",
       "1998-01-18       2        0         0         0         0         0         1   \n",
       "\n",
       "AGE_GROUP   [35, 40)  [40, 100)  \n",
       "ONSET                            \n",
       "1997-01-05         0          0  \n",
       "1997-01-19         1          0  \n",
       "1997-02-02         0          1  \n",
       "1997-02-16         0          2  \n",
       "1997-03-02         1          0  \n",
       "1997-03-16         0          2  \n",
       "1997-03-30         1          1  \n",
       "1997-04-13         0          2  \n",
       "1997-04-27         2          0  \n",
       "1997-05-11         1          2  \n",
       "1997-05-25         1          2  \n",
       "1997-06-08         2          2  \n",
       "1997-06-22         9          8  \n",
       "1997-07-06        19         17  \n",
       "1997-07-20        26         31  \n",
       "1997-08-03        67         23  \n",
       "1997-08-17        45         43  \n",
       "1997-08-31        83         54  \n",
       "1997-09-14        67         50  \n",
       "1997-09-28        29         38  \n",
       "1997-10-12        20         17  \n",
       "1997-10-26        11          7  \n",
       "1997-11-09         3          5  \n",
       "1997-11-23         5          0  \n",
       "1997-12-07         2          2  \n",
       "1997-12-21         1          1  \n",
       "1998-01-04         0          1  \n",
       "1998-01-18         0          0  "
      ]
     },
     "execution_count": 41,
     "metadata": {},
     "output_type": "execute_result"
    }
   ],
   "source": [
    "clinical_obs"
   ]
  },
  {
   "cell_type": "code",
   "execution_count": 42,
   "metadata": {
    "collapsed": false
   },
   "outputs": [
    {
     "data": {
      "text/html": [
       "<div>\n",
       "<table border=\"1\" class=\"dataframe\">\n",
       "  <thead>\n",
       "    <tr style=\"text-align: right;\">\n",
       "      <th>AGE_GROUP</th>\n",
       "      <th>[0, 5)</th>\n",
       "      <th>[5, 10)</th>\n",
       "      <th>[10, 15)</th>\n",
       "      <th>[15, 20)</th>\n",
       "      <th>[20, 25)</th>\n",
       "      <th>[25, 30)</th>\n",
       "      <th>[30, 35)</th>\n",
       "      <th>[35, 40)</th>\n",
       "      <th>[40, 100)</th>\n",
       "    </tr>\n",
       "    <tr>\n",
       "      <th>ONSET</th>\n",
       "      <th></th>\n",
       "      <th></th>\n",
       "      <th></th>\n",
       "      <th></th>\n",
       "      <th></th>\n",
       "      <th></th>\n",
       "      <th></th>\n",
       "      <th></th>\n",
       "      <th></th>\n",
       "    </tr>\n",
       "  </thead>\n",
       "  <tbody>\n",
       "    <tr>\n",
       "      <th>1997-01-05</th>\n",
       "      <td>0</td>\n",
       "      <td>0</td>\n",
       "      <td>0</td>\n",
       "      <td>0</td>\n",
       "      <td>1</td>\n",
       "      <td>0</td>\n",
       "      <td>0</td>\n",
       "      <td>0</td>\n",
       "      <td>0</td>\n",
       "    </tr>\n",
       "    <tr>\n",
       "      <th>1997-01-19</th>\n",
       "      <td>0</td>\n",
       "      <td>1</td>\n",
       "      <td>0</td>\n",
       "      <td>0</td>\n",
       "      <td>3</td>\n",
       "      <td>4</td>\n",
       "      <td>0</td>\n",
       "      <td>0</td>\n",
       "      <td>0</td>\n",
       "    </tr>\n",
       "    <tr>\n",
       "      <th>1997-02-02</th>\n",
       "      <td>4</td>\n",
       "      <td>1</td>\n",
       "      <td>0</td>\n",
       "      <td>0</td>\n",
       "      <td>2</td>\n",
       "      <td>1</td>\n",
       "      <td>0</td>\n",
       "      <td>0</td>\n",
       "      <td>0</td>\n",
       "    </tr>\n",
       "    <tr>\n",
       "      <th>1997-02-16</th>\n",
       "      <td>4</td>\n",
       "      <td>0</td>\n",
       "      <td>0</td>\n",
       "      <td>0</td>\n",
       "      <td>2</td>\n",
       "      <td>1</td>\n",
       "      <td>1</td>\n",
       "      <td>0</td>\n",
       "      <td>0</td>\n",
       "    </tr>\n",
       "    <tr>\n",
       "      <th>1997-03-02</th>\n",
       "      <td>9</td>\n",
       "      <td>0</td>\n",
       "      <td>0</td>\n",
       "      <td>2</td>\n",
       "      <td>4</td>\n",
       "      <td>5</td>\n",
       "      <td>1</td>\n",
       "      <td>0</td>\n",
       "      <td>1</td>\n",
       "    </tr>\n",
       "    <tr>\n",
       "      <th>1997-03-16</th>\n",
       "      <td>13</td>\n",
       "      <td>2</td>\n",
       "      <td>1</td>\n",
       "      <td>3</td>\n",
       "      <td>12</td>\n",
       "      <td>17</td>\n",
       "      <td>4</td>\n",
       "      <td>0</td>\n",
       "      <td>0</td>\n",
       "    </tr>\n",
       "    <tr>\n",
       "      <th>1997-03-30</th>\n",
       "      <td>17</td>\n",
       "      <td>2</td>\n",
       "      <td>2</td>\n",
       "      <td>3</td>\n",
       "      <td>6</td>\n",
       "      <td>5</td>\n",
       "      <td>1</td>\n",
       "      <td>0</td>\n",
       "      <td>0</td>\n",
       "    </tr>\n",
       "    <tr>\n",
       "      <th>1997-04-13</th>\n",
       "      <td>18</td>\n",
       "      <td>3</td>\n",
       "      <td>0</td>\n",
       "      <td>1</td>\n",
       "      <td>7</td>\n",
       "      <td>10</td>\n",
       "      <td>3</td>\n",
       "      <td>1</td>\n",
       "      <td>0</td>\n",
       "    </tr>\n",
       "    <tr>\n",
       "      <th>1997-04-27</th>\n",
       "      <td>17</td>\n",
       "      <td>3</td>\n",
       "      <td>4</td>\n",
       "      <td>5</td>\n",
       "      <td>23</td>\n",
       "      <td>10</td>\n",
       "      <td>4</td>\n",
       "      <td>0</td>\n",
       "      <td>1</td>\n",
       "    </tr>\n",
       "    <tr>\n",
       "      <th>1997-05-11</th>\n",
       "      <td>31</td>\n",
       "      <td>4</td>\n",
       "      <td>5</td>\n",
       "      <td>8</td>\n",
       "      <td>32</td>\n",
       "      <td>37</td>\n",
       "      <td>11</td>\n",
       "      <td>5</td>\n",
       "      <td>0</td>\n",
       "    </tr>\n",
       "    <tr>\n",
       "      <th>1997-05-25</th>\n",
       "      <td>59</td>\n",
       "      <td>10</td>\n",
       "      <td>7</td>\n",
       "      <td>11</td>\n",
       "      <td>71</td>\n",
       "      <td>49</td>\n",
       "      <td>12</td>\n",
       "      <td>3</td>\n",
       "      <td>4</td>\n",
       "    </tr>\n",
       "    <tr>\n",
       "      <th>1997-06-08</th>\n",
       "      <td>91</td>\n",
       "      <td>11</td>\n",
       "      <td>18</td>\n",
       "      <td>18</td>\n",
       "      <td>109</td>\n",
       "      <td>105</td>\n",
       "      <td>31</td>\n",
       "      <td>10</td>\n",
       "      <td>3</td>\n",
       "    </tr>\n",
       "    <tr>\n",
       "      <th>1997-06-22</th>\n",
       "      <td>212</td>\n",
       "      <td>28</td>\n",
       "      <td>18</td>\n",
       "      <td>38</td>\n",
       "      <td>250</td>\n",
       "      <td>209</td>\n",
       "      <td>65</td>\n",
       "      <td>17</td>\n",
       "      <td>10</td>\n",
       "    </tr>\n",
       "    <tr>\n",
       "      <th>1997-07-06</th>\n",
       "      <td>380</td>\n",
       "      <td>62</td>\n",
       "      <td>35</td>\n",
       "      <td>92</td>\n",
       "      <td>547</td>\n",
       "      <td>435</td>\n",
       "      <td>155</td>\n",
       "      <td>46</td>\n",
       "      <td>17</td>\n",
       "    </tr>\n",
       "    <tr>\n",
       "      <th>1997-07-20</th>\n",
       "      <td>567</td>\n",
       "      <td>104</td>\n",
       "      <td>46</td>\n",
       "      <td>146</td>\n",
       "      <td>765</td>\n",
       "      <td>652</td>\n",
       "      <td>252</td>\n",
       "      <td>61</td>\n",
       "      <td>32</td>\n",
       "    </tr>\n",
       "    <tr>\n",
       "      <th>1997-08-03</th>\n",
       "      <td>815</td>\n",
       "      <td>146</td>\n",
       "      <td>119</td>\n",
       "      <td>178</td>\n",
       "      <td>904</td>\n",
       "      <td>728</td>\n",
       "      <td>250</td>\n",
       "      <td>70</td>\n",
       "      <td>25</td>\n",
       "    </tr>\n",
       "    <tr>\n",
       "      <th>1997-08-17</th>\n",
       "      <td>835</td>\n",
       "      <td>167</td>\n",
       "      <td>107</td>\n",
       "      <td>167</td>\n",
       "      <td>753</td>\n",
       "      <td>737</td>\n",
       "      <td>262</td>\n",
       "      <td>71</td>\n",
       "      <td>25</td>\n",
       "    </tr>\n",
       "    <tr>\n",
       "      <th>1997-08-31</th>\n",
       "      <td>571</td>\n",
       "      <td>200</td>\n",
       "      <td>89</td>\n",
       "      <td>169</td>\n",
       "      <td>742</td>\n",
       "      <td>716</td>\n",
       "      <td>257</td>\n",
       "      <td>77</td>\n",
       "      <td>37</td>\n",
       "    </tr>\n",
       "    <tr>\n",
       "      <th>1997-09-14</th>\n",
       "      <td>417</td>\n",
       "      <td>150</td>\n",
       "      <td>103</td>\n",
       "      <td>171</td>\n",
       "      <td>690</td>\n",
       "      <td>616</td>\n",
       "      <td>252</td>\n",
       "      <td>79</td>\n",
       "      <td>25</td>\n",
       "    </tr>\n",
       "    <tr>\n",
       "      <th>1997-09-28</th>\n",
       "      <td>219</td>\n",
       "      <td>111</td>\n",
       "      <td>51</td>\n",
       "      <td>104</td>\n",
       "      <td>421</td>\n",
       "      <td>348</td>\n",
       "      <td>159</td>\n",
       "      <td>51</td>\n",
       "      <td>29</td>\n",
       "    </tr>\n",
       "    <tr>\n",
       "      <th>1997-10-12</th>\n",
       "      <td>151</td>\n",
       "      <td>50</td>\n",
       "      <td>31</td>\n",
       "      <td>66</td>\n",
       "      <td>231</td>\n",
       "      <td>247</td>\n",
       "      <td>103</td>\n",
       "      <td>27</td>\n",
       "      <td>9</td>\n",
       "    </tr>\n",
       "    <tr>\n",
       "      <th>1997-10-26</th>\n",
       "      <td>97</td>\n",
       "      <td>21</td>\n",
       "      <td>20</td>\n",
       "      <td>25</td>\n",
       "      <td>103</td>\n",
       "      <td>113</td>\n",
       "      <td>61</td>\n",
       "      <td>16</td>\n",
       "      <td>3</td>\n",
       "    </tr>\n",
       "    <tr>\n",
       "      <th>1997-11-09</th>\n",
       "      <td>71</td>\n",
       "      <td>32</td>\n",
       "      <td>14</td>\n",
       "      <td>10</td>\n",
       "      <td>84</td>\n",
       "      <td>64</td>\n",
       "      <td>34</td>\n",
       "      <td>11</td>\n",
       "      <td>5</td>\n",
       "    </tr>\n",
       "    <tr>\n",
       "      <th>1997-11-23</th>\n",
       "      <td>49</td>\n",
       "      <td>20</td>\n",
       "      <td>2</td>\n",
       "      <td>4</td>\n",
       "      <td>40</td>\n",
       "      <td>42</td>\n",
       "      <td>25</td>\n",
       "      <td>1</td>\n",
       "      <td>2</td>\n",
       "    </tr>\n",
       "    <tr>\n",
       "      <th>1997-12-07</th>\n",
       "      <td>16</td>\n",
       "      <td>3</td>\n",
       "      <td>3</td>\n",
       "      <td>7</td>\n",
       "      <td>26</td>\n",
       "      <td>33</td>\n",
       "      <td>9</td>\n",
       "      <td>5</td>\n",
       "      <td>0</td>\n",
       "    </tr>\n",
       "    <tr>\n",
       "      <th>1997-12-21</th>\n",
       "      <td>23</td>\n",
       "      <td>3</td>\n",
       "      <td>1</td>\n",
       "      <td>4</td>\n",
       "      <td>9</td>\n",
       "      <td>22</td>\n",
       "      <td>4</td>\n",
       "      <td>1</td>\n",
       "      <td>1</td>\n",
       "    </tr>\n",
       "    <tr>\n",
       "      <th>1998-01-04</th>\n",
       "      <td>7</td>\n",
       "      <td>0</td>\n",
       "      <td>0</td>\n",
       "      <td>1</td>\n",
       "      <td>5</td>\n",
       "      <td>3</td>\n",
       "      <td>3</td>\n",
       "      <td>1</td>\n",
       "      <td>2</td>\n",
       "    </tr>\n",
       "    <tr>\n",
       "      <th>1998-01-18</th>\n",
       "      <td>0</td>\n",
       "      <td>0</td>\n",
       "      <td>0</td>\n",
       "      <td>0</td>\n",
       "      <td>1</td>\n",
       "      <td>2</td>\n",
       "      <td>0</td>\n",
       "      <td>0</td>\n",
       "      <td>0</td>\n",
       "    </tr>\n",
       "  </tbody>\n",
       "</table>\n",
       "</div>"
      ],
      "text/plain": [
       "AGE_GROUP   [0, 5)  [5, 10)  [10, 15)  [15, 20)  [20, 25)  [25, 30)  [30, 35)  \\\n",
       "ONSET                                                                           \n",
       "1997-01-05       0        0         0         0         1         0         0   \n",
       "1997-01-19       0        1         0         0         3         4         0   \n",
       "1997-02-02       4        1         0         0         2         1         0   \n",
       "1997-02-16       4        0         0         0         2         1         1   \n",
       "1997-03-02       9        0         0         2         4         5         1   \n",
       "1997-03-16      13        2         1         3        12        17         4   \n",
       "1997-03-30      17        2         2         3         6         5         1   \n",
       "1997-04-13      18        3         0         1         7        10         3   \n",
       "1997-04-27      17        3         4         5        23        10         4   \n",
       "1997-05-11      31        4         5         8        32        37        11   \n",
       "1997-05-25      59       10         7        11        71        49        12   \n",
       "1997-06-08      91       11        18        18       109       105        31   \n",
       "1997-06-22     212       28        18        38       250       209        65   \n",
       "1997-07-06     380       62        35        92       547       435       155   \n",
       "1997-07-20     567      104        46       146       765       652       252   \n",
       "1997-08-03     815      146       119       178       904       728       250   \n",
       "1997-08-17     835      167       107       167       753       737       262   \n",
       "1997-08-31     571      200        89       169       742       716       257   \n",
       "1997-09-14     417      150       103       171       690       616       252   \n",
       "1997-09-28     219      111        51       104       421       348       159   \n",
       "1997-10-12     151       50        31        66       231       247       103   \n",
       "1997-10-26      97       21        20        25       103       113        61   \n",
       "1997-11-09      71       32        14        10        84        64        34   \n",
       "1997-11-23      49       20         2         4        40        42        25   \n",
       "1997-12-07      16        3         3         7        26        33         9   \n",
       "1997-12-21      23        3         1         4         9        22         4   \n",
       "1998-01-04       7        0         0         1         5         3         3   \n",
       "1998-01-18       0        0         0         0         1         2         0   \n",
       "\n",
       "AGE_GROUP   [35, 40)  [40, 100)  \n",
       "ONSET                            \n",
       "1997-01-05         0          0  \n",
       "1997-01-19         0          0  \n",
       "1997-02-02         0          0  \n",
       "1997-02-16         0          0  \n",
       "1997-03-02         0          1  \n",
       "1997-03-16         0          0  \n",
       "1997-03-30         0          0  \n",
       "1997-04-13         1          0  \n",
       "1997-04-27         0          1  \n",
       "1997-05-11         5          0  \n",
       "1997-05-25         3          4  \n",
       "1997-06-08        10          3  \n",
       "1997-06-22        17         10  \n",
       "1997-07-06        46         17  \n",
       "1997-07-20        61         32  \n",
       "1997-08-03        70         25  \n",
       "1997-08-17        71         25  \n",
       "1997-08-31        77         37  \n",
       "1997-09-14        79         25  \n",
       "1997-09-28        51         29  \n",
       "1997-10-12        27          9  \n",
       "1997-10-26        16          3  \n",
       "1997-11-09        11          5  \n",
       "1997-11-23         1          2  \n",
       "1997-12-07         5          0  \n",
       "1997-12-21         1          1  \n",
       "1998-01-04         1          2  \n",
       "1998-01-18         0          0  "
      ]
     },
     "execution_count": 42,
     "metadata": {},
     "output_type": "execute_result"
    }
   ],
   "source": [
    "confirmed_obs"
   ]
  },
  {
   "cell_type": "code",
   "execution_count": 43,
   "metadata": {
    "collapsed": false
   },
   "outputs": [
    {
     "data": {
      "text/plain": [
       "AGE_GROUP\n",
       "[0, 5)       639\n",
       "[5, 10)      248\n",
       "[10, 15)     161\n",
       "[15, 20)     278\n",
       "[20, 25)     593\n",
       "[25, 30)     537\n",
       "[30, 35)     217\n",
       "[35, 40)      83\n",
       "[40, 100)     54\n",
       "dtype: float64"
      ]
     },
     "execution_count": 43,
     "metadata": {},
     "output_type": "execute_result"
    }
   ],
   "source": [
    "clinical_obs.max()"
   ]
  },
  {
   "cell_type": "code",
   "execution_count": 44,
   "metadata": {
    "collapsed": false
   },
   "outputs": [
    {
     "data": {
      "text/plain": [
       "AGE_GROUP\n",
       "[0, 5)       4268\n",
       "[5, 10)      1398\n",
       "[10, 15)      882\n",
       "[15, 20)     1414\n",
       "[20, 25)     3678\n",
       "[25, 30)     3278\n",
       "[30, 35)     1344\n",
       "[35, 40)      396\n",
       "[40, 100)     311\n",
       "dtype: float64"
      ]
     },
     "execution_count": 44,
     "metadata": {},
     "output_type": "execute_result"
    }
   ],
   "source": [
    "clinical_obs.sum()"
   ]
  },
  {
   "cell_type": "markdown",
   "metadata": {},
   "source": [
    "Check shape of data frame\n",
    "\n",
    "- 28 bi-monthly intervals, 9 age groups"
   ]
  },
  {
   "cell_type": "code",
   "execution_count": 46,
   "metadata": {
    "collapsed": false
   },
   "outputs": [],
   "source": [
    "assert clinical_obs.shape == (28, len(age_groups))"
   ]
  },
  {
   "cell_type": "code",
   "execution_count": 47,
   "metadata": {
    "collapsed": false
   },
   "outputs": [],
   "source": [
    "obs_date = '1997-06-15'\n",
    "obs_index = clinical_counts_2w.index <= obs_date\n",
    "clinical_obs_t = clinical_obs[obs_index]\n",
    "confirmed_obs_t = confirmed_obs[obs_index]"
   ]
  },
  {
   "cell_type": "code",
   "execution_count": 48,
   "metadata": {
    "collapsed": false
   },
   "outputs": [
    {
     "data": {
      "text/html": [
       "<div>\n",
       "<table border=\"1\" class=\"dataframe\">\n",
       "  <thead>\n",
       "    <tr style=\"text-align: right;\">\n",
       "      <th>AGE_GROUP</th>\n",
       "      <th>[0, 5)</th>\n",
       "      <th>[5, 10)</th>\n",
       "      <th>[10, 15)</th>\n",
       "      <th>[15, 20)</th>\n",
       "      <th>[20, 25)</th>\n",
       "      <th>[25, 30)</th>\n",
       "      <th>[30, 35)</th>\n",
       "      <th>[35, 40)</th>\n",
       "      <th>[40, 100)</th>\n",
       "    </tr>\n",
       "    <tr>\n",
       "      <th>ONSET</th>\n",
       "      <th></th>\n",
       "      <th></th>\n",
       "      <th></th>\n",
       "      <th></th>\n",
       "      <th></th>\n",
       "      <th></th>\n",
       "      <th></th>\n",
       "      <th></th>\n",
       "      <th></th>\n",
       "    </tr>\n",
       "  </thead>\n",
       "  <tbody>\n",
       "    <tr>\n",
       "      <th>1997-01-05</th>\n",
       "      <td>3</td>\n",
       "      <td>1</td>\n",
       "      <td>1</td>\n",
       "      <td>0</td>\n",
       "      <td>0</td>\n",
       "      <td>0</td>\n",
       "      <td>0</td>\n",
       "      <td>0</td>\n",
       "      <td>0</td>\n",
       "    </tr>\n",
       "    <tr>\n",
       "      <th>1997-01-19</th>\n",
       "      <td>30</td>\n",
       "      <td>3</td>\n",
       "      <td>1</td>\n",
       "      <td>1</td>\n",
       "      <td>1</td>\n",
       "      <td>3</td>\n",
       "      <td>2</td>\n",
       "      <td>1</td>\n",
       "      <td>0</td>\n",
       "    </tr>\n",
       "    <tr>\n",
       "      <th>1997-02-02</th>\n",
       "      <td>22</td>\n",
       "      <td>4</td>\n",
       "      <td>0</td>\n",
       "      <td>2</td>\n",
       "      <td>1</td>\n",
       "      <td>1</td>\n",
       "      <td>1</td>\n",
       "      <td>0</td>\n",
       "      <td>1</td>\n",
       "    </tr>\n",
       "    <tr>\n",
       "      <th>1997-02-16</th>\n",
       "      <td>21</td>\n",
       "      <td>2</td>\n",
       "      <td>2</td>\n",
       "      <td>2</td>\n",
       "      <td>2</td>\n",
       "      <td>1</td>\n",
       "      <td>1</td>\n",
       "      <td>0</td>\n",
       "      <td>2</td>\n",
       "    </tr>\n",
       "    <tr>\n",
       "      <th>1997-03-02</th>\n",
       "      <td>24</td>\n",
       "      <td>5</td>\n",
       "      <td>2</td>\n",
       "      <td>5</td>\n",
       "      <td>2</td>\n",
       "      <td>2</td>\n",
       "      <td>2</td>\n",
       "      <td>1</td>\n",
       "      <td>0</td>\n",
       "    </tr>\n",
       "    <tr>\n",
       "      <th>1997-03-16</th>\n",
       "      <td>39</td>\n",
       "      <td>11</td>\n",
       "      <td>4</td>\n",
       "      <td>10</td>\n",
       "      <td>7</td>\n",
       "      <td>2</td>\n",
       "      <td>3</td>\n",
       "      <td>0</td>\n",
       "      <td>2</td>\n",
       "    </tr>\n",
       "    <tr>\n",
       "      <th>1997-03-30</th>\n",
       "      <td>33</td>\n",
       "      <td>5</td>\n",
       "      <td>2</td>\n",
       "      <td>3</td>\n",
       "      <td>3</td>\n",
       "      <td>1</td>\n",
       "      <td>0</td>\n",
       "      <td>1</td>\n",
       "      <td>1</td>\n",
       "    </tr>\n",
       "    <tr>\n",
       "      <th>1997-04-13</th>\n",
       "      <td>24</td>\n",
       "      <td>3</td>\n",
       "      <td>1</td>\n",
       "      <td>4</td>\n",
       "      <td>6</td>\n",
       "      <td>3</td>\n",
       "      <td>1</td>\n",
       "      <td>0</td>\n",
       "      <td>2</td>\n",
       "    </tr>\n",
       "    <tr>\n",
       "      <th>1997-04-27</th>\n",
       "      <td>31</td>\n",
       "      <td>5</td>\n",
       "      <td>2</td>\n",
       "      <td>4</td>\n",
       "      <td>5</td>\n",
       "      <td>6</td>\n",
       "      <td>2</td>\n",
       "      <td>2</td>\n",
       "      <td>0</td>\n",
       "    </tr>\n",
       "    <tr>\n",
       "      <th>1997-05-11</th>\n",
       "      <td>36</td>\n",
       "      <td>8</td>\n",
       "      <td>4</td>\n",
       "      <td>5</td>\n",
       "      <td>10</td>\n",
       "      <td>9</td>\n",
       "      <td>6</td>\n",
       "      <td>1</td>\n",
       "      <td>2</td>\n",
       "    </tr>\n",
       "    <tr>\n",
       "      <th>1997-05-25</th>\n",
       "      <td>40</td>\n",
       "      <td>15</td>\n",
       "      <td>5</td>\n",
       "      <td>7</td>\n",
       "      <td>22</td>\n",
       "      <td>23</td>\n",
       "      <td>6</td>\n",
       "      <td>1</td>\n",
       "      <td>2</td>\n",
       "    </tr>\n",
       "    <tr>\n",
       "      <th>1997-06-08</th>\n",
       "      <td>57</td>\n",
       "      <td>15</td>\n",
       "      <td>9</td>\n",
       "      <td>13</td>\n",
       "      <td>48</td>\n",
       "      <td>48</td>\n",
       "      <td>16</td>\n",
       "      <td>2</td>\n",
       "      <td>2</td>\n",
       "    </tr>\n",
       "  </tbody>\n",
       "</table>\n",
       "</div>"
      ],
      "text/plain": [
       "AGE_GROUP   [0, 5)  [5, 10)  [10, 15)  [15, 20)  [20, 25)  [25, 30)  [30, 35)  \\\n",
       "ONSET                                                                           \n",
       "1997-01-05       3        1         1         0         0         0         0   \n",
       "1997-01-19      30        3         1         1         1         3         2   \n",
       "1997-02-02      22        4         0         2         1         1         1   \n",
       "1997-02-16      21        2         2         2         2         1         1   \n",
       "1997-03-02      24        5         2         5         2         2         2   \n",
       "1997-03-16      39       11         4        10         7         2         3   \n",
       "1997-03-30      33        5         2         3         3         1         0   \n",
       "1997-04-13      24        3         1         4         6         3         1   \n",
       "1997-04-27      31        5         2         4         5         6         2   \n",
       "1997-05-11      36        8         4         5        10         9         6   \n",
       "1997-05-25      40       15         5         7        22        23         6   \n",
       "1997-06-08      57       15         9        13        48        48        16   \n",
       "\n",
       "AGE_GROUP   [35, 40)  [40, 100)  \n",
       "ONSET                            \n",
       "1997-01-05         0          0  \n",
       "1997-01-19         1          0  \n",
       "1997-02-02         0          1  \n",
       "1997-02-16         0          2  \n",
       "1997-03-02         1          0  \n",
       "1997-03-16         0          2  \n",
       "1997-03-30         1          1  \n",
       "1997-04-13         0          2  \n",
       "1997-04-27         2          0  \n",
       "1997-05-11         1          2  \n",
       "1997-05-25         1          2  \n",
       "1997-06-08         2          2  "
      ]
     },
     "execution_count": 48,
     "metadata": {},
     "output_type": "execute_result"
    }
   ],
   "source": [
    "clinical_obs_t"
   ]
  },
  {
   "cell_type": "code",
   "execution_count": 49,
   "metadata": {
    "collapsed": true
   },
   "outputs": [],
   "source": [
    "obs_index = clinical_counts_2w.index <= obs_date\n",
    "confirmed_obs_t = confirmed_obs[obs_index].values\n",
    "clinical_obs_t = clinical_obs[obs_index].values"
   ]
  },
  {
   "cell_type": "code",
   "execution_count": 144,
   "metadata": {
    "collapsed": false
   },
   "outputs": [],
   "source": [
    "from pymc import MCMC, Matplot, AdaptiveMetropolis, MAP\n",
    "from pymc import (Uniform, DiscreteUniform, Beta, Binomial, Normal, \n",
    "                  CompletedDirichlet,\n",
    "                  Poisson, NegativeBinomial, negative_binomial_like, poisson_like,\n",
    "                  Lognormal, Exponential, binomial_like,\n",
    "                  TruncatedNormal, Binomial, Gamma, HalfCauchy, normal_like,\n",
    "                  MvNormalCov, Bernoulli, Uninformative, \n",
    "                  Multinomial, rmultinomial, rbinomial,\n",
    "                  Dirichlet, multinomial_like)\n",
    "from pymc import (Lambda, observed, invlogit, deterministic, potential, stochastic,)\n",
    "\n",
    "def measles_model(obs_date, confirmation=True, structured_susc=True, \n",
    "                  all_traces=False):\n",
    "    \n",
    "    ### Confirmation sub-model\n",
    "    \n",
    "    if confirmation:\n",
    "\n",
    "        # Specify priors on age-specific means\n",
    "        age_classes = np.unique(age_index)\n",
    "\n",
    "        mu = Normal(\"mu\", mu=0, tau=0.0001, value=[0]*len(age_classes))\n",
    "        sig = HalfCauchy('sig', 0, 25, value=1)\n",
    "        var = sig**2\n",
    "        cor = Uniform('cor', -1, 1, value=0)\n",
    "\n",
    "        # Build variance-covariance matrix with first-order correlation \n",
    "        # among age classes\n",
    "        @deterministic\n",
    "        def Sigma(var=var, cor=cor):\n",
    "            I = np.eye(len(age_classes))*var\n",
    "            E = np.diag(np.ones(len(age_classes)-1), k=-1)*var*cor\n",
    "            return I + E + E.T\n",
    "\n",
    "        # Age-specific probabilities of confirmation as multivariate normal \n",
    "        # random variables\n",
    "        beta_age = MvNormalCov(\"beta_age\", mu=mu, C=Sigma, \n",
    "                        value=[1]*len(age_classes))\n",
    "        p_age = Lambda('p_age', lambda t=beta_age: invlogit(t))\n",
    "\n",
    "        @deterministic(trace=False)\n",
    "        def p_confirm(beta=beta_age):\n",
    "            return invlogit(beta[age_index])\n",
    "\n",
    "\n",
    "        # Confirmation likelihood\n",
    "        lab_confirmed = Bernoulli('lab_confirmed', p=p_confirm, value=confirmed, \n",
    "                                observed=True)\n",
    "\n",
    "\n",
    "    '''\n",
    "    Truncate data at observation period\n",
    "    '''\n",
    "    obs_index = clinical_counts_2w.index <= obs_date\n",
    "    confirmed_obs_t = confirmed_obs[obs_index].values\n",
    "    clinical_obs_t = clinical_obs[obs_index].values\n",
    "                        \n",
    "    n_periods, n_age_groups = confirmed_obs_t.shape\n",
    "\n",
    "    # Index for observation date, used to index out values of interest \n",
    "    # from the model.\n",
    "    t_obs = obs_index.sum() - 1\n",
    "    \n",
    "    if confirmation:\n",
    "        \n",
    "        @stochastic(trace=all_traces, dtype=int)\n",
    "        def clinical_cases(value=(clinical_obs_t*0.5).astype(int), \n",
    "                            n=clinical_obs_t, p=p_age):\n",
    "            # Binomial confirmation process\n",
    "            return np.sum([binomial_like(xi, ni, p) for xi,ni in zip(value,n)])\n",
    "        I = Lambda('I', lambda clinical=clinical_cases: clinical + confirmed_obs_t)\n",
    "\n",
    "        assert I.value.shape == (t_obs +1, n_age_groups)\n",
    "        \n",
    "        age_dist_init = np.sum(I.value, 0)/ float(I.value.sum())\n",
    "        \n",
    "    else:\n",
    "        \n",
    "        I = confirmed_obs_t + clinical_obs_t\n",
    "        \n",
    "        assert I.shape == (t_obs +1, n_age_groups)\n",
    "        \n",
    "        age_dist_init = np.sum(I, 0) / float(I.sum())\n",
    "        \n",
    "    \n",
    "        \n",
    "    # Calcuate age distribution from observed distribution of infecteds to date\n",
    "    _age_dist = Dirichlet('_age_dist', np.ones(n_age_groups), \n",
    "                         value=age_dist_init[:-1]/age_dist_init.sum())\n",
    "    age_dist = CompletedDirichlet('age_dist', _age_dist)\n",
    "    @potential\n",
    "    def age_dist_like(p=age_dist, I=I):\n",
    "        return multinomial_like(I.sum(0), I.sum(), p)\n",
    "\n",
    "\n",
    "    if structured_susc:\n",
    "        \n",
    "        # Transmission parameter\n",
    "        beta = HalfCauchy('beta', 0, 25, value=1)#, value=[1]*n_age_groups) \n",
    "        decay = Beta('decay', 1, 5, value=0.9)\n",
    "\n",
    "        @deterministic\n",
    "        def B(b=beta, d=decay):\n",
    "            b = np.ones(n_age_groups)*b\n",
    "            B = b*np.eye(n_age_groups)\n",
    "            for i in range(1, n_age_groups):\n",
    "                B += np.diag(np.ones(n_age_groups-i)*b[i:]*d**i, k=-i) \n",
    "                B += np.diag(np.ones(n_age_groups-i)*b[:-i]*d**i, k=i)\n",
    "            return B\n",
    "\n",
    "        # Downsample annual series to observed age groups\n",
    "        downsample = lambda x: np.array([x[s].mean() for s in age_slices])\n",
    "\n",
    "        @deterministic\n",
    "        def R0(B=B):\n",
    "            evs = np.linalg.eigvals(B)\n",
    "            return max(evs[np.isreal(evs)])\n",
    "\n",
    "\n",
    "        A = Lambda('A', lambda R0=R0: 75./(R0 - 1))\n",
    "        lt_sum = downsample(np.tril(FOI_mat).sum(0)[::-1])\n",
    "        natural_susc = Lambda('natural_susc', lambda A=A: np.exp((-1/A) * lt_sum))\n",
    "#         natural_susc = Beta('natural_susc', 1, 1, value=[0.02]*n_age_groups)\n",
    "        \n",
    "        @deterministic\n",
    "        def p_susceptible(natural_susc=natural_susc): \n",
    "            return downsample(sia_susc) * downsample(vacc_susc) * natural_susc\n",
    "\n",
    "    else:\n",
    "        \n",
    "        # Transmission parameter\n",
    "        beta = Uniform('beta', 1, 500, value=10)  \n",
    "\n",
    "        # Weakly-informative prior on proportion susceptible being \n",
    "        # between 0 and 0.07\n",
    "        p_susceptible = Beta('p_susceptible', 2, 100)\n",
    "    \n",
    "    # Estimated total initial susceptibles\n",
    "    S_0 = Binomial('S_0', n=N_age.values.astype(int), p=p_susceptible)\n",
    "\n",
    "    # Remaining susceptibles at each 2-week period\n",
    "    S = Lambda('S', lambda I=I, S_0=S_0: S_0 - I.cumsum(axis=0))\n",
    "    \n",
    "    # Check shape\n",
    "    assert S.value.shape == (t_obs+1., n_age_groups)\n",
    "\n",
    "    # Susceptibles at time t, by age\n",
    "    S_age = Lambda('S_age', lambda S=S: S[-1].astype(int))\n",
    "    \n",
    "    if structured_susc:\n",
    "        # Force of infection\n",
    "        @deterministic\n",
    "        def lam(B=B, I=I, S=S): \n",
    "            return S * (I.dot(B) / N_age.values)\n",
    "        \n",
    "        \n",
    "        # Check shape\n",
    "        assert lam.value.shape == (t_obs+1, n_age_groups)\n",
    "        \n",
    "    else:\n",
    "        # Force of infection\n",
    "        @deterministic\n",
    "        def lam(beta=beta, I=I, S=S): \n",
    "            return beta * I.sum(axis=1) * S.sum(axis=1) / N_age.sum()\n",
    "\n",
    "        # Check shape\n",
    "        assert lam.value.shape == (t_obs+1,) # n_age_groups)\n",
    "    \n",
    "    # FOI in observation period\n",
    "    lam_t = Lambda('lam_t', lambda lam=lam: lam[-1])\n",
    "\n",
    "    # Poisson likelihood for observed cases\n",
    "    @potential\n",
    "    def new_cases(I=I, lam=lam):\n",
    "#         return negative_binomial_like(I[1:].sum(1), lam[:-1], I[:-1].sum(1))\n",
    "        return poisson_like(I[1:], lam[:-1])\n",
    "    \n",
    "    '''\n",
    "    Vaccination targets\n",
    "    '''\n",
    "    \n",
    "    @deterministic\n",
    "    def vacc_5(S=S_age):\n",
    "        # Vaccination of 5 and under\n",
    "        p = [0.95] + [0]*(n_age_groups - 1)\n",
    "        return rbinomial(S, p)\n",
    "    \n",
    "    # Proportion of susceptibles vaccinated\n",
    "    pct_5 = Lambda('pct_5', \n",
    "                lambda V=vacc_5, S=S_age: V.sum()/S.sum())\n",
    "\n",
    "\n",
    "    @deterministic\n",
    "    def vacc_15(S=S_age):\n",
    "        # Vaccination of 15 and under\n",
    "        p = [0.95]*3 + [0]*(n_age_groups - 3)\n",
    "        return rbinomial(S, p)\n",
    "    \n",
    "    # Proportion of susceptibles vaccinated\n",
    "    pct_15 = Lambda('pct_15', \n",
    "            lambda V=vacc_15, S=S_age: V.sum()/S.sum())\n",
    "    \n",
    "    @deterministic\n",
    "    def vacc_30(S=S_age):\n",
    "        # Vaccination of 30 and under\n",
    "        p = [0.95]*6 + [0]*(n_age_groups - 6)\n",
    "        return rbinomial(S, p)\n",
    "    \n",
    "    # Proportion of 30 and under susceptibles vaccinated\n",
    "    pct_30 = Lambda('pct_30', \n",
    "            lambda V=vacc_30, S=S_age: V.sum()/S.sum())\n",
    "    \n",
    "    @deterministic\n",
    "    def vacc_adult(S=S_age):\n",
    "        # Vaccination of adults under 30 (and young kids)\n",
    "        p = [0.95, 0, 0, 0, 0.95, 0.95] + [0]*(n_age_groups - 6)\n",
    "        return rbinomial(S, p)\n",
    "    \n",
    "    # Proportion of adults under 30 (and young kids)\n",
    "    pct_adult = Lambda('pct_adult', \n",
    "            lambda V=vacc_adult, S=S_age: V.sum()/S.sum())\n",
    "\n",
    "    return locals()"
   ]
  },
  {
   "cell_type": "markdown",
   "metadata": {},
   "source": [
    "Run models for June 15 and July 15 observation points, both with and without clinical confirmation."
   ]
  },
  {
   "cell_type": "code",
   "execution_count": 145,
   "metadata": {
    "collapsed": true
   },
   "outputs": [],
   "source": [
    "n_iterations = 50000\n",
    "n_burn = 40000\n",
    "structured_susc = True"
   ]
  },
  {
   "cell_type": "markdown",
   "metadata": {},
   "source": [
    "June 15, with lab confirmation"
   ]
  },
  {
   "cell_type": "code",
   "execution_count": 109,
   "metadata": {
    "collapsed": false
   },
   "outputs": [],
   "source": [
    "model = measles_model"
   ]
  },
  {
   "cell_type": "code",
   "execution_count": 146,
   "metadata": {
    "collapsed": false
   },
   "outputs": [],
   "source": [
    "model_june = MCMC(model('1997-06-15', structured_susc=structured_susc))"
   ]
  },
  {
   "cell_type": "code",
   "execution_count": 147,
   "metadata": {
    "collapsed": false
   },
   "outputs": [
    {
     "name": "stdout",
     "output_type": "stream",
     "text": [
      " [-----------------100%-----------------] 50000 of 50000 complete in 272.9 sec"
     ]
    }
   ],
   "source": [
    "model_june.sample(n_iterations, n_burn)"
   ]
  },
  {
   "cell_type": "markdown",
   "metadata": {},
   "source": [
    "July 15, with lab confirmation"
   ]
  },
  {
   "cell_type": "code",
   "execution_count": 148,
   "metadata": {
    "collapsed": false
   },
   "outputs": [],
   "source": [
    "model_july = MCMC(model('1997-07-15', structured_susc=structured_susc))"
   ]
  },
  {
   "cell_type": "code",
   "execution_count": 149,
   "metadata": {
    "collapsed": false,
    "scrolled": false
   },
   "outputs": [
    {
     "name": "stdout",
     "output_type": "stream",
     "text": [
      " [-----------------100%-----------------] 50000 of 50000 complete in 272.8 sec"
     ]
    }
   ],
   "source": [
    "model_july.sample(n_iterations, n_burn)"
   ]
  },
  {
   "cell_type": "markdown",
   "metadata": {},
   "source": [
    "June 15, no lab confirmation"
   ]
  },
  {
   "cell_type": "code",
   "execution_count": 150,
   "metadata": {
    "collapsed": false
   },
   "outputs": [],
   "source": [
    "model_june_noconf = MCMC(model('1997-06-15', \n",
    "                                       confirmation=False, structured_susc=structured_susc))"
   ]
  },
  {
   "cell_type": "code",
   "execution_count": 151,
   "metadata": {
    "collapsed": false
   },
   "outputs": [
    {
     "name": "stdout",
     "output_type": "stream",
     "text": [
      " [-----------------100%-----------------] 50000 of 50000 complete in 85.1 sec"
     ]
    }
   ],
   "source": [
    "model_june_noconf.sample(n_iterations, n_burn)"
   ]
  },
  {
   "cell_type": "markdown",
   "metadata": {},
   "source": [
    "July 15, no lab confirmation"
   ]
  },
  {
   "cell_type": "code",
   "execution_count": 152,
   "metadata": {
    "collapsed": false
   },
   "outputs": [],
   "source": [
    "model_july_noconf = MCMC(model('1997-07-15', \n",
    "                                       confirmation=False, structured_susc=structured_susc))"
   ]
  },
  {
   "cell_type": "code",
   "execution_count": 153,
   "metadata": {
    "collapsed": false
   },
   "outputs": [
    {
     "name": "stdout",
     "output_type": "stream",
     "text": [
      " [-----------------100%-----------------] 50000 of 50000 complete in 87.1 sec"
     ]
    }
   ],
   "source": [
    "model_july_noconf.sample(n_iterations, n_burn)"
   ]
  },
  {
   "cell_type": "markdown",
   "metadata": {},
   "source": [
    "## Summary of model output\n",
    "\n",
    "Estimates of R0 for june and july"
   ]
  },
  {
   "cell_type": "code",
   "execution_count": 176,
   "metadata": {
    "collapsed": false
   },
   "outputs": [
    {
     "name": "stdout",
     "output_type": "stream",
     "text": [
      "Plotting R0\n"
     ]
    },
    {
     "data": {
      "image/png": "[encoded data removed]",
      "text/plain": [
       "<matplotlib.figure.Figure at 0x7f54c3d407b8>"
      ]
     },
     "metadata": {},
     "output_type": "display_data"
    }
   ],
   "source": [
    "if model_june.beta.shape:\n",
    "    Matplot.summary_plot(model_june.R0, custom_labels=age_groups)\n",
    "else:\n",
    "    Matplot.plot(model_june.R0)"
   ]
  },
  {
   "cell_type": "code",
   "execution_count": 177,
   "metadata": {
    "collapsed": false,
    "scrolled": false
   },
   "outputs": [
    {
     "name": "stdout",
     "output_type": "stream",
     "text": [
      "Plotting R0\n"
     ]
    },
    {
     "data": {
      "image/png": "[encoded data removed]",
      "text/plain": [
       "<matplotlib.figure.Figure at 0x7f54c3a478d0>"
      ]
     },
     "metadata": {},
     "output_type": "display_data"
    }
   ],
   "source": [
    "if model_july.beta.shape:\n",
    "    Matplot.summary_plot(model_july.R0, custom_labels=age_groups)\n",
    "else:\n",
    "    Matplot.plot(model_july.R0)"
   ]
  },
  {
   "cell_type": "markdown",
   "metadata": {},
   "source": [
    "Lab confirmation rates, June model"
   ]
  },
  {
   "cell_type": "code",
   "execution_count": 158,
   "metadata": {
    "collapsed": false
   },
   "outputs": [
    {
     "data": {
      "text/plain": [
       "<matplotlib.text.Text at 0x7f54c5cc6898>"
      ]
     },
     "execution_count": 158,
     "metadata": {},
     "output_type": "execute_result"
    },
    {
     "data": {
      "image/png": "[encoded data removed]",
      "text/plain": [
       "<matplotlib.figure.Figure at 0x7f54c5cbe470>"
      ]
     },
     "metadata": {},
     "output_type": "display_data"
    }
   ],
   "source": [
    "p_age = pd.DataFrame(model_june.p_age.trace(), columns=age_groups)\n",
    "\n",
    "f, axes = plt.subplots(figsize=(14,6))\n",
    "sb.boxplot(data=p_age, linewidth=0.3, fliersize=0, ax=axes,\n",
    "          color=sb.color_palette(\"coolwarm\", 5)[0],\n",
    "          order=age_group.categories)\n",
    "axes.set_ylabel('Confirmation rate')\n",
    "axes.set_xlabel('Age group')"
   ]
  },
  {
   "cell_type": "markdown",
   "metadata": {},
   "source": [
    "Proportion of population susceptible, June model."
   ]
  },
  {
   "cell_type": "code",
   "execution_count": 156,
   "metadata": {
    "collapsed": false,
    "scrolled": false
   },
   "outputs": [
    {
     "name": "stdout",
     "output_type": "stream",
     "text": [
      "Could not calculate Gelman-Rubin statistics. Requires multiple chains of equal length.\n"
     ]
    },
    {
     "data": {
      "image/png": "[encoded data removed]",
      "text/plain": [
       "<matplotlib.figure.Figure at 0x7f54c5f375f8>"
      ]
     },
     "metadata": {},
     "output_type": "display_data"
    }
   ],
   "source": [
    "Matplot.summary_plot(model_june.p_susceptible, custom_labels=age_groups)"
   ]
  },
  {
   "cell_type": "markdown",
   "metadata": {},
   "source": [
    "Proportion of population susceptible, June model with no confirmation correction"
   ]
  },
  {
   "cell_type": "code",
   "execution_count": 160,
   "metadata": {
    "collapsed": false,
    "scrolled": false
   },
   "outputs": [
    {
     "name": "stdout",
     "output_type": "stream",
     "text": [
      "Could not calculate Gelman-Rubin statistics. Requires multiple chains of equal length.\n"
     ]
    },
    {
     "data": {
      "image/png": "[encoded data removed]",
      "text/plain": [
       "<matplotlib.figure.Figure at 0x7f54c5d0d8d0>"
      ]
     },
     "metadata": {},
     "output_type": "display_data"
    }
   ],
   "source": [
    "Matplot.summary_plot(model_june_noconf.p_susceptible, custom_labels=age_groups)"
   ]
  },
  {
   "cell_type": "markdown",
   "metadata": {},
   "source": [
    "Epidemic intensity estimates at June and July, per district."
   ]
  },
  {
   "cell_type": "code",
   "execution_count": 161,
   "metadata": {
    "collapsed": false
   },
   "outputs": [
    {
     "name": "stdout",
     "output_type": "stream",
     "text": [
      "Could not calculate Gelman-Rubin statistics. Requires multiple chains of equal length.\n"
     ]
    },
    {
     "data": {
      "image/png": "[encoded data removed]",
      "text/plain": [
       "<matplotlib.figure.Figure at 0x7f54c5a32240>"
      ]
     },
     "metadata": {},
     "output_type": "display_data"
    }
   ],
   "source": [
    "Matplot.summary_plot(model_june.lam_t, custom_labels=age_groups)"
   ]
  },
  {
   "cell_type": "code",
   "execution_count": 162,
   "metadata": {
    "collapsed": false
   },
   "outputs": [
    {
     "name": "stdout",
     "output_type": "stream",
     "text": [
      "Could not calculate Gelman-Rubin statistics. Requires multiple chains of equal length.\n"
     ]
    },
    {
     "data": {
      "image/png": "[encoded data removed]",
      "text/plain": [
       "<matplotlib.figure.Figure at 0x7f54c59dca90>"
      ]
     },
     "metadata": {},
     "output_type": "display_data"
    }
   ],
   "source": [
    "Matplot.summary_plot(model_july.lam_t, custom_labels=age_groups)"
   ]
  },
  {
   "cell_type": "markdown",
   "metadata": {},
   "source": [
    "Epidemic intensity for lab- versus clinical-confirmation models"
   ]
  },
  {
   "cell_type": "code",
   "execution_count": 163,
   "metadata": {
    "collapsed": false
   },
   "outputs": [
    {
     "data": {
      "image/png": "[encoded data removed]",
      "text/plain": [
       "<matplotlib.figure.Figure at 0x7f54c591e748>"
      ]
     },
     "metadata": {},
     "output_type": "display_data"
    }
   ],
   "source": [
    "lam_june = model_june.lam.stats()\n",
    "\n",
    "fig, axes = plt.subplots(2, 1, sharey=True)\n",
    "\n",
    "axes[0].plot(lam_june['quantiles'][50].T, 'b-', alpha=0.4)\n",
    "axes[0].set_ylabel('Epidemic intensity')\n",
    "axes[0].set_xlabel('time (2-week periods)')\n",
    "axes[0].set_title('Lab confirmation')\n",
    "\n",
    "lam_june_noconf = model_june_noconf.lam.stats()\n",
    "\n",
    "axes[1].plot(lam_june_noconf['quantiles'][50].T, 'b-', alpha=0.4)\n",
    "axes[1].set_ylabel('Epidemic intensity')\n",
    "axes[1].set_xlabel('time (2-week periods)')\n",
    "axes[1].set_title('Clinical confirmation')\n",
    "\n",
    "plt.tight_layout()"
   ]
  },
  {
   "cell_type": "code",
   "execution_count": 164,
   "metadata": {
    "collapsed": false
   },
   "outputs": [
    {
     "data": {
      "text/html": [
       "<div>\n",
       "<table border=\"1\" class=\"dataframe\">\n",
       "  <thead>\n",
       "    <tr style=\"text-align: right;\">\n",
       "      <th></th>\n",
       "      <th>0</th>\n",
       "      <th>1</th>\n",
       "      <th>2</th>\n",
       "      <th>3</th>\n",
       "      <th>4</th>\n",
       "      <th>5</th>\n",
       "      <th>6</th>\n",
       "      <th>7</th>\n",
       "      <th>8</th>\n",
       "    </tr>\n",
       "  </thead>\n",
       "  <tbody>\n",
       "    <tr>\n",
       "      <th>0</th>\n",
       "      <td>9507</td>\n",
       "      <td>3385</td>\n",
       "      <td>4204</td>\n",
       "      <td>4448</td>\n",
       "      <td>12178</td>\n",
       "      <td>11460</td>\n",
       "      <td>5950</td>\n",
       "      <td>2245</td>\n",
       "      <td>14232</td>\n",
       "    </tr>\n",
       "    <tr>\n",
       "      <th>1</th>\n",
       "      <td>9507</td>\n",
       "      <td>3385</td>\n",
       "      <td>4204</td>\n",
       "      <td>4448</td>\n",
       "      <td>12178</td>\n",
       "      <td>11460</td>\n",
       "      <td>5950</td>\n",
       "      <td>2246</td>\n",
       "      <td>14232</td>\n",
       "    </tr>\n",
       "    <tr>\n",
       "      <th>2</th>\n",
       "      <td>9507</td>\n",
       "      <td>3385</td>\n",
       "      <td>4204</td>\n",
       "      <td>4448</td>\n",
       "      <td>12178</td>\n",
       "      <td>11460</td>\n",
       "      <td>5950</td>\n",
       "      <td>2246</td>\n",
       "      <td>14232</td>\n",
       "    </tr>\n",
       "    <tr>\n",
       "      <th>3</th>\n",
       "      <td>9507</td>\n",
       "      <td>3385</td>\n",
       "      <td>4204</td>\n",
       "      <td>4448</td>\n",
       "      <td>12178</td>\n",
       "      <td>11460</td>\n",
       "      <td>5950</td>\n",
       "      <td>2246</td>\n",
       "      <td>14232</td>\n",
       "    </tr>\n",
       "    <tr>\n",
       "      <th>4</th>\n",
       "      <td>9507</td>\n",
       "      <td>3385</td>\n",
       "      <td>4204</td>\n",
       "      <td>4448</td>\n",
       "      <td>12178</td>\n",
       "      <td>11460</td>\n",
       "      <td>5950</td>\n",
       "      <td>2246</td>\n",
       "      <td>14232</td>\n",
       "    </tr>\n",
       "    <tr>\n",
       "      <th>5</th>\n",
       "      <td>9508</td>\n",
       "      <td>3386</td>\n",
       "      <td>4204</td>\n",
       "      <td>4448</td>\n",
       "      <td>12178</td>\n",
       "      <td>11460</td>\n",
       "      <td>5950</td>\n",
       "      <td>2246</td>\n",
       "      <td>14232</td>\n",
       "    </tr>\n",
       "    <tr>\n",
       "      <th>6</th>\n",
       "      <td>9508</td>\n",
       "      <td>3386</td>\n",
       "      <td>4204</td>\n",
       "      <td>4448</td>\n",
       "      <td>12178</td>\n",
       "      <td>11460</td>\n",
       "      <td>5950</td>\n",
       "      <td>2246</td>\n",
       "      <td>14232</td>\n",
       "    </tr>\n",
       "    <tr>\n",
       "      <th>7</th>\n",
       "      <td>9508</td>\n",
       "      <td>3386</td>\n",
       "      <td>4204</td>\n",
       "      <td>4448</td>\n",
       "      <td>12178</td>\n",
       "      <td>11460</td>\n",
       "      <td>5950</td>\n",
       "      <td>2246</td>\n",
       "      <td>14232</td>\n",
       "    </tr>\n",
       "    <tr>\n",
       "      <th>8</th>\n",
       "      <td>9508</td>\n",
       "      <td>3386</td>\n",
       "      <td>4204</td>\n",
       "      <td>4448</td>\n",
       "      <td>12178</td>\n",
       "      <td>11460</td>\n",
       "      <td>5950</td>\n",
       "      <td>2246</td>\n",
       "      <td>14232</td>\n",
       "    </tr>\n",
       "    <tr>\n",
       "      <th>9</th>\n",
       "      <td>9497</td>\n",
       "      <td>3390</td>\n",
       "      <td>4197</td>\n",
       "      <td>4400</td>\n",
       "      <td>12251</td>\n",
       "      <td>11524</td>\n",
       "      <td>6001</td>\n",
       "      <td>2289</td>\n",
       "      <td>14434</td>\n",
       "    </tr>\n",
       "    <tr>\n",
       "      <th>10</th>\n",
       "      <td>9497</td>\n",
       "      <td>3390</td>\n",
       "      <td>4197</td>\n",
       "      <td>4400</td>\n",
       "      <td>12251</td>\n",
       "      <td>11524</td>\n",
       "      <td>6001</td>\n",
       "      <td>2289</td>\n",
       "      <td>14434</td>\n",
       "    </tr>\n",
       "    <tr>\n",
       "      <th>11</th>\n",
       "      <td>9497</td>\n",
       "      <td>3390</td>\n",
       "      <td>4197</td>\n",
       "      <td>4400</td>\n",
       "      <td>12251</td>\n",
       "      <td>11524</td>\n",
       "      <td>6001</td>\n",
       "      <td>2289</td>\n",
       "      <td>14434</td>\n",
       "    </tr>\n",
       "    <tr>\n",
       "      <th>12</th>\n",
       "      <td>9497</td>\n",
       "      <td>3390</td>\n",
       "      <td>4197</td>\n",
       "      <td>4400</td>\n",
       "      <td>12251</td>\n",
       "      <td>11524</td>\n",
       "      <td>6001</td>\n",
       "      <td>2289</td>\n",
       "      <td>14434</td>\n",
       "    </tr>\n",
       "    <tr>\n",
       "      <th>13</th>\n",
       "      <td>9497</td>\n",
       "      <td>3390</td>\n",
       "      <td>4197</td>\n",
       "      <td>4400</td>\n",
       "      <td>12251</td>\n",
       "      <td>11524</td>\n",
       "      <td>6001</td>\n",
       "      <td>2289</td>\n",
       "      <td>14434</td>\n",
       "    </tr>\n",
       "    <tr>\n",
       "      <th>14</th>\n",
       "      <td>9475</td>\n",
       "      <td>3380</td>\n",
       "      <td>4194</td>\n",
       "      <td>4453</td>\n",
       "      <td>12329</td>\n",
       "      <td>11582</td>\n",
       "      <td>5948</td>\n",
       "      <td>2226</td>\n",
       "      <td>14629</td>\n",
       "    </tr>\n",
       "    <tr>\n",
       "      <th>15</th>\n",
       "      <td>9475</td>\n",
       "      <td>3380</td>\n",
       "      <td>4194</td>\n",
       "      <td>4453</td>\n",
       "      <td>12329</td>\n",
       "      <td>11582</td>\n",
       "      <td>5948</td>\n",
       "      <td>2226</td>\n",
       "      <td>14629</td>\n",
       "    </tr>\n",
       "    <tr>\n",
       "      <th>16</th>\n",
       "      <td>9499</td>\n",
       "      <td>3370</td>\n",
       "      <td>4186</td>\n",
       "      <td>4412</td>\n",
       "      <td>12404</td>\n",
       "      <td>11535</td>\n",
       "      <td>5899</td>\n",
       "      <td>2273</td>\n",
       "      <td>14440</td>\n",
       "    </tr>\n",
       "    <tr>\n",
       "      <th>17</th>\n",
       "      <td>9485</td>\n",
       "      <td>3382</td>\n",
       "      <td>4197</td>\n",
       "      <td>4373</td>\n",
       "      <td>12335</td>\n",
       "      <td>11479</td>\n",
       "      <td>5949</td>\n",
       "      <td>2314</td>\n",
       "      <td>14249</td>\n",
       "    </tr>\n",
       "    <tr>\n",
       "      <th>18</th>\n",
       "      <td>9485</td>\n",
       "      <td>3382</td>\n",
       "      <td>4197</td>\n",
       "      <td>4373</td>\n",
       "      <td>12335</td>\n",
       "      <td>11479</td>\n",
       "      <td>5949</td>\n",
       "      <td>2314</td>\n",
       "      <td>14249</td>\n",
       "    </tr>\n",
       "    <tr>\n",
       "      <th>19</th>\n",
       "      <td>9485</td>\n",
       "      <td>3382</td>\n",
       "      <td>4197</td>\n",
       "      <td>4373</td>\n",
       "      <td>12335</td>\n",
       "      <td>11479</td>\n",
       "      <td>5949</td>\n",
       "      <td>2314</td>\n",
       "      <td>14249</td>\n",
       "    </tr>\n",
       "    <tr>\n",
       "      <th>20</th>\n",
       "      <td>9485</td>\n",
       "      <td>3382</td>\n",
       "      <td>4197</td>\n",
       "      <td>4373</td>\n",
       "      <td>12335</td>\n",
       "      <td>11479</td>\n",
       "      <td>5949</td>\n",
       "      <td>2314</td>\n",
       "      <td>14249</td>\n",
       "    </tr>\n",
       "    <tr>\n",
       "      <th>21</th>\n",
       "      <td>9460</td>\n",
       "      <td>3386</td>\n",
       "      <td>4208</td>\n",
       "      <td>4419</td>\n",
       "      <td>12406</td>\n",
       "      <td>11542</td>\n",
       "      <td>6005</td>\n",
       "      <td>2275</td>\n",
       "      <td>14442</td>\n",
       "    </tr>\n",
       "    <tr>\n",
       "      <th>22</th>\n",
       "      <td>9460</td>\n",
       "      <td>3386</td>\n",
       "      <td>4208</td>\n",
       "      <td>4419</td>\n",
       "      <td>12405</td>\n",
       "      <td>11542</td>\n",
       "      <td>6005</td>\n",
       "      <td>2275</td>\n",
       "      <td>14442</td>\n",
       "    </tr>\n",
       "    <tr>\n",
       "      <th>23</th>\n",
       "      <td>9474</td>\n",
       "      <td>3381</td>\n",
       "      <td>4201</td>\n",
       "      <td>4456</td>\n",
       "      <td>12350</td>\n",
       "      <td>11602</td>\n",
       "      <td>5941</td>\n",
       "      <td>2325</td>\n",
       "      <td>14631</td>\n",
       "    </tr>\n",
       "    <tr>\n",
       "      <th>24</th>\n",
       "      <td>9492</td>\n",
       "      <td>3372</td>\n",
       "      <td>4199</td>\n",
       "      <td>4393</td>\n",
       "      <td>12263</td>\n",
       "      <td>11670</td>\n",
       "      <td>5879</td>\n",
       "      <td>2274</td>\n",
       "      <td>14843</td>\n",
       "    </tr>\n",
       "    <tr>\n",
       "      <th>25</th>\n",
       "      <td>9492</td>\n",
       "      <td>3372</td>\n",
       "      <td>4198</td>\n",
       "      <td>4393</td>\n",
       "      <td>12262</td>\n",
       "      <td>11669</td>\n",
       "      <td>5879</td>\n",
       "      <td>2274</td>\n",
       "      <td>14843</td>\n",
       "    </tr>\n",
       "    <tr>\n",
       "      <th>26</th>\n",
       "      <td>9514</td>\n",
       "      <td>3377</td>\n",
       "      <td>4191</td>\n",
       "      <td>4447</td>\n",
       "      <td>12343</td>\n",
       "      <td>11742</td>\n",
       "      <td>5933</td>\n",
       "      <td>2230</td>\n",
       "      <td>14664</td>\n",
       "    </tr>\n",
       "    <tr>\n",
       "      <th>27</th>\n",
       "      <td>9535</td>\n",
       "      <td>3384</td>\n",
       "      <td>4200</td>\n",
       "      <td>4400</td>\n",
       "      <td>12423</td>\n",
       "      <td>11674</td>\n",
       "      <td>5879</td>\n",
       "      <td>2171</td>\n",
       "      <td>14451</td>\n",
       "    </tr>\n",
       "    <tr>\n",
       "      <th>28</th>\n",
       "      <td>9535</td>\n",
       "      <td>3384</td>\n",
       "      <td>4200</td>\n",
       "      <td>4400</td>\n",
       "      <td>12423</td>\n",
       "      <td>11674</td>\n",
       "      <td>5879</td>\n",
       "      <td>2171</td>\n",
       "      <td>14451</td>\n",
       "    </tr>\n",
       "    <tr>\n",
       "      <th>29</th>\n",
       "      <td>9513</td>\n",
       "      <td>3390</td>\n",
       "      <td>4203</td>\n",
       "      <td>4448</td>\n",
       "      <td>12354</td>\n",
       "      <td>11628</td>\n",
       "      <td>5927</td>\n",
       "      <td>2225</td>\n",
       "      <td>14673</td>\n",
       "    </tr>\n",
       "    <tr>\n",
       "      <th>...</th>\n",
       "      <td>...</td>\n",
       "      <td>...</td>\n",
       "      <td>...</td>\n",
       "      <td>...</td>\n",
       "      <td>...</td>\n",
       "      <td>...</td>\n",
       "      <td>...</td>\n",
       "      <td>...</td>\n",
       "      <td>...</td>\n",
       "    </tr>\n",
       "    <tr>\n",
       "      <th>9970</th>\n",
       "      <td>10270</td>\n",
       "      <td>3290</td>\n",
       "      <td>4079</td>\n",
       "      <td>3517</td>\n",
       "      <td>11611</td>\n",
       "      <td>10727</td>\n",
       "      <td>6330</td>\n",
       "      <td>4590</td>\n",
       "      <td>26204</td>\n",
       "    </tr>\n",
       "    <tr>\n",
       "      <th>9971</th>\n",
       "      <td>10253</td>\n",
       "      <td>3282</td>\n",
       "      <td>4073</td>\n",
       "      <td>3472</td>\n",
       "      <td>11670</td>\n",
       "      <td>10666</td>\n",
       "      <td>6392</td>\n",
       "      <td>4543</td>\n",
       "      <td>26003</td>\n",
       "    </tr>\n",
       "    <tr>\n",
       "      <th>9972</th>\n",
       "      <td>10232</td>\n",
       "      <td>3274</td>\n",
       "      <td>4080</td>\n",
       "      <td>3399</td>\n",
       "      <td>11616</td>\n",
       "      <td>10608</td>\n",
       "      <td>6340</td>\n",
       "      <td>4491</td>\n",
       "      <td>26198</td>\n",
       "    </tr>\n",
       "    <tr>\n",
       "      <th>9973</th>\n",
       "      <td>10232</td>\n",
       "      <td>3274</td>\n",
       "      <td>4080</td>\n",
       "      <td>3399</td>\n",
       "      <td>11616</td>\n",
       "      <td>10608</td>\n",
       "      <td>6340</td>\n",
       "      <td>4491</td>\n",
       "      <td>26198</td>\n",
       "    </tr>\n",
       "    <tr>\n",
       "      <th>9974</th>\n",
       "      <td>10258</td>\n",
       "      <td>3262</td>\n",
       "      <td>4072</td>\n",
       "      <td>3362</td>\n",
       "      <td>11563</td>\n",
       "      <td>10678</td>\n",
       "      <td>6399</td>\n",
       "      <td>4439</td>\n",
       "      <td>26391</td>\n",
       "    </tr>\n",
       "    <tr>\n",
       "      <th>9975</th>\n",
       "      <td>10258</td>\n",
       "      <td>3262</td>\n",
       "      <td>4072</td>\n",
       "      <td>3362</td>\n",
       "      <td>11564</td>\n",
       "      <td>10678</td>\n",
       "      <td>6399</td>\n",
       "      <td>4439</td>\n",
       "      <td>26391</td>\n",
       "    </tr>\n",
       "    <tr>\n",
       "      <th>9976</th>\n",
       "      <td>10258</td>\n",
       "      <td>3262</td>\n",
       "      <td>4072</td>\n",
       "      <td>3362</td>\n",
       "      <td>11564</td>\n",
       "      <td>10678</td>\n",
       "      <td>6399</td>\n",
       "      <td>4439</td>\n",
       "      <td>26391</td>\n",
       "    </tr>\n",
       "    <tr>\n",
       "      <th>9977</th>\n",
       "      <td>10276</td>\n",
       "      <td>3272</td>\n",
       "      <td>4064</td>\n",
       "      <td>3415</td>\n",
       "      <td>11624</td>\n",
       "      <td>10743</td>\n",
       "      <td>6455</td>\n",
       "      <td>4498</td>\n",
       "      <td>26181</td>\n",
       "    </tr>\n",
       "    <tr>\n",
       "      <th>9978</th>\n",
       "      <td>10261</td>\n",
       "      <td>3265</td>\n",
       "      <td>4059</td>\n",
       "      <td>3461</td>\n",
       "      <td>11677</td>\n",
       "      <td>10679</td>\n",
       "      <td>6508</td>\n",
       "      <td>4441</td>\n",
       "      <td>26388</td>\n",
       "    </tr>\n",
       "    <tr>\n",
       "      <th>9979</th>\n",
       "      <td>10253</td>\n",
       "      <td>3270</td>\n",
       "      <td>4064</td>\n",
       "      <td>3413</td>\n",
       "      <td>11746</td>\n",
       "      <td>10607</td>\n",
       "      <td>6433</td>\n",
       "      <td>4396</td>\n",
       "      <td>26174</td>\n",
       "    </tr>\n",
       "    <tr>\n",
       "      <th>9980</th>\n",
       "      <td>10253</td>\n",
       "      <td>3269</td>\n",
       "      <td>4064</td>\n",
       "      <td>3413</td>\n",
       "      <td>11746</td>\n",
       "      <td>10607</td>\n",
       "      <td>6433</td>\n",
       "      <td>4397</td>\n",
       "      <td>26174</td>\n",
       "    </tr>\n",
       "    <tr>\n",
       "      <th>9981</th>\n",
       "      <td>10253</td>\n",
       "      <td>3269</td>\n",
       "      <td>4064</td>\n",
       "      <td>3413</td>\n",
       "      <td>11746</td>\n",
       "      <td>10607</td>\n",
       "      <td>6433</td>\n",
       "      <td>4397</td>\n",
       "      <td>26174</td>\n",
       "    </tr>\n",
       "    <tr>\n",
       "      <th>9982</th>\n",
       "      <td>10253</td>\n",
       "      <td>3269</td>\n",
       "      <td>4064</td>\n",
       "      <td>3413</td>\n",
       "      <td>11746</td>\n",
       "      <td>10607</td>\n",
       "      <td>6433</td>\n",
       "      <td>4397</td>\n",
       "      <td>26174</td>\n",
       "    </tr>\n",
       "    <tr>\n",
       "      <th>9983</th>\n",
       "      <td>10237</td>\n",
       "      <td>3265</td>\n",
       "      <td>4070</td>\n",
       "      <td>3381</td>\n",
       "      <td>11676</td>\n",
       "      <td>10550</td>\n",
       "      <td>6473</td>\n",
       "      <td>4456</td>\n",
       "      <td>26377</td>\n",
       "    </tr>\n",
       "    <tr>\n",
       "      <th>9984</th>\n",
       "      <td>10237</td>\n",
       "      <td>3265</td>\n",
       "      <td>4070</td>\n",
       "      <td>3381</td>\n",
       "      <td>11676</td>\n",
       "      <td>10549</td>\n",
       "      <td>6473</td>\n",
       "      <td>4456</td>\n",
       "      <td>26376</td>\n",
       "    </tr>\n",
       "    <tr>\n",
       "      <th>9985</th>\n",
       "      <td>10237</td>\n",
       "      <td>3266</td>\n",
       "      <td>4070</td>\n",
       "      <td>3381</td>\n",
       "      <td>11676</td>\n",
       "      <td>10549</td>\n",
       "      <td>6473</td>\n",
       "      <td>4456</td>\n",
       "      <td>26376</td>\n",
       "    </tr>\n",
       "    <tr>\n",
       "      <th>9986</th>\n",
       "      <td>10252</td>\n",
       "      <td>3273</td>\n",
       "      <td>4058</td>\n",
       "      <td>3444</td>\n",
       "      <td>11613</td>\n",
       "      <td>10482</td>\n",
       "      <td>6422</td>\n",
       "      <td>4425</td>\n",
       "      <td>26576</td>\n",
       "    </tr>\n",
       "    <tr>\n",
       "      <th>9987</th>\n",
       "      <td>10252</td>\n",
       "      <td>3273</td>\n",
       "      <td>4058</td>\n",
       "      <td>3444</td>\n",
       "      <td>11613</td>\n",
       "      <td>10482</td>\n",
       "      <td>6422</td>\n",
       "      <td>4425</td>\n",
       "      <td>26576</td>\n",
       "    </tr>\n",
       "    <tr>\n",
       "      <th>9988</th>\n",
       "      <td>10251</td>\n",
       "      <td>3272</td>\n",
       "      <td>4058</td>\n",
       "      <td>3444</td>\n",
       "      <td>11613</td>\n",
       "      <td>10481</td>\n",
       "      <td>6422</td>\n",
       "      <td>4425</td>\n",
       "      <td>26576</td>\n",
       "    </tr>\n",
       "    <tr>\n",
       "      <th>9989</th>\n",
       "      <td>10251</td>\n",
       "      <td>3272</td>\n",
       "      <td>4058</td>\n",
       "      <td>3444</td>\n",
       "      <td>11613</td>\n",
       "      <td>10481</td>\n",
       "      <td>6422</td>\n",
       "      <td>4425</td>\n",
       "      <td>26576</td>\n",
       "    </tr>\n",
       "    <tr>\n",
       "      <th>9990</th>\n",
       "      <td>10251</td>\n",
       "      <td>3272</td>\n",
       "      <td>4058</td>\n",
       "      <td>3444</td>\n",
       "      <td>11613</td>\n",
       "      <td>10481</td>\n",
       "      <td>6422</td>\n",
       "      <td>4425</td>\n",
       "      <td>26576</td>\n",
       "    </tr>\n",
       "    <tr>\n",
       "      <th>9991</th>\n",
       "      <td>10231</td>\n",
       "      <td>3282</td>\n",
       "      <td>4052</td>\n",
       "      <td>3496</td>\n",
       "      <td>11677</td>\n",
       "      <td>10410</td>\n",
       "      <td>6471</td>\n",
       "      <td>4467</td>\n",
       "      <td>26408</td>\n",
       "    </tr>\n",
       "    <tr>\n",
       "      <th>9992</th>\n",
       "      <td>10231</td>\n",
       "      <td>3282</td>\n",
       "      <td>4052</td>\n",
       "      <td>3496</td>\n",
       "      <td>11677</td>\n",
       "      <td>10410</td>\n",
       "      <td>6471</td>\n",
       "      <td>4467</td>\n",
       "      <td>26408</td>\n",
       "    </tr>\n",
       "    <tr>\n",
       "      <th>9993</th>\n",
       "      <td>10231</td>\n",
       "      <td>3282</td>\n",
       "      <td>4053</td>\n",
       "      <td>3496</td>\n",
       "      <td>11677</td>\n",
       "      <td>10410</td>\n",
       "      <td>6471</td>\n",
       "      <td>4467</td>\n",
       "      <td>26408</td>\n",
       "    </tr>\n",
       "    <tr>\n",
       "      <th>9994</th>\n",
       "      <td>10231</td>\n",
       "      <td>3282</td>\n",
       "      <td>4053</td>\n",
       "      <td>3496</td>\n",
       "      <td>11677</td>\n",
       "      <td>10410</td>\n",
       "      <td>6471</td>\n",
       "      <td>4467</td>\n",
       "      <td>26408</td>\n",
       "    </tr>\n",
       "    <tr>\n",
       "      <th>9995</th>\n",
       "      <td>10231</td>\n",
       "      <td>3282</td>\n",
       "      <td>4053</td>\n",
       "      <td>3496</td>\n",
       "      <td>11677</td>\n",
       "      <td>10410</td>\n",
       "      <td>6471</td>\n",
       "      <td>4467</td>\n",
       "      <td>26408</td>\n",
       "    </tr>\n",
       "    <tr>\n",
       "      <th>9996</th>\n",
       "      <td>10231</td>\n",
       "      <td>3282</td>\n",
       "      <td>4053</td>\n",
       "      <td>3496</td>\n",
       "      <td>11677</td>\n",
       "      <td>10410</td>\n",
       "      <td>6471</td>\n",
       "      <td>4467</td>\n",
       "      <td>26408</td>\n",
       "    </tr>\n",
       "    <tr>\n",
       "      <th>9997</th>\n",
       "      <td>10231</td>\n",
       "      <td>3281</td>\n",
       "      <td>4053</td>\n",
       "      <td>3496</td>\n",
       "      <td>11678</td>\n",
       "      <td>10410</td>\n",
       "      <td>6471</td>\n",
       "      <td>4467</td>\n",
       "      <td>26408</td>\n",
       "    </tr>\n",
       "    <tr>\n",
       "      <th>9998</th>\n",
       "      <td>10231</td>\n",
       "      <td>3281</td>\n",
       "      <td>4053</td>\n",
       "      <td>3496</td>\n",
       "      <td>11678</td>\n",
       "      <td>10410</td>\n",
       "      <td>6471</td>\n",
       "      <td>4467</td>\n",
       "      <td>26408</td>\n",
       "    </tr>\n",
       "    <tr>\n",
       "      <th>9999</th>\n",
       "      <td>10231</td>\n",
       "      <td>3281</td>\n",
       "      <td>4053</td>\n",
       "      <td>3496</td>\n",
       "      <td>11678</td>\n",
       "      <td>10410</td>\n",
       "      <td>6471</td>\n",
       "      <td>4467</td>\n",
       "      <td>26408</td>\n",
       "    </tr>\n",
       "  </tbody>\n",
       "</table>\n",
       "<p>10000 rows × 9 columns</p>\n",
       "</div>"
      ],
      "text/plain": [
       "          0     1     2     3      4      5     6     7      8\n",
       "0      9507  3385  4204  4448  12178  11460  5950  2245  14232\n",
       "1      9507  3385  4204  4448  12178  11460  5950  2246  14232\n",
       "2      9507  3385  4204  4448  12178  11460  5950  2246  14232\n",
       "3      9507  3385  4204  4448  12178  11460  5950  2246  14232\n",
       "4      9507  3385  4204  4448  12178  11460  5950  2246  14232\n",
       "5      9508  3386  4204  4448  12178  11460  5950  2246  14232\n",
       "6      9508  3386  4204  4448  12178  11460  5950  2246  14232\n",
       "7      9508  3386  4204  4448  12178  11460  5950  2246  14232\n",
       "8      9508  3386  4204  4448  12178  11460  5950  2246  14232\n",
       "9      9497  3390  4197  4400  12251  11524  6001  2289  14434\n",
       "10     9497  3390  4197  4400  12251  11524  6001  2289  14434\n",
       "11     9497  3390  4197  4400  12251  11524  6001  2289  14434\n",
       "12     9497  3390  4197  4400  12251  11524  6001  2289  14434\n",
       "13     9497  3390  4197  4400  12251  11524  6001  2289  14434\n",
       "14     9475  3380  4194  4453  12329  11582  5948  2226  14629\n",
       "15     9475  3380  4194  4453  12329  11582  5948  2226  14629\n",
       "16     9499  3370  4186  4412  12404  11535  5899  2273  14440\n",
       "17     9485  3382  4197  4373  12335  11479  5949  2314  14249\n",
       "18     9485  3382  4197  4373  12335  11479  5949  2314  14249\n",
       "19     9485  3382  4197  4373  12335  11479  5949  2314  14249\n",
       "20     9485  3382  4197  4373  12335  11479  5949  2314  14249\n",
       "21     9460  3386  4208  4419  12406  11542  6005  2275  14442\n",
       "22     9460  3386  4208  4419  12405  11542  6005  2275  14442\n",
       "23     9474  3381  4201  4456  12350  11602  5941  2325  14631\n",
       "24     9492  3372  4199  4393  12263  11670  5879  2274  14843\n",
       "25     9492  3372  4198  4393  12262  11669  5879  2274  14843\n",
       "26     9514  3377  4191  4447  12343  11742  5933  2230  14664\n",
       "27     9535  3384  4200  4400  12423  11674  5879  2171  14451\n",
       "28     9535  3384  4200  4400  12423  11674  5879  2171  14451\n",
       "29     9513  3390  4203  4448  12354  11628  5927  2225  14673\n",
       "...     ...   ...   ...   ...    ...    ...   ...   ...    ...\n",
       "9970  10270  3290  4079  3517  11611  10727  6330  4590  26204\n",
       "9971  10253  3282  4073  3472  11670  10666  6392  4543  26003\n",
       "9972  10232  3274  4080  3399  11616  10608  6340  4491  26198\n",
       "9973  10232  3274  4080  3399  11616  10608  6340  4491  26198\n",
       "9974  10258  3262  4072  3362  11563  10678  6399  4439  26391\n",
       "9975  10258  3262  4072  3362  11564  10678  6399  4439  26391\n",
       "9976  10258  3262  4072  3362  11564  10678  6399  4439  26391\n",
       "9977  10276  3272  4064  3415  11624  10743  6455  4498  26181\n",
       "9978  10261  3265  4059  3461  11677  10679  6508  4441  26388\n",
       "9979  10253  3270  4064  3413  11746  10607  6433  4396  26174\n",
       "9980  10253  3269  4064  3413  11746  10607  6433  4397  26174\n",
       "9981  10253  3269  4064  3413  11746  10607  6433  4397  26174\n",
       "9982  10253  3269  4064  3413  11746  10607  6433  4397  26174\n",
       "9983  10237  3265  4070  3381  11676  10550  6473  4456  26377\n",
       "9984  10237  3265  4070  3381  11676  10549  6473  4456  26376\n",
       "9985  10237  3266  4070  3381  11676  10549  6473  4456  26376\n",
       "9986  10252  3273  4058  3444  11613  10482  6422  4425  26576\n",
       "9987  10252  3273  4058  3444  11613  10482  6422  4425  26576\n",
       "9988  10251  3272  4058  3444  11613  10481  6422  4425  26576\n",
       "9989  10251  3272  4058  3444  11613  10481  6422  4425  26576\n",
       "9990  10251  3272  4058  3444  11613  10481  6422  4425  26576\n",
       "9991  10231  3282  4052  3496  11677  10410  6471  4467  26408\n",
       "9992  10231  3282  4052  3496  11677  10410  6471  4467  26408\n",
       "9993  10231  3282  4053  3496  11677  10410  6471  4467  26408\n",
       "9994  10231  3282  4053  3496  11677  10410  6471  4467  26408\n",
       "9995  10231  3282  4053  3496  11677  10410  6471  4467  26408\n",
       "9996  10231  3282  4053  3496  11677  10410  6471  4467  26408\n",
       "9997  10231  3281  4053  3496  11678  10410  6471  4467  26408\n",
       "9998  10231  3281  4053  3496  11678  10410  6471  4467  26408\n",
       "9999  10231  3281  4053  3496  11678  10410  6471  4467  26408\n",
       "\n",
       "[10000 rows x 9 columns]"
      ]
     },
     "execution_count": 164,
     "metadata": {},
     "output_type": "execute_result"
    }
   ],
   "source": [
    "pd.DataFrame(model_june.S_age.trace().squeeze())"
   ]
  },
  {
   "cell_type": "code",
   "execution_count": 165,
   "metadata": {
    "collapsed": false
   },
   "outputs": [],
   "source": [
    "S_age_june = pd.DataFrame(model_june.S_age.trace().squeeze(), columns=age_groups).unstack().reset_index()\n",
    "S_age_june.columns = 'Age', 'Iteration', 'S'\n",
    "S_age_june['Confirmation'] = 'Lab'\n",
    "\n",
    "S_age_june_noconf = pd.DataFrame(model_june_noconf.S_age.trace().squeeze(), columns=age_groups).unstack().reset_index()\n",
    "S_age_june_noconf.columns = 'Age', 'Iteration', 'S'\n",
    "S_age_june_noconf['Confirmation'] = 'Clinical'\n",
    "\n",
    "S_age_june = pd.concat([S_age_june, S_age_june_noconf], ignore_index=True)"
   ]
  },
  {
   "cell_type": "code",
   "execution_count": 166,
   "metadata": {
    "collapsed": false
   },
   "outputs": [],
   "source": [
    "S_age_july = pd.DataFrame(model_july.S_age.trace().squeeze(), columns=age_groups).unstack().reset_index()\n",
    "S_age_july.columns = 'Age', 'Iteration', 'S'\n",
    "S_age_july['Confirmation'] = 'Lab'\n",
    "\n",
    "S_age_july_noconf = pd.DataFrame(model_july_noconf.S_age.trace().squeeze(), columns=age_groups).unstack().reset_index()\n",
    "S_age_july_noconf.columns = 'Age', 'Iteration', 'S'\n",
    "S_age_july_noconf['Confirmation'] = 'Clinical'\n",
    "\n",
    "S_age_july = pd.concat([S_age_july, S_age_july_noconf], ignore_index=True)"
   ]
  },
  {
   "cell_type": "markdown",
   "metadata": {},
   "source": [
    "Numbers of suscepibles in each age group, under lab vs clinical confirmation"
   ]
  },
  {
   "cell_type": "code",
   "execution_count": 167,
   "metadata": {
    "collapsed": false
   },
   "outputs": [
    {
     "name": "stderr",
     "output_type": "stream",
     "text": [
      "/usr/local/lib/python3.4/dist-packages/matplotlib/__init__.py:892: UserWarning: axes.color_cycle is deprecated and replaced with axes.prop_cycle; please use the latter.\n",
      "  warnings.warn(self.msg_depr % (key, alt_key))\n"
     ]
    },
    {
     "data": {
      "image/png": "[encoded data removed]",
      "text/plain": [
       "<matplotlib.figure.Figure at 0x7f54c5cfb7b8>"
      ]
     },
     "metadata": {},
     "output_type": "display_data"
    }
   ],
   "source": [
    "g = sb.factorplot(\"Age\", \"S\", \"Confirmation\", S_age_june, kind=\"box\",\n",
    "                   palette=\"hls\", size=6, aspect=2, linewidth=0.3, fliersize=0, \n",
    "                  order=age_group.categories)\n",
    "g.despine(offset=10, trim=True)\n",
    "g.set_axis_labels(\"Age Group\", \"Susceptibles\");"
   ]
  },
  {
   "cell_type": "markdown",
   "metadata": {},
   "source": [
    "## Spatial stuff"
   ]
  },
  {
   "cell_type": "code",
   "execution_count": 168,
   "metadata": {
    "collapsed": false
   },
   "outputs": [],
   "source": [
    "june_lam = pd.DataFrame(model_june.lam_t.trace()).unstack().reset_index()\n",
    "june_lam.columns = ('district', 'iteration', 'λ')\n",
    "june_lam['month'] = 'June'"
   ]
  },
  {
   "cell_type": "code",
   "execution_count": null,
   "metadata": {
    "collapsed": false
   },
   "outputs": [],
   "source": [
    "june_lam_noconf = pd.DataFrame(model_june_noconf.lam_t.trace()).unstack().reset_index()\n",
    "june_lam_noconf.columns = ('district', 'iteration', 'λ')\n",
    "june_lam_noconf['month'] = 'June'"
   ]
  },
  {
   "cell_type": "code",
   "execution_count": null,
   "metadata": {
    "collapsed": false
   },
   "outputs": [],
   "source": [
    "july_lam = pd.DataFrame(model_july.lam_t.trace()).unstack().reset_index()\n",
    "july_lam.columns = ('district', 'iteration', 'λ')\n",
    "july_lam['month'] = 'July'"
   ]
  },
  {
   "cell_type": "code",
   "execution_count": null,
   "metadata": {
    "collapsed": false
   },
   "outputs": [],
   "source": [
    "july_lam_noconf = pd.DataFrame(model_july_noconf.lam_t.trace()).unstack().reset_index()\n",
    "july_lam_noconf.columns = ('district', 'iteration', 'λ')\n",
    "july_lam_noconf['month'] = 'July'"
   ]
  },
  {
   "cell_type": "code",
   "execution_count": null,
   "metadata": {
    "collapsed": true
   },
   "outputs": [],
   "source": [
    "confirmed_lam = june_lam.append(july_lam, ignore_index=True)"
   ]
  },
  {
   "cell_type": "code",
   "execution_count": null,
   "metadata": {
    "collapsed": false
   },
   "outputs": [],
   "source": [
    "june_means = june_lam.groupby('district')['λ'].mean()\n",
    "june_means.sort(ascending=False)"
   ]
  },
  {
   "cell_type": "code",
   "execution_count": null,
   "metadata": {
    "collapsed": false
   },
   "outputs": [],
   "source": [
    "july_means = july_lam.groupby('district')['λ'].mean()\n",
    "july_means.sort(ascending=False)"
   ]
  },
  {
   "cell_type": "code",
   "execution_count": null,
   "metadata": {
    "collapsed": false
   },
   "outputs": [],
   "source": [
    "sorted_districts = june_means.index.values"
   ]
  },
  {
   "cell_type": "markdown",
   "metadata": {},
   "source": [
    "Epidemic intensity by district in June and July (with lab confirmation), sorted by June means."
   ]
  },
  {
   "cell_type": "code",
   "execution_count": null,
   "metadata": {
    "collapsed": false
   },
   "outputs": [],
   "source": [
    "sb.set_context(\"talk\", font_scale=0.8)\n",
    "\n",
    "f, (ax_1, ax_2) = plt.subplots(2, 1, figsize=(12,6), sharey=True, sharex=True)\n",
    "\n",
    "sb.boxplot('district', 'λ', data=june_lam, ax=ax_1, linewidth=0.5, \n",
    "           fliersize=0, color='r', order=sorted_districts)\n",
    "# ax_1.hlines(1, xmin=0, xmax=93, linestyles='dashed', linewidth=0.2)\n",
    "ax_1.set_xticks([])\n",
    "ax_1.set_xlabel('')\n",
    "ax_1.set_ylabel('June')\n",
    "ax_1.set_title(r'Epidemic intensity (λ) estimates, ordered by June means')\n",
    "\n",
    "sb.boxplot('district', 'λ', data=july_lam, ax=ax_2, linewidth=0.5, \n",
    "           fliersize=0, color='r', order=sorted_districts)\n",
    "# ax_2.hlines(1, xmin=0, xmax=93, linestyles='dashed', linewidth=0.2)\n",
    "ax_2.set_xticks([])\n",
    "ax_2.set_ylabel('July')\n",
    "\n",
    "f.tight_layout()"
   ]
  },
  {
   "cell_type": "markdown",
   "metadata": {},
   "source": [
    "Epidemic intensity by district in June for lab-confirmed and clinical-confirmed, sorted by lab-confirmed means."
   ]
  },
  {
   "cell_type": "code",
   "execution_count": null,
   "metadata": {
    "collapsed": false
   },
   "outputs": [],
   "source": [
    "f, (ax_1, ax_2) = plt.subplots(2, 1, figsize=(12,6), sharey=True, sharex=True)\n",
    "\n",
    "sb.boxplot('district', 'λ', data=june_lam, ax=ax_1, linewidth=0.5, \n",
    "           fliersize=0, color='r', order=june_means.index.values)\n",
    "# ax_1.hlines(1, xmin=0, xmax=93, linestyles='dotted', linewidth=0.75)\n",
    "ax_1.set_xticks([])\n",
    "ax_1.set_xlabel('')\n",
    "ax_1.set_ylabel('Lab')\n",
    "ax_1.set_title(r'June epidemic intensity (λ) estimates, ordered by lab-confirmed means')\n",
    "\n",
    "sb.boxplot('district', 'λ', data=june_lam_noconf, ax=ax_2, linewidth=0.5, \n",
    "           fliersize=0, color='r', order=june_means.index.values)\n",
    "# ax_2.hlines(1, xmin=0, xmax=93, linestyles='dotted', linewidth=0.75)\n",
    "ax_2.set_xticks([])\n",
    "ax_2.set_ylabel('Clinical')\n",
    "\n",
    "f.tight_layout()"
   ]
  },
  {
   "cell_type": "markdown",
   "metadata": {},
   "source": [
    "Epidemic intensity by district in July for lab-confirmed and clinical-confirmed, sorted by lab-confirmed means."
   ]
  },
  {
   "cell_type": "code",
   "execution_count": null,
   "metadata": {
    "collapsed": false
   },
   "outputs": [],
   "source": [
    "july_means = july_lam.groupby('district')['λ'].mean()\n",
    "july_means.sort(ascending=False)"
   ]
  },
  {
   "cell_type": "code",
   "execution_count": null,
   "metadata": {
    "collapsed": false
   },
   "outputs": [],
   "source": [
    "f, (ax_1, ax_2) = plt.subplots(2, 1, figsize=(12,6), sharey=True, sharex=True)\n",
    "\n",
    "sb.boxplot('district', 'λ', data=july_lam, ax=ax_1, linewidth=0.5, \n",
    "           fliersize=0, color='r', order=july_means.index.values)\n",
    "# ax_1.hlines(1, xmin=0, xmax=93, linestyles='dotted', linewidth=0.75)\n",
    "ax_1.set_xticks([])\n",
    "ax_1.set_xlabel('')\n",
    "ax_1.set_ylabel('Lab')\n",
    "# ax_1.set_yticks(np.arange(13, step=2))\n",
    "ax_1.set_title(r'July epidemic intensity (λ) estimates, ordered by lab-confirmed means')\n",
    "\n",
    "sb.boxplot('district', 'λ', data=july_lam_noconf, ax=ax_2, linewidth=0.5, \n",
    "           fliersize=0, color='r', order=sorted_districts)\n",
    "# ax_2.hlines(1, xmin=0, xmax=93, linestyles='dotted', linewidth=0.75)\n",
    "ax_2.set_xticks([])\n",
    "ax_2.set_ylabel('Clinical')\n",
    "\n",
    "f.tight_layout()"
   ]
  },
  {
   "cell_type": "code",
   "execution_count": null,
   "metadata": {
    "collapsed": false
   },
   "outputs": [],
   "source": [
    "model_june.summary(['pct_5', 'pct_15', 'pct_30', 'pct_adult'])"
   ]
  },
  {
   "cell_type": "code",
   "execution_count": 169,
   "metadata": {
    "collapsed": true
   },
   "outputs": [],
   "source": [
    "june_coverage = pd.DataFrame({name: model_june.trace(name)[:] for name in ['pct_5', 'pct_15', 'pct_30', 'pct_adult']})\n",
    "june_coverage['Month'] = 'June'\n",
    "june_coverage['Confirmation'] = 'Lab'"
   ]
  },
  {
   "cell_type": "code",
   "execution_count": 170,
   "metadata": {
    "collapsed": false
   },
   "outputs": [],
   "source": [
    "june_noconf_coverage = pd.DataFrame({name: model_june_noconf.trace(name)[:] for name in ['pct_5', 'pct_15', 'pct_30', 'pct_adult']})\n",
    "june_noconf_coverage['Month'] = 'June'\n",
    "june_noconf_coverage['Confirmation'] = 'Clinical'\n",
    "\n",
    "july_coverage = pd.DataFrame({name: model_july.trace(name)[:] for name in ['pct_5', 'pct_15', 'pct_30', 'pct_adult']})\n",
    "july_coverage['Month'] = 'July'\n",
    "july_coverage['Confirmation'] = 'Lab'\n",
    "\n",
    "july_noconf_coverage = pd.DataFrame({name: model_july_noconf.trace(name)[:] for name in ['pct_5', 'pct_15', 'pct_30', 'pct_adult']})\n",
    "july_noconf_coverage['Month'] = 'July'\n",
    "july_noconf_coverage['Confirmation'] = 'Clinical'"
   ]
  },
  {
   "cell_type": "code",
   "execution_count": 171,
   "metadata": {
    "collapsed": false
   },
   "outputs": [],
   "source": [
    "coverage = pd.concat([june_coverage, june_noconf_coverage, july_coverage, july_noconf_coverage], \n",
    "                     ignore_index=True)"
   ]
  },
  {
   "cell_type": "code",
   "execution_count": 172,
   "metadata": {
    "collapsed": false
   },
   "outputs": [
    {
     "name": "stderr",
     "output_type": "stream",
     "text": [
      "/usr/local/lib/python3.4/dist-packages/matplotlib/__init__.py:892: UserWarning: axes.color_cycle is deprecated and replaced with axes.prop_cycle; please use the latter.\n",
      "  warnings.warn(self.msg_depr % (key, alt_key))\n"
     ]
    },
    {
     "data": {
      "text/plain": [
       "<seaborn.axisgrid.FacetGrid at 0x7f54c58cc240>"
      ]
     },
     "execution_count": 172,
     "metadata": {},
     "output_type": "execute_result"
    },
    {
     "data": {
      "image/png": "[encoded data removed]",
      "text/plain": [
       "<matplotlib.figure.Figure at 0x7f4af4d4e908>"
      ]
     },
     "metadata": {},
     "output_type": "display_data"
    }
   ],
   "source": [
    "sb.factorplot(row=\"Month\", col=\"Confirmation\", data=coverage, kind='box',\n",
    "              row_order=['June', 'July'],\n",
    "              order=['pct_5', 'pct_15', 'pct_30', 'pct_adult'],\n",
    "               palette=\"YlGnBu_d\", linewidth=0.7, fliersize=0, aspect=1.25).despine(left=True)"
   ]
  },
  {
   "cell_type": "code",
   "execution_count": 173,
   "metadata": {
    "collapsed": false
   },
   "outputs": [
    {
     "name": "stderr",
     "output_type": "stream",
     "text": [
      "/usr/local/lib/python3.4/dist-packages/matplotlib/__init__.py:892: UserWarning: axes.color_cycle is deprecated and replaced with axes.prop_cycle; please use the latter.\n",
      "  warnings.warn(self.msg_depr % (key, alt_key))\n"
     ]
    },
    {
     "data": {
      "text/plain": [
       "<seaborn.axisgrid.FacetGrid at 0x7f4af1a17438>"
      ]
     },
     "execution_count": 173,
     "metadata": {},
     "output_type": "execute_result"
    },
    {
     "data": {
      "image/png": "[encoded data removed]",
      "text/plain": [
       "<matplotlib.figure.Figure at 0x7f54c3e80518>"
      ]
     },
     "metadata": {},
     "output_type": "display_data"
    }
   ],
   "source": [
    "sb.factorplot(row=\"Month\", col=\"Confirmation\", data=coverage, kind='box',\n",
    "              row_order=['June', 'July'],\n",
    "              order=['pct_5', 'pct_15', 'pct_30', 'pct_adult'],\n",
    "               palette=\"YlGnBu_d\", linewidth=0.7, fliersize=0, aspect=1.25).despine(left=True)"
   ]
  },
  {
   "cell_type": "code",
   "execution_count": 174,
   "metadata": {
    "collapsed": false
   },
   "outputs": [
    {
     "data": {
      "image/png": "[encoded data removed]",
      "text/plain": [
       "<matplotlib.figure.Figure at 0x7f4af1a490f0>"
      ]
     },
     "metadata": {},
     "output_type": "display_data"
    }
   ],
   "source": [
    "axes = sb.boxplot(data=june_coverage, order=['pct_5', 'pct_15', 'pct_30', 'pct_adult'], \n",
    "                  color=sb.color_palette(\"coolwarm\", 5)[0])\n",
    "axes.set_xticklabels(['Under 5', 'Under 15', 'Under 30', 'Under 5 + 20-30'])\n",
    "axes.set_ylabel('% susceptibles vaccinated')\n",
    "sb.despine(offset=10, trim=True)"
   ]
  },
  {
   "cell_type": "code",
   "execution_count": null,
   "metadata": {
    "collapsed": false
   },
   "outputs": [],
   "source": [
    "model_june_noconf.summary(['pct_5', 'pct_15', 'pct_30', 'pct_adult'])"
   ]
  },
  {
   "cell_type": "code",
   "execution_count": null,
   "metadata": {
    "collapsed": false
   },
   "outputs": [],
   "source": [
    "model_july.summary(['pct_5', 'pct_15', 'pct_30', 'pct_adult'])"
   ]
  },
  {
   "cell_type": "code",
   "execution_count": null,
   "metadata": {
    "collapsed": false
   },
   "outputs": [],
   "source": [
    "model_july_noconf.summary(['pct_5', 'pct_15', 'pct_30', 'pct_adult'])"
   ]
  },
  {
   "cell_type": "code",
   "execution_count": null,
   "metadata": {
    "collapsed": false
   },
   "outputs": [],
   "source": [
    "Matplot.summary_plot(model_june.p_age)"
   ]
  },
  {
   "cell_type": "markdown",
   "metadata": {
    "collapsed": true
   },
   "source": [
    "## Mapping spatial effects"
   ]
  },
  {
   "cell_type": "code",
   "execution_count": null,
   "metadata": {
    "collapsed": true
   },
   "outputs": [],
   "source": [
    "from mpl_toolkits.basemap import Basemap\n",
    "import geopandas as gpd\n",
    "\n",
    "lllat=-24\n",
    "urlat=-23.3\n",
    "lllon=-47\n",
    "urlon=-46.3\n",
    "\n",
    "SP_base = Basemap(ax=None, lon_0=(urlon + lllon) / 2, lat_0=(urlat + lllat) / 2,\n",
    "        llcrnrlat=lllat, urcrnrlat=urlat, llcrnrlon=lllon, urcrnrlon=urlon, \n",
    "                  resolution='i',\n",
    "                 epsg='4326')"
   ]
  },
  {
   "cell_type": "code",
   "execution_count": null,
   "metadata": {
    "collapsed": false
   },
   "outputs": [],
   "source": [
    "SP_dist = gpd.GeoDataFrame.from_file('Sao Paulo/Brazil_full/BRA_adm3.shp').to_crs({'proj': 'longlat', \n",
    "                                                                               'ellps': 'WGS84', \n",
    "                                                                               'datum': 'WGS84'})"
   ]
  },
  {
   "cell_type": "code",
   "execution_count": null,
   "metadata": {
    "collapsed": false
   },
   "outputs": [],
   "source": [
    "SP_dist['DIST_NAME'] = [trans.trans(_).upper() for _ in SP_dist.NAME_3]"
   ]
  },
  {
   "cell_type": "code",
   "execution_count": null,
   "metadata": {
    "collapsed": false
   },
   "outputs": [],
   "source": [
    "λ_june = pd.Series(model_june.λ_t.stats()['mean'], index=sp_districts)"
   ]
  },
  {
   "cell_type": "code",
   "execution_count": null,
   "metadata": {
    "collapsed": false
   },
   "outputs": [],
   "source": [
    "λ_june"
   ]
  },
  {
   "cell_type": "code",
   "execution_count": null,
   "metadata": {
    "collapsed": false
   },
   "outputs": [],
   "source": [
    "SP_dist_merged = SP_dist.merge(pd.DataFrame(λ_june, columns=['λ']), left_on='DIST_NAME', right_index=True)"
   ]
  },
  {
   "cell_type": "code",
   "execution_count": null,
   "metadata": {
    "collapsed": false
   },
   "outputs": [],
   "source": [
    "measles_onset_conf = measles_data[CONFIRMED].groupby(['DISTRICT','ONSET']).size().unstack(level=0).fillna(0).sum()"
   ]
  },
  {
   "cell_type": "code",
   "execution_count": null,
   "metadata": {
    "collapsed": false
   },
   "outputs": [],
   "source": [
    "measles_onset_conf"
   ]
  },
  {
   "cell_type": "code",
   "execution_count": null,
   "metadata": {
    "collapsed": false
   },
   "outputs": [],
   "source": [
    "_rates = measles_onset_conf/sp_pop.sum(1)"
   ]
  },
  {
   "cell_type": "code",
   "execution_count": null,
   "metadata": {
    "collapsed": true
   },
   "outputs": [],
   "source": [
    "SP_dist_conf = SP_dist.merge(pd.DataFrame(_rates, columns=['rate']), left_on='DIST_NAME', right_index=True)"
   ]
  },
  {
   "cell_type": "markdown",
   "metadata": {},
   "source": [
    "Estimated expected value for infecteds, by district"
   ]
  },
  {
   "cell_type": "code",
   "execution_count": null,
   "metadata": {
    "collapsed": false
   },
   "outputs": [],
   "source": [
    "from matplotlib.pyplot import cm\n",
    "\n",
    "map_fig = plt.figure(figsize=(16,12))\n",
    "map_ax = plt.gca()\n",
    "SP_base.drawcoastlines()\n",
    "SP_base.drawrivers()\n",
    "\n",
    "SP_dist_merged.plot(column='λ', colormap=cm.Reds, axes=map_ax)"
   ]
  },
  {
   "cell_type": "markdown",
   "metadata": {},
   "source": [
    "Observed confirmed cases, by district"
   ]
  },
  {
   "cell_type": "code",
   "execution_count": null,
   "metadata": {
    "collapsed": false
   },
   "outputs": [],
   "source": [
    "map_fig = plt.figure(figsize=(16,12))\n",
    "map_ax = plt.gca()\n",
    "SP_base.drawcoastlines()\n",
    "SP_base.drawrivers()\n",
    "\n",
    "SP_dist_conf.plot(column='rate', colormap=cm.Reds, axes=map_ax)"
   ]
  }
 ],
 "metadata": {
  "kernelspec": {
   "display_name": "Python 3",
   "language": "python",
   "name": "python3"
  },
  "language_info": {
   "codemirror_mode": {
    "name": "ipython",
    "version": 3
   },
   "file_extension": ".py",
   "mimetype": "text/x-python",
   "name": "python",
   "nbconvert_exporter": "python",
   "pygments_lexer": "ipython3",
   "version": "3.4.3"
  }
 },
 "nbformat": 4,
 "nbformat_minor": 0
}
